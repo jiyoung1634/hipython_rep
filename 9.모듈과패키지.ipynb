{
 "cells": [
  {
   "cell_type": "markdown",
   "id": "55ab5ea8-5354-4690-ab98-7b1af43c529a",
   "metadata": {},
   "source": [
    "모듈은 파이썬 파일이다. 확장자가 '.py' 여야 한다."
   ]
  },
  {
   "cell_type": "code",
   "execution_count": 3,
   "id": "d76f32cd-1e35-4ffc-8696-e98b8757c322",
   "metadata": {},
   "outputs": [
    {
     "name": "stdout",
     "output_type": "stream",
     "text": [
      "hello\n"
     ]
    }
   ],
   "source": [
    "import first\n",
    "\n",
    "first.my_func()"
   ]
  },
  {
   "cell_type": "code",
   "execution_count": 4,
   "id": "b5d66f94-9db4-4600-866f-13793816a0cf",
   "metadata": {},
   "outputs": [
    {
     "name": "stdout",
     "output_type": "stream",
     "text": [
      "2nd hello\n"
     ]
    }
   ],
   "source": [
    "first.my_func1()"
   ]
  },
  {
   "cell_type": "code",
   "execution_count": 5,
   "id": "bb9fd0ee-a446-42fb-b3f5-103e8e371af8",
   "metadata": {},
   "outputs": [
    {
     "name": "stdout",
     "output_type": "stream",
     "text": [
      "hello\n"
     ]
    }
   ],
   "source": [
    "import first as f   # f로 부르겠음\n",
    "f.my_func()"
   ]
  },
  {
   "cell_type": "code",
   "execution_count": 7,
   "id": "caab22cd-c731-41de-aa70-0c9d7ea83b40",
   "metadata": {},
   "outputs": [
    {
     "name": "stdout",
     "output_type": "stream",
     "text": [
      "hello 나올까?\n"
     ]
    }
   ],
   "source": [
    "f.my_func2()"
   ]
  },
  {
   "cell_type": "code",
   "execution_count": 10,
   "id": "e0987ca4-3717-43c7-972d-752d8b969ed2",
   "metadata": {},
   "outputs": [
    {
     "data": {
      "text/plain": [
       "<function first.my_func()>"
      ]
     },
     "execution_count": 10,
     "metadata": {},
     "output_type": "execute_result"
    }
   ],
   "source": [
    "from first import my_func   # first.py에서 my_func만 올린거다.\n",
    "my_func"
   ]
  },
  {
   "cell_type": "code",
   "execution_count": 12,
   "id": "692b79b6-d508-43b7-9ae4-44fb67db7d84",
   "metadata": {},
   "outputs": [
    {
     "data": {
      "text/plain": [
       "['__builtins__',\n",
       " '__cached__',\n",
       " '__doc__',\n",
       " '__file__',\n",
       " '__loader__',\n",
       " '__name__',\n",
       " '__package__',\n",
       " '__spec__',\n",
       " 'my_func',\n",
       " 'my_func1',\n",
       " 'my_func2']"
      ]
     },
     "execution_count": 12,
     "metadata": {},
     "output_type": "execute_result"
    }
   ],
   "source": [
    "dir(first)"
   ]
  },
  {
   "cell_type": "code",
   "execution_count": 18,
   "id": "b2db0c40-6cfb-40d2-b9b9-d6c5c358b5ce",
   "metadata": {},
   "outputs": [],
   "source": [
    "import my_first_package.second"
   ]
  },
  {
   "cell_type": "markdown",
   "id": "92a8e1e9-06ae-4d96-88c2-1a2d2145de9c",
   "metadata": {},
   "source": [
    "# 모듈의 실행 vs 모듈의 import 구분\n",
    "\n",
    "- 모듈 단독 실싱시에만 호출되는 코드<br>\n",
    "`if __name__==\"__main__\"  :`<br>\n",
    "    실행함수<br>\n",
    "`else :`<br>\n",
    "    변수 설정\n",
    "```\n",
    "- import 할 때는 실행되지 않는다."
   ]
  },
  {
   "cell_type": "markdown",
   "id": "c5aa15a4-adbd-4d85-a8ed-2fbff26ef1ea",
   "metadata": {},
   "source": [
    "# 패키지 : 모듈의 묶음\n",
    "윈도우, 리눅스 : 디렉토리/폴더\n",
    "\n",
    "import 폴더명.모듈명"
   ]
  },
  {
   "cell_type": "code",
   "execution_count": 19,
   "id": "c9e907e4-202e-42c0-8edc-c71bfc1c88b6",
   "metadata": {},
   "outputs": [],
   "source": [
    "import my_first_package.second"
   ]
  },
  {
   "cell_type": "code",
   "execution_count": null,
   "id": "c5a72588-021c-4705-b34a-d6a7a2118806",
   "metadata": {},
   "outputs": [],
   "source": [
    "%%writefile my_first_package.magic_calc.basic_ops.py"
   ]
  },
  {
   "cell_type": "code",
   "execution_count": 20,
   "id": "74be6fcf-ced9-4ad2-b495-c033beb14a13",
   "metadata": {},
   "outputs": [
    {
     "ename": "ModuleNotFoundError",
     "evalue": "No module named 'magic_calc'",
     "output_type": "error",
     "traceback": [
      "\u001b[31m---------------------------------------------------------------------------\u001b[39m",
      "\u001b[31mModuleNotFoundError\u001b[39m                       Traceback (most recent call last)",
      "\u001b[36mCell\u001b[39m\u001b[36m \u001b[39m\u001b[32mIn[20]\u001b[39m\u001b[32m, line 2\u001b[39m\n\u001b[32m      1\u001b[39m \u001b[38;5;66;03m#방법1\u001b[39;00m\n\u001b[32m----> \u001b[39m\u001b[32m2\u001b[39m \u001b[38;5;28;01mimport\u001b[39;00m\u001b[38;5;250m \u001b[39m\u001b[34;01mmagic_calc\u001b[39;00m\n\u001b[32m      4\u001b[39m result_add = magic_calc.basic_ops.add(\u001b[32m10\u001b[39m,\u001b[32m5\u001b[39m)\n\u001b[32m      5\u001b[39m \u001b[38;5;28mprint\u001b[39m(result_add)\n",
      "\u001b[31mModuleNotFoundError\u001b[39m: No module named 'magic_calc'"
     ]
    }
   ],
   "source": [
    "#방법1\n",
    "import magic_calc\n",
    "\n",
    "result_add = magic_calc.basic_ops.add(10,5)\n",
    "print(result_add)"
   ]
  },
  {
   "cell_type": "code",
   "execution_count": null,
   "id": "f3cb5cc8-78a9-4c8b-95ea-c21f5bdc6d55",
   "metadata": {},
   "outputs": [],
   "source": []
  }
 ],
 "metadata": {
  "kernelspec": {
   "display_name": "Python 3 (ipykernel)",
   "language": "python",
   "name": "python3"
  },
  "language_info": {
   "codemirror_mode": {
    "name": "ipython",
    "version": 3
   },
   "file_extension": ".py",
   "mimetype": "text/x-python",
   "name": "python",
   "nbconvert_exporter": "python",
   "pygments_lexer": "ipython3",
   "version": "3.12.9"
  }
 },
 "nbformat": 4,
 "nbformat_minor": 5
}
