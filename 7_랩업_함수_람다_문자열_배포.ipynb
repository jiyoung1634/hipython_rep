{
 "cells": [
  {
   "cell_type": "markdown",
   "metadata": {
    "colab_type": "text",
    "id": "view-in-github"
   },
   "source": [
    "<a href=\"https://colab.research.google.com/github/zzhining/python_basic/blob/master/exercise/%ED%95%A8%EC%88%98_%EB%9E%8C%EB%8B%A4_%EB%AC%B8%EC%9E%90%EC%97%B4.ipynb\" target=\"_parent\"><img src=\"https://colab.research.google.com/assets/colab-badge.svg\" alt=\"Open In Colab\"/></a>"
   ]
  },
  {
   "cell_type": "markdown",
   "metadata": {
    "id": "gbEnq1KDtnFO"
   },
   "source": [
    "1. 두 수를 입력 받아 그 곱을 반환하는 함수를 작성하세요."
   ]
  },
  {
   "cell_type": "code",
   "execution_count": 2,
   "metadata": {
    "id": "m9muCNmUtSZP"
   },
   "outputs": [],
   "source": [
    "#답을 작성하세요.\n",
    "def multiply_numbers(a, b):\n",
    "    result = a * b\n",
    "    return result"
   ]
  },
  {
   "cell_type": "code",
   "execution_count": 3,
   "metadata": {
    "id": "9AYm4gg_vJ6o"
   },
   "outputs": [
    {
     "name": "stdout",
     "output_type": "stream",
     "text": [
      "15\n"
     ]
    }
   ],
   "source": [
    "#테스트\n",
    "print(multiply_numbers(3, 5))  #15"
   ]
  },
  {
   "cell_type": "markdown",
   "metadata": {
    "id": "FoHkPi26vPFE"
   },
   "source": [
    "2. 숫자 리스트를 입력 받아 평균을 반환하는 함수를 작성하세요."
   ]
  },
  {
   "cell_type": "code",
   "execution_count": 8,
   "metadata": {
    "id": "4J86UASJvMT2"
   },
   "outputs": [],
   "source": [
    "#답을 작성하세요.\n",
    "def calc_average(numbers):\n",
    "    result = 0\n",
    "    for i in numbers:\n",
    "        result += i\n",
    "    return result/len(numbers)"
   ]
  },
  {
   "cell_type": "code",
   "execution_count": 10,
   "metadata": {},
   "outputs": [],
   "source": [
    "#람다로 정의\n",
    "calc_average = lambda numbers : sum(numbers)/len(numbers)"
   ]
  },
  {
   "cell_type": "code",
   "execution_count": 11,
   "metadata": {
    "id": "767sASqYvSnv"
   },
   "outputs": [
    {
     "name": "stdout",
     "output_type": "stream",
     "text": [
      "30.0\n"
     ]
    }
   ],
   "source": [
    "#테스트\n",
    "print(calc_average([10, 20, 30, 40, 50])) #30"
   ]
  },
  {
   "cell_type": "markdown",
   "metadata": {
    "id": "L0FUMKO8voRt"
   },
   "source": [
    "3. 주어진 숫자가 짝수이면 True, 홀수이면 False를 반환하는 함수를 작성하세요."
   ]
  },
  {
   "cell_type": "code",
   "execution_count": 26,
   "metadata": {
    "id": "esi6bwKfvoBs"
   },
   "outputs": [],
   "source": [
    "#답을 작성하세요.\n",
    "def is_even(n):\n",
    "    if n % 2 == 0:\n",
    "        return print('True')\n",
    "    else:\n",
    "        return print('False')"
   ]
  },
  {
   "cell_type": "code",
   "execution_count": 31,
   "metadata": {},
   "outputs": [],
   "source": [
    "#람다버전\n",
    "is_even = lambda n : n%2 == 0"
   ]
  },
  {
   "cell_type": "code",
   "execution_count": 32,
   "metadata": {
    "id": "AblSJD5uwBbJ"
   },
   "outputs": [
    {
     "name": "stdout",
     "output_type": "stream",
     "text": [
      "True\n",
      "False\n"
     ]
    }
   ],
   "source": [
    "# 테스트\n",
    "print(is_even(14))  # True\n",
    "print(is_even(21))  # False"
   ]
  },
  {
   "cell_type": "markdown",
   "metadata": {
    "id": "ZqVepWtkz1Iz"
   },
   "source": [
    "4. 주어진 리스트의 모든 요소를 문자열로 변환하여 반환하는 함수와, 람다 함수를 작성하세요."
   ]
  },
  {
   "cell_type": "code",
   "execution_count": 80,
   "metadata": {},
   "outputs": [],
   "source": [
    "#함수\n",
    "#def to_string_list(lst):\n",
    "#    return [str(i) for i in lst]\n",
    "# 강사님 답\n",
    "def to_string_list(lst):\n",
    "    result = []   # 결과 누적\n",
    "    for item in lst:  # lst의 요소를 하나씩 꺼내서 무자열로 변환\n",
    "        result.append(str(item))   # result에 추가\n",
    "    return result"
   ]
  },
  {
   "cell_type": "code",
   "execution_count": 81,
   "metadata": {
    "id": "g2L27h9jz6A_"
   },
   "outputs": [],
   "source": [
    "#답을 작성하세요.   \n",
    "to_string_list = lambda lst : list(map(str, lst))"
   ]
  },
  {
   "cell_type": "code",
   "execution_count": 82,
   "metadata": {
    "id": "ZDTYekgTz9Ku"
   },
   "outputs": [
    {
     "name": "stdout",
     "output_type": "stream",
     "text": [
      "['1', '2', '3', '4', '5']\n"
     ]
    }
   ],
   "source": [
    "# 테스트\n",
    "print(to_string_list([1, 2, 3, 4, 5]))  # ['1', '2', '3', '4', '5']"
   ]
  },
  {
   "cell_type": "markdown",
   "metadata": {
    "id": "MFXA7Tap04cg"
   },
   "source": [
    "5. 두 문자열을 입력받아 합친 문자열을 반환하는 함수와 람다 함수를 작성하세요."
   ]
  },
  {
   "cell_type": "code",
   "execution_count": 83,
   "metadata": {},
   "outputs": [],
   "source": [
    "#def concat_strings(s1, s2):\n",
    "#    return str(s1 + s2)\n",
    "# 강사님 답\n",
    "def concat_strings(s1, s2):\n",
    "    return s1+s2"
   ]
  },
  {
   "cell_type": "code",
   "execution_count": 73,
   "metadata": {
    "id": "ceS_yflW1Qqq"
   },
   "outputs": [],
   "source": [
    "#답을 작성하세요.\n",
    "concat_strings = lambda s1, s2 : str(s1+s2)"
   ]
  },
  {
   "cell_type": "code",
   "execution_count": 84,
   "metadata": {
    "id": "kMITrCoF06mT"
   },
   "outputs": [
    {
     "name": "stdout",
     "output_type": "stream",
     "text": [
      "Hello, World!\n"
     ]
    }
   ],
   "source": [
    "# 테스트\n",
    "print(concat_strings(\"Hello, \", \"World!\"))  # \"Hello, World!\""
   ]
  },
  {
   "cell_type": "markdown",
   "metadata": {
    "id": "FnlTdfBk2EHU"
   },
   "source": [
    "6. 주어진 문자열에서 모든 모음(a,e,i,o,u)을 제거한 문자열을 반환하는 함수를 작성하세요."
   ]
  },
  {
   "cell_type": "code",
   "execution_count": 89,
   "metadata": {
    "id": "tjgXB28u19lk"
   },
   "outputs": [],
   "source": [
    "#답을 작성하세요.   \n",
    "def remove_vowels(s):\n",
    "    result = ''\n",
    "    for ch in s:\n",
    "        if ch not in 'aeiou':\n",
    "            result += ch\n",
    "    return result\n"
   ]
  },
  {
   "cell_type": "code",
   "execution_count": 91,
   "metadata": {},
   "outputs": [],
   "source": [
    "def remove_vowels(s):\n",
    "    return ''.join([ch for ch in s if ch not in 'aeiou'])"
   ]
  },
  {
   "cell_type": "code",
   "execution_count": 93,
   "metadata": {},
   "outputs": [],
   "source": [
    "# 위는 함수정의 한줄로, 지금은 람다로\n",
    "remove_vowels = lambda s : ''.join([ch for ch in s if ch not in 'aeiou'])"
   ]
  },
  {
   "cell_type": "code",
   "execution_count": 94,
   "metadata": {
    "id": "f3Hl9mG62hN0"
   },
   "outputs": [
    {
     "name": "stdout",
     "output_type": "stream",
     "text": [
      "bcdfghjklmnpqrstvwxyz\n"
     ]
    }
   ],
   "source": [
    "# 테스트\n",
    "print(remove_vowels(\"abcdefghijklmnopqrstuvwxyz\"))  # \"bcdfghjklmnpqrstvwxyz\""
   ]
  },
  {
   "cell_type": "markdown",
   "metadata": {
    "id": "mznE_wth4t11"
   },
   "source": [
    "7. 문자열을 입력 받아, 해당 문자열에서 가장 긴 단어와 길이를 반환하는 함수를 작성하세요.\n"
   ]
  },
  {
   "cell_type": "code",
   "execution_count": 95,
   "metadata": {
    "id": "TJjrzqzu5EGp"
   },
   "outputs": [],
   "source": [
    "#답을 작성하세요.   # 모르겠다 \n",
    "def find_longest_word(s):\n",
    "    words = s.split()\n",
    "    longest = words[0]\n",
    "    max_len = len(longest)\n",
    "    for w in words[1:] :\n",
    "        if len(w) > max_len:\n",
    "            longest = w\n",
    "            max_len = len(w)\n",
    "    return longest, max_len"
   ]
  },
  {
   "cell_type": "code",
   "execution_count": 96,
   "metadata": {},
   "outputs": [],
   "source": [
    "# 위 함수정의를 줄여보자.\n",
    "def find_longest_word(s):\n",
    "    words = s.split()\n",
    "    longest = max(words, key=len)\n",
    "    return longest, len(longest)"
   ]
  },
  {
   "cell_type": "code",
   "execution_count": 99,
   "metadata": {},
   "outputs": [],
   "source": [
    "find_longest_word = lambda s : max([(w, len(w)) for w in s.split()], key=lambda x : x[1])"
   ]
  },
  {
   "cell_type": "code",
   "execution_count": 100,
   "metadata": {
    "id": "4g7-JncB5HHB"
   },
   "outputs": [
    {
     "name": "stdout",
     "output_type": "stream",
     "text": [
      "('generation', 10)\n"
     ]
    }
   ],
   "source": [
    "# 테스트\n",
    "print(find_longest_word(\"Life is for one generation a good name is forever.\"))  # \"generation\", 10"
   ]
  },
  {
   "cell_type": "markdown",
   "metadata": {
    "id": "ZoGzLeG93sVd"
   },
   "source": [
    "8. 주어진 문자열에서 숫자와 문자를 분리하는 함수를 작성하세요."
   ]
  },
  {
   "cell_type": "code",
   "execution_count": 103,
   "metadata": {
    "id": "wmtg3HI93sDF"
   },
   "outputs": [],
   "source": [
    "#답을 작성하세요.\n",
    "def split_numbers_letters(s):\n",
    "    # 1. 숫자를 담을 리스트, 문자를 담을 리스트를 만든다.\n",
    "    numbers = []\n",
    "    letters = []\n",
    "    for ch in s :\n",
    "        if ch.isdigit():\n",
    "            numbers.append(int(ch))\n",
    "        elif ch.isalpha():\n",
    "            letters.append(ch)\n",
    "    return numbers, letters"
   ]
  },
  {
   "cell_type": "code",
   "execution_count": 105,
   "metadata": {},
   "outputs": [],
   "source": [
    "# 위 함수정의를 줄여보자.\n",
    "def split_numbers_letters(s):\n",
    "    numbers = [int(ch) for ch in s if ch.isdigit()]\n",
    "    letters = [ch for ch in s if ch.isalpha()]\n",
    "    return numbers, letters"
   ]
  },
  {
   "cell_type": "code",
   "execution_count": 107,
   "metadata": {},
   "outputs": [],
   "source": [
    "# 이번에는 numbers와 letters를 filter함수로 바꿔보자\n",
    "def split_numbers_letters(s):\n",
    "    numbers = list(map(int, filter(lambda ch : ch.isdigit(), s)))   # s중 하나씩 뽑아 isdigit인지 보고 filter로나눔 그리고 그걸 정수형으로 다시 리스트로 만들어줌\n",
    "    letters = list(filter(lambda ch : ch.isalpha(), s))\n",
    "    return numbers, letters"
   ]
  },
  {
   "cell_type": "code",
   "execution_count": 108,
   "metadata": {
    "id": "oqB4LNRd30Jg"
   },
   "outputs": [
    {
     "name": "stdout",
     "output_type": "stream",
     "text": [
      "([1, 2, 3, 4], ['a', 'b', 'c', 'd'])\n"
     ]
    }
   ],
   "source": [
    "# 테스트\n",
    "print(split_numbers_letters(\"a1b2c3d4\")) # [\"a\", \"b\", \"c\", \"d\"], [1, 2, 3, 4]"
   ]
  },
  {
   "cell_type": "markdown",
   "metadata": {
    "id": "y7OEHrgG3GeB"
   },
   "source": [
    "9. 주어진 문자열(알파벳)을 입력 받아, 각 알파벳의 종류와 개수를 dict형으로 반환하는 함수를 만드세요."
   ]
  },
  {
   "cell_type": "code",
   "execution_count": 109,
   "metadata": {
    "id": "-gqBttTm3OpN"
   },
   "outputs": [],
   "source": [
    "#답을 작성하세요.\n",
    "def count_alphabets(s):\n",
    "    count_dict = {}\n",
    "    for ch in s :\n",
    "        if ch in count_dict:\n",
    "            count_dict[ch] += 1\n",
    "        else:\n",
    "            count_dict[ch] = 1\n",
    "    return count_dict"
   ]
  },
  {
   "cell_type": "code",
   "execution_count": 111,
   "metadata": {},
   "outputs": [],
   "source": [
    "# 위 함수정의를 줄여보자\n",
    "def count_alphabets(s):\n",
    "    # 딕셔너리 컴프리헨션\n",
    "    return {ch:s.count(ch) for ch in s}"
   ]
  },
  {
   "cell_type": "code",
   "execution_count": 112,
   "metadata": {
    "id": "zUcFL0fR3Vln"
   },
   "outputs": [
    {
     "name": "stdout",
     "output_type": "stream",
     "text": [
      "{'h': 1, 'e': 1, 'l': 2, 'o': 1}\n"
     ]
    }
   ],
   "source": [
    "# 테스트\n",
    "print(count_alphabets(\"hello\"))  # {\"h\": 1, \"e\": 1, \"l\": 2, \"o\": \"1\"}"
   ]
  },
  {
   "cell_type": "code",
   "execution_count": null,
   "metadata": {},
   "outputs": [],
   "source": []
  }
 ],
 "metadata": {
  "colab": {
   "include_colab_link": true,
   "provenance": []
  },
  "kernelspec": {
   "display_name": "Python 3 (ipykernel)",
   "language": "python",
   "name": "python3"
  },
  "language_info": {
   "codemirror_mode": {
    "name": "ipython",
    "version": 3
   },
   "file_extension": ".py",
   "mimetype": "text/x-python",
   "name": "python",
   "nbconvert_exporter": "python",
   "pygments_lexer": "ipython3",
   "version": "3.12.9"
  }
 },
 "nbformat": 4,
 "nbformat_minor": 4
}
