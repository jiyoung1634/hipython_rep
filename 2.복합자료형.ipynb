{
 "cells": [
  {
   "cell_type": "markdown",
   "id": "f8859f9f-89f0-4d9f-8a27-08f6ff33e940",
   "metadata": {},
   "source": [
    "# 복합자료 리스트\n",
    "\n",
    "여러개의 값을 묶어서 하나의 변수로 다루는 자료형\n",
    "\n",
    "생성법\n",
    "1. [] 대괄호를 사용\n",
    "2. 데이터는 , 쉼표로 구분\n",
    "3. [] 빈 대괄호는 초기화\n",
    "4. 숫자, 문자, 부울, 리스트 같은 객체 모두 담을 수 있다\n",
    "5. 순서 index를 가진다\n",
    "6. 음수 인덱스도 가진다"
   ]
  },
  {
   "cell_type": "code",
   "execution_count": 1,
   "id": "6785953c-8a84-4b65-8087-fc497bd9fb0b",
   "metadata": {},
   "outputs": [
    {
     "data": {
      "text/plain": [
       "30"
      ]
     },
     "execution_count": 1,
     "metadata": {},
     "output_type": "execute_result"
    }
   ],
   "source": [
    "score = [30, 50, 90, 80, 100]\n",
    "score[0]   #첫번째 학생의 점후"
   ]
  },
  {
   "cell_type": "code",
   "execution_count": 2,
   "id": "2fa276e3-e987-49d2-9cec-6b15776f42e9",
   "metadata": {},
   "outputs": [
    {
     "data": {
      "text/plain": [
       "(list, int)"
      ]
     },
     "execution_count": 2,
     "metadata": {},
     "output_type": "execute_result"
    }
   ],
   "source": [
    "type(score), type(score[0])"
   ]
  },
  {
   "cell_type": "code",
   "execution_count": 3,
   "id": "dbf18589-cb7b-4514-91d9-2c4700dc560c",
   "metadata": {
    "collapsed": true,
    "jupyter": {
     "outputs_hidden": true
    },
    "scrolled": true
   },
   "outputs": [
    {
     "data": {
      "text/plain": [
       "['__add__',\n",
       " '__class__',\n",
       " '__class_getitem__',\n",
       " '__contains__',\n",
       " '__delattr__',\n",
       " '__delitem__',\n",
       " '__dir__',\n",
       " '__doc__',\n",
       " '__eq__',\n",
       " '__format__',\n",
       " '__ge__',\n",
       " '__getattribute__',\n",
       " '__getitem__',\n",
       " '__getstate__',\n",
       " '__gt__',\n",
       " '__hash__',\n",
       " '__iadd__',\n",
       " '__imul__',\n",
       " '__init__',\n",
       " '__init_subclass__',\n",
       " '__iter__',\n",
       " '__le__',\n",
       " '__len__',\n",
       " '__lt__',\n",
       " '__mul__',\n",
       " '__ne__',\n",
       " '__new__',\n",
       " '__reduce__',\n",
       " '__reduce_ex__',\n",
       " '__repr__',\n",
       " '__reversed__',\n",
       " '__rmul__',\n",
       " '__setattr__',\n",
       " '__setitem__',\n",
       " '__sizeof__',\n",
       " '__str__',\n",
       " '__subclasshook__',\n",
       " 'append',\n",
       " 'clear',\n",
       " 'copy',\n",
       " 'count',\n",
       " 'extend',\n",
       " 'index',\n",
       " 'insert',\n",
       " 'pop',\n",
       " 'remove',\n",
       " 'reverse',\n",
       " 'sort']"
      ]
     },
     "execution_count": 3,
     "metadata": {},
     "output_type": "execute_result"
    }
   ],
   "source": [
    "dir(score)"
   ]
  },
  {
   "cell_type": "code",
   "execution_count": 22,
   "id": "22cc0950-9aa7-469b-9b34-52541bd144c6",
   "metadata": {},
   "outputs": [],
   "source": [
    "ra = range(2, 20, 2)   #숫자의 배열 순열."
   ]
  },
  {
   "cell_type": "code",
   "execution_count": 12,
   "id": "f401bdaa-ebf9-44a9-937c-eccb4d99df29",
   "metadata": {},
   "outputs": [
    {
     "data": {
      "text/plain": [
       "[2, 4, 6, 8, 10, 12, 14, 16, 18]"
      ]
     },
     "execution_count": 12,
     "metadata": {},
     "output_type": "execute_result"
    }
   ],
   "source": [
    "num_list = list(ra)   #리스트의 생성자\n",
    "num_list"
   ]
  },
  {
   "cell_type": "code",
   "execution_count": 13,
   "id": "e11f5a30-3dbf-4cc1-845e-2d46d809726a",
   "metadata": {},
   "outputs": [
    {
     "data": {
      "text/plain": [
       "18"
      ]
     },
     "execution_count": 13,
     "metadata": {},
     "output_type": "execute_result"
    }
   ],
   "source": [
    "num_list[-1]"
   ]
  },
  {
   "cell_type": "code",
   "execution_count": 14,
   "id": "a753e2a0-8f3a-4a13-8f9a-6ea8015e3de3",
   "metadata": {},
   "outputs": [
    {
     "data": {
      "text/plain": [
       "9"
      ]
     },
     "execution_count": 14,
     "metadata": {},
     "output_type": "execute_result"
    }
   ],
   "source": [
    "ra.__len__()"
   ]
  },
  {
   "cell_type": "code",
   "execution_count": 17,
   "id": "8d4621fe-acf5-4ef1-b11a-4bbec152cc8d",
   "metadata": {},
   "outputs": [
    {
     "data": {
      "text/plain": [
       "1"
      ]
     },
     "execution_count": 17,
     "metadata": {},
     "output_type": "execute_result"
    }
   ],
   "source": [
    "num_list.count(2)"
   ]
  },
  {
   "cell_type": "markdown",
   "id": "41fc2c80-3294-4a77-bf69-a363308efb76",
   "metadata": {},
   "source": [
    "method와 function\n",
    "\n",
    "1. method : 객체의 한해서 동작하는 함수 > 객체명. 함수()\n",
    "2. function : 함수( 매개변수 ) > 매개변수로 동작하는 함수\n",
    "\n",
    "dir() > function \n",
    "\n",
    "list_obj.__len__() > method"
   ]
  },
  {
   "cell_type": "code",
   "execution_count": 20,
   "id": "f998569e-314d-40c6-83e6-6ca402c4fe58",
   "metadata": {},
   "outputs": [],
   "source": [
    "str_1 = 'hello'\n",
    "#str_1[0] = 'H'   #TypeError > str Immutable"
   ]
  },
  {
   "cell_type": "code",
   "execution_count": 26,
   "id": "992a79fa-6a63-4408-ad79-4171feee2265",
   "metadata": {},
   "outputs": [
    {
     "data": {
      "text/plain": [
       "['H', 'e', 'l', 'l', 'o']"
      ]
     },
     "execution_count": 26,
     "metadata": {},
     "output_type": "execute_result"
    }
   ],
   "source": [
    "str_2 = list(str_1)   #문자열 > 문자열리스트\n",
    "str_2[0] = 'H'\n",
    "str_2"
   ]
  },
  {
   "cell_type": "code",
   "execution_count": 33,
   "id": "b46f5015-e9de-4a59-9c33-6f5625f51d50",
   "metadata": {},
   "outputs": [
    {
     "data": {
      "text/plain": [
       "'Hello'"
      ]
     },
     "execution_count": 33,
     "metadata": {},
     "output_type": "execute_result"
    }
   ],
   "source": [
    "\"\".join(str_2)"
   ]
  },
  {
   "cell_type": "code",
   "execution_count": 34,
   "id": "162b02fe-88d4-49e0-963f-624751995694",
   "metadata": {},
   "outputs": [
    {
     "data": {
      "text/plain": [
       "[['aaa', 'bbb', 'ccc'], [1, 2, 'aaa', 'bbb']]"
      ]
     },
     "execution_count": 34,
     "metadata": {},
     "output_type": "execute_result"
    }
   ],
   "source": [
    "# 리스트의 생성\n",
    "a = list()\n",
    "a = []\n",
    "b = [1, 2, 3, 4, 5]\n",
    "c = ['aaa', 'bbb', 'ccc']\n",
    "d = [1, 2, 'aaa', 'bbb']\n",
    "e = [c, d]\n",
    "e"
   ]
  },
  {
   "cell_type": "code",
   "execution_count": 36,
   "id": "0193f7f8-c046-4807-98fc-2884e909ccac",
   "metadata": {},
   "outputs": [
    {
     "data": {
      "text/plain": [
       "(['aaa', 'bbb', 'ccc'], list)"
      ]
     },
     "execution_count": 36,
     "metadata": {},
     "output_type": "execute_result"
    }
   ],
   "source": [
    "e[0], type(e[0])"
   ]
  },
  {
   "cell_type": "code",
   "execution_count": 37,
   "id": "b74cfe49-d81c-49d5-aa2c-50951893d5f0",
   "metadata": {},
   "outputs": [
    {
     "data": {
      "text/plain": [
       "([1, 2, 'aaa', 'bbb'], [1, 2, 'aaa', 'bbb'])"
      ]
     },
     "execution_count": 37,
     "metadata": {},
     "output_type": "execute_result"
    }
   ],
   "source": [
    "e[1], e[-1]"
   ]
  },
  {
   "cell_type": "code",
   "execution_count": 39,
   "id": "aa57dcb3-794c-42ef-b5b5-21f3da6e33e2",
   "metadata": {},
   "outputs": [
    {
     "data": {
      "text/plain": [
       "('aaa', [['aaa', 'bbb', 'ccc']])"
      ]
     },
     "execution_count": 39,
     "metadata": {},
     "output_type": "execute_result"
    }
   ],
   "source": [
    "e[1][2],  e[0:1]"
   ]
  },
  {
   "cell_type": "code",
   "execution_count": 40,
   "id": "2e083fdc-1520-42b1-b198-e0cd66dca066",
   "metadata": {},
   "outputs": [
    {
     "data": {
      "text/plain": [
       "[1, 2]"
      ]
     },
     "execution_count": 40,
     "metadata": {},
     "output_type": "execute_result"
    }
   ],
   "source": [
    "e[1][:2]"
   ]
  },
  {
   "cell_type": "code",
   "execution_count": 45,
   "id": "0987e32c-4f1b-47e9-aa09-78fb834b5cec",
   "metadata": {},
   "outputs": [
    {
     "data": {
      "text/plain": [
       "'bbb'"
      ]
     },
     "execution_count": 45,
     "metadata": {},
     "output_type": "execute_result"
    }
   ],
   "source": [
    "e[1][-1]"
   ]
  },
  {
   "cell_type": "code",
   "execution_count": 46,
   "id": "971ff2d0-a88e-4958-93a5-43fe1720a816",
   "metadata": {},
   "outputs": [
    {
     "data": {
      "text/plain": [
       "[[1, 2], [3, 4]]"
      ]
     },
     "execution_count": 46,
     "metadata": {},
     "output_type": "execute_result"
    }
   ],
   "source": [
    "score = [[1, 2], [3, 4]]\n",
    "score"
   ]
  },
  {
   "cell_type": "markdown",
   "id": "8b46315d-3a21-4097-beba-5b5a3c756b82",
   "metadata": {},
   "source": [
    "복사\n",
    "1. 얕은 복사 shallow copy\n",
    "2. 깊은 복사 deep copy"
   ]
  },
  {
   "cell_type": "code",
   "execution_count": 49,
   "id": "03e80b81-cf3e-43d4-98ae-d95795c39853",
   "metadata": {},
   "outputs": [
    {
     "data": {
      "text/plain": [
       "[[100, 2], [3, 4]]"
      ]
     },
     "execution_count": 49,
     "metadata": {},
     "output_type": "execute_result"
    }
   ],
   "source": [
    "new_score = score[:]   #얕은카피\n",
    "new_score[0][0] = 100\n",
    "new_score"
   ]
  },
  {
   "cell_type": "code",
   "execution_count": 50,
   "id": "e6e038a4-a764-4c70-8abd-34c6defb6eeb",
   "metadata": {},
   "outputs": [
    {
     "data": {
      "text/plain": [
       "[[100, 2], [3, 4]]"
      ]
     },
     "execution_count": 50,
     "metadata": {},
     "output_type": "execute_result"
    }
   ],
   "source": [
    "score"
   ]
  },
  {
   "cell_type": "code",
   "execution_count": 52,
   "id": "9629607d-d5c9-4e8e-aa5b-da84aba2516f",
   "metadata": {},
   "outputs": [
    {
     "data": {
      "text/plain": [
       "([[100, 99], [3, 4]], [[100, 99], [3, 4]])"
      ]
     },
     "execution_count": 52,
     "metadata": {},
     "output_type": "execute_result"
    }
   ],
   "source": [
    "import copy\n",
    "copied = copy.copy(score)\n",
    "copied[0][1] = 99\n",
    "copied, score"
   ]
  },
  {
   "cell_type": "code",
   "execution_count": 53,
   "id": "7e60d1f6-a272-47fa-b0c5-680f06df4d4e",
   "metadata": {},
   "outputs": [
    {
     "data": {
      "text/plain": [
       "([[100, 99], [100, 4]], [[100, 99], [3, 4]])"
      ]
     },
     "execution_count": 53,
     "metadata": {},
     "output_type": "execute_result"
    }
   ],
   "source": [
    "deepcopied = copy.deepcopy(score)\n",
    "deepcopied[1][0] = 100\n",
    "deepcopied, score"
   ]
  },
  {
   "cell_type": "markdown",
   "id": "8134db01-aeeb-4632-879d-4603c9c2ed08",
   "metadata": {},
   "source": [
    "# 리스트의 연산\n",
    "\n",
    "- '+'  __add__()\n",
    "- '-'  __mul__()\n",
    "- del list[항목]\n",
    "- in list -> True/False"
   ]
  },
  {
   "cell_type": "code",
   "execution_count": 54,
   "id": "1d13802d-0c13-45a2-a99b-0bc8f49b37f1",
   "metadata": {},
   "outputs": [
    {
     "data": {
      "text/plain": [
       "['해물라면', '샐러드', '떡볶이', '오므라이스', '볶음밥', '떡볶이', '제육볶음', '주먹밥']"
      ]
     },
     "execution_count": 54,
     "metadata": {},
     "output_type": "execute_result"
    }
   ],
   "source": [
    "lunch1 = ['해물라면', '샐러드', '떡볶이']\n",
    "lunch2 = ['오므라이스', '볶음밥', '떡볶이', '제육볶음', '주먹밥']\n",
    "lunch1 + lunch2"
   ]
  },
  {
   "cell_type": "code",
   "execution_count": 56,
   "id": "ae7ecb91-d68a-4555-8304-8aaea1f50613",
   "metadata": {},
   "outputs": [
    {
     "data": {
      "text/plain": [
       "['해물라면', '샐러드', '떡볶이', '해물라면', '샐러드', '떡볶이']"
      ]
     },
     "execution_count": 56,
     "metadata": {},
     "output_type": "execute_result"
    }
   ],
   "source": [
    "lunch1 * 2"
   ]
  },
  {
   "cell_type": "code",
   "execution_count": 57,
   "id": "b5e1f7cc-d411-48d5-b963-34c4816449a6",
   "metadata": {},
   "outputs": [
    {
     "data": {
      "text/plain": [
       "['샐러드', '떡볶이']"
      ]
     },
     "execution_count": 57,
     "metadata": {},
     "output_type": "execute_result"
    }
   ],
   "source": [
    "del lunch1[0]\n",
    "lunch1"
   ]
  },
  {
   "cell_type": "code",
   "execution_count": 62,
   "id": "f3318dd6-af48-4a37-940e-7bb83eae7282",
   "metadata": {},
   "outputs": [
    {
     "data": {
      "text/plain": [
       "['샐러드', '오므라이스', '볶음밥', '떡볶이', '제육볶음', '주먹밥']"
      ]
     },
     "execution_count": 62,
     "metadata": {},
     "output_type": "execute_result"
    }
   ],
   "source": [
    "# lunch1과 lunch2를 합하고 '떡볶이' 1개를 제외하세요\n",
    "lunch3 = lunch1 + lunch2\n",
    "del lunch3[1]\n",
    "lunch3"
   ]
  },
  {
   "cell_type": "code",
   "execution_count": 63,
   "id": "8d8062b3-c191-45b9-9479-4db842675005",
   "metadata": {},
   "outputs": [
    {
     "data": {
      "text/plain": [
       "True"
      ]
     },
     "execution_count": 63,
     "metadata": {},
     "output_type": "execute_result"
    }
   ],
   "source": [
    "'떡볶이' in lunch3"
   ]
  },
  {
   "cell_type": "code",
   "execution_count": 88,
   "id": "5ec48f56-ab5a-4099-9331-82c34faaf68b",
   "metadata": {},
   "outputs": [
    {
     "name": "stdin",
     "output_type": "stream",
     "text": [
      "먹고싶은 간식을 추가하세요. 단, 쉼표(,)로 연결하세요 과자, 아이스크림\n"
     ]
    }
   ],
   "source": [
    "# 간식박스 관리 프로그램\n",
    "snack_box = ['비틀즈', ]\n",
    "new_snack = input('먹고싶은 간식을 추가하세요. 단, 쉼표(,)로 연결하세요').split(',')\n",
    "snack_box += new_snack"
   ]
  },
  {
   "cell_type": "code",
   "execution_count": 89,
   "id": "be93b3a1-927c-4132-aba1-524078cb6fd6",
   "metadata": {},
   "outputs": [
    {
     "data": {
      "text/plain": [
       "['비틀즈', '과자', ' 아이스크림']"
      ]
     },
     "execution_count": 89,
     "metadata": {},
     "output_type": "execute_result"
    }
   ],
   "source": [
    "snack_box"
   ]
  },
  {
   "cell_type": "code",
   "execution_count": 90,
   "id": "f3b92f7c-b3fc-49af-8a8b-fc4559a427a3",
   "metadata": {},
   "outputs": [
    {
     "name": "stdin",
     "output_type": "stream",
     "text": [
      "간식박스 몇 세트로 포장할까요? 예: 2 -> 2box 2\n"
     ]
    }
   ],
   "source": [
    "qty = int(input('간식박스 몇 세트로 포장할까요? 예: 2 -> 2box'))"
   ]
  },
  {
   "cell_type": "code",
   "execution_count": 91,
   "id": "7621f51d-dc76-4411-b872-33015bc0facb",
   "metadata": {},
   "outputs": [
    {
     "data": {
      "text/plain": [
       "['비틀즈', '과자', ' 아이스크림', '비틀즈', '과자', ' 아이스크림']"
      ]
     },
     "execution_count": 91,
     "metadata": {},
     "output_type": "execute_result"
    }
   ],
   "source": [
    "snack_box *= qty\n",
    "snack_box"
   ]
  },
  {
   "cell_type": "code",
   "execution_count": 92,
   "id": "1f544772-3f50-45cc-a6a8-e6745fa87381",
   "metadata": {},
   "outputs": [
    {
     "name": "stdout",
     "output_type": "stream",
     "text": [
      "주문하신 간식상자는 비틀즈,과자, 아이스크림 등입니다. 확인해주세요.\n"
     ]
    }
   ],
   "source": [
    "print(f'주문하신 간식상자는 {snack_box[0]},{snack_box[1]},{snack_box[2]} 등입니다. 확인해주세요.')"
   ]
  },
  {
   "cell_type": "code",
   "execution_count": 93,
   "id": "1804a99d-f3a1-49a8-8080-bada9eb86847",
   "metadata": {},
   "outputs": [
    {
     "name": "stdin",
     "output_type": "stream",
     "text": [
      "혹시 빼고싶은 간식이 있으면 번호를 입력하세요 (0~5) 1\n"
     ]
    }
   ],
   "source": [
    "msg = f'혹시 빼고싶은 간식이 있으면 번호를 입력하세요 (0~{len(snack_box)-1})'\n",
    "snack_no = int(input(msg))"
   ]
  },
  {
   "cell_type": "code",
   "execution_count": 94,
   "id": "c1a9ee40-a0bb-4a9c-aea2-62f8397df0ab",
   "metadata": {},
   "outputs": [
    {
     "data": {
      "text/plain": [
       "['비틀즈', ' 아이스크림', '비틀즈', '과자', ' 아이스크림']"
      ]
     },
     "execution_count": 94,
     "metadata": {},
     "output_type": "execute_result"
    }
   ],
   "source": [
    "del snack_box[snack_no]\n",
    "snack_box"
   ]
  },
  {
   "cell_type": "code",
   "execution_count": 99,
   "id": "c5c70b48-16e9-4906-9772-107747df3c08",
   "metadata": {},
   "outputs": [
    {
     "name": "stdin",
     "output_type": "stream",
     "text": [
      "찾고싶은 간식 이름을 입력하세요:   아이스크림\n"
     ]
    },
    {
     "name": "stdout",
     "output_type": "stream",
     "text": [
      "있어요\n"
     ]
    }
   ],
   "source": [
    "# 찾고싶은 간식이름을 입력하세요\n",
    "# 있어요 OR 없어요 출력\n",
    "snack_find = input('찾고싶은 간식 이름을 입력하세요: ')\n",
    "if snack_find in snack_box :\n",
    "    print('있어요')\n",
    "else :\n",
    "    print('없어요')"
   ]
  },
  {
   "cell_type": "code",
   "execution_count": 102,
   "id": "055217aa-730f-4aab-b719-158dc1f4cf4e",
   "metadata": {},
   "outputs": [
    {
     "name": "stdout",
     "output_type": "stream",
     "text": [
      "주문하신 간식박스는 뒤에서부터 다음과 같습니다.\n",
      "[' 아이스크림', '과자', '비틀즈', ' 아이스크림', '비틀즈'], 총 5개\n"
     ]
    }
   ],
   "source": [
    "print('주문하신 간식박스는 뒤에서부터 다음과 같습니다.')\n",
    "print(f'{snack_box[::-1]}, 총 {len(snack_box)}개')"
   ]
  },
  {
   "cell_type": "markdown",
   "id": "10876375-9a8b-4b6a-aa2b-2594d6da4755",
   "metadata": {},
   "source": [
    "강사님께서 디스코드로 리스트 관련 함수 연습하라고 보내심\n",
    "\n",
    "| 메서드                  | 사용 예시                    | 설명                |\n",
    "| -------------------- | ------------------------ | ----------------- |\n",
    "| append(x)          | lst.append(4)          | 맨 뒤에 x 추가       |\n",
    "| insert(i, x)       | lst.insert(1, \"a\")     | i 위치에 x 삽입    |\n",
    "| extend(iter)       | lst.extend([4, 5])     | 리스트에 여러 값 추가      |\n",
    "| remove(x)          | lst.remove(\"a\")        | x와 일치하는 첫 항목 삭제 |\n",
    "| pop()              | lst.pop()              | 마지막 항목 제거하고 반환    |\n",
    "| pop(i)             | lst.pop(0)             | i번째 항목 제거하고 반환  |\n",
    "| clear()            | lst.clear()            | 리스트 전체 비우기        |\n",
    "| index(x)           | lst.index(\"a\")         | x의 위치(인덱스) 반환   |\n",
    "| count(x)           | lst.count(\"a\")         | x의 개수 세기        |\n",
    "| sort()             | lst.sort()             | 오름차순 정렬 (원본 변경)   |\n",
    "| sort(reverse=True) | lst.sort(reverse=True) | 내림차순 정렬           |\n",
    "| reverse()          | lst.reverse()          | 항목 순서 뒤집기         |\n",
    "| copy()             | lst2 = lst.copy()      | 리스트 복사            |"
   ]
  },
  {
   "cell_type": "code",
   "execution_count": 142,
   "id": "5641506a-4cd9-4500-aa7b-0a9f53c30f58",
   "metadata": {},
   "outputs": [
    {
     "data": {
      "text/plain": [
       "[1, 2, 3, 4, 5, 4]"
      ]
     },
     "execution_count": 142,
     "metadata": {},
     "output_type": "execute_result"
    }
   ],
   "source": [
    "test = [1, 2, 3, 4, 5]\n",
    "test.append(4)\n",
    "test"
   ]
  },
  {
   "cell_type": "code",
   "execution_count": 143,
   "id": "f2de441a-280d-45c5-ad69-09253dbaee47",
   "metadata": {},
   "outputs": [
    {
     "data": {
      "text/plain": [
       "[1, 2, 't', 3, 4, 5, 4]"
      ]
     },
     "execution_count": 143,
     "metadata": {},
     "output_type": "execute_result"
    }
   ],
   "source": [
    "test.insert(2, 't')\n",
    "test"
   ]
  },
  {
   "cell_type": "code",
   "execution_count": 144,
   "id": "f39d73fc-00ed-49c6-8aaa-c27bbf5870a1",
   "metadata": {},
   "outputs": [
    {
     "data": {
      "text/plain": [
       "[1, 2, 't', 3, 4, 5, 4, 6, 7]"
      ]
     },
     "execution_count": 144,
     "metadata": {},
     "output_type": "execute_result"
    }
   ],
   "source": [
    "test.extend([6, 7])\n",
    "test"
   ]
  },
  {
   "cell_type": "code",
   "execution_count": 145,
   "id": "d5c1872c-ae44-4d6a-ad7d-c1a78180a925",
   "metadata": {},
   "outputs": [
    {
     "data": {
      "text/plain": [
       "[1, 2, 't', 3, 5, 4, 6, 7]"
      ]
     },
     "execution_count": 145,
     "metadata": {},
     "output_type": "execute_result"
    }
   ],
   "source": [
    "test.remove(4)\n",
    "test"
   ]
  },
  {
   "cell_type": "code",
   "execution_count": 146,
   "id": "61069767-b562-4017-9d8e-1cc045c38733",
   "metadata": {},
   "outputs": [
    {
     "data": {
      "text/plain": [
       "[1, 2, 't', 3, 5, 4, 6]"
      ]
     },
     "execution_count": 146,
     "metadata": {},
     "output_type": "execute_result"
    }
   ],
   "source": [
    "test.pop()\n",
    "test"
   ]
  },
  {
   "cell_type": "code",
   "execution_count": 147,
   "id": "3279e108-51ec-4293-93d3-293602ababc7",
   "metadata": {},
   "outputs": [
    {
     "data": {
      "text/plain": [
       "[2, 't', 3, 5, 4, 6]"
      ]
     },
     "execution_count": 147,
     "metadata": {},
     "output_type": "execute_result"
    }
   ],
   "source": [
    "test.pop(0)\n",
    "test"
   ]
  },
  {
   "cell_type": "code",
   "execution_count": 148,
   "id": "aef16a40-13a7-4dce-a5ff-202b03e3f6a5",
   "metadata": {},
   "outputs": [
    {
     "data": {
      "text/plain": [
       "1"
      ]
     },
     "execution_count": 148,
     "metadata": {},
     "output_type": "execute_result"
    }
   ],
   "source": [
    "test.count(5)"
   ]
  },
  {
   "cell_type": "code",
   "execution_count": 149,
   "id": "453e2284-f5b8-4794-9043-4258142ebe3d",
   "metadata": {},
   "outputs": [
    {
     "data": {
      "text/plain": [
       "[2, 3, 4, 5, 6]"
      ]
     },
     "execution_count": 149,
     "metadata": {},
     "output_type": "execute_result"
    }
   ],
   "source": [
    "test.remove('t')\n",
    "test.sort()\n",
    "test"
   ]
  },
  {
   "cell_type": "code",
   "execution_count": 151,
   "id": "e48c7a53-f7ef-472b-8b95-dc358e0cea7f",
   "metadata": {},
   "outputs": [
    {
     "data": {
      "text/plain": [
       "[6, 5, 4, 3, 2]"
      ]
     },
     "execution_count": 151,
     "metadata": {},
     "output_type": "execute_result"
    }
   ],
   "source": [
    "test.sort(reverse=True)\n",
    "test"
   ]
  },
  {
   "cell_type": "code",
   "execution_count": 152,
   "id": "6d45a533-8972-42a8-86d7-2edf0a3146e1",
   "metadata": {},
   "outputs": [
    {
     "data": {
      "text/plain": [
       "[2, 3, 4, 5, 6]"
      ]
     },
     "execution_count": 152,
     "metadata": {},
     "output_type": "execute_result"
    }
   ],
   "source": [
    "test.reverse()\n",
    "test"
   ]
  },
  {
   "cell_type": "code",
   "execution_count": null,
   "id": "203d2bfc-d302-4530-8b68-056432f67e84",
   "metadata": {},
   "outputs": [],
   "source": []
  },
  {
   "cell_type": "code",
   "execution_count": null,
   "id": "02f83609-ffdf-46b8-ab57-2cc69c8f0b48",
   "metadata": {},
   "outputs": [],
   "source": []
  }
 ],
 "metadata": {
  "kernelspec": {
   "display_name": "Python 3 (ipykernel)",
   "language": "python",
   "name": "python3"
  },
  "language_info": {
   "codemirror_mode": {
    "name": "ipython",
    "version": 3
   },
   "file_extension": ".py",
   "mimetype": "text/x-python",
   "name": "python",
   "nbconvert_exporter": "python",
   "pygments_lexer": "ipython3",
   "version": "3.12.9"
  }
 },
 "nbformat": 4,
 "nbformat_minor": 5
}
