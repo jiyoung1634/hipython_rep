{
 "cells": [
  {
   "cell_type": "markdown",
   "id": "f8859f9f-89f0-4d9f-8a27-08f6ff33e940",
   "metadata": {},
   "source": [
    "# 복합자료 리스트\n",
    "\n",
    "여러개의 값을 묶어서 하나의 변수로 다루는 자료형\n",
    "\n",
    "생성법\n",
    "1. [] 대괄호를 사용\n",
    "2. 데이터는 , 쉼표로 구분\n",
    "3. [] 빈 대괄호는 초기화\n",
    "4. 숫자, 문자, 부울, 리스트 같은 객체 모두 담을 수 있다\n",
    "5. 순서 index를 가진다\n",
    "6. 음수 인덱스도 가진다"
   ]
  },
  {
   "cell_type": "code",
   "execution_count": 1,
   "id": "6785953c-8a84-4b65-8087-fc497bd9fb0b",
   "metadata": {},
   "outputs": [
    {
     "data": {
      "text/plain": [
       "30"
      ]
     },
     "execution_count": 1,
     "metadata": {},
     "output_type": "execute_result"
    }
   ],
   "source": [
    "score = [30, 50, 90, 80, 100]\n",
    "score[0]   #첫번째 학생의 점후"
   ]
  },
  {
   "cell_type": "code",
   "execution_count": 2,
   "id": "2fa276e3-e987-49d2-9cec-6b15776f42e9",
   "metadata": {},
   "outputs": [
    {
     "data": {
      "text/plain": [
       "(list, int)"
      ]
     },
     "execution_count": 2,
     "metadata": {},
     "output_type": "execute_result"
    }
   ],
   "source": [
    "type(score), type(score[0])"
   ]
  },
  {
   "cell_type": "code",
   "execution_count": 3,
   "id": "dbf18589-cb7b-4514-91d9-2c4700dc560c",
   "metadata": {
    "collapsed": true,
    "jupyter": {
     "outputs_hidden": true
    },
    "scrolled": true
   },
   "outputs": [
    {
     "data": {
      "text/plain": [
       "['__add__',\n",
       " '__class__',\n",
       " '__class_getitem__',\n",
       " '__contains__',\n",
       " '__delattr__',\n",
       " '__delitem__',\n",
       " '__dir__',\n",
       " '__doc__',\n",
       " '__eq__',\n",
       " '__format__',\n",
       " '__ge__',\n",
       " '__getattribute__',\n",
       " '__getitem__',\n",
       " '__getstate__',\n",
       " '__gt__',\n",
       " '__hash__',\n",
       " '__iadd__',\n",
       " '__imul__',\n",
       " '__init__',\n",
       " '__init_subclass__',\n",
       " '__iter__',\n",
       " '__le__',\n",
       " '__len__',\n",
       " '__lt__',\n",
       " '__mul__',\n",
       " '__ne__',\n",
       " '__new__',\n",
       " '__reduce__',\n",
       " '__reduce_ex__',\n",
       " '__repr__',\n",
       " '__reversed__',\n",
       " '__rmul__',\n",
       " '__setattr__',\n",
       " '__setitem__',\n",
       " '__sizeof__',\n",
       " '__str__',\n",
       " '__subclasshook__',\n",
       " 'append',\n",
       " 'clear',\n",
       " 'copy',\n",
       " 'count',\n",
       " 'extend',\n",
       " 'index',\n",
       " 'insert',\n",
       " 'pop',\n",
       " 'remove',\n",
       " 'reverse',\n",
       " 'sort']"
      ]
     },
     "execution_count": 3,
     "metadata": {},
     "output_type": "execute_result"
    }
   ],
   "source": [
    "dir(score)"
   ]
  },
  {
   "cell_type": "code",
   "execution_count": 22,
   "id": "22cc0950-9aa7-469b-9b34-52541bd144c6",
   "metadata": {},
   "outputs": [],
   "source": [
    "ra = range(2, 20, 2)   #숫자의 배열 순열."
   ]
  },
  {
   "cell_type": "code",
   "execution_count": 12,
   "id": "f401bdaa-ebf9-44a9-937c-eccb4d99df29",
   "metadata": {},
   "outputs": [
    {
     "data": {
      "text/plain": [
       "[2, 4, 6, 8, 10, 12, 14, 16, 18]"
      ]
     },
     "execution_count": 12,
     "metadata": {},
     "output_type": "execute_result"
    }
   ],
   "source": [
    "num_list = list(ra)   #리스트의 생성자\n",
    "num_list"
   ]
  },
  {
   "cell_type": "code",
   "execution_count": 13,
   "id": "e11f5a30-3dbf-4cc1-845e-2d46d809726a",
   "metadata": {},
   "outputs": [
    {
     "data": {
      "text/plain": [
       "18"
      ]
     },
     "execution_count": 13,
     "metadata": {},
     "output_type": "execute_result"
    }
   ],
   "source": [
    "num_list[-1]"
   ]
  },
  {
   "cell_type": "code",
   "execution_count": 14,
   "id": "a753e2a0-8f3a-4a13-8f9a-6ea8015e3de3",
   "metadata": {},
   "outputs": [
    {
     "data": {
      "text/plain": [
       "9"
      ]
     },
     "execution_count": 14,
     "metadata": {},
     "output_type": "execute_result"
    }
   ],
   "source": [
    "ra.__len__()"
   ]
  },
  {
   "cell_type": "code",
   "execution_count": 17,
   "id": "8d4621fe-acf5-4ef1-b11a-4bbec152cc8d",
   "metadata": {},
   "outputs": [
    {
     "data": {
      "text/plain": [
       "1"
      ]
     },
     "execution_count": 17,
     "metadata": {},
     "output_type": "execute_result"
    }
   ],
   "source": [
    "num_list.count(2)"
   ]
  },
  {
   "cell_type": "markdown",
   "id": "41fc2c80-3294-4a77-bf69-a363308efb76",
   "metadata": {},
   "source": [
    "method와 function\n",
    "\n",
    "1. method : 객체의 한해서 동작하는 함수 > 객체명. 함수()\n",
    "2. function : 함수( 매개변수 ) > 매개변수로 동작하는 함수\n",
    "\n",
    "dir() > function \n",
    "\n",
    "list_obj.__len__() > method"
   ]
  },
  {
   "cell_type": "code",
   "execution_count": 20,
   "id": "f998569e-314d-40c6-83e6-6ca402c4fe58",
   "metadata": {},
   "outputs": [],
   "source": [
    "str_1 = 'hello'\n",
    "#str_1[0] = 'H'   #TypeError > str Immutable"
   ]
  },
  {
   "cell_type": "code",
   "execution_count": 26,
   "id": "992a79fa-6a63-4408-ad79-4171feee2265",
   "metadata": {},
   "outputs": [
    {
     "data": {
      "text/plain": [
       "['H', 'e', 'l', 'l', 'o']"
      ]
     },
     "execution_count": 26,
     "metadata": {},
     "output_type": "execute_result"
    }
   ],
   "source": [
    "str_2 = list(str_1)   #문자열 > 문자열리스트\n",
    "str_2[0] = 'H'\n",
    "str_2"
   ]
  },
  {
   "cell_type": "code",
   "execution_count": 33,
   "id": "b46f5015-e9de-4a59-9c33-6f5625f51d50",
   "metadata": {},
   "outputs": [
    {
     "data": {
      "text/plain": [
       "'Hello'"
      ]
     },
     "execution_count": 33,
     "metadata": {},
     "output_type": "execute_result"
    }
   ],
   "source": [
    "\"\".join(str_2)"
   ]
  },
  {
   "cell_type": "code",
   "execution_count": 34,
   "id": "162b02fe-88d4-49e0-963f-624751995694",
   "metadata": {},
   "outputs": [
    {
     "data": {
      "text/plain": [
       "[['aaa', 'bbb', 'ccc'], [1, 2, 'aaa', 'bbb']]"
      ]
     },
     "execution_count": 34,
     "metadata": {},
     "output_type": "execute_result"
    }
   ],
   "source": [
    "# 리스트의 생성\n",
    "a = list()\n",
    "a = []\n",
    "b = [1, 2, 3, 4, 5]\n",
    "c = ['aaa', 'bbb', 'ccc']\n",
    "d = [1, 2, 'aaa', 'bbb']\n",
    "e = [c, d]\n",
    "e"
   ]
  },
  {
   "cell_type": "code",
   "execution_count": 36,
   "id": "0193f7f8-c046-4807-98fc-2884e909ccac",
   "metadata": {},
   "outputs": [
    {
     "data": {
      "text/plain": [
       "(['aaa', 'bbb', 'ccc'], list)"
      ]
     },
     "execution_count": 36,
     "metadata": {},
     "output_type": "execute_result"
    }
   ],
   "source": [
    "e[0], type(e[0])"
   ]
  },
  {
   "cell_type": "code",
   "execution_count": 37,
   "id": "b74cfe49-d81c-49d5-aa2c-50951893d5f0",
   "metadata": {},
   "outputs": [
    {
     "data": {
      "text/plain": [
       "([1, 2, 'aaa', 'bbb'], [1, 2, 'aaa', 'bbb'])"
      ]
     },
     "execution_count": 37,
     "metadata": {},
     "output_type": "execute_result"
    }
   ],
   "source": [
    "e[1], e[-1]"
   ]
  },
  {
   "cell_type": "code",
   "execution_count": 39,
   "id": "aa57dcb3-794c-42ef-b5b5-21f3da6e33e2",
   "metadata": {},
   "outputs": [
    {
     "data": {
      "text/plain": [
       "('aaa', [['aaa', 'bbb', 'ccc']])"
      ]
     },
     "execution_count": 39,
     "metadata": {},
     "output_type": "execute_result"
    }
   ],
   "source": [
    "e[1][2],  e[0:1]"
   ]
  },
  {
   "cell_type": "code",
   "execution_count": 40,
   "id": "2e083fdc-1520-42b1-b198-e0cd66dca066",
   "metadata": {},
   "outputs": [
    {
     "data": {
      "text/plain": [
       "[1, 2]"
      ]
     },
     "execution_count": 40,
     "metadata": {},
     "output_type": "execute_result"
    }
   ],
   "source": [
    "e[1][:2]"
   ]
  },
  {
   "cell_type": "code",
   "execution_count": 45,
   "id": "0987e32c-4f1b-47e9-aa09-78fb834b5cec",
   "metadata": {},
   "outputs": [
    {
     "data": {
      "text/plain": [
       "'bbb'"
      ]
     },
     "execution_count": 45,
     "metadata": {},
     "output_type": "execute_result"
    }
   ],
   "source": [
    "e[1][-1]"
   ]
  },
  {
   "cell_type": "code",
   "execution_count": 46,
   "id": "971ff2d0-a88e-4958-93a5-43fe1720a816",
   "metadata": {},
   "outputs": [
    {
     "data": {
      "text/plain": [
       "[[1, 2], [3, 4]]"
      ]
     },
     "execution_count": 46,
     "metadata": {},
     "output_type": "execute_result"
    }
   ],
   "source": [
    "score = [[1, 2], [3, 4]]\n",
    "score"
   ]
  },
  {
   "cell_type": "markdown",
   "id": "8b46315d-3a21-4097-beba-5b5a3c756b82",
   "metadata": {},
   "source": [
    "복사\n",
    "1. 얕은 복사 shallow copy\n",
    "2. 깊은 복사 deep copy"
   ]
  },
  {
   "cell_type": "code",
   "execution_count": 49,
   "id": "03e80b81-cf3e-43d4-98ae-d95795c39853",
   "metadata": {},
   "outputs": [
    {
     "data": {
      "text/plain": [
       "[[100, 2], [3, 4]]"
      ]
     },
     "execution_count": 49,
     "metadata": {},
     "output_type": "execute_result"
    }
   ],
   "source": [
    "new_score = score[:]   #얕은카피\n",
    "new_score[0][0] = 100\n",
    "new_score"
   ]
  },
  {
   "cell_type": "code",
   "execution_count": 50,
   "id": "e6e038a4-a764-4c70-8abd-34c6defb6eeb",
   "metadata": {},
   "outputs": [
    {
     "data": {
      "text/plain": [
       "[[100, 2], [3, 4]]"
      ]
     },
     "execution_count": 50,
     "metadata": {},
     "output_type": "execute_result"
    }
   ],
   "source": [
    "score"
   ]
  },
  {
   "cell_type": "code",
   "execution_count": 52,
   "id": "9629607d-d5c9-4e8e-aa5b-da84aba2516f",
   "metadata": {},
   "outputs": [
    {
     "data": {
      "text/plain": [
       "([[100, 99], [3, 4]], [[100, 99], [3, 4]])"
      ]
     },
     "execution_count": 52,
     "metadata": {},
     "output_type": "execute_result"
    }
   ],
   "source": [
    "import copy\n",
    "copied = copy.copy(score)\n",
    "copied[0][1] = 99\n",
    "copied, score"
   ]
  },
  {
   "cell_type": "code",
   "execution_count": 53,
   "id": "7e60d1f6-a272-47fa-b0c5-680f06df4d4e",
   "metadata": {},
   "outputs": [
    {
     "data": {
      "text/plain": [
       "([[100, 99], [100, 4]], [[100, 99], [3, 4]])"
      ]
     },
     "execution_count": 53,
     "metadata": {},
     "output_type": "execute_result"
    }
   ],
   "source": [
    "deepcopied = copy.deepcopy(score)\n",
    "deepcopied[1][0] = 100\n",
    "deepcopied, score"
   ]
  },
  {
   "cell_type": "markdown",
   "id": "8134db01-aeeb-4632-879d-4603c9c2ed08",
   "metadata": {},
   "source": [
    "# 리스트의 연산\n",
    "\n",
    "- '+'  __add__()\n",
    "- '-'  __mul__()\n",
    "- del list[항목]\n",
    "- in list -> True/False"
   ]
  },
  {
   "cell_type": "code",
   "execution_count": 54,
   "id": "1d13802d-0c13-45a2-a99b-0bc8f49b37f1",
   "metadata": {},
   "outputs": [
    {
     "data": {
      "text/plain": [
       "['해물라면', '샐러드', '떡볶이', '오므라이스', '볶음밥', '떡볶이', '제육볶음', '주먹밥']"
      ]
     },
     "execution_count": 54,
     "metadata": {},
     "output_type": "execute_result"
    }
   ],
   "source": [
    "lunch1 = ['해물라면', '샐러드', '떡볶이']\n",
    "lunch2 = ['오므라이스', '볶음밥', '떡볶이', '제육볶음', '주먹밥']\n",
    "lunch1 + lunch2"
   ]
  },
  {
   "cell_type": "code",
   "execution_count": 56,
   "id": "ae7ecb91-d68a-4555-8304-8aaea1f50613",
   "metadata": {},
   "outputs": [
    {
     "data": {
      "text/plain": [
       "['해물라면', '샐러드', '떡볶이', '해물라면', '샐러드', '떡볶이']"
      ]
     },
     "execution_count": 56,
     "metadata": {},
     "output_type": "execute_result"
    }
   ],
   "source": [
    "lunch1 * 2"
   ]
  },
  {
   "cell_type": "code",
   "execution_count": 57,
   "id": "b5e1f7cc-d411-48d5-b963-34c4816449a6",
   "metadata": {},
   "outputs": [
    {
     "data": {
      "text/plain": [
       "['샐러드', '떡볶이']"
      ]
     },
     "execution_count": 57,
     "metadata": {},
     "output_type": "execute_result"
    }
   ],
   "source": [
    "del lunch1[0]\n",
    "lunch1"
   ]
  },
  {
   "cell_type": "code",
   "execution_count": 62,
   "id": "f3318dd6-af48-4a37-940e-7bb83eae7282",
   "metadata": {},
   "outputs": [
    {
     "data": {
      "text/plain": [
       "['샐러드', '오므라이스', '볶음밥', '떡볶이', '제육볶음', '주먹밥']"
      ]
     },
     "execution_count": 62,
     "metadata": {},
     "output_type": "execute_result"
    }
   ],
   "source": [
    "# lunch1과 lunch2를 합하고 '떡볶이' 1개를 제외하세요\n",
    "lunch3 = lunch1 + lunch2\n",
    "del lunch3[1]\n",
    "lunch3"
   ]
  },
  {
   "cell_type": "code",
   "execution_count": 63,
   "id": "8d8062b3-c191-45b9-9479-4db842675005",
   "metadata": {},
   "outputs": [
    {
     "data": {
      "text/plain": [
       "True"
      ]
     },
     "execution_count": 63,
     "metadata": {},
     "output_type": "execute_result"
    }
   ],
   "source": [
    "'떡볶이' in lunch3"
   ]
  },
  {
   "cell_type": "code",
   "execution_count": 88,
   "id": "5ec48f56-ab5a-4099-9331-82c34faaf68b",
   "metadata": {},
   "outputs": [
    {
     "name": "stdin",
     "output_type": "stream",
     "text": [
      "먹고싶은 간식을 추가하세요. 단, 쉼표(,)로 연결하세요 과자, 아이스크림\n"
     ]
    }
   ],
   "source": [
    "# 간식박스 관리 프로그램\n",
    "snack_box = ['비틀즈', ]\n",
    "new_snack = input('먹고싶은 간식을 추가하세요. 단, 쉼표(,)로 연결하세요').split(',')\n",
    "snack_box += new_snack"
   ]
  },
  {
   "cell_type": "code",
   "execution_count": 89,
   "id": "be93b3a1-927c-4132-aba1-524078cb6fd6",
   "metadata": {},
   "outputs": [
    {
     "data": {
      "text/plain": [
       "['비틀즈', '과자', ' 아이스크림']"
      ]
     },
     "execution_count": 89,
     "metadata": {},
     "output_type": "execute_result"
    }
   ],
   "source": [
    "snack_box"
   ]
  },
  {
   "cell_type": "code",
   "execution_count": 90,
   "id": "f3b92f7c-b3fc-49af-8a8b-fc4559a427a3",
   "metadata": {},
   "outputs": [
    {
     "name": "stdin",
     "output_type": "stream",
     "text": [
      "간식박스 몇 세트로 포장할까요? 예: 2 -> 2box 2\n"
     ]
    }
   ],
   "source": [
    "qty = int(input('간식박스 몇 세트로 포장할까요? 예: 2 -> 2box'))"
   ]
  },
  {
   "cell_type": "code",
   "execution_count": 91,
   "id": "7621f51d-dc76-4411-b872-33015bc0facb",
   "metadata": {},
   "outputs": [
    {
     "data": {
      "text/plain": [
       "['비틀즈', '과자', ' 아이스크림', '비틀즈', '과자', ' 아이스크림']"
      ]
     },
     "execution_count": 91,
     "metadata": {},
     "output_type": "execute_result"
    }
   ],
   "source": [
    "snack_box *= qty\n",
    "snack_box"
   ]
  },
  {
   "cell_type": "code",
   "execution_count": 92,
   "id": "1f544772-3f50-45cc-a6a8-e6745fa87381",
   "metadata": {},
   "outputs": [
    {
     "name": "stdout",
     "output_type": "stream",
     "text": [
      "주문하신 간식상자는 비틀즈,과자, 아이스크림 등입니다. 확인해주세요.\n"
     ]
    }
   ],
   "source": [
    "print(f'주문하신 간식상자는 {snack_box[0]},{snack_box[1]},{snack_box[2]} 등입니다. 확인해주세요.')"
   ]
  },
  {
   "cell_type": "code",
   "execution_count": 93,
   "id": "1804a99d-f3a1-49a8-8080-bada9eb86847",
   "metadata": {},
   "outputs": [
    {
     "name": "stdin",
     "output_type": "stream",
     "text": [
      "혹시 빼고싶은 간식이 있으면 번호를 입력하세요 (0~5) 1\n"
     ]
    }
   ],
   "source": [
    "msg = f'혹시 빼고싶은 간식이 있으면 번호를 입력하세요 (0~{len(snack_box)-1})'\n",
    "snack_no = int(input(msg))"
   ]
  },
  {
   "cell_type": "code",
   "execution_count": 94,
   "id": "c1a9ee40-a0bb-4a9c-aea2-62f8397df0ab",
   "metadata": {},
   "outputs": [
    {
     "data": {
      "text/plain": [
       "['비틀즈', ' 아이스크림', '비틀즈', '과자', ' 아이스크림']"
      ]
     },
     "execution_count": 94,
     "metadata": {},
     "output_type": "execute_result"
    }
   ],
   "source": [
    "del snack_box[snack_no]\n",
    "snack_box"
   ]
  },
  {
   "cell_type": "code",
   "execution_count": 99,
   "id": "c5c70b48-16e9-4906-9772-107747df3c08",
   "metadata": {},
   "outputs": [
    {
     "name": "stdin",
     "output_type": "stream",
     "text": [
      "찾고싶은 간식 이름을 입력하세요:   아이스크림\n"
     ]
    },
    {
     "name": "stdout",
     "output_type": "stream",
     "text": [
      "있어요\n"
     ]
    }
   ],
   "source": [
    "# 찾고싶은 간식이름을 입력하세요\n",
    "# 있어요 OR 없어요 출력\n",
    "snack_find = input('찾고싶은 간식 이름을 입력하세요: ')\n",
    "if snack_find in snack_box :\n",
    "    print('있어요')\n",
    "else :\n",
    "    print('없어요')"
   ]
  },
  {
   "cell_type": "code",
   "execution_count": 102,
   "id": "055217aa-730f-4aab-b719-158dc1f4cf4e",
   "metadata": {},
   "outputs": [
    {
     "name": "stdout",
     "output_type": "stream",
     "text": [
      "주문하신 간식박스는 뒤에서부터 다음과 같습니다.\n",
      "[' 아이스크림', '과자', '비틀즈', ' 아이스크림', '비틀즈'], 총 5개\n"
     ]
    }
   ],
   "source": [
    "print('주문하신 간식박스는 뒤에서부터 다음과 같습니다.')\n",
    "print(f'{snack_box[::-1]}, 총 {len(snack_box)}개')"
   ]
  },
  {
   "cell_type": "markdown",
   "id": "10876375-9a8b-4b6a-aa2b-2594d6da4755",
   "metadata": {},
   "source": [
    "강사님께서 디스코드로 리스트 관련 함수 연습하라고 보내심\n",
    "\n",
    "| 메서드                  | 사용 예시                    | 설명                |\n",
    "| -------------------- | ------------------------ | ----------------- |\n",
    "| append(x)          | lst.append(4)          | 맨 뒤에 x 추가       |\n",
    "| insert(i, x)       | lst.insert(1, \"a\")     | i 위치에 x 삽입    |\n",
    "| extend(iter)       | lst.extend([4, 5])     | 리스트에 여러 값 추가      |\n",
    "| remove(x)          | lst.remove(\"a\")        | x와 일치하는 첫 항목 삭제 |\n",
    "| pop()              | lst.pop()              | 마지막 항목 제거하고 반환    |\n",
    "| pop(i)             | lst.pop(0)             | i번째 항목 제거하고 반환  |\n",
    "| clear()            | lst.clear()            | 리스트 전체 비우기        |\n",
    "| index(x)           | lst.index(\"a\")         | x의 위치(인덱스) 반환   |\n",
    "| count(x)           | lst.count(\"a\")         | x의 개수 세기        |\n",
    "| sort()             | lst.sort()             | 오름차순 정렬 (원본 변경)   |\n",
    "| sort(reverse=True) | lst.sort(reverse=True) | 내림차순 정렬           |\n",
    "| reverse()          | lst.reverse()          | 항목 순서 뒤집기         |\n",
    "| copy()             | lst2 = lst.copy()      | 리스트 복사            |"
   ]
  },
  {
   "cell_type": "code",
   "execution_count": 142,
   "id": "5641506a-4cd9-4500-aa7b-0a9f53c30f58",
   "metadata": {},
   "outputs": [
    {
     "data": {
      "text/plain": [
       "[1, 2, 3, 4, 5, 4]"
      ]
     },
     "execution_count": 142,
     "metadata": {},
     "output_type": "execute_result"
    }
   ],
   "source": [
    "test = [1, 2, 3, 4, 5]\n",
    "test.append(4)\n",
    "test"
   ]
  },
  {
   "cell_type": "code",
   "execution_count": 143,
   "id": "f2de441a-280d-45c5-ad69-09253dbaee47",
   "metadata": {},
   "outputs": [
    {
     "data": {
      "text/plain": [
       "[1, 2, 't', 3, 4, 5, 4]"
      ]
     },
     "execution_count": 143,
     "metadata": {},
     "output_type": "execute_result"
    }
   ],
   "source": [
    "test.insert(2, 't')\n",
    "test"
   ]
  },
  {
   "cell_type": "code",
   "execution_count": 144,
   "id": "f39d73fc-00ed-49c6-8aaa-c27bbf5870a1",
   "metadata": {},
   "outputs": [
    {
     "data": {
      "text/plain": [
       "[1, 2, 't', 3, 4, 5, 4, 6, 7]"
      ]
     },
     "execution_count": 144,
     "metadata": {},
     "output_type": "execute_result"
    }
   ],
   "source": [
    "test.extend([6, 7])\n",
    "test"
   ]
  },
  {
   "cell_type": "code",
   "execution_count": 145,
   "id": "d5c1872c-ae44-4d6a-ad7d-c1a78180a925",
   "metadata": {},
   "outputs": [
    {
     "data": {
      "text/plain": [
       "[1, 2, 't', 3, 5, 4, 6, 7]"
      ]
     },
     "execution_count": 145,
     "metadata": {},
     "output_type": "execute_result"
    }
   ],
   "source": [
    "test.remove(4)\n",
    "test"
   ]
  },
  {
   "cell_type": "code",
   "execution_count": 146,
   "id": "61069767-b562-4017-9d8e-1cc045c38733",
   "metadata": {},
   "outputs": [
    {
     "data": {
      "text/plain": [
       "[1, 2, 't', 3, 5, 4, 6]"
      ]
     },
     "execution_count": 146,
     "metadata": {},
     "output_type": "execute_result"
    }
   ],
   "source": [
    "test.pop()\n",
    "test"
   ]
  },
  {
   "cell_type": "code",
   "execution_count": 147,
   "id": "3279e108-51ec-4293-93d3-293602ababc7",
   "metadata": {},
   "outputs": [
    {
     "data": {
      "text/plain": [
       "[2, 't', 3, 5, 4, 6]"
      ]
     },
     "execution_count": 147,
     "metadata": {},
     "output_type": "execute_result"
    }
   ],
   "source": [
    "test.pop(0)\n",
    "test"
   ]
  },
  {
   "cell_type": "code",
   "execution_count": 148,
   "id": "aef16a40-13a7-4dce-a5ff-202b03e3f6a5",
   "metadata": {},
   "outputs": [
    {
     "data": {
      "text/plain": [
       "1"
      ]
     },
     "execution_count": 148,
     "metadata": {},
     "output_type": "execute_result"
    }
   ],
   "source": [
    "test.count(5)"
   ]
  },
  {
   "cell_type": "code",
   "execution_count": 149,
   "id": "453e2284-f5b8-4794-9043-4258142ebe3d",
   "metadata": {},
   "outputs": [
    {
     "data": {
      "text/plain": [
       "[2, 3, 4, 5, 6]"
      ]
     },
     "execution_count": 149,
     "metadata": {},
     "output_type": "execute_result"
    }
   ],
   "source": [
    "test.remove('t')\n",
    "test.sort()\n",
    "test"
   ]
  },
  {
   "cell_type": "code",
   "execution_count": 151,
   "id": "e48c7a53-f7ef-472b-8b95-dc358e0cea7f",
   "metadata": {},
   "outputs": [
    {
     "data": {
      "text/plain": [
       "[6, 5, 4, 3, 2]"
      ]
     },
     "execution_count": 151,
     "metadata": {},
     "output_type": "execute_result"
    }
   ],
   "source": [
    "test.sort(reverse=True)\n",
    "test"
   ]
  },
  {
   "cell_type": "code",
   "execution_count": 152,
   "id": "6d45a533-8972-42a8-86d7-2edf0a3146e1",
   "metadata": {},
   "outputs": [
    {
     "data": {
      "text/plain": [
       "[2, 3, 4, 5, 6]"
      ]
     },
     "execution_count": 152,
     "metadata": {},
     "output_type": "execute_result"
    }
   ],
   "source": [
    "test.reverse()\n",
    "test"
   ]
  },
  {
   "cell_type": "markdown",
   "id": "5f6635da-566a-41b8-a9b0-7082eaf5cfe0",
   "metadata": {},
   "source": [
    "# 연산자\n",
    "\n",
    "- 비식별연산자\n",
    "1. 수치연산 : 사칙연산\n",
    "   add() -> 특별메소드를 정의하고 객체에서 쓸 수 있다\n",
    "   숫자일 때는 기본 연상\n",
    "   형변환이 자동으로 일어난다 int + float > float, int / int > float\n",
    "3. 대입연산 : assign, 혈당 '='\n",
    "   변수 = 값\n",
    "   자기 자신에게 대입하는 연산 > +=, -=, *=, /= > ( )가 자동으로 적용\n",
    "5. 비교연산\n",
    "   '=' x, '==' o\n",
    "   '!=', '>=', '<='\n",
    "\n",
    "   리스트의 비교 '==' > 내용이 같은가?\n",
    "   리스트의 비교 'is' > 주소가 같은가?\n",
    "   리스트의 주소 'id()'값이 같은지를 비교(메모리 영역이 같은가?) \n",
    "   \n",
    "7. 논리연산\n",
    "   and, or, not\n",
    "   &, &&, |, !\n",
    "\n",
    "- 식별 연산자\n",
    "1. is, is not"
   ]
  },
  {
   "cell_type": "code",
   "execution_count": 20,
   "id": "1995e037-5b75-482f-b7e6-07b2283e7a0c",
   "metadata": {},
   "outputs": [
    {
     "data": {
      "text/plain": [
       "True"
      ]
     },
     "execution_count": 20,
     "metadata": {},
     "output_type": "execute_result"
    }
   ],
   "source": [
    "lunch1 = ['주먹밥', '치킨', '칼국수']\n",
    "lunch2 = ['주먹밥', '치킨', '칼국수']\n",
    "lunch1 == lunch2"
   ]
  },
  {
   "cell_type": "code",
   "execution_count": 22,
   "id": "03ad6e8e-7338-4271-96bc-88765f9d0bef",
   "metadata": {},
   "outputs": [
    {
     "data": {
      "text/plain": [
       "False"
      ]
     },
     "execution_count": 22,
     "metadata": {},
     "output_type": "execute_result"
    }
   ],
   "source": [
    "id(lunch1) == id(lunch2)"
   ]
  },
  {
   "cell_type": "code",
   "execution_count": 23,
   "id": "5e483806-3320-4b9c-a5bb-f6bea6c2059d",
   "metadata": {},
   "outputs": [
    {
     "data": {
      "text/plain": [
       "False"
      ]
     },
     "execution_count": 23,
     "metadata": {},
     "output_type": "execute_result"
    }
   ],
   "source": [
    "lunch1 is lunch2   #주소를 비교"
   ]
  },
  {
   "cell_type": "code",
   "execution_count": 1,
   "id": "02f83609-ffdf-46b8-ab57-2cc69c8f0b48",
   "metadata": {},
   "outputs": [],
   "source": [
    "a = 5\n",
    "#a = a + 5\n",
    "a += 5"
   ]
  },
  {
   "cell_type": "code",
   "execution_count": 4,
   "id": "4ffaa64a-8bc1-47d5-82b1-aa06ffb148f1",
   "metadata": {},
   "outputs": [
    {
     "data": {
      "text/plain": [
       "20"
      ]
     },
     "execution_count": 4,
     "metadata": {},
     "output_type": "execute_result"
    }
   ],
   "source": [
    "a = 5\n",
    "b = 2\n",
    "a *= 2 + b   # a = a * ( 2 + b ) 여기에 괄호가 먼저 들어간다. 자기 자신에게 대입하는 연산이 나중. \n",
    "a"
   ]
  },
  {
   "cell_type": "code",
   "execution_count": 5,
   "id": "95d9e337-abc9-46cb-bf40-9913cfc35c91",
   "metadata": {},
   "outputs": [],
   "source": [
    "students = [\n",
    "               {'num':'1','name':'김철수','kor':90,'eng':80,'math':85,'total':0,'avg':0.0,'order':0 },\n",
    "               {'num':'2','name':'박제동','kor':90,'eng':85,'math':90,'total':0,'avg':0.0,'order':0 },\n",
    "               {'num':'3','name':'홍길동','kor':80,'eng':80,'math':80,'total':0,'avg':0.0,'order':0 }\n",
    "           ]"
   ]
  },
  {
   "cell_type": "code",
   "execution_count": 8,
   "id": "824d5b7d-b465-49ea-ad63-6d802652b243",
   "metadata": {},
   "outputs": [
    {
     "data": {
      "text/plain": [
       "255"
      ]
     },
     "execution_count": 8,
     "metadata": {},
     "output_type": "execute_result"
    }
   ],
   "source": [
    "students[0]['total'] = students[0]['kor'] + students[0]['eng'] + students[0]['math']\n",
    "students[0]['total']"
   ]
  },
  {
   "cell_type": "code",
   "execution_count": 9,
   "id": "2ce2ab0b-6bb5-4309-8454-2ff5ef0a58cc",
   "metadata": {},
   "outputs": [
    {
     "data": {
      "text/plain": [
       "265"
      ]
     },
     "execution_count": 9,
     "metadata": {},
     "output_type": "execute_result"
    }
   ],
   "source": [
    "students[1]['total'] = students[1]['kor'] + students[1]['eng'] + students[1]['math']\n",
    "students[1]['total']"
   ]
  },
  {
   "cell_type": "code",
   "execution_count": 10,
   "id": "da533eff-fb19-4523-b040-7f5153ced14b",
   "metadata": {},
   "outputs": [
    {
     "data": {
      "text/plain": [
       "240"
      ]
     },
     "execution_count": 10,
     "metadata": {},
     "output_type": "execute_result"
    }
   ],
   "source": [
    "students[2]['total'] = students[2]['kor'] + students[2]['eng'] + students[2]['math']\n",
    "students[2]['total']"
   ]
  },
  {
   "cell_type": "code",
   "execution_count": 16,
   "id": "07beb74b-669d-438a-b086-8d4b3b232439",
   "metadata": {},
   "outputs": [
    {
     "name": "stdout",
     "output_type": "stream",
     "text": [
      "255 85.0\n",
      "265 88.33333333333333\n",
      "240 80.0\n"
     ]
    }
   ],
   "source": [
    "#for 문에서는 리스트의 요소를 하나씩 꺼낼 수 있다 : in 키워드\n",
    "for student in students :   #iterator\n",
    "    student['total'] = student['kor'] + student['eng'] + student['math']\n",
    "    student['avg'] = student['total'] / 3\n",
    "    print(student['total'], student['avg'])"
   ]
  },
  {
   "cell_type": "code",
   "execution_count": 18,
   "id": "86b8030c-9adc-4500-b3f4-3584c55912e9",
   "metadata": {},
   "outputs": [
    {
     "name": "stdout",
     "output_type": "stream",
     "text": [
      "김철수 2\n",
      "박제동 1\n",
      "홍길동 3\n"
     ]
    }
   ],
   "source": [
    "for student in students :\n",
    "    rank = 1\n",
    "    for other in students :\n",
    "        if other['total'] > student['total'] :\n",
    "            rank += 1\n",
    "    student['order'] = rank\n",
    "    print(student['name'], student['order'])"
   ]
  },
  {
   "cell_type": "code",
   "execution_count": 19,
   "id": "f34c42ac-2b22-40e6-941f-7e2e65f2647f",
   "metadata": {},
   "outputs": [
    {
     "name": "stdout",
     "output_type": "stream",
     "text": [
      "김철수 2 255 85.0\n",
      "박제동 1 265 88.33333333333333\n",
      "홍길동 3 240 80.0\n"
     ]
    }
   ],
   "source": [
    "for student in students :\n",
    "    print(student['name'], student['order'], student['total'], student['avg'])"
   ]
  },
  {
   "cell_type": "markdown",
   "id": "de4cbaaf-cc22-44ba-8b33-ca6ac9ce3e2c",
   "metadata": {},
   "source": [
    "# 리스트에 많이 쓰는 내장함수들\n",
    "\n",
    "* type(),\n",
    "* sorted(),\n",
    "* dir(),\n",
    "* id(),\n",
    "* len(),\n",
    "* sum(), max(), min()"
   ]
  },
  {
   "cell_type": "code",
   "execution_count": 24,
   "id": "b61f9b88-3941-452f-b4a9-766cab423351",
   "metadata": {},
   "outputs": [
    {
     "data": {
      "text/plain": [
       "list"
      ]
     },
     "execution_count": 24,
     "metadata": {},
     "output_type": "execute_result"
    }
   ],
   "source": [
    "type(students)"
   ]
  },
  {
   "cell_type": "code",
   "execution_count": 36,
   "id": "44f6989e-0f95-4d32-9994-1d42302f637b",
   "metadata": {},
   "outputs": [
    {
     "data": {
      "text/plain": [
       "[1, 3, 4, 6, 8, 9]"
      ]
     },
     "execution_count": 36,
     "metadata": {},
     "output_type": "execute_result"
    }
   ],
   "source": [
    "abc = [4, 3, 8, 6, 1, 9]\n",
    "sorted(abc)"
   ]
  },
  {
   "cell_type": "code",
   "execution_count": 37,
   "id": "877defa9-d711-4433-a14f-d82d6ffca089",
   "metadata": {
    "collapsed": true,
    "jupyter": {
     "outputs_hidden": true
    }
   },
   "outputs": [
    {
     "data": {
      "text/plain": [
       "['__add__',\n",
       " '__class__',\n",
       " '__class_getitem__',\n",
       " '__contains__',\n",
       " '__delattr__',\n",
       " '__delitem__',\n",
       " '__dir__',\n",
       " '__doc__',\n",
       " '__eq__',\n",
       " '__format__',\n",
       " '__ge__',\n",
       " '__getattribute__',\n",
       " '__getitem__',\n",
       " '__getstate__',\n",
       " '__gt__',\n",
       " '__hash__',\n",
       " '__iadd__',\n",
       " '__imul__',\n",
       " '__init__',\n",
       " '__init_subclass__',\n",
       " '__iter__',\n",
       " '__le__',\n",
       " '__len__',\n",
       " '__lt__',\n",
       " '__mul__',\n",
       " '__ne__',\n",
       " '__new__',\n",
       " '__reduce__',\n",
       " '__reduce_ex__',\n",
       " '__repr__',\n",
       " '__reversed__',\n",
       " '__rmul__',\n",
       " '__setattr__',\n",
       " '__setitem__',\n",
       " '__sizeof__',\n",
       " '__str__',\n",
       " '__subclasshook__',\n",
       " 'append',\n",
       " 'clear',\n",
       " 'copy',\n",
       " 'count',\n",
       " 'extend',\n",
       " 'index',\n",
       " 'insert',\n",
       " 'pop',\n",
       " 'remove',\n",
       " 'reverse',\n",
       " 'sort']"
      ]
     },
     "execution_count": 37,
     "metadata": {},
     "output_type": "execute_result"
    }
   ],
   "source": [
    "dir(students)"
   ]
  },
  {
   "cell_type": "code",
   "execution_count": 32,
   "id": "f9ed7762-51ed-4cf0-a55c-69d11125b1e2",
   "metadata": {},
   "outputs": [
    {
     "data": {
      "text/plain": [
       "2171294419456"
      ]
     },
     "execution_count": 32,
     "metadata": {},
     "output_type": "execute_result"
    }
   ],
   "source": [
    "id(students)"
   ]
  },
  {
   "cell_type": "code",
   "execution_count": 38,
   "id": "55f18785-6d2e-45ff-97e7-382cc5878e8a",
   "metadata": {},
   "outputs": [
    {
     "data": {
      "text/plain": [
       "8"
      ]
     },
     "execution_count": 38,
     "metadata": {},
     "output_type": "execute_result"
    }
   ],
   "source": [
    "len(student)"
   ]
  },
  {
   "cell_type": "code",
   "execution_count": 39,
   "id": "3cd7c7a4-d6de-4cf0-9af1-ad9b69981b55",
   "metadata": {},
   "outputs": [
    {
     "data": {
      "text/plain": [
       "31"
      ]
     },
     "execution_count": 39,
     "metadata": {},
     "output_type": "execute_result"
    }
   ],
   "source": [
    "sum(abc)"
   ]
  },
  {
   "cell_type": "code",
   "execution_count": 40,
   "id": "04222b24-3d0e-4c4c-a031-a08967fcc04f",
   "metadata": {},
   "outputs": [
    {
     "data": {
      "text/plain": [
       "(9, 1)"
      ]
     },
     "execution_count": 40,
     "metadata": {},
     "output_type": "execute_result"
    }
   ],
   "source": [
    "max(abc), min(abc)"
   ]
  },
  {
   "cell_type": "markdown",
   "id": "83b7c239-fc9d-4d0f-ad18-96e63cb70ac5",
   "metadata": {},
   "source": [
    "# 리스트 퀴즈\n",
    "Q1. [1,3,5,4,2]라는 리스트를 [5,4,3,2,1]로 만들어보자\n",
    "\n",
    "Q2. ['Life','is','too','short']라는 리스트를 Life is too short라는 문자열로 만들어 출력해 보자\n",
    "\n",
    "Q3. 다음 리스트 L의 순서를 아래와 같이 변경하시오. (힌트: pop())\n",
    "\n",
    "변경 전\n",
    "\n",
    "[1, 3, 5, 7, 9]\n",
    "\n",
    "변경 후\n",
    "\n",
    "[3, 5, 7, 9, 1]"
   ]
  },
  {
   "cell_type": "code",
   "execution_count": 41,
   "id": "47e78250-0353-4ffb-9dc1-73bb77e42c5c",
   "metadata": {},
   "outputs": [
    {
     "data": {
      "text/plain": [
       "[5, 4, 3, 2, 1]"
      ]
     },
     "execution_count": 41,
     "metadata": {},
     "output_type": "execute_result"
    }
   ],
   "source": [
    "quiz = [1, 3, 5, 4, 2]\n",
    "sorted(quiz, reverse=True)"
   ]
  },
  {
   "cell_type": "code",
   "execution_count": 58,
   "id": "fc79bde0-987f-4534-ace3-0d06903078bc",
   "metadata": {},
   "outputs": [
    {
     "name": "stdout",
     "output_type": "stream",
     "text": [
      "Life is too short\n"
     ]
    }
   ],
   "source": [
    "quiz2 = ['Life', 'is', 'too', 'short']\n",
    "print(' '.join(quiz2))"
   ]
  },
  {
   "cell_type": "code",
   "execution_count": 59,
   "id": "f6711659-afa1-43ae-8de0-aac8bbee101e",
   "metadata": {},
   "outputs": [
    {
     "data": {
      "text/plain": [
       "[3, 5, 7, 9, 1]"
      ]
     },
     "execution_count": 59,
     "metadata": {},
     "output_type": "execute_result"
    }
   ],
   "source": [
    "L = [1, 3, 5, 7, 9]\n",
    "L.append(L.pop(0))\n",
    "L"
   ]
  },
  {
   "cell_type": "markdown",
   "id": "649f21f1-58fa-4fe2-b3fa-2cdfbea93ce9",
   "metadata": {},
   "source": [
    "# 딕션너리\n",
    "\n",
    "{ 키:값, 키:값, }"
   ]
  },
  {
   "cell_type": "code",
   "execution_count": 60,
   "id": "119d126d-de14-40d7-934d-4b3215a76725",
   "metadata": {},
   "outputs": [
    {
     "data": {
      "text/plain": [
       "{'이름': 'Alice', '나이': 25, '도시': '서울'}"
      ]
     },
     "execution_count": 60,
     "metadata": {},
     "output_type": "execute_result"
    }
   ],
   "source": [
    "person = {'이름':'Alice', '나이':25, '도시':'서울'}\n",
    "person"
   ]
  },
  {
   "cell_type": "code",
   "execution_count": 61,
   "id": "b22bfdb0-d1ae-4a91-b412-a7a894befcd5",
   "metadata": {},
   "outputs": [
    {
     "data": {
      "text/plain": [
       "{'이름': 'jiyoung', '나이': 25, '도시': '서울'}"
      ]
     },
     "execution_count": 61,
     "metadata": {},
     "output_type": "execute_result"
    }
   ],
   "source": [
    "person2 = dict(이름='jiyoung', 나이=25, 도시='서울')\n",
    "person2"
   ]
  },
  {
   "cell_type": "code",
   "execution_count": 63,
   "id": "7d409bab-e6ad-4792-8ada-1e8e75e56e63",
   "metadata": {},
   "outputs": [
    {
     "data": {
      "text/plain": [
       "{'이름': '홍길동', '나이': 25, '도시': '서울'}"
      ]
     },
     "execution_count": 63,
     "metadata": {},
     "output_type": "execute_result"
    }
   ],
   "source": [
    "person['이름'] = '홍길동'\n",
    "person"
   ]
  },
  {
   "cell_type": "code",
   "execution_count": 69,
   "id": "0bd2b778-5c29-4d13-8f4c-2f32f6ebefea",
   "metadata": {},
   "outputs": [
    {
     "data": {
      "text/plain": [
       "{'이름': '홍길동', '나이': 25, '도시': '서울', 0: 'Bob'}"
      ]
     },
     "execution_count": 69,
     "metadata": {},
     "output_type": "execute_result"
    }
   ],
   "source": [
    "person[0] = 'Bob'\n",
    "person   # 시퀀스 넣어봐야 딕셔너리는 그냥 새로운 키로 받아들인다. Key create\n",
    "# person[2]   #KeyError"
   ]
  },
  {
   "cell_type": "code",
   "execution_count": 70,
   "id": "dfdc7067-639c-486e-98a4-207afd7de1db",
   "metadata": {},
   "outputs": [
    {
     "data": {
      "text/plain": [
       "dict"
      ]
     },
     "execution_count": 70,
     "metadata": {},
     "output_type": "execute_result"
    }
   ],
   "source": [
    "type(person)"
   ]
  },
  {
   "cell_type": "code",
   "execution_count": 71,
   "id": "23bc6075-6d9f-40d0-b15d-7ecd63a5994b",
   "metadata": {
    "collapsed": true,
    "jupyter": {
     "outputs_hidden": true
    }
   },
   "outputs": [
    {
     "data": {
      "text/plain": [
       "['__class__',\n",
       " '__class_getitem__',\n",
       " '__contains__',\n",
       " '__delattr__',\n",
       " '__delitem__',\n",
       " '__dir__',\n",
       " '__doc__',\n",
       " '__eq__',\n",
       " '__format__',\n",
       " '__ge__',\n",
       " '__getattribute__',\n",
       " '__getitem__',\n",
       " '__getstate__',\n",
       " '__gt__',\n",
       " '__hash__',\n",
       " '__init__',\n",
       " '__init_subclass__',\n",
       " '__ior__',\n",
       " '__iter__',\n",
       " '__le__',\n",
       " '__len__',\n",
       " '__lt__',\n",
       " '__ne__',\n",
       " '__new__',\n",
       " '__or__',\n",
       " '__reduce__',\n",
       " '__reduce_ex__',\n",
       " '__repr__',\n",
       " '__reversed__',\n",
       " '__ror__',\n",
       " '__setattr__',\n",
       " '__setitem__',\n",
       " '__sizeof__',\n",
       " '__str__',\n",
       " '__subclasshook__',\n",
       " 'clear',\n",
       " 'copy',\n",
       " 'fromkeys',\n",
       " 'get',\n",
       " 'items',\n",
       " 'keys',\n",
       " 'pop',\n",
       " 'popitem',\n",
       " 'setdefault',\n",
       " 'update',\n",
       " 'values']"
      ]
     },
     "execution_count": 71,
     "metadata": {},
     "output_type": "execute_result"
    }
   ],
   "source": [
    "dir(person)"
   ]
  },
  {
   "cell_type": "code",
   "execution_count": 81,
   "id": "692721cf-c3f3-44f7-9f78-8cea22308aca",
   "metadata": {},
   "outputs": [
    {
     "data": {
      "text/plain": [
       "dict_items"
      ]
     },
     "execution_count": 81,
     "metadata": {},
     "output_type": "execute_result"
    }
   ],
   "source": [
    "items = person.items()\n",
    "type(items)"
   ]
  },
  {
   "cell_type": "code",
   "execution_count": 82,
   "id": "4467d34f-d1ee-4f6a-ad99-b5d9fe7811dd",
   "metadata": {},
   "outputs": [
    {
     "data": {
      "text/plain": [
       "dict_keys"
      ]
     },
     "execution_count": 82,
     "metadata": {},
     "output_type": "execute_result"
    }
   ],
   "source": [
    "keys = person.keys()   #keys는 리스트가 된거임\n",
    "type(keys)"
   ]
  },
  {
   "cell_type": "code",
   "execution_count": 83,
   "id": "1e05a739-7749-4100-8dea-132cc17ea0b6",
   "metadata": {},
   "outputs": [
    {
     "name": "stdout",
     "output_type": "stream",
     "text": [
      "이름\n",
      "나이\n",
      "도시\n",
      "0\n"
     ]
    }
   ],
   "source": [
    "for k in keys :\n",
    "    print(k)"
   ]
  },
  {
   "cell_type": "code",
   "execution_count": 84,
   "id": "f7337af1-3ab4-4abd-9ec7-20362f1343f3",
   "metadata": {},
   "outputs": [
    {
     "name": "stdout",
     "output_type": "stream",
     "text": [
      "('이름', '홍길동')\n",
      "('나이', 25)\n",
      "('도시', '서울')\n",
      "(0, 'Bob')\n"
     ]
    }
   ],
   "source": [
    "for i in items :\n",
    "    print(i)"
   ]
  },
  {
   "cell_type": "code",
   "execution_count": 85,
   "id": "c629db0d-714b-40e4-b7dd-c6cee6038509",
   "metadata": {},
   "outputs": [
    {
     "data": {
      "text/plain": [
       "dict_values"
      ]
     },
     "execution_count": 85,
     "metadata": {},
     "output_type": "execute_result"
    }
   ],
   "source": [
    "values = person.values()\n",
    "type(values)"
   ]
  },
  {
   "cell_type": "code",
   "execution_count": 86,
   "id": "b9089131-e577-4350-b71a-f2715a49c2fd",
   "metadata": {},
   "outputs": [
    {
     "name": "stdout",
     "output_type": "stream",
     "text": [
      "홍길동\n",
      "25\n",
      "서울\n",
      "Bob\n"
     ]
    }
   ],
   "source": [
    "for v in values :\n",
    "    print(v)"
   ]
  },
  {
   "cell_type": "code",
   "execution_count": 87,
   "id": "33d02ec3-fe22-4c02-a0d4-27098621d7c2",
   "metadata": {},
   "outputs": [
    {
     "data": {
      "text/plain": [
       "{'이름': 'jiyoung', '나이': 25, '도시': '서울', 0: 'Bob'}"
      ]
     },
     "execution_count": 87,
     "metadata": {},
     "output_type": "execute_result"
    }
   ],
   "source": [
    "# update()는 딕셔너리에 딕셔너리를 추가한다.\n",
    "person.update(person2)\n",
    "person"
   ]
  },
  {
   "cell_type": "code",
   "execution_count": 89,
   "id": "b3ccbfce-6873-45df-b3a8-a54709cc7e3c",
   "metadata": {},
   "outputs": [
    {
     "data": {
      "text/plain": [
       "{'이름': 'jiyoung', '나이': 25, '도시': '서울', 0: 'Bob', '성별': '여자', '취미': '판타지'}"
      ]
     },
     "execution_count": 89,
     "metadata": {},
     "output_type": "execute_result"
    }
   ],
   "source": [
    "#person3을 추가한다면? -> 키가 같으므로 값이 업데이트 / 키가 다르면 추가\n",
    "person3 = {'성별':'여자', '취미':'판타지'}\n",
    "person.update(person3)\n",
    "person"
   ]
  },
  {
   "cell_type": "markdown",
   "id": "dcc176af-7b4e-4e55-ab98-571f764e13ee",
   "metadata": {},
   "source": [
    "# 메뉴판 만들기"
   ]
  },
  {
   "cell_type": "code",
   "execution_count": 97,
   "id": "8ded2024-d75e-4641-ba17-c607d4180723",
   "metadata": {},
   "outputs": [
    {
     "name": "stdout",
     "output_type": "stream",
     "text": [
      "****************************************\n",
      "어서오세요 지영's 카페에 오신 것을 환영합니다\n",
      "1. 에스프레소 3000\n",
      "2. 아이스아메리카노 4000\n",
      "3. 따뜻한라떼 5000\n"
     ]
    },
    {
     "name": "stdin",
     "output_type": "stream",
     "text": [
      "주문할 메뉴 번호를 입력하세요 :  3\n",
      "주문하실 개수를 입력하세요 :  2\n"
     ]
    },
    {
     "name": "stdout",
     "output_type": "stream",
     "text": [
      "주문하신 메뉴는 따뜻한라떼입니다. 결제하실 금액은 10000입니다.\n"
     ]
    }
   ],
   "source": [
    "store_name = \"지영's 카페\"\n",
    "menu_list = ['에스프레소', '아이스아메리카노', '따뜻한라떼']\n",
    "price_list = [3000, 4000, 5000]\n",
    "print('*'*40)\n",
    "print(f'어서오세요 {store_name}에 오신 것을 환영합니다')\n",
    "\n",
    "for i in range(len(menu_list)) :\n",
    "    print(f'{i+1}. {menu_list[i]} {price_list[i]}')\n",
    "\n",
    "order_num = int(input('주문할 메뉴 번호를 입력하세요 : '))\n",
    "qty = int(input('주문하실 개수를 입력하세요 : '))\n",
    "print(f'주문하신 메뉴는 {menu_list[order_num-1]}입니다. 결제하실 금액은 {price_list[order_num-1]*qty}입니다.')"
   ]
  },
  {
   "cell_type": "markdown",
   "id": "6e3be30f-1c1a-4baa-bdde-d1bc4ead966c",
   "metadata": {},
   "source": [
    "# 딕셔너리 버전"
   ]
  },
  {
   "cell_type": "code",
   "execution_count": 110,
   "id": "12a0cb65-cf61-4d6c-9ade-5dc040db9262",
   "metadata": {},
   "outputs": [
    {
     "name": "stdout",
     "output_type": "stream",
     "text": [
      "****************************************\n",
      "어서오세요 지영's 카페에 오신 것을 환영합니다\n",
      "1 {'name': '에스프레소', 'price': 3000}\n",
      "1. 에스프레소 3000\n",
      "2 {'name': '아이스아메리카노', 'price': 4000}\n",
      "2. 아이스아메리카노 4000\n",
      "3 {'name': '따뜻한라떼', 'price': 5000}\n",
      "3. 따뜻한라떼 5000\n",
      "4 {'name': '말차프라푸치노', 'price': 7000}\n",
      "4. 말차프라푸치노 7000\n"
     ]
    },
    {
     "name": "stdin",
     "output_type": "stream",
     "text": [
      "주문할 메뉴 번호를 입력하세요 :  1\n",
      "주문하실 개수를 입력하세요 :  1\n"
     ]
    },
    {
     "name": "stdout",
     "output_type": "stream",
     "text": [
      "주문하신 메뉴는 아이스아메리카노입니다. 결제하실 금액은 4000입니다.\n"
     ]
    }
   ],
   "source": [
    "print('*'*40)\n",
    "print(f'어서오세요 {store_name}에 오신 것을 환영합니다')\n",
    "\n",
    "store_name = \"지영's 카페\"\n",
    "menu_list = [{'name':'에스프레소', 'price':3000}, {'name':'아이스아메리카노', 'price':4000}, {'name':'따뜻한라떼', 'price':5000}, {'name':'말차프라푸치노', 'price':7000}]\n",
    "\n",
    "for i, menu in enumerate(menu_list) :\n",
    "    print(i+1, menu)\n",
    "    print(f'{i+1}. {menu['name']} {menu['price']}')\n",
    "\n",
    "order_num = int(input('주문할 메뉴 번호를 입력하세요 : '))\n",
    "qty = int(input('주문하실 개수를 입력하세요 : '))\n",
    "amt = qty * menu_list[order_num]['price']\n",
    "name = menu_list[order_num]['name']\n",
    "print(f'주문하신 메뉴는 {name}입니다. 결제하실 금액은 {amt}입니다.')"
   ]
  },
  {
   "cell_type": "markdown",
   "id": "17e7367c-e3d2-49a1-b286-10f50b775369",
   "metadata": {},
   "source": [
    "# 튜플\n",
    "리스트랑 비슷, 변경 안되는 특징을 갖는다"
   ]
  },
  {
   "cell_type": "code",
   "execution_count": 27,
   "id": "93574955-624f-4ce9-9c79-8a9f148ecabf",
   "metadata": {},
   "outputs": [
    {
     "data": {
      "text/plain": [
       "((), tuple)"
      ]
     },
     "execution_count": 27,
     "metadata": {},
     "output_type": "execute_result"
    }
   ],
   "source": [
    "a = tuple()\n",
    "a, type(a)"
   ]
  },
  {
   "cell_type": "code",
   "execution_count": 29,
   "id": "a4b3e8a3-760a-4d94-8a06-02454a983077",
   "metadata": {},
   "outputs": [
    {
     "data": {
      "text/plain": [
       "(1, int)"
      ]
     },
     "execution_count": 29,
     "metadata": {},
     "output_type": "execute_result"
    }
   ],
   "source": [
    "b = (1)\n",
    "b, type(b)"
   ]
  },
  {
   "cell_type": "code",
   "execution_count": 30,
   "id": "96c6be0b-1045-472e-8745-d06b0e1307e7",
   "metadata": {},
   "outputs": [
    {
     "data": {
      "text/plain": [
       "((1,), tuple)"
      ]
     },
     "execution_count": 30,
     "metadata": {},
     "output_type": "execute_result"
    }
   ],
   "source": [
    "bb = (1,)\n",
    "bb, type(bb)"
   ]
  },
  {
   "cell_type": "code",
   "execution_count": 31,
   "id": "e3e44a03-c0a1-411e-bb15-2078108fad4e",
   "metadata": {},
   "outputs": [
    {
     "data": {
      "text/plain": [
       "(1, 2, (3, 4), '5', [1, 2, 3])"
      ]
     },
     "execution_count": 31,
     "metadata": {},
     "output_type": "execute_result"
    }
   ],
   "source": [
    "c = (1, 2, (3,4), '5', [1,2,3])\n",
    "c"
   ]
  },
  {
   "cell_type": "code",
   "execution_count": 32,
   "id": "f1cfec02-26e7-4f65-9eb2-2ee9bd20e363",
   "metadata": {},
   "outputs": [
    {
     "data": {
      "text/plain": [
       "1"
      ]
     },
     "execution_count": 32,
     "metadata": {},
     "output_type": "execute_result"
    }
   ],
   "source": [
    "c[0]"
   ]
  },
  {
   "cell_type": "code",
   "execution_count": 36,
   "id": "d20ca0cf-ec1e-4b7e-a1df-a0024393f7be",
   "metadata": {},
   "outputs": [
    {
     "data": {
      "text/plain": [
       "(('사과', '복숭아', '딸기'), tuple)"
      ]
     },
     "execution_count": 36,
     "metadata": {},
     "output_type": "execute_result"
    }
   ],
   "source": [
    "# tuple()의 괄호는 생략해도 된다. 쉼표로 요소는 하나 이상이어야 한다.\n",
    "fruits = '사과', '복숭아', '딸기'\n",
    "fruits, type(fruits)"
   ]
  },
  {
   "cell_type": "code",
   "execution_count": 39,
   "id": "d0a85a05-e3cd-4174-a6c1-891207805d3d",
   "metadata": {},
   "outputs": [
    {
     "data": {
      "text/plain": [
       "(1, 2, 3)"
      ]
     },
     "execution_count": 39,
     "metadata": {},
     "output_type": "execute_result"
    }
   ],
   "source": [
    "#패킹, 언패킹\n",
    "nums = [1, 2, 3]\n",
    "a, b, c = nums   #list unpacking\n",
    "a, b, c"
   ]
  },
  {
   "cell_type": "code",
   "execution_count": 40,
   "id": "c9594795-034b-4c46-b3a5-6754a96a3d37",
   "metadata": {},
   "outputs": [
    {
     "data": {
      "text/plain": [
       "1"
      ]
     },
     "execution_count": 40,
     "metadata": {},
     "output_type": "execute_result"
    }
   ],
   "source": [
    "a"
   ]
  },
  {
   "cell_type": "code",
   "execution_count": 42,
   "id": "e9c8b2a1-e474-40ce-bc07-91f6e53fac12",
   "metadata": {},
   "outputs": [
    {
     "data": {
      "text/plain": [
       "'h'"
      ]
     },
     "execution_count": 42,
     "metadata": {},
     "output_type": "execute_result"
    }
   ],
   "source": [
    "#s = 'hello'\n",
    "s = 'hi'\n",
    "a, b = s\n",
    "a"
   ]
  },
  {
   "cell_type": "code",
   "execution_count": 44,
   "id": "d938e780-e1f3-4f2b-a5bd-ae47ede969fe",
   "metadata": {},
   "outputs": [
    {
     "data": {
      "text/plain": [
       "('h', ['e', 'l', 'l'], 'o')"
      ]
     },
     "execution_count": 44,
     "metadata": {},
     "output_type": "execute_result"
    }
   ],
   "source": [
    "s = 'hello'   #packing\n",
    "a, *b, c = s   #unpacking *는 rest의 의미이다. 하나씩 할당받고 나머지는 너가 다 가져\n",
    "a, b, c"
   ]
  },
  {
   "cell_type": "code",
   "execution_count": 45,
   "id": "4bb41fc5-b2c8-4611-b87a-90e71f989ccd",
   "metadata": {},
   "outputs": [
    {
     "data": {
      "text/plain": [
       "('홍길동', 20, '1학년')"
      ]
     },
     "execution_count": 45,
     "metadata": {},
     "output_type": "execute_result"
    }
   ],
   "source": [
    "student = ('홍길동', 20, '1학년')   #packing\n",
    "student"
   ]
  },
  {
   "cell_type": "code",
   "execution_count": 46,
   "id": "c7b56ce9-1e17-4bec-bca1-8a2bc68779b4",
   "metadata": {},
   "outputs": [
    {
     "data": {
      "text/plain": [
       "' 이름은 홍길동이고요, 나이는 20이고요, 1학년입니다.'"
      ]
     },
     "execution_count": 46,
     "metadata": {},
     "output_type": "execute_result"
    }
   ],
   "source": [
    "name, age, grade = student\n",
    "f' 이름은 {name}이고요, 나이는 {age}이고요, {grade}입니다.'"
   ]
  },
  {
   "cell_type": "code",
   "execution_count": 47,
   "id": "88aa90e0-37a4-45f3-a275-5fb5ecd025e6",
   "metadata": {},
   "outputs": [
    {
     "data": {
      "text/plain": [
       "(2, 1)"
      ]
     },
     "execution_count": 47,
     "metadata": {},
     "output_type": "execute_result"
    }
   ],
   "source": [
    "# 미션\n",
    "x = 1\n",
    "y = 2\n",
    "#x=2, y=1나오게 코딩해보세요.\n",
    "x, y = y, x\n",
    "x, y"
   ]
  },
  {
   "cell_type": "code",
   "execution_count": 50,
   "id": "57cb3358-1676-4468-84cb-0e968cc8ae84",
   "metadata": {},
   "outputs": [
    {
     "name": "stdout",
     "output_type": "stream",
     "text": [
      "5 4 3\n"
     ]
    },
    {
     "data": {
      "text/plain": [
       "(3, 4, 5)"
      ]
     },
     "execution_count": 50,
     "metadata": {},
     "output_type": "execute_result"
    }
   ],
   "source": [
    "#함수의 정의\n",
    "def func_a(a,b,c) :\n",
    "    print(a,b,c)\n",
    "    return c,b,a\n",
    "#함수의 호출\n",
    "result = func_a(5,4,3)\n",
    "#함수의 반환값\n",
    "result"
   ]
  },
  {
   "cell_type": "code",
   "execution_count": 54,
   "id": "70eda082-83c2-46a0-9626-e7cc49260d9b",
   "metadata": {},
   "outputs": [
    {
     "name": "stdout",
     "output_type": "stream",
     "text": [
      "1 2 3\n"
     ]
    },
    {
     "data": {
      "text/plain": [
       "(3, 2, 1)"
      ]
     },
     "execution_count": 54,
     "metadata": {},
     "output_type": "execute_result"
    }
   ],
   "source": [
    "a1, b1, c1 = func_a(1,2,3)\n",
    "a1,b1,c1"
   ]
  },
  {
   "cell_type": "code",
   "execution_count": 55,
   "id": "0b411a48-6d92-4138-90a0-60a81412616c",
   "metadata": {},
   "outputs": [
    {
     "data": {
      "text/plain": [
       "('가연', '지훈', '지희')"
      ]
     },
     "execution_count": 55,
     "metadata": {},
     "output_type": "execute_result"
    }
   ],
   "source": [
    "#tuple에 값을 추가하려면?\n",
    "#형변환 > 리스트 \n",
    "name_tuple = ('가연', '지훈', '지희')\n",
    "name_tuple"
   ]
  },
  {
   "cell_type": "code",
   "execution_count": 58,
   "id": "e5a707eb-28b6-4a60-a19d-5ff8da9b6756",
   "metadata": {},
   "outputs": [
    {
     "data": {
      "text/plain": [
       "('가연', '지훈', '지희', '유석')"
      ]
     },
     "execution_count": 58,
     "metadata": {},
     "output_type": "execute_result"
    }
   ],
   "source": [
    "name_list = list(name_tuple)\n",
    "name_list.append('유석')\n",
    "name_tuple = tuple(name_list)\n",
    "name_tuple"
   ]
  },
  {
   "cell_type": "code",
   "execution_count": 59,
   "id": "f87c5cc6-1f2c-41b5-ac6d-a17f794b7248",
   "metadata": {},
   "outputs": [
    {
     "data": {
      "text/plain": [
       "['__add__',\n",
       " '__class__',\n",
       " '__class_getitem__',\n",
       " '__contains__',\n",
       " '__delattr__',\n",
       " '__dir__',\n",
       " '__doc__',\n",
       " '__eq__',\n",
       " '__format__',\n",
       " '__ge__',\n",
       " '__getattribute__',\n",
       " '__getitem__',\n",
       " '__getnewargs__',\n",
       " '__getstate__',\n",
       " '__gt__',\n",
       " '__hash__',\n",
       " '__init__',\n",
       " '__init_subclass__',\n",
       " '__iter__',\n",
       " '__le__',\n",
       " '__len__',\n",
       " '__lt__',\n",
       " '__mul__',\n",
       " '__ne__',\n",
       " '__new__',\n",
       " '__reduce__',\n",
       " '__reduce_ex__',\n",
       " '__repr__',\n",
       " '__rmul__',\n",
       " '__setattr__',\n",
       " '__sizeof__',\n",
       " '__str__',\n",
       " '__subclasshook__',\n",
       " 'count',\n",
       " 'index']"
      ]
     },
     "execution_count": 59,
     "metadata": {},
     "output_type": "execute_result"
    }
   ],
   "source": [
    "dir(tuple)"
   ]
  },
  {
   "cell_type": "code",
   "execution_count": 69,
   "id": "dc6ec314-79e6-4be8-924b-a283573916db",
   "metadata": {},
   "outputs": [
    {
     "data": {
      "text/plain": [
       "('가연', '지훈', '지희', '유석', '지영', '수현', '석훈', '형진')"
      ]
     },
     "execution_count": 69,
     "metadata": {},
     "output_type": "execute_result"
    }
   ],
   "source": [
    "#__add__ +\n",
    "#__mul__ *\n",
    "team_tuple = ('지영', '수현', '석훈', '형진')\n",
    "name_tuple.__add__(team_tuple)"
   ]
  },
  {
   "cell_type": "markdown",
   "id": "8b1a9480-949b-4b5c-a13a-817a3f2a2a61",
   "metadata": {},
   "source": [
    "# 집합\n",
    "\n",
    "+ set(), {}\n",
    "+ 중복이 안된다. 순서도 없다. 키도 없다.\n",
    "+ 속도가 빠르다. 해싱을 하는 자료형(딕셔너리, 집합)"
   ]
  },
  {
   "cell_type": "code",
   "execution_count": 77,
   "id": "23640b54-a38c-491e-af21-f2665b21817e",
   "metadata": {},
   "outputs": [
    {
     "data": {
      "text/plain": [
       "({1, 2, 3}, set)"
      ]
     },
     "execution_count": 77,
     "metadata": {},
     "output_type": "execute_result"
    }
   ],
   "source": [
    "s = set([1,2,3])\n",
    "s, type(s)"
   ]
  },
  {
   "cell_type": "code",
   "execution_count": 78,
   "id": "7c36ffad-dbe8-453b-817b-90f5d0adcdd9",
   "metadata": {},
   "outputs": [
    {
     "data": {
      "text/plain": [
       "({1, 2, 3}, set)"
      ]
     },
     "execution_count": 78,
     "metadata": {},
     "output_type": "execute_result"
    }
   ],
   "source": [
    "s1 = {1,2,3}\n",
    "s1, type(s1)"
   ]
  },
  {
   "cell_type": "code",
   "execution_count": 79,
   "id": "e9520169-271f-4d8d-b565-372b1aefd808",
   "metadata": {},
   "outputs": [
    {
     "data": {
      "text/plain": [
       "{1, 2, 3}"
      ]
     },
     "execution_count": 79,
     "metadata": {},
     "output_type": "execute_result"
    }
   ],
   "source": [
    "s2 = {1,2,3,1}\n",
    "s2"
   ]
  },
  {
   "cell_type": "code",
   "execution_count": 87,
   "id": "7fca3105-39ed-410a-bbb9-a5749bddd041",
   "metadata": {},
   "outputs": [
    {
     "data": {
      "text/plain": [
       "[1, 2, 3, 1, 2, 3]"
      ]
     },
     "execution_count": 87,
     "metadata": {},
     "output_type": "execute_result"
    }
   ],
   "source": [
    "l2 = [1,2,3]\n",
    "l2 = l2*2\n",
    "l2"
   ]
  },
  {
   "cell_type": "code",
   "execution_count": 88,
   "id": "bf0447dd-19d0-4f66-8bfa-947ad3c0d453",
   "metadata": {},
   "outputs": [
    {
     "data": {
      "text/plain": [
       "{1, 2, 3}"
      ]
     },
     "execution_count": 88,
     "metadata": {},
     "output_type": "execute_result"
    }
   ],
   "source": [
    "# set으로 중복을 제거한다.\n",
    "s3 = set(l2)\n",
    "s3"
   ]
  },
  {
   "cell_type": "code",
   "execution_count": 90,
   "id": "9b0dfebd-a3a0-409e-9382-e81af6a9ac1c",
   "metadata": {},
   "outputs": [
    {
     "data": {
      "text/plain": [
       "[1, 2, 3, 1, 2, 3, 4, 5, 6]"
      ]
     },
     "execution_count": 90,
     "metadata": {},
     "output_type": "execute_result"
    }
   ],
   "source": [
    "l3 = l2 + [4,5,6]\n",
    "l3"
   ]
  },
  {
   "cell_type": "code",
   "execution_count": 91,
   "id": "f7925252-b2f7-4476-9b8a-e89d34a1ed8f",
   "metadata": {},
   "outputs": [
    {
     "data": {
      "text/plain": [
       "([1, 2, 3, 1, 2, 3], int)"
      ]
     },
     "execution_count": 91,
     "metadata": {},
     "output_type": "execute_result"
    }
   ],
   "source": [
    "l2, type(2,)"
   ]
  },
  {
   "cell_type": "code",
   "execution_count": 106,
   "id": "c733c2cb-4ae5-492a-9ef7-1431b19f4d29",
   "metadata": {},
   "outputs": [
    {
     "data": {
      "text/plain": [
       "6353054840491388246"
      ]
     },
     "execution_count": 106,
     "metadata": {},
     "output_type": "execute_result"
    }
   ],
   "source": [
    "hash('hi')   #해시코드 > 해싱 가능한 데이터 '문자열'"
   ]
  },
  {
   "cell_type": "code",
   "execution_count": 108,
   "id": "3a4e254d-78f2-44d6-9b40-653ae4cc5c94",
   "metadata": {},
   "outputs": [
    {
     "data": {
      "text/plain": [
       "123"
      ]
     },
     "execution_count": 108,
     "metadata": {},
     "output_type": "execute_result"
    }
   ],
   "source": [
    "hash(123)   #해싱가능하다 int, float, boolean"
   ]
  },
  {
   "cell_type": "code",
   "execution_count": 110,
   "id": "69c7f5b7-31da-4672-9c66-868b1ed4cdf4",
   "metadata": {},
   "outputs": [
    {
     "data": {
      "text/plain": [
       "{123, 'hi'}"
      ]
     },
     "execution_count": 110,
     "metadata": {},
     "output_type": "execute_result"
    }
   ],
   "source": [
    "set(['hi',123])   #해싱으로 바뀐 값을 저장 > 집합 연산"
   ]
  },
  {
   "cell_type": "code",
   "execution_count": null,
   "id": "f50dd57a-3649-41a4-97f2-fbd6bf595a86",
   "metadata": {},
   "outputs": [],
   "source": []
  },
  {
   "cell_type": "code",
   "execution_count": 98,
   "id": "3993f533-d173-418c-b662-cdea1f021d24",
   "metadata": {},
   "outputs": [
    {
     "data": {
      "text/plain": [
       "529344067295497451"
      ]
     },
     "execution_count": 98,
     "metadata": {},
     "output_type": "execute_result"
    }
   ],
   "source": [
    "l1 = [1,2,3]\n",
    "#hash(l1)   #error\n",
    "hash((1,2,3))\n",
    "#hash({1,2,3})   #error"
   ]
  },
  {
   "cell_type": "markdown",
   "id": "63026f7f-e7d1-49ff-8058-ae3bc5533635",
   "metadata": {},
   "source": [
    "# set 집합 연산\n",
    "\n",
    "- 교집합 &, intersection()\n",
    "- 합집합 |, union()\n",
    "- 차집합 -, difference()"
   ]
  },
  {
   "cell_type": "code",
   "execution_count": 99,
   "id": "077529b2-ecfe-4e59-ae8e-cd48cd7a6dfa",
   "metadata": {},
   "outputs": [
    {
     "data": {
      "text/plain": [
       "{3, 4}"
      ]
     },
     "execution_count": 99,
     "metadata": {},
     "output_type": "execute_result"
    }
   ],
   "source": [
    "s = set([1,2,3,4])\n",
    "x = {2,3,4}\n",
    "y = {3,4,5}\n",
    "x & y"
   ]
  },
  {
   "cell_type": "code",
   "execution_count": 100,
   "id": "812ecdff-ffd2-4f06-8bb1-eecfdb74ef2b",
   "metadata": {},
   "outputs": [
    {
     "data": {
      "text/plain": [
       "{3, 4}"
      ]
     },
     "execution_count": 100,
     "metadata": {},
     "output_type": "execute_result"
    }
   ],
   "source": [
    "x.intersection(y)"
   ]
  },
  {
   "cell_type": "code",
   "execution_count": 101,
   "id": "d55c84be-a578-42e4-ad0f-7723804c2128",
   "metadata": {},
   "outputs": [
    {
     "data": {
      "text/plain": [
       "{2, 3, 4, 5}"
      ]
     },
     "execution_count": 101,
     "metadata": {},
     "output_type": "execute_result"
    }
   ],
   "source": [
    "x | y"
   ]
  },
  {
   "cell_type": "code",
   "execution_count": 102,
   "id": "ffc09737-1921-4fe8-aa9b-dc36a7721c7c",
   "metadata": {},
   "outputs": [
    {
     "data": {
      "text/plain": [
       "{2, 3, 4, 5}"
      ]
     },
     "execution_count": 102,
     "metadata": {},
     "output_type": "execute_result"
    }
   ],
   "source": [
    "x.union(y)"
   ]
  },
  {
   "cell_type": "code",
   "execution_count": 103,
   "id": "823a4b01-9f7e-4260-afcb-f0ea562d8fe8",
   "metadata": {},
   "outputs": [
    {
     "data": {
      "text/plain": [
       "{2}"
      ]
     },
     "execution_count": 103,
     "metadata": {},
     "output_type": "execute_result"
    }
   ],
   "source": [
    "x - y"
   ]
  },
  {
   "cell_type": "code",
   "execution_count": 104,
   "id": "b66cc22d-9231-4c37-954b-b047f60c3955",
   "metadata": {},
   "outputs": [
    {
     "data": {
      "text/plain": [
       "{2}"
      ]
     },
     "execution_count": 104,
     "metadata": {},
     "output_type": "execute_result"
    }
   ],
   "source": [
    "x.difference(y)"
   ]
  },
  {
   "cell_type": "code",
   "execution_count": 105,
   "id": "142b033a-1005-4e55-b858-441ab2daea55",
   "metadata": {
    "collapsed": true,
    "jupyter": {
     "outputs_hidden": true
    },
    "scrolled": true
   },
   "outputs": [
    {
     "data": {
      "text/plain": [
       "['__and__',\n",
       " '__class__',\n",
       " '__class_getitem__',\n",
       " '__contains__',\n",
       " '__delattr__',\n",
       " '__dir__',\n",
       " '__doc__',\n",
       " '__eq__',\n",
       " '__format__',\n",
       " '__ge__',\n",
       " '__getattribute__',\n",
       " '__getstate__',\n",
       " '__gt__',\n",
       " '__hash__',\n",
       " '__iand__',\n",
       " '__init__',\n",
       " '__init_subclass__',\n",
       " '__ior__',\n",
       " '__isub__',\n",
       " '__iter__',\n",
       " '__ixor__',\n",
       " '__le__',\n",
       " '__len__',\n",
       " '__lt__',\n",
       " '__ne__',\n",
       " '__new__',\n",
       " '__or__',\n",
       " '__rand__',\n",
       " '__reduce__',\n",
       " '__reduce_ex__',\n",
       " '__repr__',\n",
       " '__ror__',\n",
       " '__rsub__',\n",
       " '__rxor__',\n",
       " '__setattr__',\n",
       " '__sizeof__',\n",
       " '__str__',\n",
       " '__sub__',\n",
       " '__subclasshook__',\n",
       " '__xor__',\n",
       " 'add',\n",
       " 'clear',\n",
       " 'copy',\n",
       " 'difference',\n",
       " 'difference_update',\n",
       " 'discard',\n",
       " 'intersection',\n",
       " 'intersection_update',\n",
       " 'isdisjoint',\n",
       " 'issubset',\n",
       " 'issuperset',\n",
       " 'pop',\n",
       " 'remove',\n",
       " 'symmetric_difference',\n",
       " 'symmetric_difference_update',\n",
       " 'union',\n",
       " 'update']"
      ]
     },
     "execution_count": 105,
     "metadata": {},
     "output_type": "execute_result"
    }
   ],
   "source": [
    "dir(x)"
   ]
  },
  {
   "cell_type": "markdown",
   "id": "f6ec275b-2959-40a0-b657-9ffd2b5118c6",
   "metadata": {},
   "source": [
    "# 복합자료형 연습"
   ]
  },
  {
   "cell_type": "code",
   "execution_count": 111,
   "id": "e5ee77b3-a9ab-4609-9e93-74d44fe6bdd4",
   "metadata": {},
   "outputs": [
    {
     "data": {
      "text/plain": [
       "110"
      ]
     },
     "execution_count": 111,
     "metadata": {},
     "output_type": "execute_result"
    }
   ],
   "source": [
    "numbers = [10, 20, 30, 40, 50, 60, 70, 80, 90, 100]\n",
    "quiz1 = numbers[0] + numbers[-1]\n",
    "quiz1"
   ]
  },
  {
   "cell_type": "code",
   "execution_count": 114,
   "id": "2b0b8f1d-8749-452f-9095-cfb0cbd1ab30",
   "metadata": {},
   "outputs": [
    {
     "data": {
      "text/plain": [
       "['red', 'green', 'blue']"
      ]
     },
     "execution_count": 114,
     "metadata": {},
     "output_type": "execute_result"
    }
   ],
   "source": [
    "colors = [\"red\", \"green\", \"blue\", \"yellow\", \"purple\", \"orange\", \"black\"]\n",
    "colors[0:3]"
   ]
  },
  {
   "cell_type": "code",
   "execution_count": 115,
   "id": "92757a8f-f731-4bf6-a773-7537dc41519f",
   "metadata": {},
   "outputs": [
    {
     "data": {
      "text/plain": [
       "['orange', 'black']"
      ]
     },
     "execution_count": 115,
     "metadata": {},
     "output_type": "execute_result"
    }
   ],
   "source": [
    "colors[-2:]"
   ]
  },
  {
   "cell_type": "code",
   "execution_count": 116,
   "id": "9f46c8d3-02ef-4644-a229-086c6e83fba9",
   "metadata": {},
   "outputs": [
    {
     "data": {
      "text/plain": [
       "'korean'"
      ]
     },
     "execution_count": 116,
     "metadata": {},
     "output_type": "execute_result"
    }
   ],
   "source": [
    "list_a = [\n",
    "    [1, 2, 3],\n",
    "    ['red', 'green', 'blue'],\n",
    "    [False, 'korean', 'True']\n",
    "]\n",
    "list_a[2][1]"
   ]
  },
  {
   "cell_type": "code",
   "execution_count": 134,
   "id": "ae72327f-5674-4f87-86c2-5f1de6d0900d",
   "metadata": {},
   "outputs": [],
   "source": [
    "# for sub in list_a :\n",
    "#    for item in sub :\n",
    "#        if item == 'korean' :\n",
    "#            print(item)"
   ]
  },
  {
   "cell_type": "code",
   "execution_count": 117,
   "id": "c74c3b20-d18d-415b-b2cb-bf4fb1e738c6",
   "metadata": {},
   "outputs": [
    {
     "data": {
      "text/plain": [
       "[1, 2, 3, 4, 5, 6]"
      ]
     },
     "execution_count": 117,
     "metadata": {},
     "output_type": "execute_result"
    }
   ],
   "source": [
    "list_a = [1,2,3]\n",
    "list_b = [4,5,6]\n",
    "list_c = list_a + list_b\n",
    "list_c"
   ]
  },
  {
   "cell_type": "code",
   "execution_count": 118,
   "id": "d05d9acc-f04e-4cae-94cd-c77f9168850c",
   "metadata": {},
   "outputs": [
    {
     "data": {
      "text/plain": [
       "('apple', 'blueberry', 'cherry')"
      ]
     },
     "execution_count": 118,
     "metadata": {},
     "output_type": "execute_result"
    }
   ],
   "source": [
    "tuple_a = ('apple', 'banana', 'cherry')\n",
    "list_quiz = list(tuple_a)\n",
    "list_quiz[1] = 'blueberry'\n",
    "tuple_a = tuple(list_quiz)\n",
    "tuple_a"
   ]
  },
  {
   "cell_type": "code",
   "execution_count": 119,
   "id": "d06087e2-bb4e-42c1-8ab0-d2927ef92687",
   "metadata": {},
   "outputs": [
    {
     "data": {
      "text/plain": [
       "(5, 10, 15)"
      ]
     },
     "execution_count": 119,
     "metadata": {},
     "output_type": "execute_result"
    }
   ],
   "source": [
    "a = 5\n",
    "b = 10\n",
    "c = 15\n",
    "tuple_a = (a, b, c)\n",
    "tuple_a"
   ]
  },
  {
   "cell_type": "code",
   "execution_count": 124,
   "id": "0d8ff475-5010-40fb-968b-39bb604b9d1a",
   "metadata": {},
   "outputs": [
    {
     "data": {
      "text/plain": [
       "(92, 19)"
      ]
     },
     "execution_count": 124,
     "metadata": {},
     "output_type": "execute_result"
    }
   ],
   "source": [
    "numbers = (92, 89, 72, 31, 71, 33, 19)\n",
    "max(numbers), min(numbers)"
   ]
  },
  {
   "cell_type": "code",
   "execution_count": 137,
   "id": "3d02547f-987d-480b-be0b-b6a69dfa3eab",
   "metadata": {},
   "outputs": [
    {
     "data": {
      "text/plain": [
       "{'name': 'Alice', 'age': 24, 'major': 'Computer Science'}"
      ]
     },
     "execution_count": 137,
     "metadata": {},
     "output_type": "execute_result"
    }
   ],
   "source": [
    "student = {}\n",
    "student = {'name':'Alice', 'age':24, 'major':'Computer Science'}\n",
    "student"
   ]
  },
  {
   "cell_type": "code",
   "execution_count": 138,
   "id": "6ba0eace-ad26-48db-83fa-c2af8f98387b",
   "metadata": {},
   "outputs": [
    {
     "name": "stdout",
     "output_type": "stream",
     "text": [
      "name:Alice\n",
      "age:24\n",
      "major:Computer Science\n"
     ]
    }
   ],
   "source": [
    "# 강사님 답\n",
    "for k, v in student.items() :\n",
    "    print(f'{k}:{v}')"
   ]
  },
  {
   "cell_type": "code",
   "execution_count": 139,
   "id": "8aa35356-060a-4d6d-859d-3615c9e9a2d6",
   "metadata": {},
   "outputs": [
    {
     "data": {
      "text/plain": [
       "{'name': 'Alice', 'age': 26, 'major': 'Computer Science'}"
      ]
     },
     "execution_count": 139,
     "metadata": {},
     "output_type": "execute_result"
    }
   ],
   "source": [
    "student['age'] = 26\n",
    "student"
   ]
  },
  {
   "cell_type": "code",
   "execution_count": 141,
   "id": "8aeff360-8b63-4bba-92f9-cb435ee47104",
   "metadata": {},
   "outputs": [
    {
     "data": {
      "text/plain": [
       "(['Alice', 'Bob', 'Charlie'], (24, 22, 23))"
      ]
     },
     "execution_count": 141,
     "metadata": {},
     "output_type": "execute_result"
    }
   ],
   "source": [
    "students = {\n",
    "    'student1' : {'name':'Alice', 'age':24},\n",
    "    'student2' : {'name':'Bob', 'age':22},\n",
    "    'student3' : {'name':'Charlie', 'age':23}\n",
    "}\n",
    "name_list = [students[s]['name'] for s in students]\n",
    "age_tuple = tuple(students[s]['age'] for s in students)\n",
    "\n",
    "name_list, age_tuple"
   ]
  },
  {
   "cell_type": "code",
   "execution_count": 144,
   "id": "427f3ef8-1f78-4f78-a245-4e3e7d6d9084",
   "metadata": {},
   "outputs": [
    {
     "data": {
      "text/plain": [
       "(['Alice', 'Bob', 'Charlie'], (24, 22, 23))"
      ]
     },
     "execution_count": 144,
     "metadata": {},
     "output_type": "execute_result"
    }
   ],
   "source": [
    "# 강사님 답\n",
    "students = {\n",
    "    'student1' : {'name':'Alice', 'age':24},\n",
    "    'student2' : {'name':'Bob', 'age':22},\n",
    "    'student3' : {'name':'Charlie', 'age':23}\n",
    "}\n",
    "\n",
    "name_list = []\n",
    "age_list = []\n",
    "\n",
    "for key in students.keys() :\n",
    "    stu = students[key]\n",
    "    name_list.append(stu['name'])\n",
    "    age_list.append(stu['age'])\n",
    "\n",
    "age_tuple = tuple(age_list)\n",
    "name_list, age_tuple"
   ]
  },
  {
   "cell_type": "code",
   "execution_count": null,
   "id": "04684ef6-5d7a-41e4-9175-79af2097efe8",
   "metadata": {},
   "outputs": [],
   "source": []
  },
  {
   "cell_type": "markdown",
   "id": "0a7784d3-4f50-4f6f-a006-8d560deba383",
   "metadata": {},
   "source": [
    "# 팀 프로젝트 키오스크"
   ]
  },
  {
   "cell_type": "code",
   "execution_count": 159,
   "id": "14149cd1-861e-45d3-83ba-465c62befe22",
   "metadata": {},
   "outputs": [
    {
     "name": "stdout",
     "output_type": "stream",
     "text": [
      "============================================\n",
      "\t빵꾸똥꾸 문구야\n",
      "\t에 오신 것을 환영합니다!\n",
      "============================================\n",
      "번호    제품명            가격\n",
      "--------------------------------------------\n",
      "1     샤프          6,000원\n",
      "2     볼펜          3,000원\n",
      "3     지우개         1,000원\n",
      "4     화이트         3,000원\n",
      "5     공책          3,500원\n",
      "--------------------------------------------\n"
     ]
    },
    {
     "name": "stdin",
     "output_type": "stream",
     "text": [
      "주문하실 제품 번호를 선택하세요 2\n"
     ]
    }
   ],
   "source": [
    "print('='*44)\n",
    "store_name = '빵꾸똥꾸 문구야'\n",
    "print(f'\\t{store_name}\\n\\t에 오신 것을 환영합니다!')\n",
    "print('='*44)\n",
    "\n",
    "print(f'{\"번호\":<5} {\"제품명\":<10} {\"가격\":>6}')\n",
    "print('-'*44)\n",
    "\n",
    "menu = [\n",
    "    {'name':'샤프', 'price': 6000},\n",
    "    {'name':'볼펜', 'price': 3000 },\n",
    "    {'name':'지우개', 'price': 1000},\n",
    "    {'name':'화이트', 'price': 3000},\n",
    "    {'name':'공책', 'price': 3500}\n",
    "]\n",
    "\n",
    "# 내용출력\n",
    "for i, m in enumerate(menu):\n",
    "    print(f'{i+1:<5} {m[\"name\"]:<10} {m[\"price\"]:>6,}원')\n",
    "\n",
    "print('-'*44)\n",
    "\n",
    "ord_num = int(input('주문하실 제품 번호를 선택하세요'))-1\n"
   ]
  },
  {
   "cell_type": "code",
   "execution_count": 160,
   "id": "1a798615-ea0c-4b08-8f0d-4cba56b3390e",
   "metadata": {},
   "outputs": [
    {
     "name": "stdout",
     "output_type": "stream",
     "text": [
      "============================================\n",
      "\t고객님이 선택하신 제품은\n",
      "\t볼펜입니다. \n",
      "\t몇 개를 드릴까요?\n",
      "\n"
     ]
    },
    {
     "name": "stdin",
     "output_type": "stream",
     "text": [
      "\t수량을 숫자로 입력하세요:  3\n"
     ]
    },
    {
     "name": "stdout",
     "output_type": "stream",
     "text": [
      "============================================\n"
     ]
    }
   ],
   "source": [
    "\n",
    "total = qty*menu[ord_num]['price']\n",
    "menut = menu[ord_num]['name']\n",
    "print('='*44)\n",
    "print(f'\\t고객님이 선택하신 제품은\\n\\t{menut}입니다. \\n\\t몇 개를 드릴까요?\\n')\n",
    "qty = int(input('\\t수량을 숫자로 입력하세요: '))\n",
    "print('='*44)"
   ]
  },
  {
   "cell_type": "code",
   "execution_count": 161,
   "id": "53d50437-b90d-477d-9cfc-84b489561ea3",
   "metadata": {},
   "outputs": [
    {
     "name": "stdout",
     "output_type": "stream",
     "text": [
      "\n",
      "============================================\n",
      "      고객님이 선택하신 제품은      \n",
      "\t볼펜3개입니다\n"
     ]
    },
    {
     "name": "stdin",
     "output_type": "stream",
     "text": [
      "더 주문하시겠습니다? (y/n) y\n"
     ]
    },
    {
     "name": "stdout",
     "output_type": "stream",
     "text": [
      "============================================\n"
     ]
    }
   ],
   "source": [
    "print('\\n' + '=' * 44)\n",
    "print(f'{\"고객님이 선택하신 제품은\":^25}')\n",
    "\n",
    "print(f'\\t{menut}{qty}개입니다')\n",
    "\n",
    "\n",
    "input('더 주문하시겠습니다? (y/n)')\n",
    "\n",
    "print('=' * 44)"
   ]
  },
  {
   "cell_type": "code",
   "execution_count": 164,
   "id": "9861c30d-3752-478f-9677-3d241d3cec85",
   "metadata": {},
   "outputs": [
    {
     "name": "stdout",
     "output_type": "stream",
     "text": [
      "\n",
      "============================================\n",
      "      고객님이 선택하신 제품은      \n",
      "\t볼펜3개입니다\n"
     ]
    },
    {
     "name": "stdin",
     "output_type": "stream",
     "text": [
      "더 주문하시겠습니다? (y/n) n\n"
     ]
    },
    {
     "name": "stdout",
     "output_type": "stream",
     "text": [
      "주문하신 금액은 6000입니다\n"
     ]
    },
    {
     "name": "stdin",
     "output_type": "stream",
     "text": [
      "포인트를 적립하시겠습니까? (y/n) n\n"
     ]
    },
    {
     "name": "stdout",
     "output_type": "stream",
     "text": [
      "============================================\n"
     ]
    }
   ],
   "source": [
    "print('\\n' + '=' * 44)\n",
    "print(f'{\"고객님이 선택하신 제품은\":^25}')\n",
    "\n",
    "print(f'\\t{menut}{qty}개입니다')\n",
    "\n",
    "\n",
    "a = input('더 주문하시겠습니다? (y/n)')\n",
    "if a =='n':\n",
    "    print(f'주문하신 금액은 {total}입니다')\n",
    "    input('포인트를 적립하시겠습니까? (y/n)')\n",
    "    \n",
    "print('=' * 44)"
   ]
  },
  {
   "cell_type": "code",
   "execution_count": 162,
   "id": "64e8e00c-b55e-4d35-b75a-52b4fd230d1a",
   "metadata": {},
   "outputs": [
    {
     "name": "stdout",
     "output_type": "stream",
     "text": [
      "============================================\n"
     ]
    },
    {
     "name": "stdin",
     "output_type": "stream",
     "text": [
      "전화번호를 입력해 주세요: 01013548965\n"
     ]
    },
    {
     "name": "stdout",
     "output_type": "stream",
     "text": [
      "============================================\n",
      "user_8965 고객님의 적립포인트는 500점 입니다.\n",
      "============================================\n"
     ]
    }
   ],
   "source": [
    "print('='*44)\n",
    "phone=input('전화번호를 입력해 주세요:')\n",
    "\n",
    "user_id=f'user_{phone[-4:]}'\n",
    "\n",
    "point=500\n",
    "\n",
    "print('='*44)\n",
    "print(f'{user_id} 고객님의 적립포인트는 {point:,}점 입니다.')\n",
    "print('='*44)"
   ]
  },
  {
   "cell_type": "code",
   "execution_count": 163,
   "id": "5b1d6a5e-08ec-49c7-ac8e-02a6afea703e",
   "metadata": {},
   "outputs": [
    {
     "name": "stdout",
     "output_type": "stream",
     "text": [
      "============================================\n",
      "            결제가 완료되었습니다.             \n",
      "             잠시만 기다려주세요.             \n",
      "                 감사합니다.                 \n",
      "============================================\n"
     ]
    }
   ],
   "source": [
    "print('='*44)\n",
    "print(f'{\"결제가 완료되었습니다.\":^37}')\n",
    "print(f'{\"잠시만 기다려주세요.\":^37}')\n",
    "print(f'{\"감사합니다.\":^40}')\n",
    "print('='*44)"
   ]
  },
  {
   "cell_type": "code",
   "execution_count": null,
   "id": "9009d56f-baa7-4f0e-8a71-bddca608ef2a",
   "metadata": {},
   "outputs": [],
   "source": []
  },
  {
   "cell_type": "code",
   "execution_count": null,
   "id": "1e7cd7cd-207f-440a-86b7-3e5a554eab73",
   "metadata": {},
   "outputs": [],
   "source": []
  },
  {
   "cell_type": "code",
   "execution_count": null,
   "id": "a291e77a-4bce-4868-b4ca-7ffdee28c3c4",
   "metadata": {},
   "outputs": [
    {
     "name": "stdout",
     "output_type": "stream",
     "text": [
      "╔════════════════════════════════════════╗\n",
      "\t       빵꾸똥꾸 문구야\n",
      "           에 오신 것을 환영합니다!\n",
      "╚════════════════════════════════════════╝\n",
      "번호\t\t제품명\t\t가격\n",
      "--------------------------------------------\n",
      "1\t\t샤프\t\t6,000원\n",
      "2\t\t볼펜\t\t3,000원\n",
      "3\t\t지우개\t\t1,000원\n",
      "4\t\t화이트\t\t3,000원\n",
      "5\t\t공책\t\t3,500원\n",
      "--------------------------------------------\n"
     ]
    },
    {
     "name": "stdin",
     "output_type": "stream",
     "text": [
      "주문하실 제품 번호를 선택하세요:  1\n"
     ]
    },
    {
     "name": "stdout",
     "output_type": "stream",
     "text": [
      "============================================\n",
      "          고객님이 선택하신 제품은          \n",
      "             샤프 입니다.             \n",
      "           몇 개를 드릴까요?            \n"
     ]
    },
    {
     "name": "stdin",
     "output_type": "stream",
     "text": [
      "\t수량을 입력하세요(취소: x):  2\n",
      "더 주문하시겠습니까? (y/n):  3\n"
     ]
    },
    {
     "name": "stdout",
     "output_type": "stream",
     "text": [
      "============================================\n",
      "          [알림] 잘못된 입력입니다.          \n",
      "    [알림] 'y' 또는 'n'으로만 입력해 주세요.    \n",
      "============================================\n"
     ]
    },
    {
     "name": "stdin",
     "output_type": "stream",
     "text": [
      "더 주문하시겠습니까? (y/n):  y\n"
     ]
    },
    {
     "name": "stdout",
     "output_type": "stream",
     "text": [
      "--------------------------------------------\n"
     ]
    },
    {
     "name": "stdin",
     "output_type": "stream",
     "text": [
      "주문하실 제품 번호를 선택하세요:  3\n"
     ]
    },
    {
     "name": "stdout",
     "output_type": "stream",
     "text": [
      "============================================\n",
      "          고객님이 선택하신 제품은          \n",
      "            지우개 입니다.             \n",
      "           몇 개를 드릴까요?            \n"
     ]
    },
    {
     "name": "stdin",
     "output_type": "stream",
     "text": [
      "\t수량을 입력하세요(취소: x):  4\n",
      "더 주문하시겠습니까? (y/n):  n\n"
     ]
    },
    {
     "name": "stdout",
     "output_type": "stream",
     "text": [
      "============================================\n",
      "\t\t장바구니 내역\n",
      "--------------------------------------------\n",
      "1 번 샤프\t2개\t-\t12,000원\n",
      "2 번 지우개\t4개\t-\t4,000원\n",
      "--------------------------------------------\n"
     ]
    }
   ],
   "source": [
    "import time\n",
    "\n",
    "\n",
    "# # 메뉴 저장 리스트 -> 메뉴 추가 시 여기서.\n",
    "menu = [\n",
    "    {'name':'샤프', 'price': 6000},\n",
    "    {'name':'볼펜', 'price': 3000},\n",
    "    {'name':'지우개', 'price': 1000},\n",
    "    {'name':'화이트', 'price': 3000},\n",
    "    {'name':'공책', 'price': 3500}\n",
    "]\n",
    "\n",
    "points = {}\n",
    "\n",
    "while True:\n",
    "\n",
    "    space = ' '*7\n",
    "    print('╔' + '═' * 40 + '╗')\n",
    "    print(f'\\t{space}빵꾸똥꾸 문구야')\n",
    "    print(f'{\"에 오신 것을 환영합니다!\":>25}')\n",
    "    print('╚' + '═' * 40 + '╝')\n",
    "\n",
    "\n",
    "    print(f'{\"번호\"}\\t\\t{\"제품명\"}\\t\\t{\"가격\"}')\n",
    "    print('-'*44)\n",
    "\n",
    "    for i, m in enumerate(menu):\n",
    "        print(f'{i+1}\\t\\t{m[\"name\"]}\\t\\t{m[\"price\"]:,}원')\n",
    "    print('-'*44)\n",
    "\n",
    "    # 다중 주문 저장 리스트\n",
    "    order_list = []\n",
    "\n",
    "\n",
    "    while True:\n",
    "\n",
    "        try: ### 제품번호 범위 및 숫자 외 입력 방지 ###\n",
    "            ord_num = int(input('주문하실 제품 번호를 선택하세요: ')) -1\n",
    "\n",
    "            if not (0 <= ord_num < len(menu)): \n",
    "                print('='*44)\n",
    "                print(f'{\"[알림] 메뉴에 없는 제품 번호입니다.\":^35}')\n",
    "                print(f'{\"[알림] 목록에 있는 제품 번호만 입력해 주세요.\":^35}')\n",
    "                print('='*44)\n",
    "                continue \n",
    "\n",
    "\n",
    "        except ValueError:  \n",
    "            print('='*44)\n",
    "            print(f'{\"[알림] 잘못된 입력입니다.\":^35}')\n",
    "            print(f'{\"[알림] 제품 번호를 숫자로 입력해 주세요.\":^35}')\n",
    "            print('='*44)\n",
    "            continue \n",
    "        \n",
    "        menut = menu[ord_num]['name']\n",
    "\n",
    "        print('='*44)\n",
    "        print(f'{\"고객님이 선택하신 제품은\":^33}')\n",
    "        print(f'{menut + \" 입니다.\":^33}')\n",
    "        print(f'{\"몇 개를 드릴까요?\":^33}')\n",
    "        \n",
    "        go_to_start = False   #go_to_start라는 변수가 False면 계속 주문 진행, True면 주문 취소->처음으로 돌아감\n",
    "        \n",
    "        while True: ### 수량값 음수 및 문자 입력 방지 ###\n",
    "            try:\n",
    "\n",
    "                qty = input('\\t수량을 입력하세요(취소: x): ')\n",
    "\n",
    "                if qty == 'x':\n",
    "                    go_to_start = True\n",
    "                    break\n",
    "                else:\n",
    "                    qty = int(qty)\n",
    "                \n",
    "                if qty <=0:\n",
    "                    print('='*44)\n",
    "                    print(f'{\"[알림]수량은 1개 이상 입력해주세요.\":^35}')\n",
    "                    print('='*44)\n",
    "                    continue\n",
    "                break\n",
    "\n",
    "            except ValueError:\n",
    "                print('='*44)\n",
    "                print(f'{\"[알림]다시 입력해주세요.\":^35}')\n",
    "                print('='*44)\n",
    "\n",
    "        if go_to_start:\n",
    "            break\n",
    "                \n",
    "        # 만약 같은 걸 더 주문하면 order_list 에 추가 말고 qty 만 +++\n",
    "        flag = True\n",
    "        for i in range(len(order_list)):\n",
    "            if order_list[i]['name'] == menu[ord_num][\"name\"]:\n",
    "                order_list[i]['qty'] += qty\n",
    "                flag = False\n",
    "                break\n",
    "\n",
    "        # 새로운 거 주문 하면 append\n",
    "        if flag:\n",
    "            order_list.append({\n",
    "                'name': menut,\n",
    "                'qty': qty,\n",
    "                'price': menu[ord_num]['price']\n",
    "            })\n",
    "\n",
    "        a = input('더 주문하시겠습니까? (y/n): ')\n",
    "            # y/n 입력 유효성 검사\n",
    "        while a.lower() not in ['y', 'n']: ### y,n 외 입력 방지 ###\n",
    "            print('='*44)\n",
    "            print(f'{\"[알림] 잘못된 입력입니다.\":^35}')\n",
    "            print(f'{\"[알림] 'y' 또는 'n'으로만 입력해 주세요.\":^35}')\n",
    "            print('='*44)\n",
    "            a = input('더 주문하시겠습니까? (y/n): ')\n",
    "            \n",
    "        if a.lower() == 'n':\n",
    "            break\n",
    "\n",
    "        print('-'*44)\n",
    "\n",
    "    if not go_to_start:\n",
    "        # 총액 계산 및 주문 출력\n",
    "        total = 0\n",
    "\n",
    "        while order_list :   #장바구니에 항목이 있을 때 반복\n",
    "    \n",
    "            print('='*44)\n",
    "            print(f'\\t\\t{\"장바구니 내역\"}')\n",
    "            print('-'*44)\n",
    "        \n",
    "            for idx, order in enumerate(order_list):\n",
    "                item_total = order['qty'] * order['price']\n",
    "                total += item_total\n",
    "        \n",
    "                print(f'{idx+1} 번 {order[\"name\"]}\\t{order[\"qty\"]}개\\t-\\t{item_total:,}원')\n",
    "        \n",
    "            print('-'*44)\n",
    "            \n",
    "\n",
    "            remove_num_input = input('장바구니에서 삭제할 항목 번호 (없으면 0): ')\n",
    "\n",
    "            if not remove_num_input.isdigit():\n",
    "                print('[알림] 숫자만 입력해주세요.')\n",
    "                continue\n",
    "\n",
    "            remove_num = int(remove_num_input)-1\n",
    "\n",
    "            if remove_num == 0:\n",
    "                break\n",
    "\n",
    "            if 1 <= remove_num <= len(order_list):\n",
    "                removed_item = order_list.pop(remove_num -1)\n",
    "                print(f'{removed_item[\"name\"]}이(가) 장바구니에서 제거되었습니다.')\n",
    "            else:\n",
    "                print('[알림] 존재하지 않는 번호입니다.')\n",
    "\n",
    "        if not order_list:   #장바구니가 비었을 때\n",
    "            print('[알림] 장바구니가 비어 있습니다. 처음으로 돌아갑니다.')\n",
    "            go_to_start = True\n",
    "            continue\n",
    "            \n",
    "        print(f'총 결제 금액: {total:,}원')\n",
    "        print('='*44)\n",
    "        \n",
    "        # 포인트 적립 여부 y/n 유효성 검사\n",
    "        ab = input('포인트를 적립하시겠습니까? (y/n): ')\n",
    "            \n",
    "        while ab.lower() not in ['y', 'n']:\n",
    "            print('=' * 44)\n",
    "            print(f'{\"[알림] 잘못된 입력입니다.\":^35}')\n",
    "            print(f'{\"[알림] 'y' 또는 'n'으로만 입력해 주세요.\":^35}')\n",
    "            print('=' * 44)\n",
    "            ab = input('포인트를 적립하시겠습니까? (y/n): ')\n",
    "        \n",
    "        # 'y'일 경우 포인트 적립\n",
    "        if ab.lower() == 'y':\n",
    "            phone = input('전화번호를 입력해 주세요: ')\n",
    "                \n",
    "            # 전화번호가 숫자가 아닐 경우 재입력 요구\n",
    "            while not phone.isdigit() or len(phone) < 11 or phone == \"x\":\n",
    "                print('=' * 44)\n",
    "                print(f'{\"[알림] 잘못된 입력입니다.\":^35}')\n",
    "                print(f'{\"[알림] 전화번호는 숫자만 입력해 주세요.\":^35}')\n",
    "                print('=' * 44)\n",
    "                phone = input('전화번호를 다시 입력해 주세요: ')\n",
    "                    \n",
    "            if ab.lower() == 'y':\n",
    "                user_id = f'user_{phone[-4:]}'\n",
    "                point = int(total * 0.05)\n",
    "            \n",
    "                if user_id in points :\n",
    "                    points[user_id] += point\n",
    "                else :\n",
    "                    points[user_id] = point\n",
    "        \n",
    "                print('=' * 44)\n",
    "                print(f'{ord_list[ord_num+1]['name']} 고객님의 적립포인트는 {points[user_id]:,}점 입니다.')\n",
    "    \n",
    "    \n",
    "            print('='*44)\n",
    "            print(f'{\"결제가 완료되었습니다.\":^37}')\n",
    "            print(f'{\"잠시만 기다려주세요.\":^37}')\n",
    "\n",
    "    print('='*44)\n",
    "    print(f'{\"감사합니다.\":^40}')\n",
    "    order_list.clear()\n",
    "    print(f'{\"3초 뒤에 시작화면으로 돌아갑니다.\":^37}')\n",
    "    time.sleep(1)\n",
    "    print('='*44)\n",
    "    print(f'{\"2초 뒤에 시작화면으로 돌아갑니다.\":^37}')\n",
    "    time.sleep(1)\n",
    "    print('='*44)\n",
    "    print(f'{\"1초 뒤에 시작화면으로 돌아갑니다.\":^37}')\n",
    "    time.sleep(1)"
   ]
  },
  {
   "cell_type": "code",
   "execution_count": null,
   "id": "6b8b87cd-8749-4037-be0c-b3fc5460aeac",
   "metadata": {},
   "outputs": [],
   "source": []
  }
 ],
 "metadata": {
  "kernelspec": {
   "display_name": "Python 3 (ipykernel)",
   "language": "python",
   "name": "python3"
  },
  "language_info": {
   "codemirror_mode": {
    "name": "ipython",
    "version": 3
   },
   "file_extension": ".py",
   "mimetype": "text/x-python",
   "name": "python",
   "nbconvert_exporter": "python",
   "pygments_lexer": "ipython3",
   "version": "3.12.1"
  }
 },
 "nbformat": 4,
 "nbformat_minor": 5
}
