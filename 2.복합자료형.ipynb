{
 "cells": [
  {
   "cell_type": "markdown",
   "id": "f8859f9f-89f0-4d9f-8a27-08f6ff33e940",
   "metadata": {},
   "source": [
    "# 복합자료"
   ]
  },
  {
   "cell_type": "code",
   "execution_count": null,
   "id": "6785953c-8a84-4b65-8087-fc497bd9fb0b",
   "metadata": {},
   "outputs": [],
   "source": []
  }
 ],
 "metadata": {
  "kernelspec": {
   "display_name": "Python 3 (ipykernel)",
   "language": "python",
   "name": "python3"
  },
  "language_info": {
   "codemirror_mode": {
    "name": "ipython",
    "version": 3
   },
   "file_extension": ".py",
   "mimetype": "text/x-python",
   "name": "python",
   "nbconvert_exporter": "python",
   "pygments_lexer": "ipython3",
   "version": "3.12.9"
  }
 },
 "nbformat": 4,
 "nbformat_minor": 5
}
