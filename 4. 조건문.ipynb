{
 "cells": [
  {
   "cell_type": "markdown",
   "id": "b4bb6c78-81d0-416f-9a5f-d09a338b4eb2",
   "metadata": {},
   "source": [
    "# 연산자"
   ]
  },
  {
   "cell_type": "code",
   "execution_count": 1,
   "id": "8f88948a-948a-444e-9a5e-716c45d4bc64",
   "metadata": {},
   "outputs": [
    {
     "data": {
      "text/plain": [
       "False"
      ]
     },
     "execution_count": 1,
     "metadata": {},
     "output_type": "execute_result"
    }
   ],
   "source": [
    "2+3 #산술연산자\n",
    "a=2 #대입연산자\n",
    "a>2 #비교연산자"
   ]
  },
  {
   "cell_type": "code",
   "execution_count": 2,
   "id": "053538e7-c254-42a6-8b53-68070e12edaf",
   "metadata": {},
   "outputs": [
    {
     "data": {
      "text/plain": [
       "(2, 2, 2, 2)"
      ]
     },
     "execution_count": 2,
     "metadata": {},
     "output_type": "execute_result"
    }
   ],
   "source": [
    "b=c=d=a #대입연산자\n",
    "b,c,d,a"
   ]
  },
  {
   "cell_type": "code",
   "execution_count": 3,
   "id": "172e3434-3d54-4bfa-a981-beb4b988f706",
   "metadata": {},
   "outputs": [
    {
     "data": {
      "text/plain": [
       "True"
      ]
     },
     "execution_count": 3,
     "metadata": {},
     "output_type": "execute_result"
    }
   ],
   "source": [
    "id(b) == id(c)"
   ]
  },
  {
   "cell_type": "markdown",
   "id": "bccf2db4-65cb-4b51-af00-7e3e0719cb44",
   "metadata": {},
   "source": [
    "# 조건문 :\n",
    "- 조건문 : 비교연산자를 이용한 부울값이 출력되어야 한다.\n",
    "- : 이후 영역표시는 들여쓰기로 맞추어야 한다."
   ]
  },
  {
   "cell_type": "code",
   "execution_count": 4,
   "id": "ce08d22d-d451-4e9a-9cc6-65afc37e2ae5",
   "metadata": {},
   "outputs": [
    {
     "name": "stdout",
     "output_type": "stream",
     "text": [
      "pass\n"
     ]
    }
   ],
   "source": [
    "kor_score = 95\n",
    "\n",
    "if kor_score > 90 :\n",
    "    print('pass')"
   ]
  },
  {
   "cell_type": "code",
   "execution_count": 5,
   "id": "e6568091-2ff1-4c90-b022-b701f079cd49",
   "metadata": {},
   "outputs": [
    {
     "name": "stdout",
     "output_type": "stream",
     "text": [
      "pass\n"
     ]
    }
   ],
   "source": [
    "# 한줄 작성\n",
    "if kor_score > 90 : print('pass')"
   ]
  },
  {
   "cell_type": "code",
   "execution_count": 6,
   "id": "dd04bbbd-4e1d-4047-9107-68cf2033823c",
   "metadata": {},
   "outputs": [
    {
     "name": "stdout",
     "output_type": "stream",
     "text": [
      "pass\n"
     ]
    }
   ],
   "source": [
    "if kor_score > 90 :\n",
    "    print('pass')\n",
    "else :\n",
    "    print('fail')"
   ]
  },
  {
   "cell_type": "code",
   "execution_count": 9,
   "id": "0e22da05-e369-45de-9ee9-b54f79d2549c",
   "metadata": {},
   "outputs": [
    {
     "name": "stdout",
     "output_type": "stream",
     "text": [
      "pass\n"
     ]
    }
   ],
   "source": [
    "# 한줄로 작성\n",
    "# 'True일때 실행문' if 조건식 else 'False일때 실행문'\n",
    "#print('pass') if kor_score > 90 else print('fail')\n",
    "\n",
    "#비교연산자, 논리연산자 > 조건식\n",
    "print('pass') if kor_score > 90 else print('fail')"
   ]
  },
  {
   "cell_type": "code",
   "execution_count": 13,
   "id": "cbd234a6-c4d3-4325-a9d8-159d90e67835",
   "metadata": {},
   "outputs": [
    {
     "name": "stdin",
     "output_type": "stream",
     "text": [
      "점수를 입력하세요. 숫자로요..  65\n"
     ]
    },
    {
     "name": "stdout",
     "output_type": "stream",
     "text": [
      "양\n"
     ]
    }
   ],
   "source": [
    "score = int(input('점수를 입력하세요. 숫자로요.. '))\n",
    "if score >= 90 :\n",
    "    print('수')\n",
    "else :\n",
    "    if score >= 80 :\n",
    "        print('우')\n",
    "    else :\n",
    "        if score >= 70:\n",
    "            print('미')\n",
    "        else : \n",
    "            if score >= 60 :\n",
    "                print('양')\n",
    "            else :\n",
    "                print('가')"
   ]
  },
  {
   "cell_type": "code",
   "execution_count": 15,
   "id": "b1a16902-9d9f-4f03-ad15-4e4b9e0d6037",
   "metadata": {},
   "outputs": [
    {
     "name": "stdin",
     "output_type": "stream",
     "text": [
      "점수를 입력하세요. 숫자로요..  85\n"
     ]
    },
    {
     "name": "stdout",
     "output_type": "stream",
     "text": [
      "우\n",
      "미\n",
      "양\n"
     ]
    }
   ],
   "source": [
    "score = int(input('점수를 입력하세요. 숫자로요.. '))\n",
    "if score >= 90 :\n",
    "    print('수')\n",
    "if score >= 80 :\n",
    "    print('우')\n",
    "\n",
    "if score >= 70:\n",
    "    print('미')\n",
    "\n",
    "if score >= 60 :\n",
    "    print('양')\n",
    "else :\n",
    "    print('가')"
   ]
  },
  {
   "cell_type": "code",
   "execution_count": 17,
   "id": "1168d5a9-f69c-4c3a-a06c-5df5201e2652",
   "metadata": {},
   "outputs": [
    {
     "name": "stdin",
     "output_type": "stream",
     "text": [
      "점수를 입력하세요.  65\n"
     ]
    },
    {
     "name": "stdout",
     "output_type": "stream",
     "text": [
      "양\n"
     ]
    }
   ],
   "source": [
    "score = int(input('점수를 입력하세요. '))\n",
    "if score >= 90 :\n",
    "    print('수')\n",
    "elif score >= 80 :\n",
    "    print('우')\n",
    "elif score >= 70 :\n",
    "    print('미')\n",
    "elif score >= 60 :\n",
    "    print('양')\n",
    "else :\n",
    "    print('가')"
   ]
  },
  {
   "cell_type": "code",
   "execution_count": 36,
   "id": "20102c54-8fc3-4095-8358-7d58d2db47e5",
   "metadata": {},
   "outputs": [
    {
     "name": "stdin",
     "output_type": "stream",
     "text": [
      "수식을 입력하세요. (예. 20 * 40) 5 ; 2\n"
     ]
    },
    {
     "data": {
      "text/plain": [
       "('5', ';', '2')"
      ]
     },
     "execution_count": 36,
     "metadata": {},
     "output_type": "execute_result"
    }
   ],
   "source": [
    "formula = input('수식을 입력하세요. (예. 20 * 40)')\n",
    "num1, opr, num2 = formula.split()   #디폴트 split 공백으로 나눠준다\n",
    "num1, opr, num2"
   ]
  },
  {
   "cell_type": "code",
   "execution_count": 37,
   "id": "dd7563fd-dc44-4e8f-b8f4-c0920fc6e328",
   "metadata": {},
   "outputs": [
    {
     "name": "stdout",
     "output_type": "stream",
     "text": [
      "지원하지 않는 연산입니다. \n",
      "5.0 ; 2.0 = None\n"
     ]
    }
   ],
   "source": [
    "num1 = float(num1)\n",
    "num2 = float(num2)\n",
    "opr_list = ['+', '-', '*', '/', '//']   # 연산자 \n",
    "if opr == '+' :\n",
    "    result = num1 + num2\n",
    "elif opr == '-' :\n",
    "    result = num1 - num2\n",
    "elif opr == '*' :\n",
    "    result = num1 * num2\n",
    "elif opr == '/' :\n",
    "    result = num1 / num2\n",
    "elif opr == '//' : \n",
    "    result = num1 // num2\n",
    "else :\n",
    "    result = None\n",
    "\n",
    "if result == None :\n",
    "    print('지원하지 않는 연산입니다. ')\n",
    "    \n",
    "print(f'{num1} {opr} {num2} = {result}')"
   ]
  },
  {
   "cell_type": "code",
   "execution_count": 40,
   "id": "ad454421-acca-43d3-9e2c-93a6b337b1df",
   "metadata": {},
   "outputs": [
    {
     "name": "stdin",
     "output_type": "stream",
     "text": [
      "수식을 입력하세요. (예. 20 * 40) 4 + 9\n"
     ]
    },
    {
     "name": "stdout",
     "output_type": "stream",
     "text": [
      "4 + 9 = 49\n"
     ]
    }
   ],
   "source": [
    "formula = input('수식을 입력하세요. (예. 20 * 40)')\n",
    "num1, opr, num2 = formula.split()   #디폴트 split 공백으로 나눠준다\n",
    "#num1, opr, num2\n",
    "\n",
    "if opr not in opr_list :\n",
    "    print('지원하지 않는 연산자입니다. ')\n",
    "else : \n",
    "    if opr == '+' :\n",
    "        result = num1 + num2\n",
    "    elif opr == '-' :\n",
    "        result = num1 - num2\n",
    "    elif opr == '*' :\n",
    "        result = num1 * num2\n",
    "    elif opr == '/' :\n",
    "        result = num1 / num2\n",
    "    elif opr == '//' : \n",
    "        result = num1 // num2\n",
    "    print(f'{num1} {opr} {num2} = {result}')"
   ]
  },
  {
   "cell_type": "markdown",
   "id": "d6fc112e-0d98-49a8-8fa9-0becc05e6c53",
   "metadata": {},
   "source": [
    "# 1줄로 쓰기"
   ]
  },
  {
   "cell_type": "code",
   "execution_count": 41,
   "id": "0f292063-7098-454a-bda2-498b9fc05fe4",
   "metadata": {},
   "outputs": [
    {
     "name": "stdout",
     "output_type": "stream",
     "text": [
      "홀수\n"
     ]
    }
   ],
   "source": [
    "num = 7\n",
    "# if num % 2 : print('짝수') else print('홀수')\n",
    "print('짝수' if num % 2 == 0 else '홀수')"
   ]
  },
  {
   "cell_type": "code",
   "execution_count": 42,
   "id": "96d6caa1-5798-45bb-8bb5-675969838d37",
   "metadata": {},
   "outputs": [
    {
     "name": "stdin",
     "output_type": "stream",
     "text": [
      "졸린가요? 졸리면 \"졸려\"라고 입력하세요  졸려\n"
     ]
    },
    {
     "name": "stdout",
     "output_type": "stream",
     "text": [
      "쉽시다\n"
     ]
    }
   ],
   "source": [
    "#졸려 = True > 쉽시다, 아니면 화이팅\n",
    "abc = input('졸린가요? 졸리면 \"졸려\"라고 입력하세요 ')\n",
    "print('쉽시다' if abc == '졸려' else '화이팅')"
   ]
  },
  {
   "cell_type": "code",
   "execution_count": 44,
   "id": "1cd59c41-ffe8-4a9a-b59b-69133aa2de89",
   "metadata": {},
   "outputs": [
    {
     "name": "stdout",
     "output_type": "stream",
     "text": [
      "화이팅\n"
     ]
    }
   ],
   "source": [
    "# 강사님 답\n",
    "졸려 = False\n",
    "action = '쉽시다' if 졸려 == True else '화이팅'\n",
    "print(action)"
   ]
  },
  {
   "cell_type": "code",
   "execution_count": 46,
   "id": "bfba6dac-ab22-4474-85ca-83b824e7c118",
   "metadata": {},
   "outputs": [
    {
     "data": {
      "text/plain": [
       "'패'"
      ]
     },
     "execution_count": 46,
     "metadata": {},
     "output_type": "execute_result"
    }
   ],
   "source": [
    "player = '가위'\n",
    "computer = '바위'\n",
    "#result = '승' '패' '무승부'\n",
    "result = '승' if player == '가위' and computer == '보' else '무승부' if player == computer else '패'\n",
    "result"
   ]
  },
  {
   "cell_type": "code",
   "execution_count": 50,
   "id": "8a4bacca-c3b2-4017-9664-d2bffb69fc57",
   "metadata": {},
   "outputs": [
    {
     "name": "stdin",
     "output_type": "stream",
     "text": [
      "점수를 입력하세요  78\n"
     ]
    },
    {
     "data": {
      "text/plain": [
       "'C'"
      ]
     },
     "execution_count": 50,
     "metadata": {},
     "output_type": "execute_result"
    }
   ],
   "source": [
    "# 학점 A,B,C,D 출력하는 1줄 조건식\n",
    "score = int(input('점수를 입력하세요 '))\n",
    "result = 'A' if score >= 90 else 'B' if score >= 80 else 'C' if score >=70 else 'D'\n",
    "result"
   ]
  },
  {
   "cell_type": "markdown",
   "id": "b814c83a-6ca5-4a14-aec8-50bdcf402c57",
   "metadata": {},
   "source": [
    "# break, continue, pass"
   ]
  },
  {
   "cell_type": "code",
   "execution_count": 52,
   "id": "b428ddc1-1bc3-439a-a6db-776affc1e31b",
   "metadata": {},
   "outputs": [
    {
     "name": "stdout",
     "output_type": "stream",
     "text": [
      "현재 검사 중인 숫자: 1\n",
      "현재 검사 중인 숫자: 3\n",
      "현재 검사 중인 숫자: 5\n",
      "현재 검사 중인 숫자: 7\n",
      "9를 찾았습니다!\n"
     ]
    }
   ],
   "source": [
    "numbers = [1, 3, 5, 7, 9, 11, 13, 15]\n",
    "search_number = 9\n",
    "\n",
    "for num in numbers:\n",
    "    if num == search_number:\n",
    "        print(f\"{search_number}를 찾았습니다!\")\n",
    "        break\n",
    "    print(f\"현재 검사 중인 숫자: {num}\")\n"
   ]
  },
  {
   "cell_type": "code",
   "execution_count": 54,
   "id": "42779331-e826-4df4-880d-ed1d1518508c",
   "metadata": {},
   "outputs": [
    {
     "name": "stdout",
     "output_type": "stream",
     "text": [
      "2\n",
      "4\n",
      "6\n",
      "8\n",
      "10\n"
     ]
    }
   ],
   "source": [
    "for i in range(1, 11):\n",
    "    if i % 2 != 0:  # 홀수인 경우\n",
    "        continue   #continue는 찾을 때까지 계속하는거다.\n",
    "    print(i)  # 짝수만 출력"
   ]
  },
  {
   "cell_type": "code",
   "execution_count": 56,
   "id": "37af9a42-e77d-478b-85a4-f70c713f8f03",
   "metadata": {},
   "outputs": [],
   "source": [
    "condition = True\n",
    "\n",
    "if condition:\n",
    "    pass  # 나중에 구현할 예정\n",
    "else:\n",
    "    print(\"else 구문 실행\")"
   ]
  },
  {
   "cell_type": "code",
   "execution_count": null,
   "id": "24d4b3f0-6821-46be-a731-57ffeda3bb6e",
   "metadata": {},
   "outputs": [],
   "source": []
  }
 ],
 "metadata": {
  "kernelspec": {
   "display_name": "Python 3 (ipykernel)",
   "language": "python",
   "name": "python3"
  },
  "language_info": {
   "codemirror_mode": {
    "name": "ipython",
    "version": 3
   },
   "file_extension": ".py",
   "mimetype": "text/x-python",
   "name": "python",
   "nbconvert_exporter": "python",
   "pygments_lexer": "ipython3",
   "version": "3.12.9"
  }
 },
 "nbformat": 4,
 "nbformat_minor": 5
}
