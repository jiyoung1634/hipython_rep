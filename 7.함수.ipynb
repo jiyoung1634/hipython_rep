{
 "cells": [
  {
   "cell_type": "markdown",
   "id": "940fc17b-6dfd-4baa-93ad-ea52eb99771f",
   "metadata": {},
   "source": [
    "# 함수\n",
    "\n",
    "- 인자 = 매개변수, 입력, 파라미터\n",
    "- 반환값 = 리턴값, 결과값\n",
    "- 함수이름\n",
    "\n",
    "- 함수 정의 > 호출"
   ]
  },
  {
   "cell_type": "code",
   "execution_count": 1,
   "id": "32b8dafc-dd60-4e68-9ed4-b7cb6a88d88e",
   "metadata": {},
   "outputs": [],
   "source": [
    "def my_fun() :\n",
    "    print('my first function')\n",
    "    print('hello')\n",
    "    print('good bye')"
   ]
  },
  {
   "cell_type": "code",
   "execution_count": 3,
   "id": "a82ed226-adee-4a57-ba00-639da3a468c8",
   "metadata": {},
   "outputs": [
    {
     "name": "stdout",
     "output_type": "stream",
     "text": [
      "my first function\n",
      "hello\n",
      "good bye\n"
     ]
    }
   ],
   "source": [
    "my_fun()   #호출"
   ]
  },
  {
   "cell_type": "code",
   "execution_count": 4,
   "id": "be03f858-12e8-4e47-9ac5-6e8a3171182b",
   "metadata": {},
   "outputs": [
    {
     "data": {
      "text/plain": [
       "function"
      ]
     },
     "execution_count": 4,
     "metadata": {},
     "output_type": "execute_result"
    }
   ],
   "source": [
    "type(my_fun)"
   ]
  },
  {
   "cell_type": "code",
   "execution_count": 5,
   "id": "de823976-239f-4c92-bf5f-695a86826810",
   "metadata": {},
   "outputs": [
    {
     "name": "stdout",
     "output_type": "stream",
     "text": [
      "my first function\n",
      "hello\n",
      "good bye\n"
     ]
    }
   ],
   "source": [
    "my_func_var = my_fun()\n",
    "my_func_var   #변수"
   ]
  },
  {
   "cell_type": "code",
   "execution_count": 8,
   "id": "6562c1f5-0450-471a-9ed4-315ead877399",
   "metadata": {},
   "outputs": [
    {
     "name": "stdout",
     "output_type": "stream",
     "text": [
      "None\n"
     ]
    }
   ],
   "source": [
    "print(my_func_var)"
   ]
  },
  {
   "cell_type": "code",
   "execution_count": 13,
   "id": "b8d0a955-665e-447e-a344-31e63127bf2f",
   "metadata": {},
   "outputs": [],
   "source": [
    "def my_fun1() :\n",
    "    print('my first function')\n",
    "    print('hello')\n",
    "    print('good bye')\n",
    "    return 'hey'   # return이 있는경우"
   ]
  },
  {
   "cell_type": "code",
   "execution_count": 14,
   "id": "1d425979-b04a-43a6-b83c-79ff6f072f01",
   "metadata": {},
   "outputs": [
    {
     "name": "stdout",
     "output_type": "stream",
     "text": [
      "my first function\n",
      "hello\n",
      "good bye\n"
     ]
    },
    {
     "data": {
      "text/plain": [
       "'hey'"
      ]
     },
     "execution_count": 14,
     "metadata": {},
     "output_type": "execute_result"
    }
   ],
   "source": [
    "my_fun1()"
   ]
  },
  {
   "cell_type": "code",
   "execution_count": 15,
   "id": "de990599-7d2e-42c3-832e-ad0b963ef302",
   "metadata": {},
   "outputs": [
    {
     "name": "stdout",
     "output_type": "stream",
     "text": [
      "my first function\n",
      "hello\n",
      "good bye\n"
     ]
    }
   ],
   "source": [
    "my_fun_var1 = my_fun1()"
   ]
  },
  {
   "cell_type": "code",
   "execution_count": 16,
   "id": "24cd96e9-6db3-4d47-840c-55190592f5a9",
   "metadata": {},
   "outputs": [
    {
     "data": {
      "text/plain": [
       "'hey'"
      ]
     },
     "execution_count": 16,
     "metadata": {},
     "output_type": "execute_result"
    }
   ],
   "source": [
    "my_fun_var1"
   ]
  },
  {
   "cell_type": "markdown",
   "id": "539ed618-cff8-410d-a42d-8c2946597012",
   "metadata": {},
   "source": [
    "## 입력값이 있는 함수"
   ]
  },
  {
   "cell_type": "code",
   "execution_count": 25,
   "id": "2036fb0e-b37f-464b-ad0c-938bdcdf784c",
   "metadata": {},
   "outputs": [],
   "source": [
    "def my_calc2(x, y) :\n",
    "    print(f'{x}와 {y}를 계산합니다.')\n",
    "    add_result = x + y\n",
    "    mul_result = x * y\n",
    "    return add_result, mul_result"
   ]
  },
  {
   "cell_type": "code",
   "execution_count": 27,
   "id": "975a5a1b-0af3-4512-b8a5-73836a4f7c7c",
   "metadata": {},
   "outputs": [
    {
     "name": "stdout",
     "output_type": "stream",
     "text": [
      "10와 20를 계산합니다.\n"
     ]
    },
    {
     "data": {
      "text/plain": [
       "(30, 200)"
      ]
     },
     "execution_count": 27,
     "metadata": {},
     "output_type": "execute_result"
    }
   ],
   "source": [
    "my_calc2(10,20)   #튜플자료형"
   ]
  },
  {
   "cell_type": "code",
   "execution_count": 30,
   "id": "568c2b1f-19f0-4463-96b5-6da4e2bf2dde",
   "metadata": {},
   "outputs": [
    {
     "name": "stdout",
     "output_type": "stream",
     "text": [
      "10와 20를 계산합니다.\n"
     ]
    },
    {
     "ename": "TypeError",
     "evalue": "'tuple' object does not support item assignment",
     "output_type": "error",
     "traceback": [
      "\u001b[31m---------------------------------------------------------------------------\u001b[39m",
      "\u001b[31mTypeError\u001b[39m                                 Traceback (most recent call last)",
      "\u001b[36mCell\u001b[39m\u001b[36m \u001b[39m\u001b[32mIn[30]\u001b[39m\u001b[32m, line 2\u001b[39m\n\u001b[32m      1\u001b[39m func_result = my_calc2(\u001b[32m10\u001b[39m, \u001b[32m20\u001b[39m)\n\u001b[32m----> \u001b[39m\u001b[32m2\u001b[39m func_result[\u001b[32m0\u001b[39m] = \u001b[32m100\u001b[39m\n",
      "\u001b[31mTypeError\u001b[39m: 'tuple' object does not support item assignment"
     ]
    }
   ],
   "source": [
    "func_result = my_calc2(10, 20)\n",
    "func_result[0] = 100   #튜플이기 때문에 바꿀 수 없다. 그래서 함수의 결과로 튜플로 준다."
   ]
  },
  {
   "cell_type": "code",
   "execution_count": 33,
   "id": "e4587e8c-0af3-47da-b083-c2eb9c5ce3a8",
   "metadata": {},
   "outputs": [
    {
     "name": "stdout",
     "output_type": "stream",
     "text": [
      "10와 20를 계산합니다.\n"
     ]
    },
    {
     "data": {
      "text/plain": [
       "30"
      ]
     },
     "execution_count": 33,
     "metadata": {},
     "output_type": "execute_result"
    }
   ],
   "source": [
    "func_result1, f2 = my_calc2(10,20)   #unpacking\n",
    "func_result1"
   ]
  },
  {
   "cell_type": "code",
   "execution_count": 34,
   "id": "8762266d-ff2a-44db-afb7-f4dabd2eea4e",
   "metadata": {},
   "outputs": [
    {
     "data": {
      "text/plain": [
       "200"
      ]
     },
     "execution_count": 34,
     "metadata": {},
     "output_type": "execute_result"
    }
   ],
   "source": [
    "f2"
   ]
  },
  {
   "cell_type": "markdown",
   "id": "6f3d3dfe-c239-452f-a04d-f35d81e1a8c2",
   "metadata": {},
   "source": [
    "# 입력값의 타입 : 수치형 vs (리스트) 객체형\n",
    "\n",
    "수치형 : 값에 의한 전달 call by value\n",
    "객체형 : 값(참조) call by feterence > 같은 객체를 다룬다. "
   ]
  },
  {
   "cell_type": "code",
   "execution_count": 35,
   "id": "b99a45cf-a0df-4786-bc87-ed98a3e36942",
   "metadata": {},
   "outputs": [],
   "source": [
    "#리스트 매개변수의 실행\n",
    "def my_calc3(a, lst1) :\n",
    "    a += 1\n",
    "    lst1.append(a)\n",
    "    return a"
   ]
  },
  {
   "cell_type": "code",
   "execution_count": 36,
   "id": "5922025b-38e3-43a0-8f45-acaaf0899f2e",
   "metadata": {},
   "outputs": [
    {
     "name": "stdout",
     "output_type": "stream",
     "text": [
      "before : 10, [1, 2, '12']\n",
      "after : 10, [1, 2, '12', 11]\n"
     ]
    }
   ],
   "source": [
    "num = 10\n",
    "lst_num = [1,2,'12']\n",
    "print(f'before : {num}, {lst_num}')\n",
    "my_calc3(num, lst_num)\n",
    "print(f'after : {num}, {lst_num}')"
   ]
  },
  {
   "cell_type": "code",
   "execution_count": 38,
   "id": "51067313-d797-46e5-a9b6-f3ade90d17a7",
   "metadata": {},
   "outputs": [
    {
     "data": {
      "text/plain": [
       "11"
      ]
     },
     "execution_count": 38,
     "metadata": {},
     "output_type": "execute_result"
    }
   ],
   "source": [
    "my_calc3(a=num, lst1=lst_num)"
   ]
  },
  {
   "cell_type": "markdown",
   "id": "70d81f1b-184c-4f27-8e3f-efde68ec1ea5",
   "metadata": {},
   "source": [
    "키워드 매개변수 : 함수의 매개변수 목록은 변수명이 매개변수 명이다.\n",
    "매개변수명을 이용한 호출은 매개변수의 순서와 무관하다."
   ]
  },
  {
   "cell_type": "code",
   "execution_count": 40,
   "id": "7dad95c5-0f84-4db1-952c-71a181d2eecc",
   "metadata": {},
   "outputs": [
    {
     "data": {
      "text/plain": [
       "11"
      ]
     },
     "execution_count": 40,
     "metadata": {},
     "output_type": "execute_result"
    }
   ],
   "source": [
    "my_calc3(lst1=lst_num, a=num)"
   ]
  },
  {
   "cell_type": "code",
   "execution_count": 42,
   "id": "c4eaddf9-57ca-4861-a314-32a5bb36db24",
   "metadata": {},
   "outputs": [
    {
     "name": "stdout",
     "output_type": "stream",
     "text": [
      "hello, , minsu님!\n"
     ]
    }
   ],
   "source": [
    "# 기본밦, 기본인자\n",
    "def greeting(name, greeting='hello') :\n",
    "    print(f'{greeting}, {name}님!')\n",
    "\n",
    "greeting('minsu', 'hello, ')"
   ]
  },
  {
   "cell_type": "code",
   "execution_count": 43,
   "id": "1e76d7ac-c949-4703-9bdd-27c3e5a28865",
   "metadata": {},
   "outputs": [
    {
     "name": "stdout",
     "output_type": "stream",
     "text": [
      "hi, alice님!\n"
     ]
    }
   ],
   "source": [
    "greeting('alice', 'hi')"
   ]
  },
  {
   "cell_type": "code",
   "execution_count": 45,
   "id": "9eab3e7c-d5b3-43d1-94fd-ec65f1da00b3",
   "metadata": {},
   "outputs": [
    {
     "name": "stdout",
     "output_type": "stream",
     "text": [
      "hello, Bob님!\n"
     ]
    }
   ],
   "source": [
    "greeting('Bob')   #name만 줘도 함수 greeting의 greeting 자기가 가지고 있는 값을 준다."
   ]
  },
  {
   "cell_type": "code",
   "execution_count": 48,
   "id": "c721b920-3c9b-48d3-8f3c-b9de13c956c1",
   "metadata": {},
   "outputs": [],
   "source": [
    "#가변인자\n",
    "def sum_all(*args) :   #args가 여러 개 올 수 있다. 앞에 *붙이기\n",
    "    return sum(args)"
   ]
  },
  {
   "cell_type": "code",
   "execution_count": 49,
   "id": "39c55dbe-a92c-4f63-83bd-5c1b4dcc5006",
   "metadata": {},
   "outputs": [
    {
     "data": {
      "text/plain": [
       "15"
      ]
     },
     "execution_count": 49,
     "metadata": {},
     "output_type": "execute_result"
    }
   ],
   "source": [
    "sum_all(1,2,3,4,5)"
   ]
  },
  {
   "cell_type": "code",
   "execution_count": 50,
   "id": "45bee448-e624-4dbe-9980-453d2f91925d",
   "metadata": {},
   "outputs": [],
   "source": [
    "def sum_all(arg1, arg2, *args) :\n",
    "    result = arg1+arg2+sum(args)\n",
    "    return result"
   ]
  },
  {
   "cell_type": "code",
   "execution_count": 51,
   "id": "706c4d8e-184a-47ec-905a-4153ef00de10",
   "metadata": {},
   "outputs": [
    {
     "data": {
      "text/plain": [
       "16"
      ]
     },
     "execution_count": 51,
     "metadata": {},
     "output_type": "execute_result"
    }
   ],
   "source": [
    "sum_all(1,2,3,5,5)"
   ]
  },
  {
   "cell_type": "code",
   "execution_count": 52,
   "id": "f1d9264f-4fff-4822-9031-fc2515d21e46",
   "metadata": {},
   "outputs": [],
   "source": [
    "#매개변수의 순서가 중요 *매개변수는 자기부터 끝까지 받으므로 제일 마지막에 넣는다."
   ]
  },
  {
   "cell_type": "code",
   "execution_count": 53,
   "id": "c3e4d136-f162-4b61-9116-69e1816a0b4b",
   "metadata": {},
   "outputs": [],
   "source": [
    "#**kargs 이렇게 *이 두 개면 딕셔너리이다.\n",
    "def print_info(**kwargs) :\n",
    "    for k, v in kwargs.items():\n",
    "        print(f'{k}, {v}')"
   ]
  },
  {
   "cell_type": "code",
   "execution_count": 55,
   "id": "2fcffd56-f2ee-4596-a22d-bdadaaf7b58d",
   "metadata": {},
   "outputs": [
    {
     "name": "stdout",
     "output_type": "stream",
     "text": [
      "name, hong\n",
      "age, 20\n",
      "city, Seoul\n",
      "nick, HGD\n"
     ]
    }
   ],
   "source": [
    "print_info(name='hong', age=20, city='Seoul', nick='HGD')"
   ]
  },
  {
   "cell_type": "code",
   "execution_count": 75,
   "id": "a84364ec-2fa6-4f51-89a1-796f841e6dc5",
   "metadata": {},
   "outputs": [
    {
     "data": {
      "text/plain": [
       "3"
      ]
     },
     "execution_count": 75,
     "metadata": {},
     "output_type": "execute_result"
    }
   ],
   "source": [
    "import datetime\n",
    "today = datetime.date(2025,6,5)\n",
    "type(today)\n",
    "today.weekday()"
   ]
  },
  {
   "cell_type": "markdown",
   "id": "8d1b972c-5c21-4fc8-b015-a3dfa46c093f",
   "metadata": {},
   "source": [
    "# 요일 구하는 함수 정의\n",
    "- 입력 : year, month, day\n",
    "- 출력 : '월요일'\n",
    "- 함수명 : 요일찾기()"
   ]
  },
  {
   "cell_type": "code",
   "execution_count": 71,
   "id": "65756ce5-a248-4277-a993-cd10dfe3e406",
   "metadata": {},
   "outputs": [],
   "source": [
    "year=2017\n",
    "month=3\n",
    "day=2"
   ]
  },
  {
   "cell_type": "code",
   "execution_count": 72,
   "id": "31ddc058-7800-4e94-bbe4-10ffbd5700cc",
   "metadata": {},
   "outputs": [
    {
     "name": "stdout",
     "output_type": "stream",
     "text": [
      "736329\n",
      "736388\n",
      "736390\n",
      "목요일\n"
     ]
    }
   ],
   "source": [
    "# 날짜 - year, month, day 예를들어 year=2025, month=06, day=05\n",
    "total_days = 0\n",
    "# 년도일수 입력년도-1 * 365\n",
    "    #윤년(윤달)인지 체크\n",
    "for i in range(1, year) :\n",
    "    #윤년 : 400으로 나누어 나머지가 0 and 4로 나누어 나머지가 0\n",
    "    #평년 : 100으로 나누어 나머지가 0\n",
    "\n",
    "    if i%400 == 0:\n",
    "        total_days += 366\n",
    "    elif i%100 == 0:\n",
    "        total_days += 365\n",
    "    elif i%4 == 0:\n",
    "        total_days += 366\n",
    "    else:\n",
    "        total_days += 365\n",
    "print(total_days)\n",
    "# 월수 입력한 값-1 * 30\n",
    "month_days = [0,31,28,31,30,31,30,31,31,30,31,30,31]\n",
    "for n in range(1,month):\n",
    "    total_days += month_days[n]\n",
    "# 올해가 윤년인지 체크\n",
    "if month >= 3 :\n",
    "        if year%400 == 0:\n",
    "            total_days += 1\n",
    "        elif year%100 == 0:\n",
    "            total_days += 0\n",
    "        elif year%4 == 0:\n",
    "            total_days += 1\n",
    "        else:\n",
    "            total_days += 0\n",
    "print(total_days)\n",
    "# 일수 입력값\n",
    "total_days += day\n",
    "\n",
    "print(total_days)\n",
    "# 요일 정하기\n",
    "remain_days = total_days % 7\n",
    "if remain_days == 1:\n",
    "    print('월요일')\n",
    "elif remain_days == 2:\n",
    "    print('화요일')\n",
    "elif remain_days == 3:\n",
    "    print('수요일')\n",
    "elif remain_days == 4:\n",
    "    print('목요일')\n",
    "elif remain_days == 5:\n",
    "    print('금요일')\n",
    "elif remain_days == 6:\n",
    "    print('토요일')\n",
    "else :\n",
    "    print('일요일')"
   ]
  },
  {
   "cell_type": "code",
   "execution_count": 94,
   "id": "14c4ce51-14e7-4ba9-b35a-21bfac6c79a8",
   "metadata": {},
   "outputs": [],
   "source": [
    "def 윤년체크(year):\n",
    "    if year%400 == 0:\n",
    "        return True\n",
    "    elif year%100 == 0:\n",
    "        return False\n",
    "    elif year%4 == 0:\n",
    "        return True\n",
    "    else:\n",
    "        return False"
   ]
  },
  {
   "cell_type": "code",
   "execution_count": 95,
   "id": "2bf5cbe7-a009-4571-8e59-393bdf05a54b",
   "metadata": {},
   "outputs": [
    {
     "data": {
      "text/plain": [
       "True"
      ]
     },
     "execution_count": 95,
     "metadata": {},
     "output_type": "execute_result"
    }
   ],
   "source": [
    "윤년체크(2028)"
   ]
  },
  {
   "cell_type": "code",
   "execution_count": 96,
   "id": "4952f2d3-f10f-455f-9896-4c0bbe3fb495",
   "metadata": {},
   "outputs": [],
   "source": [
    "def 요일찾기(year, month, day):\n",
    "    week_day_name = '일요일'\n",
    "    total_days = 0\n",
    "    for i in range(1, year) :\n",
    "    #윤년 : 400으로 나누어 나머지가 0 and 4로 나누어 나머지가 0\n",
    "    #평년 : 100으로 나누어 나머지가 0\n",
    "        if 윤년체크(i) :\n",
    "            total_days += 366\n",
    "        else :\n",
    "            total_days += 365\n",
    "\n",
    "    print(total_days)\n",
    "    # 월수 입력한 값-1 * 30\n",
    "    month_days = [0,31,28,31,30,31,30,31,31,30,31,30,31]\n",
    "    for n in range(1,month):\n",
    "        total_days += month_days[n]\n",
    "    # 올해가 윤년인지 체크\n",
    "    if month >= 3 :\n",
    "        if 윤년체크(year) :\n",
    "            total_days += 1\n",
    "            \n",
    "    print(total_days)\n",
    "    # 일수 입력값\n",
    "    total_days += day\n",
    "    \n",
    "    print(total_days)\n",
    "    # 요일 정하기\n",
    "    remain_days = total_days % 7\n",
    "    day_names = ['일요일', '월요일', '화요일', '수요일', '목요일', '금요일', '토요일']\n",
    "    week_day_name = day_names[remain_days]\n",
    "    \n",
    "    return week_day_name"
   ]
  },
  {
   "cell_type": "code",
   "execution_count": 97,
   "id": "c52fba21-e00b-4af5-b71f-8dea46b992a4",
   "metadata": {},
   "outputs": [
    {
     "name": "stdout",
     "output_type": "stream",
     "text": [
      "736329\n",
      "736480\n",
      "736485\n",
      "입력하신 날짜는 월요일입니다.\n"
     ]
    }
   ],
   "source": [
    "years = 2025\n",
    "month = 6\n",
    "day = 5\n",
    "day_name = 요일찾기(year, month, day)\n",
    "print(f'입력하신 날짜는 {day_name}입니다.')"
   ]
  },
  {
   "cell_type": "markdown",
   "id": "110c9c79-b6d8-4cc0-892c-44581de39817",
   "metadata": {},
   "source": [
    "# 성적처리 시스템\n",
    "\n",
    "- calc_total()\n",
    "- calc_average()\n",
    "- calc_order()\n",
    "\n",
    "- print_student(students) : 전학생의 성적 출력\n",
    "- print_class() : 반평균, 각 과목별 평균 출력 "
   ]
  },
  {
   "cell_type": "code",
   "execution_count": 98,
   "id": "933ab60c-ac9f-4d7a-ad91-e6a7c943fd4a",
   "metadata": {},
   "outputs": [],
   "source": [
    "students = [\n",
    "               {'num':'1','name':'김철수','kor':90,'eng':80,'math':85,'total':0,'avg':0.0,'order':0 },\n",
    "               {'num':'2','name':'박제동','kor':90,'eng':85,'math':90,'total':0,'avg':0.0,'order':0 },\n",
    "               {'num':'3','name':'홍길동','kor':80,'eng':80,'math':80,'total':0,'avg':0.0,'order':0 }\n",
    "           ]"
   ]
  },
  {
   "cell_type": "code",
   "execution_count": 118,
   "id": "4fcad3c3-cae4-4eb1-91b7-a9324be982fb",
   "metadata": {},
   "outputs": [],
   "source": [
    "def calc_total(stus) :\n",
    "    for s in stus:\n",
    "        s['total'] = s['kor'] + s['eng'] + s['math'] \n",
    "\n",
    "def calc_average(stus) :\n",
    "    for m in stus:\n",
    "        m['avg'] = m['total'] / 3\n",
    "\n",
    "def calc_order(stus) :\n",
    "    for k in stus:\n",
    "        rank = 1\n",
    "        for j in stus:\n",
    "            if j['total'] > k['total']:\n",
    "                rank += 1\n",
    "        k['order'] = rank\n",
    "\n",
    "def print_student(stus) :\n",
    "    for x in stus:\n",
    "        print(f\"{x['num']}번 {x['name']}학생-국어:{x['kor']}점, 영어:{x['eng']}, 수학:{x['math']}점, 총점:{x['total']}, 평균:{x['avg']}, 등수:{x['order']}등\")\n",
    "\n",
    "def print_class(stus) :\n",
    "    kor_avg = 0\n",
    "    eng_avg = 0\n",
    "    math_avg = 0\n",
    "    for y in stus:\n",
    "        kor_avg += y['kor']\n",
    "        eng_avg += y['eng']\n",
    "        math_avg += y['math']\n",
    "    avgavg = (kor_avg+eng_avg+math_avg) / 3\n",
    "    print(f'국어 평균:{kor_avg/3}, 영어 평균:{eng_avg/3}, 수학 평균:{math_avg/3}, 반평균:{avgavg/3}')"
   ]
  },
  {
   "cell_type": "code",
   "execution_count": 122,
   "id": "456575a0-e3b7-4f98-85bc-724c8610e9cd",
   "metadata": {},
   "outputs": [
    {
     "name": "stdout",
     "output_type": "stream",
     "text": [
      "1번 김철수학생-국어:90점, 영어:80, 수학:85점, 총점:255, 평균:85.0, 등수:2등\n",
      "2번 박제동학생-국어:90점, 영어:85, 수학:90점, 총점:265, 평균:88.33333333333333, 등수:1등\n",
      "3번 홍길동학생-국어:80점, 영어:80, 수학:80점, 총점:240, 평균:80.0, 등수:3등\n",
      "국어 평균:86.66666666666667, 영어 평균:81.66666666666667, 수학 평균:85.0, 반평균:84.44444444444444\n"
     ]
    }
   ],
   "source": [
    "calc_total(students)\n",
    "calc_average(students)\n",
    "calc_order(students)\n",
    "print_student(students)\n",
    "print_class(students)"
   ]
  },
  {
   "cell_type": "code",
   "execution_count": 121,
   "id": "0674b182-9bee-4037-a91a-03157d2d182d",
   "metadata": {},
   "outputs": [],
   "source": [
    "# 강사님 답"
   ]
  },
  {
   "cell_type": "code",
   "execution_count": 143,
   "id": "9e47e879-64a7-4b16-906c-96fb8fbf8ee6",
   "metadata": {},
   "outputs": [],
   "source": [
    "def calc_total(stus) :\n",
    "    for s in stus:\n",
    "        s['total'] = s['kor'] +  s['eng'] +  s['math'] \n",
    "\n",
    "def calc_average(stus):\n",
    "    for s in stus:\n",
    "        s['avg'] = (s['kor'] +  s['eng'] +  s['math'])/3 \n",
    "        \n",
    "def calc_order(stus):\n",
    "    \n",
    "    for student in stus :  #students[0] 자료를 꺼낸 것이 student\n",
    "        rank = 1\n",
    "        for other in stus :\n",
    "            if other['total'] > student['total'] :\n",
    "                rank += 1\n",
    "        student['order'] = rank\n",
    "        #print(student['name'], student['order'])\n",
    "\n",
    "def print_student(stus):\n",
    "    for s in stus:\n",
    "        print(f'이름:{s['name']} 국어: {s['kor']}, 영어: {s['eng']}, 수학:{s['math']}, 등수:{s['order']}')\n",
    "\n",
    "def print_class(stus):\n",
    "    class_avg = 0\n",
    "    count = len(stus)\n",
    "    class_avg = (sum(student['total'] for student in stus) / count) / 3\n",
    "    kor_avg = sum(student['kor'] for student in stus) / count\n",
    "    eng_avg = sum(student['eng'] for student in stus) / count\n",
    "    math_avg = sum(student['math'] for student in stus) / count\n",
    "    print(f'반평균: {class_avg} 국어: {kor_avg} 영어: {eng_avg} 수학: {math_avg}')"
   ]
  },
  {
   "cell_type": "code",
   "execution_count": 144,
   "id": "962bdefd-be69-4d2a-9845-e9e679cf08a1",
   "metadata": {},
   "outputs": [
    {
     "name": "stdout",
     "output_type": "stream",
     "text": [
      "이름:김철수 국어: 90, 영어: 80, 수학:85, 등수:2\n",
      "이름:박제동 국어: 90, 영어: 85, 수학:90, 등수:1\n",
      "이름:홍길동 국어: 80, 영어: 80, 수학:80, 등수:3\n",
      "반평균: 84.44444444444444 국어: 86.66666666666667 영어: 81.66666666666667 수학: 85.0\n"
     ]
    }
   ],
   "source": [
    "calc_total(students)\n",
    "calc_average(students)\n",
    "calc_order(students)\n",
    "print_student(students)\n",
    "print_class(students)"
   ]
  },
  {
   "cell_type": "markdown",
   "id": "37068a6c-59ae-488b-9864-9ff8c220364d",
   "metadata": {},
   "source": [
    "혼자 \"초보자를 위한 파이썬 300제\" 연습"
   ]
  },
  {
   "cell_type": "code",
   "execution_count": 1,
   "id": "173a2a09-8967-41f3-863f-e50a2c4645d8",
   "metadata": {},
   "outputs": [],
   "source": [
    "def print_coin() :\n",
    "    print('비트코인')"
   ]
  },
  {
   "cell_type": "code",
   "execution_count": 2,
   "id": "42d53733-a004-441c-8601-02318c7aac75",
   "metadata": {},
   "outputs": [
    {
     "name": "stdout",
     "output_type": "stream",
     "text": [
      "비트코인\n"
     ]
    }
   ],
   "source": [
    "print_coin()"
   ]
  },
  {
   "cell_type": "code",
   "execution_count": 3,
   "id": "2b83cecd-1ec8-4b58-833a-a63c59b9db43",
   "metadata": {
    "collapsed": true,
    "jupyter": {
     "outputs_hidden": true
    },
    "scrolled": true
   },
   "outputs": [
    {
     "name": "stdout",
     "output_type": "stream",
     "text": [
      "비트코인\n",
      "비트코인\n",
      "비트코인\n",
      "비트코인\n",
      "비트코인\n",
      "비트코인\n",
      "비트코인\n",
      "비트코인\n",
      "비트코인\n",
      "비트코인\n",
      "비트코인\n",
      "비트코인\n",
      "비트코인\n",
      "비트코인\n",
      "비트코인\n",
      "비트코인\n",
      "비트코인\n",
      "비트코인\n",
      "비트코인\n",
      "비트코인\n",
      "비트코인\n",
      "비트코인\n",
      "비트코인\n",
      "비트코인\n",
      "비트코인\n",
      "비트코인\n",
      "비트코인\n",
      "비트코인\n",
      "비트코인\n",
      "비트코인\n",
      "비트코인\n",
      "비트코인\n",
      "비트코인\n",
      "비트코인\n",
      "비트코인\n",
      "비트코인\n",
      "비트코인\n",
      "비트코인\n",
      "비트코인\n",
      "비트코인\n",
      "비트코인\n",
      "비트코인\n",
      "비트코인\n",
      "비트코인\n",
      "비트코인\n",
      "비트코인\n",
      "비트코인\n",
      "비트코인\n",
      "비트코인\n",
      "비트코인\n",
      "비트코인\n",
      "비트코인\n",
      "비트코인\n",
      "비트코인\n",
      "비트코인\n",
      "비트코인\n",
      "비트코인\n",
      "비트코인\n",
      "비트코인\n",
      "비트코인\n",
      "비트코인\n",
      "비트코인\n",
      "비트코인\n",
      "비트코인\n",
      "비트코인\n",
      "비트코인\n",
      "비트코인\n",
      "비트코인\n",
      "비트코인\n",
      "비트코인\n",
      "비트코인\n",
      "비트코인\n",
      "비트코인\n",
      "비트코인\n",
      "비트코인\n",
      "비트코인\n",
      "비트코인\n",
      "비트코인\n",
      "비트코인\n",
      "비트코인\n",
      "비트코인\n",
      "비트코인\n",
      "비트코인\n",
      "비트코인\n",
      "비트코인\n",
      "비트코인\n",
      "비트코인\n",
      "비트코인\n",
      "비트코인\n",
      "비트코인\n",
      "비트코인\n",
      "비트코인\n",
      "비트코인\n",
      "비트코인\n",
      "비트코인\n",
      "비트코인\n",
      "비트코인\n",
      "비트코인\n",
      "비트코인\n",
      "비트코인\n"
     ]
    }
   ],
   "source": [
    "for i in range(100):\n",
    "    print_coin()"
   ]
  },
  {
   "cell_type": "code",
   "execution_count": 5,
   "id": "eef3ffb5-c573-42f7-8922-91bc735a81bb",
   "metadata": {},
   "outputs": [],
   "source": [
    "def print_coins() :\n",
    "    for i in range(100):\n",
    "        print('비트코인')"
   ]
  },
  {
   "cell_type": "code",
   "execution_count": 9,
   "id": "9d62865f-3cc6-40b6-b9c6-0fae89236c29",
   "metadata": {},
   "outputs": [
    {
     "name": "stdout",
     "output_type": "stream",
     "text": [
      "안녕하세요:D\n"
     ]
    }
   ],
   "source": [
    "def print_with_smile (문자열) :\n",
    "    print(문자열+':D')\n",
    "print_with_smile('안녕하세요')"
   ]
  },
  {
   "cell_type": "code",
   "execution_count": 11,
   "id": "0636ebce-5186-484d-9493-82a86c6374b8",
   "metadata": {},
   "outputs": [],
   "source": [
    "def print_sum(a, b) :\n",
    "    print(a+b)"
   ]
  },
  {
   "cell_type": "code",
   "execution_count": 14,
   "id": "b6c3c8ff-8d92-43d7-a1bc-b827fcfc447c",
   "metadata": {},
   "outputs": [],
   "source": [
    "def print_arithmetic_operation(a, b) :\n",
    "    print(f'{a}+{b}=',a+b)\n",
    "    print(f'{a}-{b}=',a-b)\n",
    "    print(f'{a}*{b}=',a*b)\n",
    "    print(f'{a}/{b}=',a/b)"
   ]
  },
  {
   "cell_type": "code",
   "execution_count": 15,
   "id": "f0bba514-d319-4f7f-99b3-cbfc88b363bf",
   "metadata": {},
   "outputs": [
    {
     "name": "stdout",
     "output_type": "stream",
     "text": [
      "3+4= 7\n",
      "3-4= -1\n",
      "3*4= 12\n",
      "3/4= 0.75\n"
     ]
    }
   ],
   "source": [
    "print_arithmetic_operation(3,4)"
   ]
  },
  {
   "cell_type": "code",
   "execution_count": null,
   "id": "d696f9e7-796d-4a22-af6d-f89af24ffbde",
   "metadata": {},
   "outputs": [],
   "source": [
    "def print_max(a, b, c) :\n",
    "    max_val=0\n",
    "    if a > "
   ]
  },
  {
   "cell_type": "code",
   "execution_count": null,
   "id": "455e0e50-db45-4a80-b51c-89960b306334",
   "metadata": {},
   "outputs": [],
   "source": []
  },
  {
   "cell_type": "code",
   "execution_count": null,
   "id": "8b838a0d-ef38-4449-929c-8419ca6b442a",
   "metadata": {},
   "outputs": [],
   "source": []
  },
  {
   "cell_type": "code",
   "execution_count": null,
   "id": "0223270d-5c19-4816-b63e-f2595aa7383b",
   "metadata": {},
   "outputs": [],
   "source": []
  },
  {
   "cell_type": "markdown",
   "id": "cd4bb721-30e3-46dc-b51f-3990f7881f95",
   "metadata": {},
   "source": [
    "# 람다 함수\n",
    "\n",
    "선언 : lambda <매개변수> : 코드\n",
    "호출 : (lambda <매개변수> : 코드) (매개변수값)"
   ]
  },
  {
   "cell_type": "code",
   "execution_count": 16,
   "id": "db7d2c34-d1b4-4696-b2b5-357bf54376de",
   "metadata": {},
   "outputs": [],
   "source": [
    "def aaa(a):\n",
    "    result = a+1\n",
    "    return result"
   ]
  },
  {
   "cell_type": "code",
   "execution_count": 17,
   "id": "6b57c9f0-0b25-4442-9fc7-cab364f68aeb",
   "metadata": {},
   "outputs": [
    {
     "data": {
      "text/plain": [
       "<function __main__.<lambda>(a)>"
      ]
     },
     "execution_count": 17,
     "metadata": {},
     "output_type": "execute_result"
    }
   ],
   "source": [
    "lambda a : a+1"
   ]
  },
  {
   "cell_type": "code",
   "execution_count": 20,
   "id": "6d288697-ad89-45c8-8fb2-839425b6df91",
   "metadata": {},
   "outputs": [
    {
     "data": {
      "text/plain": [
       "3"
      ]
     },
     "execution_count": 20,
     "metadata": {},
     "output_type": "execute_result"
    }
   ],
   "source": [
    "(lambda a: a+1) (2)   #람다의 호출"
   ]
  },
  {
   "cell_type": "code",
   "execution_count": 22,
   "id": "9944dbe2-6aa0-42a7-9458-49b0df067f4c",
   "metadata": {},
   "outputs": [
    {
     "data": {
      "text/plain": [
       "(4, 5, 6)"
      ]
     },
     "execution_count": 22,
     "metadata": {},
     "output_type": "execute_result"
    }
   ],
   "source": [
    "my_lambda = lambda a:a+1   #람다의 재정의\n",
    "my_lambda(3), my_lambda(4), my_lambda(5)"
   ]
  },
  {
   "cell_type": "code",
   "execution_count": 23,
   "id": "308c6003-589d-4fbd-b588-5cc389755609",
   "metadata": {},
   "outputs": [
    {
     "data": {
      "text/plain": [
       "5"
      ]
     },
     "execution_count": 23,
     "metadata": {},
     "output_type": "execute_result"
    }
   ],
   "source": [
    "def sum1(a, b):\n",
    "    return a+b\n",
    "sum1(2,3)"
   ]
  },
  {
   "cell_type": "code",
   "execution_count": 24,
   "id": "4d24ef39-7414-42ba-a8c5-f66324a893fa",
   "metadata": {},
   "outputs": [
    {
     "data": {
      "text/plain": [
       "5"
      ]
     },
     "execution_count": 24,
     "metadata": {},
     "output_type": "execute_result"
    }
   ],
   "source": [
    "(lambda a,b : a+b)(2,3)"
   ]
  },
  {
   "cell_type": "code",
   "execution_count": 26,
   "id": "db6cf817-6bb8-4429-a227-0423da3f03ca",
   "metadata": {},
   "outputs": [],
   "source": [
    "def calc_func(a,b,opr_func):\n",
    "    result = opr_func(a,b)\n",
    "    return result"
   ]
  },
  {
   "cell_type": "code",
   "execution_count": 28,
   "id": "1fad6d78-c815-4ddf-a179-0a2cc6182d18",
   "metadata": {},
   "outputs": [
    {
     "data": {
      "text/plain": [
       "3"
      ]
     },
     "execution_count": 28,
     "metadata": {},
     "output_type": "execute_result"
    }
   ],
   "source": [
    "calc_func(1,2,lambda x,y:x+y)   # 사칙연산"
   ]
  },
  {
   "cell_type": "code",
   "execution_count": 34,
   "id": "118a428f-bba2-4c04-8eec-cc55a98fce09",
   "metadata": {},
   "outputs": [
    {
     "data": {
      "text/plain": [
       "['APPLE', 'BANANA', 'CHERRY']"
      ]
     },
     "execution_count": 34,
     "metadata": {},
     "output_type": "execute_result"
    }
   ],
   "source": [
    "# map 함수\n",
    "fruits = ['apple', 'banana', 'cherry']\n",
    "# str.upper\n",
    "# fruits[0].upper() \n",
    "list(map(str.upper, fruits))   #str.upper를 fruits한테 적용해. map함수는 이터레이터니까 리스트로 바꿔줘"
   ]
  },
  {
   "cell_type": "code",
   "execution_count": 36,
   "id": "2121e8dc-a37a-445c-9916-3f3889229481",
   "metadata": {},
   "outputs": [
    {
     "data": {
      "text/plain": [
       "['1', '2', '3', '4', '5']"
      ]
     },
     "execution_count": 36,
     "metadata": {},
     "output_type": "execute_result"
    }
   ],
   "source": [
    "str_number = '12345'\n",
    "list(str_number)   # 문자열 리스트"
   ]
  },
  {
   "cell_type": "code",
   "execution_count": 37,
   "id": "195e9f4c-452e-4e4e-900f-6173d88dd3bc",
   "metadata": {},
   "outputs": [
    {
     "ename": "TypeError",
     "evalue": "int() argument must be a string, a bytes-like object or a real number, not 'list'",
     "output_type": "error",
     "traceback": [
      "\u001b[31m---------------------------------------------------------------------------\u001b[39m",
      "\u001b[31mTypeError\u001b[39m                                 Traceback (most recent call last)",
      "\u001b[36mCell\u001b[39m\u001b[36m \u001b[39m\u001b[32mIn[37]\u001b[39m\u001b[32m, line 1\u001b[39m\n\u001b[32m----> \u001b[39m\u001b[32m1\u001b[39m \u001b[38;5;28mint\u001b[39m(\u001b[38;5;28mlist\u001b[39m(str_number))\n",
      "\u001b[31mTypeError\u001b[39m: int() argument must be a string, a bytes-like object or a real number, not 'list'"
     ]
    }
   ],
   "source": [
    "int(list(str_number))"
   ]
  },
  {
   "cell_type": "code",
   "execution_count": 39,
   "id": "fa2c670d-d81c-464f-991b-44cc0779adc1",
   "metadata": {},
   "outputs": [
    {
     "data": {
      "text/plain": [
       "[1, 2, 3, 4, 5]"
      ]
     },
     "execution_count": 39,
     "metadata": {},
     "output_type": "execute_result"
    }
   ],
   "source": [
    "numbers = list(map(int, str_number))\n",
    "numbers"
   ]
  },
  {
   "cell_type": "code",
   "execution_count": 41,
   "id": "8339bd0b-8856-45ce-920c-7d4fef09c418",
   "metadata": {},
   "outputs": [
    {
     "data": {
      "text/plain": [
       "[1, 4, 9, 16, 25]"
      ]
     },
     "execution_count": 41,
     "metadata": {},
     "output_type": "execute_result"
    }
   ],
   "source": [
    "list(map(lambda x:x**2, numbers))"
   ]
  },
  {
   "cell_type": "code",
   "execution_count": 45,
   "id": "89781538-0e8c-4422-b905-2b885f6cfb16",
   "metadata": {},
   "outputs": [
    {
     "data": {
      "text/plain": [
       "[12, 15, 18]"
      ]
     },
     "execution_count": 45,
     "metadata": {},
     "output_type": "execute_result"
    }
   ],
   "source": [
    "kor_score = [1,2,3]\n",
    "eng_score = [4,5,6]\n",
    "math_score = [7,8,9]\n",
    "total = list(map(lambda x,y,z:x+y+z, kor_score, eng_score, math_score))\n",
    "total"
   ]
  },
  {
   "cell_type": "code",
   "execution_count": null,
   "id": "76480add-ca32-4520-8b09-247251448afd",
   "metadata": {},
   "outputs": [],
   "source": [
    "# 평균, 최대값, 최소값"
   ]
  },
  {
   "cell_type": "code",
   "execution_count": 47,
   "id": "499433f6-106f-4c13-8d63-0a6e43265e95",
   "metadata": {},
   "outputs": [
    {
     "data": {
      "text/plain": [
       "[4.0, 5.0, 6.0]"
      ]
     },
     "execution_count": 47,
     "metadata": {},
     "output_type": "execute_result"
    }
   ],
   "source": [
    "avg = list(map(lambda x:x/3, total))\n",
    "avg"
   ]
  },
  {
   "cell_type": "code",
   "execution_count": 50,
   "id": "9589f2f7-f454-49f9-9cad-12ed75aefb7d",
   "metadata": {},
   "outputs": [
    {
     "data": {
      "text/plain": [
       "[4.0, 5.0, 6.0]"
      ]
     },
     "execution_count": 50,
     "metadata": {},
     "output_type": "execute_result"
    }
   ],
   "source": [
    "list(map(lambda s:sum(s)/3,zip(kor_score, eng_score, math_score)))   #평균"
   ]
  },
  {
   "cell_type": "code",
   "execution_count": 54,
   "id": "3ed60b11-1315-4bda-b896-11fb31b154eb",
   "metadata": {},
   "outputs": [
    {
     "data": {
      "text/plain": [
       "[7, 8, 9]"
      ]
     },
     "execution_count": 54,
     "metadata": {},
     "output_type": "execute_result"
    }
   ],
   "source": [
    "list(map(lambda s:max(s) , zip(kor_score, eng_score, math_score)))   # 최댓값"
   ]
  },
  {
   "cell_type": "code",
   "execution_count": 55,
   "id": "3edc358e-b569-4c49-b8ba-5eb582da7a74",
   "metadata": {},
   "outputs": [
    {
     "data": {
      "text/plain": [
       "[1, 2, 3]"
      ]
     },
     "execution_count": 55,
     "metadata": {},
     "output_type": "execute_result"
    }
   ],
   "source": [
    "list(map(lambda s:min(s) , zip(kor_score, eng_score, math_score)))   # 최솟값"
   ]
  },
  {
   "cell_type": "code",
   "execution_count": 48,
   "id": "38ac9582-4af7-482e-af61-d38e19746faf",
   "metadata": {},
   "outputs": [
    {
     "data": {
      "text/plain": [
       "[12, 15, 18]"
      ]
     },
     "execution_count": 48,
     "metadata": {},
     "output_type": "execute_result"
    }
   ],
   "source": [
    "# 강사님 답 zip\n",
    "kor_score = [1,2,3]\n",
    "eng_score = [4,5,6]\n",
    "math_score = [7,8,9]\n",
    "\n",
    "list(map(lambda s:sum(s), zip(kor_score, eng_score, math_score)))\n"
   ]
  },
  {
   "cell_type": "code",
   "execution_count": null,
   "id": "ade3f3fa-2e73-4725-b2d4-0b4cc59c890e",
   "metadata": {},
   "outputs": [],
   "source": []
  }
 ],
 "metadata": {
  "kernelspec": {
   "display_name": "Python 3 (ipykernel)",
   "language": "python",
   "name": "python3"
  },
  "language_info": {
   "codemirror_mode": {
    "name": "ipython",
    "version": 3
   },
   "file_extension": ".py",
   "mimetype": "text/x-python",
   "name": "python",
   "nbconvert_exporter": "python",
   "pygments_lexer": "ipython3",
   "version": "3.12.1"
  }
 },
 "nbformat": 4,
 "nbformat_minor": 5
}
