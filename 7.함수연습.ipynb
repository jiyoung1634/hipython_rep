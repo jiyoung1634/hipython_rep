{
 "cells": [
  {
   "cell_type": "markdown",
   "id": "508b1835-7c11-4579-aaf1-fb506a02d7eb",
   "metadata": {},
   "source": [
    "간식박스 관리 프로그램(함수기반)"
   ]
  },
  {
   "cell_type": "code",
   "execution_count": null,
   "id": "8f6ede97-0f1c-49af-aa2d-fd83653ab202",
   "metadata": {},
   "outputs": [],
   "source": [
    "# 함수 도출 - 기능의 세분화, 함수 정의\n",
    "# 함수 구현\n",
    "# 문제점 - 오류처리, 예외처리"
   ]
  },
  {
   "cell_type": "code",
   "execution_count": 31,
   "id": "303b98a5-8658-46bb-a775-28c2947e52d2",
   "metadata": {},
   "outputs": [],
   "source": [
    "#1 간식박스 생성 create\n",
    "def make_snack_box():\n",
    "    snack_box = ['초코파이']\n",
    "    new_snack = input('먹고싶은 간식을 추가하세요. 단, 쉼표(,)로 연결하세요.').split(',')\n",
    "    snack_box += new_snack\n",
    "\n",
    "    return snack_box"
   ]
  },
  {
   "cell_type": "code",
   "execution_count": 32,
   "id": "2810d49b-68b9-43c3-8003-7b64c8d020ff",
   "metadata": {},
   "outputs": [],
   "source": [
    "#2-2 간식세트 포장 *2 upadte\n",
    "def multiply_snack_box(snack_box):\n",
    "    qty = int(input('간식박스 몇 세트로 포장할까요? 예:2->2box'))\n",
    "    return snack_box * qty"
   ]
  },
  {
   "cell_type": "code",
   "execution_count": 33,
   "id": "d736b8ef-98d1-4e93-9957-567974f13078",
   "metadata": {},
   "outputs": [],
   "source": [
    "#2-1 간식박스 전체보기 read\n",
    "def display_snack_box(snack_box):\n",
    "    print(f'{snack_box[::-1]}, 총 {len(snack_box)}개 입니다.')"
   ]
  },
  {
   "cell_type": "code",
   "execution_count": 34,
   "id": "a6e12e99-c46b-4c69-a465-bffcf6322542",
   "metadata": {},
   "outputs": [],
   "source": [
    "#3 간식박스 미리보기(3개만) read - signature\n",
    "def preview_snack_box(snack_box):\n",
    "    preview = ','.join(snack_box[:3])\n",
    "    print(f'선택하신 간식은 {preview} … 등이 있습니다.')"
   ]
  },
  {
   "cell_type": "code",
   "execution_count": 35,
   "id": "52a9d9c9-6d25-4386-b5db-2c4d3c1f3b38",
   "metadata": {},
   "outputs": [],
   "source": [
    "#4 간식삭제 delete\n",
    "def remove_snack_box(snack_box):\n",
    "    # 예외처리\n",
    "    if not snack_box:\n",
    "        print('간식박스가 비어 있어요')\n",
    "        return\n",
    "    display_snack_box(snack_box)\n",
    "    msg = f'혹시 빼고싶은 간식이 있으면 번호를 입력하세요 (0~{len(snack_box)-1})'\n",
    "    snack_no = int(input(msg))\n",
    "    # snack_no validation\n",
    "    del snack_box[snack_no]\n",
    "    return snack_box"
   ]
  },
  {
   "cell_type": "code",
   "execution_count": 36,
   "id": "7d19622f-fe43-4b0b-a59f-b8370b31cc24",
   "metadata": {},
   "outputs": [],
   "source": [
    "#5 간식찾기 search\n",
    "def search_snack(snack_box):\n",
    "    snack_name = input('찾고 싶은 간식을 입력하세요')\n",
    "    print('있어요' if snack_name in snack_box else '없어요')\n",
    "    "
   ]
  },
  {
   "cell_type": "code",
   "execution_count": 37,
   "id": "b677f1d7-9147-4d60-8216-025fa6289840",
   "metadata": {},
   "outputs": [],
   "source": [
    "## 관리프로그램 crud처리\n",
    "#1 간식박스 생성 create\n",
    "#2 간식세트 포장 *2 upadte\n",
    "#3 간식박스 미리보기(3개만) read\n",
    "#4 간식삭제 delete\n",
    "#5 간식찾기 search\n",
    "#6 간식박스 전체보기 read"
   ]
  },
  {
   "cell_type": "code",
   "execution_count": 49,
   "id": "9fb84a71-9b81-4b59-94a2-97e9104c907e",
   "metadata": {},
   "outputs": [],
   "source": [
    "#7 간식박스 요약\n",
    "def summarize_snacks(snack_box):\n",
    "    summary = {}\n",
    "    for snack in snack_box:\n",
    "        summary[snack] = summary.get(snack,0)+1\n",
    "        print('간식박스 정리')\n",
    "        for snack, qty in summary.items():\n",
    "            print(f'-{snack} : {qty}개')\n"
   ]
  },
  {
   "cell_type": "code",
   "execution_count": 50,
   "id": "d2dcc9e3-069c-4258-9909-2f7f9779f121",
   "metadata": {
    "collapsed": true,
    "jupyter": {
     "outputs_hidden": true,
     "source_hidden": true
    },
    "scrolled": true
   },
   "outputs": [
    {
     "name": "stdin",
     "output_type": "stream",
     "text": [
      "먹고싶은 간식을 추가하세요. 단, 쉼표(,)로 연결하세요. 과자, 새우깡\n"
     ]
    },
    {
     "name": "stdout",
     "output_type": "stream",
     "text": [
      "간식박스가 만들어졌어요\n",
      "[' 새우깡', '과자', '초코파이'], 총 3개 입니다.\n"
     ]
    },
    {
     "name": "stdin",
     "output_type": "stream",
     "text": [
      "간식박스 몇 세트로 포장할까요? 예:2->2box 3\n"
     ]
    },
    {
     "name": "stdout",
     "output_type": "stream",
     "text": [
      "간식박스 정리\n",
      "-초코파이 : 1개\n",
      "간식박스 정리\n",
      "-초코파이 : 1개\n",
      "-과자 : 1개\n",
      "간식박스 정리\n",
      "-초코파이 : 1개\n",
      "-과자 : 1개\n",
      "- 새우깡 : 1개\n",
      "간식박스 정리\n",
      "-초코파이 : 2개\n",
      "-과자 : 1개\n",
      "- 새우깡 : 1개\n",
      "간식박스 정리\n",
      "-초코파이 : 2개\n",
      "-과자 : 2개\n",
      "- 새우깡 : 1개\n",
      "간식박스 정리\n",
      "-초코파이 : 2개\n",
      "-과자 : 2개\n",
      "- 새우깡 : 2개\n",
      "간식박스 정리\n",
      "-초코파이 : 3개\n",
      "-과자 : 2개\n",
      "- 새우깡 : 2개\n",
      "간식박스 정리\n",
      "-초코파이 : 3개\n",
      "-과자 : 3개\n",
      "- 새우깡 : 2개\n",
      "간식박스 정리\n",
      "-초코파이 : 3개\n",
      "-과자 : 3개\n",
      "- 새우깡 : 3개\n"
     ]
    },
    {
     "ename": "KeyboardInterrupt",
     "evalue": "Interrupted by user",
     "output_type": "error",
     "traceback": [
      "\u001b[31m---------------------------------------------------------------------------\u001b[39m",
      "\u001b[31mKeyboardInterrupt\u001b[39m                         Traceback (most recent call last)",
      "\u001b[36mCell\u001b[39m\u001b[36m \u001b[39m\u001b[32mIn[50]\u001b[39m\u001b[32m, line 8\u001b[39m\n\u001b[32m      5\u001b[39m summarize_snacks(box)\n\u001b[32m      7\u001b[39m \u001b[38;5;66;03m#검색후 삭제 기능\u001b[39;00m\n\u001b[32m----> \u001b[39m\u001b[32m8\u001b[39m search_snack(box)\n\u001b[32m      9\u001b[39m remove_snack_box(box)\n\u001b[32m     11\u001b[39m display_snack_box(box)\n",
      "\u001b[36mCell\u001b[39m\u001b[36m \u001b[39m\u001b[32mIn[36]\u001b[39m\u001b[32m, line 3\u001b[39m, in \u001b[36msearch_snack\u001b[39m\u001b[34m(snack_box)\u001b[39m\n\u001b[32m      2\u001b[39m \u001b[38;5;28;01mdef\u001b[39;00m\u001b[38;5;250m \u001b[39m\u001b[34msearch_snack\u001b[39m(snack_box):\n\u001b[32m----> \u001b[39m\u001b[32m3\u001b[39m     snack_name = \u001b[38;5;28minput\u001b[39m(\u001b[33m'\u001b[39m\u001b[33m찾고 싶은 간식을 입력하세요\u001b[39m\u001b[33m'\u001b[39m)\n\u001b[32m      4\u001b[39m     \u001b[38;5;28mprint\u001b[39m(\u001b[33m'\u001b[39m\u001b[33m있어요\u001b[39m\u001b[33m'\u001b[39m \u001b[38;5;28;01mif\u001b[39;00m snack_name \u001b[38;5;129;01min\u001b[39;00m snack_box \u001b[38;5;28;01melse\u001b[39;00m \u001b[33m'\u001b[39m\u001b[33m없어요\u001b[39m\u001b[33m'\u001b[39m)\n",
      "\u001b[36mFile \u001b[39m\u001b[32m~\\miniconda3\\Lib\\site-packages\\ipykernel\\kernelbase.py:1282\u001b[39m, in \u001b[36mKernel.raw_input\u001b[39m\u001b[34m(self, prompt)\u001b[39m\n\u001b[32m   1280\u001b[39m     msg = \u001b[33m\"\u001b[39m\u001b[33mraw_input was called, but this frontend does not support input requests.\u001b[39m\u001b[33m\"\u001b[39m\n\u001b[32m   1281\u001b[39m     \u001b[38;5;28;01mraise\u001b[39;00m StdinNotImplementedError(msg)\n\u001b[32m-> \u001b[39m\u001b[32m1282\u001b[39m \u001b[38;5;28;01mreturn\u001b[39;00m \u001b[38;5;28mself\u001b[39m._input_request(\n\u001b[32m   1283\u001b[39m     \u001b[38;5;28mstr\u001b[39m(prompt),\n\u001b[32m   1284\u001b[39m     \u001b[38;5;28mself\u001b[39m._parent_ident[\u001b[33m\"\u001b[39m\u001b[33mshell\u001b[39m\u001b[33m\"\u001b[39m],\n\u001b[32m   1285\u001b[39m     \u001b[38;5;28mself\u001b[39m.get_parent(\u001b[33m\"\u001b[39m\u001b[33mshell\u001b[39m\u001b[33m\"\u001b[39m),\n\u001b[32m   1286\u001b[39m     password=\u001b[38;5;28;01mFalse\u001b[39;00m,\n\u001b[32m   1287\u001b[39m )\n",
      "\u001b[36mFile \u001b[39m\u001b[32m~\\miniconda3\\Lib\\site-packages\\ipykernel\\kernelbase.py:1325\u001b[39m, in \u001b[36mKernel._input_request\u001b[39m\u001b[34m(self, prompt, ident, parent, password)\u001b[39m\n\u001b[32m   1322\u001b[39m \u001b[38;5;28;01mexcept\u001b[39;00m \u001b[38;5;167;01mKeyboardInterrupt\u001b[39;00m:\n\u001b[32m   1323\u001b[39m     \u001b[38;5;66;03m# re-raise KeyboardInterrupt, to truncate traceback\u001b[39;00m\n\u001b[32m   1324\u001b[39m     msg = \u001b[33m\"\u001b[39m\u001b[33mInterrupted by user\u001b[39m\u001b[33m\"\u001b[39m\n\u001b[32m-> \u001b[39m\u001b[32m1325\u001b[39m     \u001b[38;5;28;01mraise\u001b[39;00m \u001b[38;5;167;01mKeyboardInterrupt\u001b[39;00m(msg) \u001b[38;5;28;01mfrom\u001b[39;00m\u001b[38;5;250m \u001b[39m\u001b[38;5;28;01mNone\u001b[39;00m\n\u001b[32m   1326\u001b[39m \u001b[38;5;28;01mexcept\u001b[39;00m \u001b[38;5;167;01mException\u001b[39;00m:\n\u001b[32m   1327\u001b[39m     \u001b[38;5;28mself\u001b[39m.log.warning(\u001b[33m\"\u001b[39m\u001b[33mInvalid Message:\u001b[39m\u001b[33m\"\u001b[39m, exc_info=\u001b[38;5;28;01mTrue\u001b[39;00m)\n",
      "\u001b[31mKeyboardInterrupt\u001b[39m: Interrupted by user"
     ]
    }
   ],
   "source": [
    "# 서비스의 흐름 - 순차\n",
    "box = make_snack_box()\n",
    "print('간식박스가 만들어졌어요')\n",
    "display_snack_box(box)\n",
    "box = multiply_snack_box(box)\n",
    "summarize_snacks(box)\n",
    "\n",
    "#검색후 삭제 기능\n",
    "search_snack(box)\n",
    "remove_snack_box(box)\n",
    "\n",
    "display_snack_box(box)\n"
   ]
  },
  {
   "cell_type": "markdown",
   "id": "b124ee84-7581-4d1a-bf74-87485376834d",
   "metadata": {},
   "source": [
    "# 메뉴 형식으로 구조를 개편"
   ]
  },
  {
   "cell_type": "code",
   "execution_count": 51,
   "id": "6a27b5e0-f6c9-4144-b1c6-fc0737121bce",
   "metadata": {},
   "outputs": [],
   "source": [
    "# 선택, 반복"
   ]
  },
  {
   "cell_type": "code",
   "execution_count": 84,
   "id": "92b13db2-183e-4006-9167-2248b2f3e91a",
   "metadata": {},
   "outputs": [],
   "source": [
    "# -- 공통 유틸리티 함수\n",
    "def get_valid_text_input(msg):\n",
    "    user_input = input('>>>'+msg).strip()\n",
    "    if not user_input:\n",
    "        print('>>> 입력값을 확인하세요')\n",
    "        return None\n",
    "    return user_input\n",
    "\n",
    "# 숫자 검증\n",
    "def get_valid_number_input(msg, min_no=1, max_no=5):\n",
    "    # 숫자체크\n",
    "    try:\n",
    "        number = int(input(msg))\n",
    "        if number < min_no :\n",
    "            print(f'{min_no}이상 숫자를 입력하세요')\n",
    "            return None\n",
    "        elif number > max_no :\n",
    "            print(f'{max_no}이하 숫자를 입력하세요')\n",
    "            return None\n",
    "        else:\n",
    "            return number\n",
    "    except ValueError:\n",
    "        print('숫자로 입력하세요.')\n",
    "        return None"
   ]
  },
  {
   "cell_type": "code",
   "execution_count": 85,
   "id": "3fc23f7a-32d0-42c2-bd58-88b937489e35",
   "metadata": {},
   "outputs": [],
   "source": [
    "# -- 기본 함수 정의"
   ]
  },
  {
   "cell_type": "code",
   "execution_count": 87,
   "id": "7f9d1016-bb60-445f-8d78-a3bc52f42974",
   "metadata": {},
   "outputs": [],
   "source": [
    "#1 간식박스 생성 create\n",
    "def make_snack_box():\n",
    "    snack_box = ['초코파이']\n",
    "    make_msg = '먹고싶은 간식을 추가하세요. 단, 쉼표(,)로 연결하세요'\n",
    "    new_snack = get_valid_text_input(make_msg).split(',')\n",
    "    snack_box += [item.strip() for item in new_snack]\n",
    "\n",
    "    return snack_box\n",
    "\n",
    "#2-2 간식세트 포장 *2 upadte\n",
    "def multiply_snack_box(snack_box):\n",
    "    mul_msg = '간식박스 몇 세트로 포장할까요? 예:2->2box'\n",
    "    qty = get_valid_number_input(mul_msg, 2, 5)\n",
    "    return snack_box * qty\n",
    "\n",
    "#6 간식박스 전체보기 read\n",
    "def display_snack_box(snack_box):\n",
    "    print(f'{snack_box[::-1]}, 총 {len(snack_box)}개 입니다.')\n",
    "\n",
    "#3 간식박스 미리보기(3개만) read - signature\n",
    "def preview_snack_box(snack_box):\n",
    "    preview = ','.join(snack_box[:3])\n",
    "    print(f'선택하신 간식은 {preview} … 등이 있습니다.')\n",
    "\n",
    "#4 간식삭제 delete\n",
    "def remove_snack_box(snack_box):\n",
    "    # 예외처리\n",
    "    if not snack_box:\n",
    "        print('간식박스가 비어 있어요')\n",
    "        return\n",
    "    display_snack_box(snack_box)\n",
    "    \n",
    "    snack_cnt = len(snack_box)-1\n",
    "    rmv_msg = f'혹시 빼고싶은 간식이 있으면 번호를 입력하세요 (0~{snack_cnt})'\n",
    "    snack_no = get_valid_number_input(rmv_msg, 0, 5)\n",
    "    # snack_no validation\n",
    "    del snack_box[snack_no]\n",
    "    return snack_box\n",
    "\n",
    "#5 간식찾기 search\n",
    "def search_snack(snack_box):\n",
    "    search_msg = '찾고싶은 간식을 입력하세요'\n",
    "    snack_name = get_valid_text_input(search_msg)\n",
    "    print('있어요' if snack_name in snack_box else '없어요')\n",
    "\n",
    "#7 간식박스 요약\n",
    "def summarize_snacks(snack_box):\n",
    "    summary = {}\n",
    "    for snack in snack_box:\n",
    "        summary[snack] = summary.get(snack,0)+1\n",
    "    print('간식박스 정리')\n",
    "    for snack, qty in summary.items():\n",
    "        print(f'-{snack} : {qty}개')\n"
   ]
  },
  {
   "cell_type": "code",
   "execution_count": 88,
   "id": "4ddf94b8-9619-46c3-b013-e09005ba7c70",
   "metadata": {},
   "outputs": [],
   "source": [
    "# 서비스의 흐름 - 선택과 반복\n",
    "def run_menu_program():\n",
    "    snack_box = []\n",
    "    while True:\n",
    "        print('간식박스 관리 프로그램 메뉴')\n",
    "        print('1. 간식박스 생성')\n",
    "        print('2. 세트 생성')\n",
    "        print('3. 세트 미리보기')\n",
    "        print('4. 간식 삭제')\n",
    "        print('5. 간식 검색')\n",
    "        print('6. 간식박스 요약')\n",
    "        print('7. 간식박스 전체 보기')\n",
    "\n",
    "        menu_msg = '원하는 메뉴 번호를 입력하세요 : '\n",
    "        choice = str(get_valid_number_input(menu_msg, 1, 7))\n",
    "\n",
    "        if choice == '1':\n",
    "            snack_box = make_snack_box()\n",
    "        elif choice == '2':\n",
    "            snack_box = multiply_snack_box(snack_box)\n",
    "        elif choice == '3':\n",
    "            preview_snack_box(snack_box)\n",
    "        elif choice == '4':\n",
    "            remove_snack_box(snack_box)\n",
    "        elif choice == '5':\n",
    "            search_snack(snack_box)\n",
    "        elif choice == '6':\n",
    "            summarize_snacks(snack_box)\n",
    "        elif choice == '7':\n",
    "            display_snack_box(snack_box)\n",
    "    \n"
   ]
  },
  {
   "cell_type": "code",
   "execution_count": null,
   "id": "e948855b-8f9f-4504-9f62-d6dcfb24829b",
   "metadata": {},
   "outputs": [
    {
     "name": "stdout",
     "output_type": "stream",
     "text": [
      "간식박스 관리 프로그램 메뉴\n",
      "1. 간식박스 생성\n",
      "2. 세트 생성\n",
      "3. 세트 미리보기\n",
      "4. 간식 삭제\n",
      "5. 간식 검색\n",
      "6. 간식박스 요약\n",
      "7. 간식박스 전체 보기\n"
     ]
    },
    {
     "name": "stdin",
     "output_type": "stream",
     "text": [
      "원하는 메뉴 번호를 입력하세요 :  1\n",
      ">>>먹고싶은 간식을 추가하세요. 단, 쉼표(,)로 연결하세요 아이스크림, 비틀즈\n"
     ]
    },
    {
     "name": "stdout",
     "output_type": "stream",
     "text": [
      "간식박스 관리 프로그램 메뉴\n",
      "1. 간식박스 생성\n",
      "2. 세트 생성\n",
      "3. 세트 미리보기\n",
      "4. 간식 삭제\n",
      "5. 간식 검색\n",
      "6. 간식박스 요약\n",
      "7. 간식박스 전체 보기\n"
     ]
    },
    {
     "name": "stdin",
     "output_type": "stream",
     "text": [
      "원하는 메뉴 번호를 입력하세요 :  6\n"
     ]
    },
    {
     "name": "stdout",
     "output_type": "stream",
     "text": [
      "간식박스 정리\n",
      "-초코파이 : 1개\n",
      "-아이스크림 : 1개\n",
      "-비틀즈 : 1개\n",
      "간식박스 관리 프로그램 메뉴\n",
      "1. 간식박스 생성\n",
      "2. 세트 생성\n",
      "3. 세트 미리보기\n",
      "4. 간식 삭제\n",
      "5. 간식 검색\n",
      "6. 간식박스 요약\n",
      "7. 간식박스 전체 보기\n"
     ]
    }
   ],
   "source": [
    "run_menu_program()"
   ]
  },
  {
   "cell_type": "code",
   "execution_count": null,
   "id": "2b20d373-5a6d-4b6f-9e11-52719c6b08f9",
   "metadata": {},
   "outputs": [],
   "source": []
  },
  {
   "cell_type": "code",
   "execution_count": null,
   "id": "04274863-3019-4c97-b211-a9741ea4a5e0",
   "metadata": {},
   "outputs": [],
   "source": []
  },
  {
   "cell_type": "code",
   "execution_count": null,
   "id": "2fb938e4-892c-4623-94cd-eda3d0efc377",
   "metadata": {},
   "outputs": [],
   "source": []
  },
  {
   "cell_type": "code",
   "execution_count": null,
   "id": "e3c1e7e0-f33e-485c-9c17-37f4ee2519c6",
   "metadata": {},
   "outputs": [],
   "source": []
  }
 ],
 "metadata": {
  "kernelspec": {
   "display_name": "Python 3 (ipykernel)",
   "language": "python",
   "name": "python3"
  },
  "language_info": {
   "codemirror_mode": {
    "name": "ipython",
    "version": 3
   },
   "file_extension": ".py",
   "mimetype": "text/x-python",
   "name": "python",
   "nbconvert_exporter": "python",
   "pygments_lexer": "ipython3",
   "version": "3.12.1"
  }
 },
 "nbformat": 4,
 "nbformat_minor": 5
}
