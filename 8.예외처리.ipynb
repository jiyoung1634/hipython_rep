{
 "cells": [
  {
   "cell_type": "markdown",
   "id": "f30ec3c8-2d22-4f23-96e2-99de8993afe1",
   "metadata": {},
   "source": [
    "# 예외의 종류\n",
    "\n",
    "1. 문법오류 : SyntaxError, NameError, TypeError 등\n",
    "   https://docs.python.org/ko/3/library/exceptions.html#bltin-exceptions\n",
    "2. 논리오류\n",
    "3. 예외상황"
   ]
  },
  {
   "cell_type": "markdown",
   "id": "bb6f7235-365b-4bcb-8b68-00210ca2ec87",
   "metadata": {},
   "source": [
    "# try : \n",
    "except"
   ]
  },
  {
   "cell_type": "code",
   "execution_count": 2,
   "id": "8a936d5c-cd61-42f6-831a-d9974e581378",
   "metadata": {},
   "outputs": [],
   "source": [
    "# 10/0   #ZeroDivisionError"
   ]
  },
  {
   "cell_type": "code",
   "execution_count": 3,
   "id": "1263e816-617e-4a1f-928b-d1768518bf9d",
   "metadata": {},
   "outputs": [],
   "source": [
    "def divide(m, n) :\n",
    "    return m/n"
   ]
  },
  {
   "cell_type": "code",
   "execution_count": 4,
   "id": "45a45961-13e5-4fad-a395-7a45679c37dc",
   "metadata": {},
   "outputs": [
    {
     "data": {
      "text/plain": [
       "1.5"
      ]
     },
     "execution_count": 4,
     "metadata": {},
     "output_type": "execute_result"
    }
   ],
   "source": [
    "result = divide(3,2)\n",
    "result"
   ]
  },
  {
   "cell_type": "code",
   "execution_count": 5,
   "id": "85dc8212-fb7c-4fff-bda6-fe02cfe0d979",
   "metadata": {},
   "outputs": [
    {
     "ename": "ZeroDivisionError",
     "evalue": "division by zero",
     "output_type": "error",
     "traceback": [
      "\u001b[31m---------------------------------------------------------------------------\u001b[39m",
      "\u001b[31mZeroDivisionError\u001b[39m                         Traceback (most recent call last)",
      "\u001b[36mCell\u001b[39m\u001b[36m \u001b[39m\u001b[32mIn[5]\u001b[39m\u001b[32m, line 1\u001b[39m\n\u001b[32m----> \u001b[39m\u001b[32m1\u001b[39m result = divide(\u001b[32m3\u001b[39m,\u001b[32m0\u001b[39m)\n\u001b[32m      2\u001b[39m result\n",
      "\u001b[36mCell\u001b[39m\u001b[36m \u001b[39m\u001b[32mIn[3]\u001b[39m\u001b[32m, line 2\u001b[39m, in \u001b[36mdivide\u001b[39m\u001b[34m(m, n)\u001b[39m\n\u001b[32m      1\u001b[39m \u001b[38;5;28;01mdef\u001b[39;00m\u001b[38;5;250m \u001b[39m\u001b[34mdivide\u001b[39m(m, n) :\n\u001b[32m----> \u001b[39m\u001b[32m2\u001b[39m     \u001b[38;5;28;01mreturn\u001b[39;00m m/n\n",
      "\u001b[31mZeroDivisionError\u001b[39m: division by zero"
     ]
    }
   ],
   "source": [
    "result = divide(3,0)\n",
    "result"
   ]
  },
  {
   "cell_type": "code",
   "execution_count": 27,
   "id": "7cce0bc9-348b-4060-935f-039f552467b0",
   "metadata": {},
   "outputs": [],
   "source": [
    "def divide(m, n, s) :\n",
    "    try:\n",
    "        result = m/n\n",
    "        result *= int(s)\n",
    "        return result\n",
    "    except (ValueError, ZeroDivisionError):\n",
    "        print('0으로 나눌 수 없습니다.')\n",
    "        return None\n",
    "    except :   #except뒤에 아무것도 안쓰고 그냥 콜론 붙이면 나머지 모든 에러 받기\n",
    "        print('다른 에러가 발생했습니다.')\n",
    "        return None\n",
    "    finally:\n",
    "        print('항상 실행되는 코드입니다.')"
   ]
  },
  {
   "cell_type": "code",
   "execution_count": 28,
   "id": "27a863c4-1891-4be2-bf2f-aab4d04cb7bb",
   "metadata": {},
   "outputs": [
    {
     "name": "stdout",
     "output_type": "stream",
     "text": [
      "0으로 나눌 수 없습니다.\n",
      "항상 실행되는 코드입니다.\n"
     ]
    }
   ],
   "source": [
    "result = divide(3,1,'a')\n",
    "result"
   ]
  },
  {
   "cell_type": "markdown",
   "id": "65c370d0-60cb-45ef-b0f2-d78b5ebc9785",
   "metadata": {},
   "source": [
    "# 예외 발생시키기"
   ]
  },
  {
   "cell_type": "code",
   "execution_count": 32,
   "id": "fdf4cb6a-04da-436d-a00f-ca517ef6ca8b",
   "metadata": {},
   "outputs": [
    {
     "ename": "TypeError",
     "evalue": "입력값오류",
     "output_type": "error",
     "traceback": [
      "\u001b[31m---------------------------------------------------------------------------\u001b[39m",
      "\u001b[31mTypeError\u001b[39m                                 Traceback (most recent call last)",
      "\u001b[36mCell\u001b[39m\u001b[36m \u001b[39m\u001b[32mIn[32]\u001b[39m\u001b[32m, line 1\u001b[39m\n\u001b[32m----> \u001b[39m\u001b[32m1\u001b[39m \u001b[38;5;28;01mraise\u001b[39;00m \u001b[38;5;167;01mTypeError\u001b[39;00m(\u001b[33m'\u001b[39m\u001b[33m입력값오류\u001b[39m\u001b[33m'\u001b[39m)\n",
      "\u001b[31mTypeError\u001b[39m: 입력값오류"
     ]
    }
   ],
   "source": [
    "raise TypeError('입력값오류')   # raise 예외이름 적으면 에러가 발생한다."
   ]
  },
  {
   "cell_type": "code",
   "execution_count": 33,
   "id": "aa7b8211-1e96-4cdf-bd7e-6cb253f39b44",
   "metadata": {},
   "outputs": [
    {
     "name": "stdout",
     "output_type": "stream",
     "text": [
      "('입력값오류',)\n"
     ]
    }
   ],
   "source": [
    "try:\n",
    "    raise TypeError('입력값오류')\n",
    "except TypeError as e:\n",
    "    print(e.args)"
   ]
  },
  {
   "cell_type": "markdown",
   "id": "3ffcecd7-0e13-4ba4-b45f-22906deb135a",
   "metadata": {},
   "source": [
    "# 내가 정의하는 예외\n",
    "\n",
    "1. 예외 클래스 작성 : 각 예외상황에 맞는 메시지를 작성\n",
    "2. 호출할 때 try: except로 받아줍니다."
   ]
  },
  {
   "cell_type": "code",
   "execution_count": 43,
   "id": "0f43e3ae-2bfb-4616-985e-86d6139d7d3a",
   "metadata": {},
   "outputs": [],
   "source": [
    "class AgeException(Exception) :\n",
    "    def __init__(self, msg):\n",
    "        self.__message = msg\n",
    "\n",
    "def input_age():\n",
    "    age = int(input('나이를 입력하세요 : '))\n",
    "    if age < 0 :\n",
    "        raise AgeException('나이는 양수입니다.')\n",
    "    elif age > 150 :\n",
    "        raise AgeException('150세 이상???')\n",
    "    else:\n",
    "        return age"
   ]
  },
  {
   "cell_type": "code",
   "execution_count": 44,
   "id": "965b6645-e300-46de-8782-0d23b999a416",
   "metadata": {},
   "outputs": [
    {
     "name": "stdin",
     "output_type": "stream",
     "text": [
      "나이를 입력하세요 :  100\n"
     ]
    },
    {
     "data": {
      "text/plain": [
       "100"
      ]
     },
     "execution_count": 44,
     "metadata": {},
     "output_type": "execute_result"
    }
   ],
   "source": [
    "input_age()"
   ]
  },
  {
   "cell_type": "code",
   "execution_count": 47,
   "id": "62c6b985-c0f8-40a9-801a-0bd6b747d6dc",
   "metadata": {},
   "outputs": [
    {
     "name": "stdin",
     "output_type": "stream",
     "text": [
      "나이를 입력하세요 :  df\n"
     ]
    },
    {
     "ename": "ValueError",
     "evalue": "invalid literal for int() with base 10: 'df'",
     "output_type": "error",
     "traceback": [
      "\u001b[31m---------------------------------------------------------------------------\u001b[39m",
      "\u001b[31mValueError\u001b[39m                                Traceback (most recent call last)",
      "\u001b[36mCell\u001b[39m\u001b[36m \u001b[39m\u001b[32mIn[47]\u001b[39m\u001b[32m, line 2\u001b[39m\n\u001b[32m      1\u001b[39m \u001b[38;5;28;01mtry\u001b[39;00m:\n\u001b[32m----> \u001b[39m\u001b[32m2\u001b[39m     age = input_age()\n\u001b[32m      3\u001b[39m \u001b[38;5;28;01mexcept\u001b[39;00m AgeException \u001b[38;5;28;01mas\u001b[39;00m e:\n\u001b[32m      4\u001b[39m     \u001b[38;5;28mprint\u001b[39m(e.args[\u001b[32m0\u001b[39m])\n",
      "\u001b[36mCell\u001b[39m\u001b[36m \u001b[39m\u001b[32mIn[43]\u001b[39m\u001b[32m, line 6\u001b[39m, in \u001b[36minput_age\u001b[39m\u001b[34m()\u001b[39m\n\u001b[32m      5\u001b[39m \u001b[38;5;28;01mdef\u001b[39;00m\u001b[38;5;250m \u001b[39m\u001b[34minput_age\u001b[39m():\n\u001b[32m----> \u001b[39m\u001b[32m6\u001b[39m     age = \u001b[38;5;28mint\u001b[39m(\u001b[38;5;28minput\u001b[39m(\u001b[33m'\u001b[39m\u001b[33m나이를 입력하세요 : \u001b[39m\u001b[33m'\u001b[39m))\n\u001b[32m      7\u001b[39m     \u001b[38;5;28;01mif\u001b[39;00m age < \u001b[32m0\u001b[39m :\n\u001b[32m      8\u001b[39m         \u001b[38;5;28;01mraise\u001b[39;00m AgeException(\u001b[33m'\u001b[39m\u001b[33m나이는 양수입니다.\u001b[39m\u001b[33m'\u001b[39m)\n",
      "\u001b[31mValueError\u001b[39m: invalid literal for int() with base 10: 'df'"
     ]
    }
   ],
   "source": [
    "try:\n",
    "    age = input_age()\n",
    "except AgeException as e:\n",
    "    print(e.args[0])\n",
    "else:\n",
    "    print(f'입력하신 나이는 {age}입니다.')"
   ]
  },
  {
   "cell_type": "code",
   "execution_count": 48,
   "id": "aaf159bd-a363-4db3-be46-af8306b0001d",
   "metadata": {},
   "outputs": [],
   "source": [
    "def yesno() :\n",
    "    while True:\n",
    "        a= input('더 주문하시겠습니까?(y/n):')\n",
    "        if a.lower() not in ['y', 'n']:\n",
    "            prt_alarm()\n",
    "            continue\n",
    "        else:\n",
    "            return a"
   ]
  },
  {
   "cell_type": "code",
   "execution_count": 60,
   "id": "7a66f817-5874-49fb-9f09-494847d182e1",
   "metadata": {},
   "outputs": [],
   "source": [
    "def yesno() :\n",
    "    while True:\n",
    "        a = input('더 주문하시겠습니까?(y/n):')\n",
    "        try:\n",
    "            if a.lower() not in ['y', 'n']:\n",
    "                prt_alarm()\n",
    "                continue\n",
    "            else:\n",
    "                return a\n",
    "        except ValueError:\n",
    "            prt_alarm()"
   ]
  },
  {
   "cell_type": "code",
   "execution_count": 62,
   "id": "c1f3e041-a45a-4675-bf9d-3efbba927eee",
   "metadata": {},
   "outputs": [
    {
     "name": "stdin",
     "output_type": "stream",
     "text": [
      "더 주문하시겠습니까?(y/n): y\n"
     ]
    },
    {
     "data": {
      "text/plain": [
       "'y'"
      ]
     },
     "execution_count": 62,
     "metadata": {},
     "output_type": "execute_result"
    }
   ],
   "source": [
    "yesno()"
   ]
  },
  {
   "cell_type": "code",
   "execution_count": 65,
   "id": "b669a762-2f7e-4f85-a968-06b64d58bbae",
   "metadata": {},
   "outputs": [],
   "source": [
    "def prt_points():\n",
    "    while True:\n",
    "        ab = input('포인트를 적립하시겠습니까? (y/n): ')\n",
    "        try:\n",
    "            if ab.lower() not in ['y', 'n']:\n",
    "                prt_alarm()\n",
    "                continue\n",
    "            elif ab.lower()=='n':\n",
    "                return\n",
    "            else:\n",
    "                while True:\n",
    "                    phone = input('전화번호를 입력해 주세요: ')\n",
    "                    if not phone.isdigit() or len(phone) < 11 or phone =='x':\n",
    "                        prt_alarm()\n",
    "                        continue\n",
    "                    user_id = f'user_{phone[-4:]}'\n",
    "                    point = int(total * 0.05)\n",
    "                    if user_id in points :\n",
    "                        points[user_id] += point\n",
    "                    else :\n",
    "                        points[user_id] = point\n",
    "                    print('='*44)\n",
    "                    print(f'🎁{user_id}고객님, {point}점 적립 되었습니다!🎁')\n",
    "                    print(f' 고객님의 총 적립포인트는 {points[user_id]:,}점 입니다!')\n",
    "                    print('='*44)\n",
    "                    return\n",
    "        except ValueError:\n",
    "            prt_alarm()"
   ]
  },
  {
   "cell_type": "code",
   "execution_count": 67,
   "id": "30cff6b3-9f61-4dfb-87b8-5549929682b4",
   "metadata": {},
   "outputs": [
    {
     "name": "stdout",
     "output_type": "stream",
     "text": [
      "\n",
      "        .================ooooooo\n",
      " ___   ,'    \\_________________________________\n",
      "/   /-/       /                   ////////////  ''--..._\n",
      "\\___\\-\\       \\                   \\\\\\\\\\\\\\\\\\\\\\\\  __..--'\n",
      "       `--------------------------''''''''''''''\n",
      "\n",
      "╔════════════════════════════════════════╗\n",
      "             빵꾸똥꾸 문구야             \n",
      "         에 오신 것을 환영합니다!💥          \n",
      "╚════════════════════════════════════════╝\n",
      "번호\t\t제품명\t\t가격\n",
      "--------------------------------------------\n",
      "1\t\t샤프\t\t6,000원\n",
      "2\t\t볼펜\t\t3,000원\n",
      "3\t\t지우개\t\t1,000원\n",
      "4\t\t화이트\t\t3,000원\n",
      "5\t\t공책\t\t3,500원\n",
      "--------------------------------------------\n"
     ]
    },
    {
     "name": "stdin",
     "output_type": "stream",
     "text": [
      "주문하실 제품 번호를 선택하세요:  5\n"
     ]
    },
    {
     "name": "stdout",
     "output_type": "stream",
     "text": [
      "============================================\n",
      "          고객님이 선택하신 제품은          \n",
      "             공책 입니다.             \n",
      "           몇 개를 드릴까요?            \n"
     ]
    },
    {
     "name": "stdin",
     "output_type": "stream",
     "text": [
      "\t수량을 입력하세요(취소: x):  ㅁㄴㅇㄹ\n"
     ]
    },
    {
     "name": "stdout",
     "output_type": "stream",
     "text": [
      "============================================\n",
      "         [알림]❌ 잘못된 입력입니다.          \n",
      "         [알림]✅ 다시 입력해주세요.          \n",
      "============================================\n"
     ]
    },
    {
     "name": "stdin",
     "output_type": "stream",
     "text": [
      "\t수량을 입력하세요(취소: x):  2\n",
      "더 주문하시겠습니까?(y/n): n\n"
     ]
    },
    {
     "name": "stdout",
     "output_type": "stream",
     "text": [
      "============================================\n",
      "\t\t주문 내역\n",
      "--------------------------------------------\n",
      "공책\t2개\t-\t7,000원\n",
      "--------------------------------------------\n",
      "총 결제 금액: 7,000원\n",
      "============================================\n"
     ]
    },
    {
     "name": "stdin",
     "output_type": "stream",
     "text": [
      "포인트를 적립하시겠습니까? (y/n):  asf\n"
     ]
    },
    {
     "name": "stdout",
     "output_type": "stream",
     "text": [
      "============================================\n",
      "         [알림]❌ 잘못된 입력입니다.          \n",
      "         [알림]✅ 다시 입력해주세요.          \n",
      "============================================\n"
     ]
    },
    {
     "name": "stdin",
     "output_type": "stream",
     "text": [
      "포인트를 적립하시겠습니까? (y/n):  y\n",
      "전화번호를 입력해 주세요:  asdf\n"
     ]
    },
    {
     "name": "stdout",
     "output_type": "stream",
     "text": [
      "============================================\n",
      "         [알림]❌ 잘못된 입력입니다.          \n",
      "         [알림]✅ 다시 입력해주세요.          \n",
      "============================================\n"
     ]
    },
    {
     "name": "stdin",
     "output_type": "stream",
     "text": [
      "전화번호를 입력해 주세요:  0\n"
     ]
    },
    {
     "name": "stdout",
     "output_type": "stream",
     "text": [
      "============================================\n",
      "         [알림]❌ 잘못된 입력입니다.          \n",
      "         [알림]✅ 다시 입력해주세요.          \n",
      "============================================\n"
     ]
    },
    {
     "name": "stdin",
     "output_type": "stream",
     "text": [
      "전화번호를 입력해 주세요:  01012345678\n"
     ]
    },
    {
     "name": "stdout",
     "output_type": "stream",
     "text": [
      "============================================\n",
      "🎁user_5678고객님, 350점 적립 되었습니다!🎁\n",
      " 고객님의 총 적립포인트는 350점 입니다!\n",
      "============================================\n",
      "            결제가 완료되었습니다.             \n",
      "            잠시만 기다려주세요. 😊            \n",
      "============================================\n",
      "       3초 뒤에 시작화면으로 돌아갑니다.        \n",
      "============================================\n",
      "       2초 뒤에 시작화면으로 돌아갑니다.        \n",
      "============================================\n",
      "       1초 뒤에 시작화면으로 돌아갑니다.        \n",
      "╔════════════════════════════════════════╗\n",
      "             빵꾸똥꾸 문구야             \n",
      "         에 오신 것을 환영합니다!💥          \n",
      "╚════════════════════════════════════════╝\n",
      "번호\t\t제품명\t\t가격\n",
      "--------------------------------------------\n",
      "1\t\t샤프\t\t6,000원\n",
      "2\t\t볼펜\t\t3,000원\n",
      "3\t\t지우개\t\t1,000원\n",
      "4\t\t화이트\t\t3,000원\n",
      "5\t\t공책\t\t3,500원\n",
      "--------------------------------------------\n"
     ]
    },
    {
     "name": "stdin",
     "output_type": "stream",
     "text": [
      "주문하실 제품 번호를 선택하세요:  5\n"
     ]
    },
    {
     "name": "stdout",
     "output_type": "stream",
     "text": [
      "============================================\n",
      "          고객님이 선택하신 제품은          \n",
      "             공책 입니다.             \n",
      "           몇 개를 드릴까요?            \n"
     ]
    },
    {
     "name": "stdin",
     "output_type": "stream",
     "text": [
      "\t수량을 입력하세요(취소: x):  asdf\n"
     ]
    },
    {
     "name": "stdout",
     "output_type": "stream",
     "text": [
      "============================================\n",
      "         [알림]❌ 잘못된 입력입니다.          \n",
      "         [알림]✅ 다시 입력해주세요.          \n",
      "============================================\n"
     ]
    },
    {
     "name": "stdin",
     "output_type": "stream",
     "text": [
      "\t수량을 입력하세요(취소: x):  82\n",
      "더 주문하시겠습니까?(y/n): adsf\n"
     ]
    },
    {
     "name": "stdout",
     "output_type": "stream",
     "text": [
      "============================================\n",
      "         [알림]❌ 잘못된 입력입니다.          \n",
      "         [알림]✅ 다시 입력해주세요.          \n",
      "============================================\n"
     ]
    },
    {
     "name": "stdin",
     "output_type": "stream",
     "text": [
      "더 주문하시겠습니까?(y/n): y\n"
     ]
    },
    {
     "name": "stdout",
     "output_type": "stream",
     "text": [
      "--------------------------------------------\n"
     ]
    },
    {
     "name": "stdin",
     "output_type": "stream",
     "text": [
      "주문하실 제품 번호를 선택하세요:  4\n"
     ]
    },
    {
     "name": "stdout",
     "output_type": "stream",
     "text": [
      "============================================\n",
      "          고객님이 선택하신 제품은          \n",
      "            화이트 입니다.             \n",
      "           몇 개를 드릴까요?            \n"
     ]
    },
    {
     "name": "stdin",
     "output_type": "stream",
     "text": [
      "\t수량을 입력하세요(취소: x):  1\n",
      "더 주문하시겠습니까?(y/n): asdf\n"
     ]
    },
    {
     "name": "stdout",
     "output_type": "stream",
     "text": [
      "============================================\n",
      "         [알림]❌ 잘못된 입력입니다.          \n",
      "         [알림]✅ 다시 입력해주세요.          \n",
      "============================================\n"
     ]
    },
    {
     "name": "stdin",
     "output_type": "stream",
     "text": [
      "더 주문하시겠습니까?(y/n): n\n"
     ]
    },
    {
     "name": "stdout",
     "output_type": "stream",
     "text": [
      "============================================\n",
      "\t\t주문 내역\n",
      "--------------------------------------------\n",
      "공책\t82개\t-\t287,000원\n",
      "화이트\t1개\t-\t3,000원\n",
      "--------------------------------------------\n",
      "총 결제 금액: 290,000원\n",
      "============================================\n"
     ]
    },
    {
     "name": "stdin",
     "output_type": "stream",
     "text": [
      "포인트를 적립하시겠습니까? (y/n):  y\n",
      "전화번호를 입력해 주세요:  01012345678\n"
     ]
    },
    {
     "name": "stdout",
     "output_type": "stream",
     "text": [
      "============================================\n",
      "🎁user_5678고객님, 14500점 적립 되었습니다!🎁\n",
      " 고객님의 총 적립포인트는 14,850점 입니다!\n",
      "============================================\n",
      "            결제가 완료되었습니다.             \n",
      "            잠시만 기다려주세요. 😊            \n",
      "============================================\n",
      "       3초 뒤에 시작화면으로 돌아갑니다.        \n",
      "============================================\n",
      "       2초 뒤에 시작화면으로 돌아갑니다.        \n",
      "============================================\n",
      "       1초 뒤에 시작화면으로 돌아갑니다.        \n",
      "╔════════════════════════════════════════╗\n",
      "             빵꾸똥꾸 문구야             \n",
      "         에 오신 것을 환영합니다!💥          \n",
      "╚════════════════════════════════════════╝\n",
      "번호\t\t제품명\t\t가격\n",
      "--------------------------------------------\n",
      "1\t\t샤프\t\t6,000원\n",
      "2\t\t볼펜\t\t3,000원\n",
      "3\t\t지우개\t\t1,000원\n",
      "4\t\t화이트\t\t3,000원\n",
      "5\t\t공책\t\t3,500원\n",
      "--------------------------------------------\n"
     ]
    },
    {
     "ename": "KeyboardInterrupt",
     "evalue": "Interrupted by user",
     "output_type": "error",
     "traceback": [
      "\u001b[31m---------------------------------------------------------------------------\u001b[39m",
      "\u001b[31mKeyboardInterrupt\u001b[39m                         Traceback (most recent call last)",
      "\u001b[36mCell\u001b[39m\u001b[36m \u001b[39m\u001b[32mIn[67]\u001b[39m\u001b[32m, line 150\u001b[39m\n\u001b[32m    146\u001b[39m order_list = []\n\u001b[32m    148\u001b[39m \u001b[38;5;28;01mwhile\u001b[39;00m \u001b[38;5;28;01mTrue\u001b[39;00m: \n\u001b[32m--> \u001b[39m\u001b[32m150\u001b[39m     ord_num = add_ord()         \n\u001b[32m    151\u001b[39m     menut = menu[ord_num][\u001b[33m'\u001b[39m\u001b[33mname\u001b[39m\u001b[33m'\u001b[39m]\n\u001b[32m    153\u001b[39m     \u001b[38;5;28mprint\u001b[39m(\u001b[33m'\u001b[39m\u001b[33m=\u001b[39m\u001b[33m'\u001b[39m*\u001b[32m44\u001b[39m)\n",
      "\u001b[36mCell\u001b[39m\u001b[36m \u001b[39m\u001b[32mIn[67]\u001b[39m\u001b[32m, line 39\u001b[39m, in \u001b[36madd_ord\u001b[39m\u001b[34m()\u001b[39m\n\u001b[32m     37\u001b[39m \u001b[38;5;28;01mwhile\u001b[39;00m \u001b[38;5;28;01mTrue\u001b[39;00m:        \n\u001b[32m     38\u001b[39m     \u001b[38;5;28;01mtry\u001b[39;00m:\n\u001b[32m---> \u001b[39m\u001b[32m39\u001b[39m         ord_num = \u001b[38;5;28mint\u001b[39m(\u001b[38;5;28minput\u001b[39m(\u001b[33m'\u001b[39m\u001b[33m주문하실 제품 번호를 선택하세요: \u001b[39m\u001b[33m'\u001b[39m)) -\u001b[32m1\u001b[39m\n\u001b[32m     40\u001b[39m         \u001b[38;5;28;01mif\u001b[39;00m \u001b[38;5;129;01mnot\u001b[39;00m (\u001b[32m0\u001b[39m <= ord_num < \u001b[38;5;28mlen\u001b[39m(menu)):\n\u001b[32m     41\u001b[39m             prt_alarm()\n",
      "\u001b[36mFile \u001b[39m\u001b[32m~\\miniconda3\\envs\\hipython\\Lib\\site-packages\\ipykernel\\kernelbase.py:1282\u001b[39m, in \u001b[36mKernel.raw_input\u001b[39m\u001b[34m(self, prompt)\u001b[39m\n\u001b[32m   1280\u001b[39m     msg = \u001b[33m\"\u001b[39m\u001b[33mraw_input was called, but this frontend does not support input requests.\u001b[39m\u001b[33m\"\u001b[39m\n\u001b[32m   1281\u001b[39m     \u001b[38;5;28;01mraise\u001b[39;00m StdinNotImplementedError(msg)\n\u001b[32m-> \u001b[39m\u001b[32m1282\u001b[39m \u001b[38;5;28;01mreturn\u001b[39;00m \u001b[38;5;28mself\u001b[39m._input_request(\n\u001b[32m   1283\u001b[39m     \u001b[38;5;28mstr\u001b[39m(prompt),\n\u001b[32m   1284\u001b[39m     \u001b[38;5;28mself\u001b[39m._parent_ident[\u001b[33m\"\u001b[39m\u001b[33mshell\u001b[39m\u001b[33m\"\u001b[39m],\n\u001b[32m   1285\u001b[39m     \u001b[38;5;28mself\u001b[39m.get_parent(\u001b[33m\"\u001b[39m\u001b[33mshell\u001b[39m\u001b[33m\"\u001b[39m),\n\u001b[32m   1286\u001b[39m     password=\u001b[38;5;28;01mFalse\u001b[39;00m,\n\u001b[32m   1287\u001b[39m )\n",
      "\u001b[36mFile \u001b[39m\u001b[32m~\\miniconda3\\envs\\hipython\\Lib\\site-packages\\ipykernel\\kernelbase.py:1325\u001b[39m, in \u001b[36mKernel._input_request\u001b[39m\u001b[34m(self, prompt, ident, parent, password)\u001b[39m\n\u001b[32m   1322\u001b[39m \u001b[38;5;28;01mexcept\u001b[39;00m \u001b[38;5;167;01mKeyboardInterrupt\u001b[39;00m:\n\u001b[32m   1323\u001b[39m     \u001b[38;5;66;03m# re-raise KeyboardInterrupt, to truncate traceback\u001b[39;00m\n\u001b[32m   1324\u001b[39m     msg = \u001b[33m\"\u001b[39m\u001b[33mInterrupted by user\u001b[39m\u001b[33m\"\u001b[39m\n\u001b[32m-> \u001b[39m\u001b[32m1325\u001b[39m     \u001b[38;5;28;01mraise\u001b[39;00m \u001b[38;5;167;01mKeyboardInterrupt\u001b[39;00m(msg) \u001b[38;5;28;01mfrom\u001b[39;00m\u001b[38;5;250m \u001b[39m\u001b[38;5;28;01mNone\u001b[39;00m\n\u001b[32m   1326\u001b[39m \u001b[38;5;28;01mexcept\u001b[39;00m \u001b[38;5;167;01mException\u001b[39;00m:\n\u001b[32m   1327\u001b[39m     \u001b[38;5;28mself\u001b[39m.log.warning(\u001b[33m\"\u001b[39m\u001b[33mInvalid Message:\u001b[39m\u001b[33m\"\u001b[39m, exc_info=\u001b[38;5;28;01mTrue\u001b[39;00m)\n",
      "\u001b[31mKeyboardInterrupt\u001b[39m: Interrupted by user"
     ]
    }
   ],
   "source": [
    "import time\n",
    "points = {}\n",
    "# # 메뉴 저장 리스트 -> 메뉴 추가 시 여기서.\n",
    "menu = [\n",
    "    {'name':'샤프', 'price': 6000},\n",
    "    {'name':'볼펜', 'price': 3000},\n",
    "    {'name':'지우개', 'price': 1000},\n",
    "    {'name':'화이트', 'price': 3000},\n",
    "    {'name':'공책', 'price': 3500}\n",
    "]\n",
    "\n",
    "def prt_menu(menu):\n",
    "    print('╔' + '═' * 40 + '╗')\n",
    "    print(f'빵꾸똥꾸 문구야'.center(34))\n",
    "    print(f\"에 오신 것을 환영합니다!💥\".center(34))\n",
    "    print('╚' + '═' * 40 + '╝') \n",
    "    print(f'{\"번호\"}\\t\\t{\"제품명\"}\\t\\t{\"가격\"}')\n",
    "    print('-'*44)\n",
    "\n",
    "    for i, m in enumerate(menu):\n",
    "        print(f'{i+1}\\t\\t{m[\"name\"]}\\t\\t{m[\"price\"]:,}원')\n",
    "    print('-'*44)\n",
    "\n",
    "def prt_alarm():\n",
    "    print('='*44)\n",
    "    print(f'{\"[알림]❌ 잘못된 입력입니다.\":^35}')\n",
    "    print(f'{\"[알림]✅ 다시 입력해주세요.\":^35}')\n",
    "    print('='*44)\n",
    "\n",
    "def prt_time():\n",
    "    for i in range(3, 0, -1):\n",
    "        print('=' * 44)\n",
    "        print(f'{i}초 뒤에 시작화면으로 돌아갑니다.'.center(34))\n",
    "        time.sleep(1)\n",
    "        \n",
    "def add_ord():\n",
    "    while True:        \n",
    "        try:\n",
    "            ord_num = int(input('주문하실 제품 번호를 선택하세요: ')) -1\n",
    "            if not (0 <= ord_num < len(menu)):\n",
    "                prt_alarm()\n",
    "                continue\n",
    "            return ord_num\n",
    "        except ValueError:\n",
    "            prt_alarm()\n",
    "            continue\n",
    "        \n",
    "def add_qty():\n",
    "    while True:\n",
    "        qty = input('\\t수량을 입력하세요(취소: x): ')\n",
    "        if qty.lower() ==\"x\":\n",
    "            return qty\n",
    "        try:\n",
    "            qty = int(qty)\n",
    "            if qty > 0:\n",
    "                return qty\n",
    "            prt_alarm()\n",
    "        except ValueError:\n",
    "            prt_alarm()\n",
    "\n",
    "def add_lst(order_list, ord_num, qty):\n",
    "    item = menu[ord_num]\n",
    "    for i in order_list:\n",
    "        if i['name'] == item['name']:\n",
    "            i['qty'] += qty\n",
    "            return order_list \n",
    "    order_list.append({\n",
    "        'name': item['name'],\n",
    "        'qty': qty,\n",
    "        'price': item['price']\n",
    "    })\n",
    "    return order_list\n",
    "    \n",
    "def yesno() :\n",
    "    while True:\n",
    "        a = input('더 주문하시겠습니까?(y/n):')\n",
    "        try:\n",
    "            if a.lower() not in ['y', 'n']:\n",
    "                prt_alarm()\n",
    "                continue\n",
    "            else:\n",
    "                return a\n",
    "        except ValueError:\n",
    "            prt_alarm()\n",
    "            \n",
    "def calc_cost():\n",
    "    total = 0   \n",
    "    print('='*44)\n",
    "    print(f'\\t\\t{\"주문 내역\"}')\n",
    "    print('-'*44)\n",
    "\n",
    "    for order in order_list:\n",
    "        item_total = order['qty'] * order['price']\n",
    "        total += item_total\n",
    "\n",
    "        print(f'{order[\"name\"]}\\t{order[\"qty\"]}개\\t-\\t{item_total:,}원')\n",
    "\n",
    "    print('-'*44)\n",
    "    print(f'총 결제 금액: {total:,}원')\n",
    "    print('='*44)\n",
    "    return total\n",
    "\n",
    "def prt_points():\n",
    "    while True:\n",
    "        ab = input('포인트를 적립하시겠습니까? (y/n): ')\n",
    "        if ab.lower() not in ['y', 'n']:\n",
    "            prt_alarm()\n",
    "            continue\n",
    "        elif ab.lower()=='n':\n",
    "            return        \n",
    "        else:\n",
    "            while True:\n",
    "                phone = input('전화번호를 입력해 주세요: ')\n",
    "                if not phone.isdigit() or len(phone) < 11 or phone == \"x\":\n",
    "                    prt_alarm()\n",
    "                    continue                       \n",
    "                user_id = f'user_{phone[-4:]}'\n",
    "                point = int(total * 0.05)                 \n",
    "                if user_id in points :\n",
    "                    points[user_id] += point\n",
    "                else :\n",
    "                    points[user_id] = point\n",
    "                print('='*44)\n",
    "                print(f'🎁{user_id}고객님, {point}점 적립 되었습니다!🎁')\n",
    "                print(f' 고객님의 총 적립포인트는 {points[user_id]:,}점 입니다!')\n",
    "                print('='*44)\n",
    "                return\n",
    "     \n",
    "######################################################################################################################################################\n",
    "\n",
    "\n",
    "def draw_pencil_ascii():\n",
    "    pencil_art = r\"\"\"\n",
    "        .================ooooooo\n",
    " ___   ,'    \\_________________________________\n",
    "/   /-/       /                   ////////////  ''--..._\n",
    "\\___\\-\\       \\                   \\\\\\\\\\\\\\\\\\\\\\\\  __..--'\n",
    "       `--------------------------''''''''''''''\n",
    "\"\"\"\n",
    "    print(pencil_art)\n",
    "\n",
    "draw_pencil_ascii()\n",
    "while True:\n",
    "    prt_menu(menu)\n",
    "    # 다중 주문 저장 리스트\n",
    "    order_list = []\n",
    "\n",
    "    while True: \n",
    "        \n",
    "        ord_num = add_ord()         \n",
    "        menut = menu[ord_num]['name']\n",
    "        \n",
    "        print('='*44)\n",
    "        print(f'{\"고객님이 선택하신 제품은\":^33}')\n",
    "        print(f'{menut + \" 입니다.\":^33}')\n",
    "        print(f'{\"몇 개를 드릴까요?\":^33}')\n",
    "        \n",
    "        \n",
    "        qty = add_qty()\n",
    "        if qty in ('x','X'):\n",
    "            break\n",
    "             \n",
    "        add_lst(order_list, ord_num, qty)\n",
    "        \n",
    "        answer = yesno()\n",
    "        if answer == 'n':\n",
    "            break\n",
    "        print('-'*44)\n",
    "\n",
    "    if qty not in ('x','X'):\n",
    "        \n",
    "        total = calc_cost()\n",
    "        \n",
    "        prt_points()\n",
    "        \n",
    "        print(f'{\"결제가 완료되었습니다.\":^37}')\n",
    "        print(f'{\"잠시만 기다려주세요. 😊\":^37}')\n",
    "\n",
    "        prt_time()"
   ]
  },
  {
   "cell_type": "code",
   "execution_count": null,
   "id": "fe76d2ac-39ce-4a3b-a9bf-c64a17a03fac",
   "metadata": {},
   "outputs": [],
   "source": []
  }
 ],
 "metadata": {
  "kernelspec": {
   "display_name": "Python 3 (ipykernel)",
   "language": "python",
   "name": "python3"
  },
  "language_info": {
   "codemirror_mode": {
    "name": "ipython",
    "version": 3
   },
   "file_extension": ".py",
   "mimetype": "text/x-python",
   "name": "python",
   "nbconvert_exporter": "python",
   "pygments_lexer": "ipython3",
   "version": "3.12.9"
  }
 },
 "nbformat": 4,
 "nbformat_minor": 5
}
