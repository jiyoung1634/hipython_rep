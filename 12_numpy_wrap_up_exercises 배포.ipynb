{
 "cells": [
  {
   "cell_type": "markdown",
   "metadata": {},
   "source": [
    "# NumPy 랩업 문제\n",
    "다음 문제들은 NumPy의 기본 개념부터 고급 개념까지 순차적으로 학습할 수 있도록 설계되었습니다. \n",
    "\n",
    "문제의 난이도는 하, 중, 상으로 나뉘어 있으며, 각각 5개의 문제로 구성되어 있습니다.\n",
    "\n"
   ]
  },
  {
   "cell_type": "markdown",
   "metadata": {},
   "source": [
    "## 1단계 문제\n"
   ]
  },
  {
   "cell_type": "markdown",
   "metadata": {},
   "source": [
    "1. 크기가 10인 null 벡터를 만드세요. (힌트: `np.zeros()`)\n"
   ]
  },
  {
   "cell_type": "code",
   "execution_count": 1,
   "metadata": {},
   "outputs": [
    {
     "data": {
      "text/plain": [
       "array([0., 0., 0., 0., 0., 0., 0., 0., 0., 0.])"
      ]
     },
     "execution_count": 1,
     "metadata": {},
     "output_type": "execute_result"
    }
   ],
   "source": [
    "import numpy as np\n",
    "np.zeros(10)"
   ]
  },
  {
   "cell_type": "markdown",
   "metadata": {},
   "source": [
    "2. numpy 버전과 설정을 출력하세요. (힌트: `np.__version__`, `np.show_config()`)\n"
   ]
  },
  {
   "cell_type": "code",
   "execution_count": 3,
   "metadata": {},
   "outputs": [
    {
     "name": "stdout",
     "output_type": "stream",
     "text": [
      "2.3.0\n",
      "Build Dependencies:\n",
      "  blas:\n",
      "    detection method: pkgconfig\n",
      "    found: true\n",
      "    include directory: C:/Users/runneradmin/AppData/Local/Temp/cibw-run-ly2cw5el/cp312-win_amd64/build/venv/Lib/site-packages/scipy_openblas64/include\n",
      "    lib directory: C:/Users/runneradmin/AppData/Local/Temp/cibw-run-ly2cw5el/cp312-win_amd64/build/venv/Lib/site-packages/scipy_openblas64/lib\n",
      "    name: scipy-openblas\n",
      "    openblas configuration: OpenBLAS 0.3.29  USE64BITINT DYNAMIC_ARCH NO_AFFINITY\n",
      "      Haswell MAX_THREADS=24\n",
      "    pc file directory: C:/a/numpy/numpy/.openblas\n",
      "    version: 0.3.29\n",
      "  lapack:\n",
      "    detection method: pkgconfig\n",
      "    found: true\n",
      "    include directory: C:/Users/runneradmin/AppData/Local/Temp/cibw-run-ly2cw5el/cp312-win_amd64/build/venv/Lib/site-packages/scipy_openblas64/include\n",
      "    lib directory: C:/Users/runneradmin/AppData/Local/Temp/cibw-run-ly2cw5el/cp312-win_amd64/build/venv/Lib/site-packages/scipy_openblas64/lib\n",
      "    name: scipy-openblas\n",
      "    openblas configuration: OpenBLAS 0.3.29  USE64BITINT DYNAMIC_ARCH NO_AFFINITY\n",
      "      Haswell MAX_THREADS=24\n",
      "    pc file directory: C:/a/numpy/numpy/.openblas\n",
      "    version: 0.3.29\n",
      "Compilers:\n",
      "  c:\n",
      "    commands: cl\n",
      "    linker: link\n",
      "    name: msvc\n",
      "    version: 19.43.34808\n",
      "  c++:\n",
      "    commands: cl\n",
      "    linker: link\n",
      "    name: msvc\n",
      "    version: 19.43.34808\n",
      "  cython:\n",
      "    commands: cython\n",
      "    linker: cython\n",
      "    name: cython\n",
      "    version: 3.1.1\n",
      "Machine Information:\n",
      "  build:\n",
      "    cpu: x86_64\n",
      "    endian: little\n",
      "    family: x86_64\n",
      "    system: windows\n",
      "  host:\n",
      "    cpu: x86_64\n",
      "    endian: little\n",
      "    family: x86_64\n",
      "    system: windows\n",
      "Python Information:\n",
      "  path: C:\\Users\\runneradmin\\AppData\\Local\\Temp\\build-env-5mlc73_a\\Scripts\\python.exe\n",
      "  version: '3.12'\n",
      "SIMD Extensions:\n",
      "  baseline:\n",
      "  - SSE\n",
      "  - SSE2\n",
      "  - SSE3\n",
      "  found:\n",
      "  - SSSE3\n",
      "  - SSE41\n",
      "  - POPCNT\n",
      "  - SSE42\n",
      "  - AVX\n",
      "  - F16C\n",
      "  - FMA3\n",
      "  - AVX2\n",
      "  not found:\n",
      "  - AVX512F\n",
      "  - AVX512CD\n",
      "  - AVX512_SKX\n",
      "  - AVX512_CLX\n",
      "  - AVX512_CNL\n",
      "  - AVX512_ICL\n",
      "\n",
      "None\n"
     ]
    },
    {
     "data": {
      "text/plain": [
       "(None, None)"
      ]
     },
     "execution_count": 3,
     "metadata": {},
     "output_type": "execute_result"
    }
   ],
   "source": [
    "print(np.__version__), print(np.show_config())"
   ]
  },
  {
   "cell_type": "markdown",
   "metadata": {},
   "source": [
    "3. 값이 10에서 49까지인 벡터를 만드세요. (힌트: `np.arange(10, 50)`)\n"
   ]
  },
  {
   "cell_type": "code",
   "execution_count": 5,
   "metadata": {},
   "outputs": [
    {
     "data": {
      "text/plain": [
       "array([10, 11, 12, 13, 14, 15, 16, 17, 18, 19, 20, 21, 22, 23, 24, 25, 26,\n",
       "       27, 28, 29, 30, 31, 32, 33, 34, 35, 36, 37, 38, 39, 40, 41, 42, 43,\n",
       "       44, 45, 46, 47, 48, 49])"
      ]
     },
     "execution_count": 5,
     "metadata": {},
     "output_type": "execute_result"
    }
   ],
   "source": [
    "arr = np.arange(10, 50)\n",
    "arr"
   ]
  },
  {
   "cell_type": "markdown",
   "metadata": {},
   "source": [
    "4. 벡터를 역순으로 만드세요 (첫 번째 요소가 마지막이 됩니다). (힌트: 배열을 뒤집기 위해 `[::-1]`)\n"
   ]
  },
  {
   "cell_type": "code",
   "execution_count": 8,
   "metadata": {},
   "outputs": [
    {
     "data": {
      "text/plain": [
       "array([49, 48, 47, 46, 45, 44, 43, 42, 41, 40, 39, 38, 37, 36, 35, 34, 33,\n",
       "       32, 31, 30, 29, 28, 27, 26, 25, 24, 23, 22, 21, 20, 19, 18, 17, 16,\n",
       "       15, 14, 13, 12, 11, 10])"
      ]
     },
     "execution_count": 8,
     "metadata": {},
     "output_type": "execute_result"
    }
   ],
   "source": [
    "arr1 = arr[::-1]\n",
    "arr1"
   ]
  },
  {
   "cell_type": "markdown",
   "metadata": {},
   "source": [
    "5. 크기가 3x3이고 0에서 8까지의 값을 갖는 행렬을 만드세요. (힌트: `np.arange()`와 `reshape()`)\n"
   ]
  },
  {
   "cell_type": "code",
   "execution_count": 9,
   "metadata": {},
   "outputs": [
    {
     "data": {
      "text/plain": [
       "array([[0, 1, 2],\n",
       "       [3, 4, 5],\n",
       "       [6, 7, 8]])"
      ]
     },
     "execution_count": 9,
     "metadata": {},
     "output_type": "execute_result"
    }
   ],
   "source": [
    "np.arange(9).reshape(3,3)"
   ]
  },
  {
   "cell_type": "markdown",
   "metadata": {},
   "source": [
    "## 2단계 문제\n"
   ]
  },
  {
   "cell_type": "markdown",
   "metadata": {},
   "source": [
    "1. 1D 배열을 3x3 행렬로 변환하세요. (힌트: `reshape()`)\n"
   ]
  },
  {
   "cell_type": "code",
   "execution_count": 10,
   "metadata": {},
   "outputs": [
    {
     "data": {
      "text/plain": [
       "array([[0, 1, 2],\n",
       "       [3, 4, 5],\n",
       "       [6, 7, 8]])"
      ]
     },
     "execution_count": 10,
     "metadata": {},
     "output_type": "execute_result"
    }
   ],
   "source": [
    "np.arange(9).reshape(3,3)"
   ]
  },
  {
   "cell_type": "markdown",
   "metadata": {},
   "source": [
    "2. 0에서 1 사이의 랜덤한 값으로 채워진 3x3 배열을 만드세요. (힌트: `np.random.random()`)\n"
   ]
  },
  {
   "cell_type": "code",
   "execution_count": 11,
   "metadata": {},
   "outputs": [
    {
     "data": {
      "text/plain": [
       "array([[0.17951149, 0.05164264, 0.24177756],\n",
       "       [0.62483894, 0.739294  , 0.45031162],\n",
       "       [0.84760964, 0.08013647, 0.27563882]])"
      ]
     },
     "execution_count": 11,
     "metadata": {},
     "output_type": "execute_result"
    }
   ],
   "source": [
    "np.random.rand(3,3)"
   ]
  },
  {
   "cell_type": "markdown",
   "metadata": {},
   "source": [
    "3. 5x5 단위 행렬을 만드세요. (힌트: `np.eye(5)`)\n"
   ]
  },
  {
   "cell_type": "code",
   "execution_count": 12,
   "metadata": {},
   "outputs": [
    {
     "data": {
      "text/plain": [
       "array([[1., 0., 0., 0., 0.],\n",
       "       [0., 1., 0., 0., 0.],\n",
       "       [0., 0., 1., 0., 0.],\n",
       "       [0., 0., 0., 1., 0.],\n",
       "       [0., 0., 0., 0., 1.]])"
      ]
     },
     "execution_count": 12,
     "metadata": {},
     "output_type": "execute_result"
    }
   ],
   "source": [
    "np.eye(5)"
   ]
  },
  {
   "cell_type": "markdown",
   "metadata": {},
   "source": [
    "4. 임의의 1D 배열에서 가장 큰 값의 인덱스를 찾으세요. (힌트: `np.argmax()`)\n"
   ]
  },
  {
   "cell_type": "code",
   "execution_count": 15,
   "metadata": {},
   "outputs": [
    {
     "name": "stdout",
     "output_type": "stream",
     "text": [
      "[[0.35857272 0.78032554 0.92161238]\n",
      " [0.09122328 0.21890434 0.25489195]\n",
      " [0.84580392 0.80596892 0.36577354]]\n"
     ]
    },
    {
     "data": {
      "text/plain": [
       "np.int64(2)"
      ]
     },
     "execution_count": 15,
     "metadata": {},
     "output_type": "execute_result"
    }
   ],
   "source": [
    "arr2 = np.random.rand(3,3)\n",
    "print(arr2)\n",
    "arr2.argmax()"
   ]
  },
  {
   "cell_type": "markdown",
   "metadata": {},
   "source": [
    "5. 크기가 10인 배열을 생성하고, 3에서 8까지의 값을 0으로 바꾸세요. (힌트: 슬라이싱과 배열 인덱싱)\n"
   ]
  },
  {
   "cell_type": "code",
   "execution_count": 17,
   "metadata": {},
   "outputs": [
    {
     "data": {
      "text/plain": [
       "array([0, 1, 2, 0, 0, 0, 0, 0, 0, 9])"
      ]
     },
     "execution_count": 17,
     "metadata": {},
     "output_type": "execute_result"
    }
   ],
   "source": [
    "arr3 = np.arange(10)\n",
    "arr3[3:9] = 0\n",
    "arr3"
   ]
  },
  {
   "cell_type": "markdown",
   "metadata": {},
   "source": [
    "## 3단계 문제\n"
   ]
  },
  {
   "cell_type": "markdown",
   "metadata": {},
   "source": [
    "1. 임의의 배열에서 가장 작은 값과 가장 큰 값을 교환하세요. (힌트: `np.min()`, `np.max()`와 인덱싱)\n"
   ]
  },
  {
   "cell_type": "code",
   "execution_count": 22,
   "metadata": {},
   "outputs": [
    {
     "name": "stdout",
     "output_type": "stream",
     "text": [
      "[0.23291457 0.00805146 0.46943554 0.61521659 0.81385455 0.04859767\n",
      " 0.71197754 0.49876041 0.5111167  0.01895121]\n",
      "**********************************************\n",
      "[0.23291457 0.81385455 0.46943554 0.61521659 0.00805146 0.04859767\n",
      " 0.71197754 0.49876041 0.5111167  0.01895121]\n"
     ]
    }
   ],
   "source": [
    "arr4 = np.random.rand(10)\n",
    "print(arr4)\n",
    "print(\"**********************************************\")\n",
    "arr4_min = np.argmin(arr4)\n",
    "arr4_max = np.argmax(arr4)\n",
    "arr4[arr4_min], arr4[arr4_max] = arr4[arr4_max], arr4[arr4_min]\n",
    "print(arr4)"
   ]
  },
  {
   "cell_type": "markdown",
   "metadata": {},
   "source": [
    "2. 3차원 배열의 각 슬라이스마다 평균값을 계산하세요. (힌트: `np.mean()`과 축 설정)\n"
   ]
  },
  {
   "cell_type": "code",
   "execution_count": 29,
   "metadata": {},
   "outputs": [
    {
     "name": "stdout",
     "output_type": "stream",
     "text": [
      "[[0 1 2]\n",
      " [3 4 5]\n",
      " [6 7 8]]\n",
      "=========================\n",
      "[[[0 1 2]\n",
      "  [3 4 5]\n",
      "  [6 7 8]]\n",
      "\n",
      " [[0 1 2]\n",
      "  [3 4 5]\n",
      "  [6 7 8]]\n",
      "\n",
      " [[0 1 2]\n",
      "  [3 4 5]\n",
      "  [6 7 8]]\n",
      "\n",
      " [[0 1 2]\n",
      "  [3 4 5]\n",
      "  [6 7 8]]]\n"
     ]
    },
    {
     "data": {
      "text/plain": [
       "(4, 3, 3)"
      ]
     },
     "execution_count": 29,
     "metadata": {},
     "output_type": "execute_result"
    }
   ],
   "source": [
    "arr5 = np.arange(9).reshape(3,3)\n",
    "print(arr5)\n",
    "print(\"=========================\")\n",
    "arr5_1 = np.stack([arr5, arr5, arr5, arr5])\n",
    "print(arr5_1)\n",
    "arr5_1.shape"
   ]
  },
  {
   "cell_type": "markdown",
   "metadata": {},
   "source": [
    "3. 크기가 100인 배열을 생성하고 평균, 표준편차를 계산하세요. (힌트: `np.mean()`, `np.std()`)\n"
   ]
  },
  {
   "cell_type": "code",
   "execution_count": 30,
   "metadata": {},
   "outputs": [
    {
     "name": "stdout",
     "output_type": "stream",
     "text": [
      "49.5\n",
      "28.86607004772212\n"
     ]
    },
    {
     "data": {
      "text/plain": [
       "(None, None)"
      ]
     },
     "execution_count": 30,
     "metadata": {},
     "output_type": "execute_result"
    }
   ],
   "source": [
    "arr6 = np.arange(100)\n",
    "print(np.mean(arr6)), print(np.std(arr6))"
   ]
  },
  {
   "cell_type": "markdown",
   "metadata": {},
   "source": [
    "4. 주어진 2D 배열에서 고유한 행을 찾으세요. (힌트: `np.unique()`와 `axis` 설정)\n"
   ]
  },
  {
   "cell_type": "code",
   "execution_count": 32,
   "metadata": {},
   "outputs": [
    {
     "name": "stdout",
     "output_type": "stream",
     "text": [
      "[[1 2 3]\n",
      " [4 5 6]\n",
      " [7 8 9]]\n"
     ]
    }
   ],
   "source": [
    "arr7 = np.array([[1,2,3],\n",
    "                 [4,5,6],\n",
    "                 [7,8,9],\n",
    "                 [4,5,6]])\n",
    "arr7_1 = np.unique(arr7, axis=0)\n",
    "print(arr7_1)"
   ]
  },
  {
   "cell_type": "markdown",
   "metadata": {},
   "source": [
    "5. 임의의 10x10 배열에서 가장 큰 값 5개를 찾으세요. (힌트: `np.argsort()`와 슬라이싱)\n"
   ]
  },
  {
   "cell_type": "code",
   "execution_count": 34,
   "metadata": {},
   "outputs": [
    {
     "name": "stdout",
     "output_type": "stream",
     "text": [
      "[[ 0  1  2  3  4  5  6  7  8  9]\n",
      " [10 11 12 13 14 15 16 17 18 19]\n",
      " [20 21 22 23 24 25 26 27 28 29]\n",
      " [30 31 32 33 34 35 36 37 38 39]\n",
      " [40 41 42 43 44 45 46 47 48 49]\n",
      " [50 51 52 53 54 55 56 57 58 59]\n",
      " [60 61 62 63 64 65 66 67 68 69]\n",
      " [70 71 72 73 74 75 76 77 78 79]\n",
      " [80 81 82 83 84 85 86 87 88 89]\n",
      " [90 91 92 93 94 95 96 97 98 99]]\n",
      "[95 96 97 98 99]\n"
     ]
    }
   ],
   "source": [
    "arr8 = np.arange(100).reshape(10,10)\n",
    "arr8_1 = arr8.flatten()   #1차원으로 펼치기\n",
    "arr8_2 = np.argsort(arr8_1)   #배열 인덱스 순서 정렬\n",
    "arr8_3 = arr8_2[-5:]   #가장 큰 값(뒤에서부터) 5개\n",
    "arr8_4 = arr8_1[arr8_3]\n",
    "print(arr8)\n",
    "print(arr8_4)"
   ]
  },
  {
   "cell_type": "code",
   "execution_count": null,
   "metadata": {},
   "outputs": [],
   "source": []
  }
 ],
 "metadata": {
  "kernelspec": {
   "display_name": "hipython",
   "language": "python",
   "name": "python3"
  },
  "language_info": {
   "codemirror_mode": {
    "name": "ipython",
    "version": 3
   },
   "file_extension": ".py",
   "mimetype": "text/x-python",
   "name": "python",
   "nbconvert_exporter": "python",
   "pygments_lexer": "ipython3",
   "version": "3.12.9"
  }
 },
 "nbformat": 4,
 "nbformat_minor": 4
}
