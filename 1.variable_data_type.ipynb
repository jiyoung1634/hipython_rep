{
 "cells": [
  {
   "cell_type": "code",
   "execution_count": 1,
   "id": "841ada62-4707-48cf-8fe7-c46dcee89649",
   "metadata": {},
   "outputs": [
    {
     "name": "stdout",
     "output_type": "stream",
     "text": [
      "Hello, jupyter!\n"
     ]
    }
   ],
   "source": [
    "print(\"Hello, jupyter!\")"
   ]
  },
  {
   "cell_type": "code",
   "execution_count": 2,
   "id": "ee461412-a3d2-432f-8443-1956c4fdcd1f",
   "metadata": {},
   "outputs": [
    {
     "data": {
      "text/plain": [
       "13"
      ]
     },
     "execution_count": 2,
     "metadata": {},
     "output_type": "execute_result"
    }
   ],
   "source": [
    "8+5"
   ]
  },
  {
   "cell_type": "markdown",
   "id": "cd3b9976-1d91-49c8-b731-54b6430b8549",
   "metadata": {},
   "source": [
    "# 들어가기 : 주석"
   ]
  },
  {
   "cell_type": "markdown",
   "id": "a9e68f35-769b-4cf5-8d6d-2818793accdc",
   "metadata": {},
   "source": [
    "# 표준 입력과 표준 출력"
   ]
  },
  {
   "cell_type": "code",
   "execution_count": 12,
   "id": "cfb2d1d6-b6e7-4abc-a4c7-bd6e5733e52c",
   "metadata": {},
   "outputs": [
    {
     "data": {
      "text/plain": [
       "10"
      ]
     },
     "execution_count": 12,
     "metadata": {},
     "output_type": "execute_result"
    }
   ],
   "source": [
    "12345\n",
    "10\n",
    "# ipython 라이브러리의 기본 기능\n",
    "# print(12345) 표준출력 기능을 내장하고 있다."
   ]
  },
  {
   "cell_type": "code",
   "execution_count": 13,
   "id": "12f3c8a8-1e9b-4ae5-994a-6907c1ccf579",
   "metadata": {},
   "outputs": [
    {
     "name": "stdout",
     "output_type": "stream",
     "text": [
      "12345\n"
     ]
    },
    {
     "data": {
      "text/plain": [
       "10"
      ]
     },
     "execution_count": 13,
     "metadata": {},
     "output_type": "execute_result"
    }
   ],
   "source": [
    "print(12345)\n",
    "10"
   ]
  },
  {
   "cell_type": "code",
   "execution_count": 14,
   "id": "4af73e86-0bb2-4436-b750-bbeb393d1de3",
   "metadata": {},
   "outputs": [
    {
     "data": {
      "text/plain": [
       "'12345'"
      ]
     },
     "execution_count": 14,
     "metadata": {},
     "output_type": "execute_result"
    }
   ],
   "source": [
    "'12345'"
   ]
  },
  {
   "cell_type": "code",
   "execution_count": 15,
   "id": "b41c4155-ee15-40f2-88c5-4fa126f2ca47",
   "metadata": {},
   "outputs": [
    {
     "data": {
      "text/plain": [
       "str"
      ]
     },
     "execution_count": 15,
     "metadata": {},
     "output_type": "execute_result"
    }
   ],
   "source": [
    "type('12345')"
   ]
  },
  {
   "cell_type": "code",
   "execution_count": 16,
   "id": "ed370896-087a-4c45-ae85-a9257a28d344",
   "metadata": {},
   "outputs": [
    {
     "data": {
      "text/plain": [
       "int"
      ]
     },
     "execution_count": 16,
     "metadata": {},
     "output_type": "execute_result"
    }
   ],
   "source": [
    "type(12345)"
   ]
  },
  {
   "cell_type": "code",
   "execution_count": 17,
   "id": "fedd3985-32a8-451f-82db-80823e7fb0c5",
   "metadata": {},
   "outputs": [
    {
     "data": {
      "text/plain": [
       "12355"
      ]
     },
     "execution_count": 17,
     "metadata": {},
     "output_type": "execute_result"
    }
   ],
   "source": [
    "12345+10"
   ]
  },
  {
   "cell_type": "code",
   "execution_count": 20,
   "id": "63b2dfc3-7a75-4a7c-a29e-24895273b319",
   "metadata": {},
   "outputs": [],
   "source": [
    "#'12345'+10  #typeerror"
   ]
  },
  {
   "cell_type": "code",
   "execution_count": 21,
   "id": "2a6ac2db-cc5d-40fc-9799-537709d741d0",
   "metadata": {},
   "outputs": [
    {
     "data": {
      "text/plain": [
       "str"
      ]
     },
     "execution_count": 21,
     "metadata": {},
     "output_type": "execute_result"
    }
   ],
   "source": [
    "type(\"12345\")"
   ]
  },
  {
   "cell_type": "code",
   "execution_count": 22,
   "id": "a1400352-2a7a-4c12-ac09-b42aff43ca5c",
   "metadata": {},
   "outputs": [
    {
     "data": {
      "text/plain": [
       "'123451234512345'"
      ]
     },
     "execution_count": 22,
     "metadata": {},
     "output_type": "execute_result"
    }
   ],
   "source": [
    "\"12345\"*3"
   ]
  },
  {
   "cell_type": "code",
   "execution_count": 23,
   "id": "d88d22a3-ffe2-4eaa-9be6-232e0ad87add",
   "metadata": {},
   "outputs": [
    {
     "name": "stdin",
     "output_type": "stream",
     "text": [
      "당신의 이름을 입력하세요 김지영\n"
     ]
    },
    {
     "data": {
      "text/plain": [
       "'김지영'"
      ]
     },
     "execution_count": 23,
     "metadata": {},
     "output_type": "execute_result"
    }
   ],
   "source": [
    "input('당신의 이름을 입력하세요')"
   ]
  },
  {
   "cell_type": "code",
   "execution_count": 25,
   "id": "bbb9cc0f-63ac-47d2-9df2-36f99d731b8e",
   "metadata": {},
   "outputs": [
    {
     "name": "stdin",
     "output_type": "stream",
     "text": [
      "당신의 나이를 입력하세요 25\n"
     ]
    },
    {
     "data": {
      "text/plain": [
       "'25'"
      ]
     },
     "execution_count": 25,
     "metadata": {},
     "output_type": "execute_result"
    }
   ],
   "source": [
    "age = input('당신의 나이를 입력하세요')\n",
    "age"
   ]
  },
  {
   "cell_type": "code",
   "execution_count": 28,
   "id": "ddd68828-a130-4545-a797-252859126f24",
   "metadata": {},
   "outputs": [
    {
     "name": "stdin",
     "output_type": "stream",
     "text": [
      "당신의 이름을 입력하세요 김지영\n"
     ]
    },
    {
     "data": {
      "text/plain": [
       "'김지영'"
      ]
     },
     "execution_count": 28,
     "metadata": {},
     "output_type": "execute_result"
    }
   ],
   "source": [
    "name = input('당신의 이름을 입력하세요')\n",
    "name"
   ]
  },
  {
   "cell_type": "code",
   "execution_count": 30,
   "id": "3e4a247d-cc1b-4b66-9649-5b665baa9f47",
   "metadata": {},
   "outputs": [
    {
     "name": "stdout",
     "output_type": "stream",
     "text": [
      "25 김지영\n"
     ]
    }
   ],
   "source": [
    "print (age, name)"
   ]
  },
  {
   "cell_type": "code",
   "execution_count": 33,
   "id": "c8dfbe86-d172-421f-9c15-29814f34e5f7",
   "metadata": {},
   "outputs": [
    {
     "name": "stdout",
     "output_type": "stream",
     "text": [
      "나는 김지영이고 나이는 25입니다.\n"
     ]
    }
   ],
   "source": [
    "print(\"나는 \"+name+ \"이고 나이는 \"+age+ \"입니다.\")"
   ]
  },
  {
   "cell_type": "code",
   "execution_count": 37,
   "id": "625ae747-fc03-4bb7-a4b8-d0137e171a32",
   "metadata": {},
   "outputs": [],
   "source": [
    "age = int (age)"
   ]
  },
  {
   "cell_type": "code",
   "execution_count": 38,
   "id": "6867a6ef-67ef-4031-a809-bf17fce692f6",
   "metadata": {},
   "outputs": [
    {
     "data": {
      "text/plain": [
       "35"
      ]
     },
     "execution_count": 38,
     "metadata": {},
     "output_type": "execute_result"
    }
   ],
   "source": [
    "age+10"
   ]
  },
  {
   "cell_type": "code",
   "execution_count": 39,
   "id": "88dc3296-4132-4a41-8d7b-7a5cdd15b164",
   "metadata": {},
   "outputs": [
    {
     "name": "stdout",
     "output_type": "stream",
     "text": [
      "바: 바밤바는 \n",
      "밤: 밤이 들어 있는 \n",
      "바: 바이다\n"
     ]
    }
   ],
   "source": [
    "# 자기 이름으로 삼행시 짓기\n",
    "\n",
    "print('바: 바밤바는 ')\n",
    "print('밤: 밤이 들어 있는 ')\n",
    "print('바: 바이다')"
   ]
  },
  {
   "cell_type": "code",
   "execution_count": 40,
   "id": "59957049-36e2-4f9e-9f60-d333fc4d8820",
   "metadata": {},
   "outputs": [
    {
     "name": "stdout",
     "output_type": "stream",
     "text": [
      "김: 김치볶음밥 맛있겠다\n",
      "지: 지금 배고픈데\n",
      "영: 영업하는 곳 있나\n"
     ]
    }
   ],
   "source": [
    "print('김: 김치볶음밥 맛있겠다')\n",
    "print('지: 지금 배고픈데')\n",
    "print('영: 영업하는 곳 있나')"
   ]
  },
  {
   "cell_type": "code",
   "execution_count": 44,
   "id": "98c7589b-38c8-4aa0-8bab-d26dcd32a8d5",
   "metadata": {},
   "outputs": [
    {
     "name": "stdout",
     "output_type": "stream",
     "text": [
      "삼행시 이름 넣기\n"
     ]
    },
    {
     "name": "stdin",
     "output_type": "stream",
     "text": [
      "첫 글자 입력하세요 김\n"
     ]
    },
    {
     "name": "stdout",
     "output_type": "stream",
     "text": [
      "김: 김치볶음밥 맛있겠다\n"
     ]
    },
    {
     "name": "stdin",
     "output_type": "stream",
     "text": [
      "두 번째 글자 입력하세요 지\n"
     ]
    },
    {
     "name": "stdout",
     "output_type": "stream",
     "text": [
      "지: 지금 배고픈데\n"
     ]
    },
    {
     "name": "stdin",
     "output_type": "stream",
     "text": [
      "세 번째 글자 입력하세요 영\n"
     ]
    },
    {
     "name": "stdout",
     "output_type": "stream",
     "text": [
      "영: 업하는 곳 있나\n"
     ]
    }
   ],
   "source": [
    "print('삼행시 이름 넣기')\n",
    "first = input('첫 글자 입력하세요')\n",
    "print(first + \": 김치볶음밥 맛있겠다\")\n",
    "second = input('두 번째 글자 입력하세요')\n",
    "print(second+\": 지금 배고픈데\")\n",
    "third = input('세 번째 글자 입력하세요')\n",
    "print(third + \": 업하는 곳 있나\")"
   ]
  },
  {
   "cell_type": "code",
   "execution_count": 47,
   "id": "b96a1907-2cdb-4c05-89ff-281483cdfd2e",
   "metadata": {},
   "outputs": [
    {
     "name": "stdin",
     "output_type": "stream",
     "text": [
      "김:  김치볶음밥 맛있겠다\n",
      "지:  지금 배고픈데\n",
      "영:  영업하는 곳 있나\n"
     ]
    }
   ],
   "source": [
    "line1 = input('김: ')\n",
    "line2 = input('지: ')\n",
    "line3 = input('영: ')"
   ]
  },
  {
   "cell_type": "code",
   "execution_count": 49,
   "id": "3ba99626-b150-4b43-a1dc-c4495115a343",
   "metadata": {},
   "outputs": [
    {
     "name": "stdout",
     "output_type": "stream",
     "text": [
      "김치볶음밥 맛있겠다\n",
      " 지금 배고픈데\n",
      " 영업하는 곳 있나\n"
     ]
    }
   ],
   "source": [
    "print(line1, line2, line3, sep='\\n ')  #줄바꿈 기호"
   ]
  },
  {
   "cell_type": "markdown",
   "id": "a1e20b57-e46b-40b7-94d2-3c67d91f7500",
   "metadata": {},
   "source": [
    "문자열의 시작이 \\ 역슬래시 -> 이스케이스 문자, 특수 문자 \\n \\t \\\\"
   ]
  },
  {
   "cell_type": "code",
   "execution_count": 53,
   "id": "76e355b6-7a2a-4fb0-9286-e2d800be4259",
   "metadata": {},
   "outputs": [
    {
     "name": "stdout",
     "output_type": "stream",
     "text": [
      "김치볶음밥 맛있겠다\n",
      "지금 배고픈데\n",
      "영업하는 곳 있나\n"
     ]
    }
   ],
   "source": [
    "삼행시 = line1 + '\\n' + line2 + '\\n' + line3\n",
    "print(삼행시)"
   ]
  },
  {
   "cell_type": "code",
   "execution_count": null,
   "id": "ea4ff773-213e-4d59-b2e8-e71dbb4b55d5",
   "metadata": {},
   "outputs": [],
   "source": []
  },
  {
   "cell_type": "markdown",
   "id": "5b6dd099-bd4a-44d0-a383-a48527a6e9e0",
   "metadata": {},
   "source": [
    "# 변수"
   ]
  },
  {
   "cell_type": "markdown",
   "id": "d53e5cc0-fbac-42bf-a89c-f97dc4cb35be",
   "metadata": {},
   "source": [
    "변수는 type safe : 변수를 선언할 때 타입(유형)을 지정하지 않아도 되는 특성   \n",
    "변수명 = 값   \n",
    "\n",
    "## 변수의 명명규칙\n",
    "1. 문자, 숫자, 밑줄(_)을 가지고 만든다\n",
    "2. 숫자로 시작하면 X\n",
    "3. 대소문자를 구분\n",
    "4. 예약어, 특수기호, 공백 X"
   ]
  },
  {
   "cell_type": "code",
   "execution_count": 55,
   "id": "81fdf57e-2b82-47ae-bf4b-e7e9c3fec591",
   "metadata": {},
   "outputs": [
    {
     "data": {
      "text/plain": [
       "(10, 'hello', 3.141592)"
      ]
     },
     "execution_count": 55,
     "metadata": {},
     "output_type": "execute_result"
    }
   ],
   "source": [
    "x = 10\n",
    "y = 'hello'\n",
    "z = 3.141592\n",
    "x, y, z"
   ]
  },
  {
   "cell_type": "code",
   "execution_count": 57,
   "id": "d4bd66f2-a514-4bf7-a5f8-0ef56247e76e",
   "metadata": {},
   "outputs": [
    {
     "data": {
      "text/plain": [
       "(int, str, float)"
      ]
     },
     "execution_count": 57,
     "metadata": {},
     "output_type": "execute_result"
    }
   ],
   "source": [
    "type(x), type(y), type(z)"
   ]
  },
  {
   "cell_type": "code",
   "execution_count": 58,
   "id": "17fbcfad-1543-4c64-8e76-a82e4442524f",
   "metadata": {},
   "outputs": [
    {
     "name": "stdout",
     "output_type": "stream",
     "text": [
      "<class 'int'> <class 'str'> <class 'float'>\n"
     ]
    }
   ],
   "source": [
    "print(type(x), type(y), type(z))"
   ]
  },
  {
   "cell_type": "code",
   "execution_count": 59,
   "id": "c04847a4-98ca-4ec8-97d1-746f3f78b084",
   "metadata": {},
   "outputs": [
    {
     "data": {
      "text/plain": [
       "(10, 20, 30)"
      ]
     },
     "execution_count": 59,
     "metadata": {},
     "output_type": "execute_result"
    }
   ],
   "source": [
    "a, b, c = 10, 20, 30\n",
    "a, b, c"
   ]
  },
  {
   "cell_type": "code",
   "execution_count": 60,
   "id": "d5d742bb-cb22-4e77-bd3a-315bb24ea6c3",
   "metadata": {},
   "outputs": [
    {
     "data": {
      "text/plain": [
       "(40, 40, 40)"
      ]
     },
     "execution_count": 60,
     "metadata": {},
     "output_type": "execute_result"
    }
   ],
   "source": [
    "a = b = c = 40\n",
    "a, b, c"
   ]
  },
  {
   "cell_type": "code",
   "execution_count": 62,
   "id": "38a57dc9-9f85-4101-8843-27272252d047",
   "metadata": {},
   "outputs": [
    {
     "data": {
      "text/plain": [
       "(True, None)"
      ]
     },
     "execution_count": 62,
     "metadata": {},
     "output_type": "execute_result"
    }
   ],
   "source": [
    "d = True  #bool형\n",
    "e = None  #type이 없음 NoneType\n",
    "d, e"
   ]
  },
  {
   "cell_type": "code",
   "execution_count": 1,
   "id": "6fedcd74-4d10-4884-bab6-595f3174054f",
   "metadata": {},
   "outputs": [
    {
     "name": "stdout",
     "output_type": "stream",
     "text": [
      "10 10\n"
     ]
    },
    {
     "data": {
      "text/plain": [
       "(140723126414040, 140723126414040)"
      ]
     },
     "execution_count": 1,
     "metadata": {},
     "output_type": "execute_result"
    }
   ],
   "source": [
    "a = 10\n",
    "b = a\n",
    "print(a, b)\n",
    "id(a), id(b)"
   ]
  },
  {
   "cell_type": "code",
   "execution_count": 4,
   "id": "18042a9b-7510-43e3-9030-706e55519d67",
   "metadata": {},
   "outputs": [
    {
     "name": "stdout",
     "output_type": "stream",
     "text": [
      "100 100\n"
     ]
    },
    {
     "data": {
      "text/plain": [
       "(140723126416920, 140723126416920)"
      ]
     },
     "execution_count": 4,
     "metadata": {},
     "output_type": "execute_result"
    }
   ],
   "source": [
    "aa = 100\n",
    "bb = 100\n",
    "print(aa, bb)\n",
    "id(aa), id(bb)"
   ]
  },
  {
   "cell_type": "code",
   "execution_count": 5,
   "id": "aa1bbce7-7828-4665-a1a5-19e5f344e271",
   "metadata": {},
   "outputs": [],
   "source": [
    "# 의미 부여하기 어려운 변수명 > 수식이 아닌 경우는 사용하지 않음\n",
    "x = 100\n",
    "y = 100\n",
    "\n",
    "# 의미 있는 변수명\n",
    "age = 20\n",
    "name = '김지영'\n",
    "user_name = 'Alic'\n",
    "admin_name = 'Bob'\n",
    "\n",
    "#대문자 Upper-case 상수에 사용\n",
    "PI = 3.141592\n",
    "MAX_CONNECTIONS = 10  # 최대 연결 수\n",
    "MIN_VALUE = 0  #최소값"
   ]
  },
  {
   "cell_type": "markdown",
   "id": "0479dd9a-8128-4e72-9ad5-a65d786c5632",
   "metadata": {},
   "source": [
    "# NAME_SPACE\n",
    "\n",
    "변수가 최초로 정의된 영역에 따라 유효범위가 결정됩니다.\n",
    "\n",
    "- 지역변수 : 함수 영역 내에서 선언한 변수\n",
    "- 전역변수 : 함수 영역 밖에서 선언한 변수, global 키워드\n",
    "- 정적변수 : 클래스에서 사용하는 변수"
   ]
  },
  {
   "cell_type": "code",
   "execution_count": 9,
   "id": "1871d67f-c352-4b0a-8f0c-be09677b050b",
   "metadata": {},
   "outputs": [
    {
     "name": "stdout",
     "output_type": "stream",
     "text": [
      "여기는 함수의 영역입니다 100\n"
     ]
    }
   ],
   "source": [
    "# 지역변수\n",
    "def local_example():\n",
    "    local_var = 100\n",
    "    print('여기는 함수의 영역입니다' , local_var)\n",
    "\n",
    "#local_var  #NameError : name 'local_var' is not defined\n",
    "local_example()"
   ]
  },
  {
   "cell_type": "code",
   "execution_count": 24,
   "id": "04620ba5-34a2-4b26-817d-a320ee8a8638",
   "metadata": {},
   "outputs": [
    {
     "name": "stdout",
     "output_type": "stream",
     "text": [
      "나는 전역이다\n"
     ]
    },
    {
     "ename": "NameError",
     "evalue": "name 'local_var' is not defined",
     "output_type": "error",
     "traceback": [
      "\u001b[31m---------------------------------------------------------------------------\u001b[39m",
      "\u001b[31mNameError\u001b[39m                                 Traceback (most recent call last)",
      "\u001b[36mCell\u001b[39m\u001b[36m \u001b[39m\u001b[32mIn[24]\u001b[39m\u001b[32m, line 8\u001b[39m\n\u001b[32m      5\u001b[39m \u001b[38;5;28;01mdef\u001b[39;00m\u001b[38;5;250m \u001b[39m\u001b[34mglobal_example\u001b[39m():\n\u001b[32m      6\u001b[39m     \u001b[38;5;28mprint\u001b[39m(\u001b[33m'\u001b[39m\u001b[33m여기는 함수의 영역입니다\u001b[39m\u001b[33m'\u001b[39m, local_var, global_var)\n\u001b[32m----> \u001b[39m\u001b[32m8\u001b[39m global_example()\n",
      "\u001b[36mCell\u001b[39m\u001b[36m \u001b[39m\u001b[32mIn[24]\u001b[39m\u001b[32m, line 6\u001b[39m, in \u001b[36mglobal_example\u001b[39m\u001b[34m()\u001b[39m\n\u001b[32m      5\u001b[39m \u001b[38;5;28;01mdef\u001b[39;00m\u001b[38;5;250m \u001b[39m\u001b[34mglobal_example\u001b[39m():\n\u001b[32m----> \u001b[39m\u001b[32m6\u001b[39m     \u001b[38;5;28mprint\u001b[39m(\u001b[33m'\u001b[39m\u001b[33m여기는 함수의 영역입니다\u001b[39m\u001b[33m'\u001b[39m, local_var, global_var)\n",
      "\u001b[31mNameError\u001b[39m: name 'local_var' is not defined"
     ]
    }
   ],
   "source": [
    "# 전역변수\n",
    "global_var = '나는 전역이다'\n",
    "print(global_var)\n",
    "\n",
    "def global_example():\n",
    "    print('여기는 함수의 영역입니다', local_var, global_var)\n",
    "\n",
    "global_example()"
   ]
  },
  {
   "cell_type": "code",
   "execution_count": 28,
   "id": "9972ce17-e405-4b88-aa6d-1a2cca2e8f39",
   "metadata": {},
   "outputs": [
    {
     "name": "stdout",
     "output_type": "stream",
     "text": [
      "나는 전역이다\n",
      "여기는 함수의 영역입니다 100\n",
      "100\n"
     ]
    }
   ],
   "source": [
    "var_test = '나는 전역이다'\n",
    "print(var_test)\n",
    "\n",
    "def global_example():\n",
    "    global var_test\n",
    "    var_test = 100\n",
    "    print('여기는 함수의 영역입니다', var_test)\n",
    "\n",
    "global_example()\n",
    "print(var_test)"
   ]
  },
  {
   "cell_type": "code",
   "execution_count": 38,
   "id": "238502b5-1669-450e-aaa6-c87053ff0c6d",
   "metadata": {},
   "outputs": [
    {
     "name": "stdout",
     "output_type": "stream",
     "text": [
      "카운터 :  1\n",
      "카운터 :  2\n",
      "카운터 :  3\n"
     ]
    }
   ],
   "source": [
    "# 변수 영역 연습\n",
    "\n",
    "counter = 0  #global 변수\n",
    "\n",
    "def increment_counter():\n",
    "    global counter\n",
    "    counter = counter + 1  #  counter += 1 과 같다\n",
    "    print('카운터 : ', counter)\n",
    "\n",
    "increment_counter()\n",
    "increment_counter()\n",
    "increment_counter()"
   ]
  },
  {
   "cell_type": "markdown",
   "id": "18924aba-1434-40ef-8c91-f33fbc15939b",
   "metadata": {},
   "source": [
    "# 교재 변수 연습"
   ]
  },
  {
   "cell_type": "code",
   "execution_count": 39,
   "id": "52c0592e-dc75-4d20-aa19-e878181b28b1",
   "metadata": {},
   "outputs": [
    {
     "data": {
      "text/plain": [
       "(1, 'python', [1, 2, 3])"
      ]
     },
     "execution_count": 39,
     "metadata": {},
     "output_type": "execute_result"
    }
   ],
   "source": [
    "a = 1\n",
    "b = 'python'\n",
    "c = [1, 2, 3]\n",
    "a, b, c"
   ]
  },
  {
   "cell_type": "code",
   "execution_count": 40,
   "id": "ae83f8bb-8431-4c88-85d4-1184834c6afb",
   "metadata": {},
   "outputs": [
    {
     "data": {
      "text/plain": [
       "2114740414272"
      ]
     },
     "execution_count": 40,
     "metadata": {},
     "output_type": "execute_result"
    }
   ],
   "source": [
    "a = [1, 2, 3]\n",
    "id(a)"
   ]
  },
  {
   "cell_type": "code",
   "execution_count": 41,
   "id": "97e765a7-00cc-4f6b-99fb-6ccb774cd1bc",
   "metadata": {},
   "outputs": [
    {
     "data": {
      "text/plain": [
       "(2114739599168, 2114739599168)"
      ]
     },
     "execution_count": 41,
     "metadata": {},
     "output_type": "execute_result"
    }
   ],
   "source": [
    "a = [1, 2, 3]\n",
    "b = a\n",
    "id(a), id(b)"
   ]
  },
  {
   "cell_type": "code",
   "execution_count": 42,
   "id": "1b0204bb-0ada-401d-9049-b0dec5d49444",
   "metadata": {},
   "outputs": [
    {
     "data": {
      "text/plain": [
       "True"
      ]
     },
     "execution_count": 42,
     "metadata": {},
     "output_type": "execute_result"
    }
   ],
   "source": [
    "a is b"
   ]
  },
  {
   "cell_type": "code",
   "execution_count": 44,
   "id": "dee8be97-0721-42ff-b56f-74410190b0bc",
   "metadata": {},
   "outputs": [
    {
     "data": {
      "text/plain": [
       "([1, 4, 3], [1, 4, 3])"
      ]
     },
     "execution_count": 44,
     "metadata": {},
     "output_type": "execute_result"
    }
   ],
   "source": [
    "a[1] = 4\n",
    "a, b"
   ]
  },
  {
   "cell_type": "code",
   "execution_count": 46,
   "id": "f6b53793-925b-4bbb-ba9b-6c1db9288ed3",
   "metadata": {},
   "outputs": [
    {
     "data": {
      "text/plain": [
       "([1, 4, 3], [1, 2, 3], 2114740409920, 2114740187328)"
      ]
     },
     "execution_count": 46,
     "metadata": {},
     "output_type": "execute_result"
    }
   ],
   "source": [
    "a = [1, 2, 3]\n",
    "b = a[:]\n",
    "a[1] = 4\n",
    "a, b, id(a), id(b)"
   ]
  },
  {
   "cell_type": "code",
   "execution_count": 47,
   "id": "ffce0d5a-aa5d-4f4a-bfed-0e4a847ebdb5",
   "metadata": {},
   "outputs": [
    {
     "data": {
      "text/plain": [
       "False"
      ]
     },
     "execution_count": 47,
     "metadata": {},
     "output_type": "execute_result"
    }
   ],
   "source": [
    "from copy import copy\n",
    "a = [1, 2, 3]\n",
    "b = copy(a)\n",
    "b is a"
   ]
  },
  {
   "cell_type": "code",
   "execution_count": 48,
   "id": "76fc146e-b659-431c-b9d9-045c35bd6efd",
   "metadata": {},
   "outputs": [
    {
     "name": "stdout",
     "output_type": "stream",
     "text": [
      "Hello World\n"
     ]
    }
   ],
   "source": [
    "print('Hello World')"
   ]
  },
  {
   "cell_type": "code",
   "execution_count": 49,
   "id": "87dd10d4-7dff-42d8-aea4-2c57cbf61080",
   "metadata": {},
   "outputs": [
    {
     "name": "stdout",
     "output_type": "stream",
     "text": [
      "Mary's cosmetics\n"
     ]
    }
   ],
   "source": [
    "print(\"Mary's cosmetics\")"
   ]
  },
  {
   "cell_type": "code",
   "execution_count": 50,
   "id": "781b3937-7f0a-470c-b853-ddde8f071353",
   "metadata": {},
   "outputs": [
    {
     "name": "stdout",
     "output_type": "stream",
     "text": [
      "신씨가 소리질렀다. \"도둑이야.\"\n"
     ]
    }
   ],
   "source": [
    "print('신씨가 소리질렀다. \"도둑이야.\"')"
   ]
  },
  {
   "cell_type": "code",
   "execution_count": 52,
   "id": "2b4fb085-1721-461d-a735-c2e74b0a91a9",
   "metadata": {},
   "outputs": [
    {
     "name": "stdout",
     "output_type": "stream",
     "text": [
      "C:\\Windows\n"
     ]
    },
    {
     "name": "stderr",
     "output_type": "stream",
     "text": [
      "<>:1: SyntaxWarning: invalid escape sequence '\\W'\n",
      "<>:1: SyntaxWarning: invalid escape sequence '\\W'\n",
      "C:\\Users\\Admin\\AppData\\Local\\Temp\\ipykernel_20080\\3538380946.py:1: SyntaxWarning: invalid escape sequence '\\W'\n",
      "  print(\"C:\\Windows\")\n"
     ]
    }
   ],
   "source": [
    "print(\"C:\\Windows\")"
   ]
  },
  {
   "cell_type": "code",
   "execution_count": 53,
   "id": "84b5fa46-158a-4bc1-9ff4-7affcb359464",
   "metadata": {},
   "outputs": [
    {
     "name": "stdout",
     "output_type": "stream",
     "text": [
      "안녕하세요.\n",
      "만나서\t\t반갑습니다.\n"
     ]
    }
   ],
   "source": [
    "print('안녕하세요.\\n만나서\\t\\t반갑습니다.')"
   ]
  },
  {
   "cell_type": "code",
   "execution_count": 55,
   "id": "bbad1e06-9a52-482c-bf0b-8c7f5305c52e",
   "metadata": {},
   "outputs": [
    {
     "name": "stdout",
     "output_type": "stream",
     "text": [
      "오늘은 일요일\n"
     ]
    }
   ],
   "source": [
    "print(\"오늘은\", \"일요일\")"
   ]
  },
  {
   "cell_type": "code",
   "execution_count": 57,
   "id": "cd47b45b-faf1-41ab-af12-1705c4ed71b1",
   "metadata": {},
   "outputs": [
    {
     "name": "stdout",
     "output_type": "stream",
     "text": [
      "naver;kakao;sk;samsung\n"
     ]
    }
   ],
   "source": [
    "print('naver', 'kakao', 'sk', 'samsung', sep=';')"
   ]
  },
  {
   "cell_type": "code",
   "execution_count": 58,
   "id": "5aa34a35-a2bd-4438-b305-118066b34cb7",
   "metadata": {},
   "outputs": [
    {
     "name": "stdout",
     "output_type": "stream",
     "text": [
      "naver/kakao/sk/samsung\n"
     ]
    }
   ],
   "source": [
    "print('naver', 'kakao', 'sk', 'samsung', sep='/')"
   ]
  },
  {
   "cell_type": "code",
   "execution_count": 61,
   "id": "e08f3c33-3e33-4fb3-8cbf-cc7cf5940a3c",
   "metadata": {},
   "outputs": [
    {
     "name": "stdout",
     "output_type": "stream",
     "text": [
      "firstsecond\n"
     ]
    }
   ],
   "source": [
    "print('first', end=\"\");print('second')"
   ]
  },
  {
   "cell_type": "code",
   "execution_count": 63,
   "id": "771e7a87-a17f-4a74-aab0-896a7018c155",
   "metadata": {},
   "outputs": [
    {
     "name": "stdout",
     "output_type": "stream",
     "text": [
      "1.6666666666666667\n"
     ]
    }
   ],
   "source": [
    "print(5/3)"
   ]
  },
  {
   "cell_type": "code",
   "execution_count": 64,
   "id": "2b850be6-8437-4fa4-af34-06c49dc22240",
   "metadata": {},
   "outputs": [
    {
     "name": "stdout",
     "output_type": "stream",
     "text": [
      "500000\n"
     ]
    }
   ],
   "source": [
    "삼성전자 = 50000\n",
    "총평가금액 = 10*삼성전자\n",
    "print(총평가금액)"
   ]
  },
  {
   "cell_type": "code",
   "execution_count": 65,
   "id": "803d29e7-5768-48fd-9987-2df9128c6407",
   "metadata": {},
   "outputs": [
    {
     "name": "stdout",
     "output_type": "stream",
     "text": [
      "298000000000000 <class 'int'>\n",
      "50000 <class 'int'>\n",
      "15.79 <class 'float'>\n"
     ]
    }
   ],
   "source": [
    "시가총액 = 298000000000000\n",
    "현재가 = 50000\n",
    "PER = 15.79\n",
    "print(시가총액, type(시가총액))\n",
    "print(현재가, type(현재가))\n",
    "print(PER, type(PER))"
   ]
  },
  {
   "cell_type": "code",
   "execution_count": 67,
   "id": "a7c174a9-3598-4c8c-a2d3-62170d1c5d22",
   "metadata": {},
   "outputs": [
    {
     "name": "stdout",
     "output_type": "stream",
     "text": [
      "hello! python\n"
     ]
    }
   ],
   "source": [
    "s = \"hello\"\n",
    "t = \"python\"\n",
    "print(s+\"!\",t)"
   ]
  },
  {
   "cell_type": "markdown",
   "id": "48847a08-6b41-414e-b4a5-1a826bc5a73d",
   "metadata": {},
   "source": [
    "# 자료형\n",
    "\n",
    "- 기본 자료형 : 숫자형, 문자열형 str, 부울형\n",
    "- 복합 자료형 : 리스트, 셋, 튜플, 딕셔너리"
   ]
  },
  {
   "cell_type": "markdown",
   "id": "a9a8428e-88a9-4734-ae1c-7beae549490e",
   "metadata": {},
   "source": [
    "| type | 설명 | 예 |\n",
    "|--------|--------|--------|\n",
    "| 정수형 (int) | 정수를 저장하는 자료형 | 1, -5, 100 |\n",
    "| 실수형 (float) | 소수점이 있는 숫자를 저장하는 자료형 | 3.14, -0.001, 2.0 |\n",
    "| 문자열 (str) | 텍스트를 저장하는 자료형 | \"Hello\", '파이썬' |\n",
    "| 논리형 (bool) | 참/거짓 값을 저장하는 자료형 | True, False|"
   ]
  },
  {
   "cell_type": "markdown",
   "id": "f31f46bf-c9ad-4bfb-8fc5-1d8b69644107",
   "metadata": {},
   "source": [
    "- 수정 불가능한 데이터 타입 : 수치형, 부울형, 문다열, 튜플\n",
    "- 수정 가능한 데이터 타입 : 리스트, 딕셔너리, 셋"
   ]
  },
  {
   "cell_type": "code",
   "execution_count": 76,
   "id": "99c14162-ca0d-4e98-b587-47abed577219",
   "metadata": {},
   "outputs": [
    {
     "data": {
      "text/plain": [
       "(20, int)"
      ]
     },
     "execution_count": 76,
     "metadata": {},
     "output_type": "execute_result"
    }
   ],
   "source": [
    "# 수치형 - int\n",
    "20, type(20)"
   ]
  },
  {
   "cell_type": "code",
   "execution_count": 77,
   "id": "d3586438-ac24-4b79-925d-b49090f1cb0c",
   "metadata": {},
   "outputs": [
    {
     "data": {
      "text/plain": [
       "int"
      ]
     },
     "execution_count": 77,
     "metadata": {},
     "output_type": "execute_result"
    }
   ],
   "source": [
    "age = 20\n",
    "type(age)"
   ]
  },
  {
   "cell_type": "markdown",
   "id": "03fa4fae-b0bf-4da6-9b93-39ab2b575197",
   "metadata": {},
   "source": [
    "1. 진법 : 10진수, 2진수, 8진수, 16진수\n",
    "2. 입력하는 방법은 다르지만, print() 결과는 동일하다."
   ]
  },
  {
   "cell_type": "code",
   "execution_count": 84,
   "id": "fce6a0ad-19be-47ea-829b-76af02d57186",
   "metadata": {},
   "outputs": [
    {
     "data": {
      "text/plain": [
       "(10, 5)"
      ]
     },
     "execution_count": 84,
     "metadata": {},
     "output_type": "execute_result"
    }
   ],
   "source": [
    "a = 10\n",
    "b = 0b0101  # 2진수 - 0, 1로 표현하는 방법 -> 0101 = 2^2 + 2^0 = \n",
    "a, b"
   ]
  },
  {
   "cell_type": "code",
   "execution_count": 85,
   "id": "19fa8a16-e9df-42a5-9047-b833cf2171a4",
   "metadata": {},
   "outputs": [
    {
     "data": {
      "text/plain": [
       "8"
      ]
     },
     "execution_count": 85,
     "metadata": {},
     "output_type": "execute_result"
    }
   ],
   "source": [
    "c = 0o10  # 0o 8진수, 10 -> 8^1 + 0^0 = 8\n",
    "c"
   ]
  },
  {
   "cell_type": "code",
   "execution_count": 86,
   "id": "f8b6f201-3acb-4aad-ab4a-d016d1043f94",
   "metadata": {},
   "outputs": [
    {
     "data": {
      "text/plain": [
       "8"
      ]
     },
     "execution_count": 86,
     "metadata": {},
     "output_type": "execute_result"
    }
   ],
   "source": [
    "d = 0b1000\n",
    "d"
   ]
  },
  {
   "cell_type": "code",
   "execution_count": 87,
   "id": "b4e1d56f-ca51-4576-b5a4-b23ac5196b83",
   "metadata": {},
   "outputs": [
    {
     "data": {
      "text/plain": [
       "365"
      ]
     },
     "execution_count": 87,
     "metadata": {},
     "output_type": "execute_result"
    }
   ],
   "source": [
    "e = 0x16d  # 1*16^2 + 6*16^1 + 13*16^0 = 256+96+13\n",
    "e"
   ]
  },
  {
   "cell_type": "code",
   "execution_count": 88,
   "id": "d2cc62bc-5502-4830-960e-d9f3a9241294",
   "metadata": {},
   "outputs": [
    {
     "data": {
      "text/plain": [
       "(3.14, float)"
      ]
     },
     "execution_count": 88,
     "metadata": {},
     "output_type": "execute_result"
    }
   ],
   "source": [
    "# float\n",
    "b = 3.14\n",
    "b, type(b)"
   ]
  },
  {
   "cell_type": "markdown",
   "id": "c0c39742-9e2f-4b64-be6b-6be56fdf3f1c",
   "metadata": {},
   "source": [
    "지수의 표기\n",
    "\n",
    "숫자 e2 -> 10^2의 곱 = 10**2\n",
    "숫자 e-2 -> 10^-2의 곱 = 10**-2"
   ]
  },
  {
   "cell_type": "code",
   "execution_count": 89,
   "id": "d51820b0-010e-4aba-953f-18d092854ed0",
   "metadata": {},
   "outputs": [
    {
     "data": {
      "text/plain": [
       "1000.0"
      ]
     },
     "execution_count": 89,
     "metadata": {},
     "output_type": "execute_result"
    }
   ],
   "source": [
    "fa = 10e2\n",
    "fa"
   ]
  },
  {
   "cell_type": "code",
   "execution_count": 90,
   "id": "46265702-7530-466d-ac2a-b22dd0a92e80",
   "metadata": {},
   "outputs": [
    {
     "data": {
      "text/plain": [
       "0.1"
      ]
     },
     "execution_count": 90,
     "metadata": {},
     "output_type": "execute_result"
    }
   ],
   "source": [
    "fb = 10e-2\n",
    "fb"
   ]
  },
  {
   "cell_type": "code",
   "execution_count": 92,
   "id": "ffe22346-f019-4a33-91c5-ffecaa167905",
   "metadata": {},
   "outputs": [
    {
     "data": {
      "text/plain": [
       "3141500000.0"
      ]
     },
     "execution_count": 92,
     "metadata": {},
     "output_type": "execute_result"
    }
   ],
   "source": [
    "fc = 3.1415e9\n",
    "fc"
   ]
  },
  {
   "cell_type": "markdown",
   "id": "d7497762-d2b4-4915-a8b2-dce40cbb83a1",
   "metadata": {},
   "source": [
    "BOOLEAN값 - True, False\n",
    "논리연산, 비교연산"
   ]
  },
  {
   "cell_type": "code",
   "execution_count": 93,
   "id": "08a6b456-6162-48d0-a3fe-d8ac19b85624",
   "metadata": {},
   "outputs": [
    {
     "ename": "NameError",
     "evalue": "name 'true' is not defined",
     "output_type": "error",
     "traceback": [
      "\u001b[31m---------------------------------------------------------------------------\u001b[39m",
      "\u001b[31mNameError\u001b[39m                                 Traceback (most recent call last)",
      "\u001b[36mCell\u001b[39m\u001b[36m \u001b[39m\u001b[32mIn[93]\u001b[39m\u001b[32m, line 2\u001b[39m\n\u001b[32m      1\u001b[39m ba = \u001b[38;5;28;01mTrue\u001b[39;00m\n\u001b[32m----> \u001b[39m\u001b[32m2\u001b[39m bb = true\n\u001b[32m      3\u001b[39m \u001b[38;5;28mtype\u001b[39m(ba), \u001b[38;5;28mtype\u001b[39m(bb)\n",
      "\u001b[31mNameError\u001b[39m: name 'true' is not defined"
     ]
    }
   ],
   "source": [
    "ba = True\n",
    "bb = true\n",
    "type(ba), type(bb)"
   ]
  },
  {
   "cell_type": "code",
   "execution_count": 94,
   "id": "ffe94b90-de44-4514-a2f7-87278e4ba46d",
   "metadata": {},
   "outputs": [
    {
     "data": {
      "text/plain": [
       "True"
      ]
     },
     "execution_count": 94,
     "metadata": {},
     "output_type": "execute_result"
    }
   ],
   "source": [
    "ba == 1"
   ]
  },
  {
   "cell_type": "code",
   "execution_count": 95,
   "id": "96f76bbb-91c7-46da-ae6d-cfbfad2260aa",
   "metadata": {},
   "outputs": [
    {
     "data": {
      "text/plain": [
       "False"
      ]
     },
     "execution_count": 95,
     "metadata": {},
     "output_type": "execute_result"
    }
   ],
   "source": [
    "ba == 'True'"
   ]
  },
  {
   "cell_type": "code",
   "execution_count": 97,
   "id": "fc633ef4-6e67-43ce-94e0-75373c556b64",
   "metadata": {},
   "outputs": [
    {
     "data": {
      "text/plain": [
       "1"
      ]
     },
     "execution_count": 97,
     "metadata": {},
     "output_type": "execute_result"
    }
   ],
   "source": [
    "#논리 연산자 - and or not\n",
    "\n",
    "bc = 1\n",
    "ba and bc"
   ]
  },
  {
   "cell_type": "code",
   "execution_count": 98,
   "id": "b09cde44-420e-4a85-8589-613e57f3e059",
   "metadata": {},
   "outputs": [],
   "source": [
    "# 사칙연산 + - * / // %\n",
    "a = 2\n",
    "b = 3"
   ]
  },
  {
   "cell_type": "code",
   "execution_count": 105,
   "id": "6b95ae13-d102-4887-b977-b2eb67525370",
   "metadata": {},
   "outputs": [
    {
     "data": {
      "text/plain": [
       "(0.6666666666666666, 0, 2)"
      ]
     },
     "execution_count": 105,
     "metadata": {},
     "output_type": "execute_result"
    }
   ],
   "source": [
    "a+b\n",
    "a-b\n",
    "a*b\n",
    "a/b, a//b, a%b  #몫, 나머지"
   ]
  },
  {
   "cell_type": "code",
   "execution_count": 109,
   "id": "d1486611-3e2e-456c-9817-1b74965eaa2e",
   "metadata": {},
   "outputs": [
    {
     "data": {
      "text/plain": [
       "True"
      ]
     },
     "execution_count": 109,
     "metadata": {},
     "output_type": "execute_result"
    }
   ],
   "source": [
    "#비교 연산자\n",
    "1+2 == 3\n",
    "1+2 != 3\n",
    "1+3 > 3\n",
    "1+3 <= 4"
   ]
  },
  {
   "cell_type": "code",
   "execution_count": 110,
   "id": "0759d73c-e0ee-4508-91dd-58f91bff6157",
   "metadata": {},
   "outputs": [
    {
     "data": {
      "text/plain": [
       "True"
      ]
     },
     "execution_count": 110,
     "metadata": {},
     "output_type": "execute_result"
    }
   ],
   "source": [
    "#비교 연산자와 논리 연산자의 결합\n",
    "10%2 == 0 and 12%3 == 0"
   ]
  },
  {
   "cell_type": "code",
   "execution_count": 111,
   "id": "b3fa10ad-d1c4-47b6-8ac1-6339779858a9",
   "metadata": {},
   "outputs": [
    {
     "data": {
      "text/plain": [
       "('1234', '5678', 2114700663360, 2114750787248)"
      ]
     },
     "execution_count": 111,
     "metadata": {},
     "output_type": "execute_result"
    }
   ],
   "source": [
    "a = '1234'\n",
    "b = '5678'\n",
    "a, b, id(a), id(b)"
   ]
  },
  {
   "cell_type": "code",
   "execution_count": 112,
   "id": "5f39d0ab-b7d0-4b95-b7dc-4d331c06ff3e",
   "metadata": {},
   "outputs": [
    {
     "data": {
      "text/plain": [
       "False"
      ]
     },
     "execution_count": 112,
     "metadata": {},
     "output_type": "execute_result"
    }
   ],
   "source": [
    "id(a) == id(b)"
   ]
  },
  {
   "cell_type": "code",
   "execution_count": 113,
   "id": "d9315076-b13d-47cd-a1e4-c32e41633273",
   "metadata": {},
   "outputs": [
    {
     "data": {
      "text/plain": [
       "(10, 12)"
      ]
     },
     "execution_count": 113,
     "metadata": {},
     "output_type": "execute_result"
    }
   ],
   "source": [
    "#대입연산자\n",
    "a = 10\n",
    "b = a+2\n",
    "a, b"
   ]
  },
  {
   "cell_type": "code",
   "execution_count": 115,
   "id": "c8870961-276a-46d2-b660-e9c2a3881b26",
   "metadata": {},
   "outputs": [
    {
     "data": {
      "text/plain": [
       "21"
      ]
     },
     "execution_count": 115,
     "metadata": {},
     "output_type": "execute_result"
    }
   ],
   "source": [
    "a = 20\n",
    "a += 1  # a = a + 1\n",
    "a"
   ]
  },
  {
   "cell_type": "code",
   "execution_count": 116,
   "id": "dfb6ed90-18cb-4441-94cb-ca110ac67166",
   "metadata": {},
   "outputs": [
    {
     "data": {
      "text/plain": [
       "20"
      ]
     },
     "execution_count": 116,
     "metadata": {},
     "output_type": "execute_result"
    }
   ],
   "source": [
    "a -= 1  # a = a-1\n",
    "a"
   ]
  },
  {
   "cell_type": "code",
   "execution_count": 118,
   "id": "6fe619ee-0136-47ef-9e5c-65b0bc2e8e65",
   "metadata": {},
   "outputs": [
    {
     "data": {
      "text/plain": [
       "7"
      ]
     },
     "execution_count": 118,
     "metadata": {},
     "output_type": "execute_result"
    }
   ],
   "source": [
    "a = 3\n",
    "b = 2\n",
    "a += 2 + b\n",
    "a"
   ]
  },
  {
   "cell_type": "markdown",
   "id": "374d9a55-ad34-42a3-9fc2-2c1d6c527ebf",
   "metadata": {},
   "source": [
    "# 문자열 str\n",
    "' ', \" \", \"\"\" \"\"\", ''' '''  docstring\n",
    "\n",
    "인코딩 > 코드 > 숫자값 정해져 있음 \"코드표\""
   ]
  },
  {
   "cell_type": "markdown",
   "id": "167cff6c-2f84-42d3-be35-a94ad688ab94",
   "metadata": {},
   "source": [
    "유니코드 문자 표준\n",
    "영어는 ascii -> 유니코드\n",
    "한국어도 유니코드\n",
    "\n",
    "유니코드가 글자의 크기에 따라 utf-8, [utf-16, utf-32]\n",
    "\n",
    "파이썬의 문자열 str -> unicode 기반이다.\n",
    "\n",
    "euc-kr : 예전에 우리나라에서 쓰던 한글 코드\n",
    "cp949 : MS 윈도우즈의 한글코드"
   ]
  },
  {
   "cell_type": "code",
   "execution_count": 3,
   "id": "410d9f7b-ea91-4c5b-b691-dddd818b70f8",
   "metadata": {},
   "outputs": [
    {
     "name": "stdout",
     "output_type": "stream",
     "text": [
      "파이썬\n",
      "54028\n"
     ]
    }
   ],
   "source": [
    "text = '파이썬'\n",
    "print(text)\n",
    "print(ord('파'))"
   ]
  },
  {
   "cell_type": "code",
   "execution_count": 6,
   "id": "b4c8fe37-ab67-4a43-9b2d-af9f527654ad",
   "metadata": {},
   "outputs": [
    {
     "data": {
      "text/plain": [
       "b'\\xed\\x8c\\x8c\\xec\\x9d\\xb4\\xec\\x8d\\xac'"
      ]
     },
     "execution_count": 6,
     "metadata": {},
     "output_type": "execute_result"
    }
   ],
   "source": [
    "# 인코딩\n",
    "enc_text = text.encode('utf-8')\n",
    "enc_text"
   ]
  },
  {
   "cell_type": "code",
   "execution_count": 8,
   "id": "95d79407-86f9-4e86-b708-87d0ab0ab48b",
   "metadata": {},
   "outputs": [
    {
     "data": {
      "text/plain": [
       "'파이썬'"
      ]
     },
     "execution_count": 8,
     "metadata": {},
     "output_type": "execute_result"
    }
   ],
   "source": [
    "# 디코딩\n",
    "dec_text = enc_text.decode('utf-8')\n",
    "dec_text"
   ]
  },
  {
   "cell_type": "code",
   "execution_count": 9,
   "id": "82bed623-cbb6-4b91-a8f6-70f9f38a0154",
   "metadata": {},
   "outputs": [
    {
     "data": {
      "text/plain": [
       "b'\\xc6\\xc4\\xc0\\xcc\\xbd\\xe3'"
      ]
     },
     "execution_count": 9,
     "metadata": {},
     "output_type": "execute_result"
    }
   ],
   "source": [
    "# 인코딩 (euc-kr)\n",
    "enc_kr_text = text.encode('euc-kr')\n",
    "enc_kr_text"
   ]
  },
  {
   "cell_type": "code",
   "execution_count": 10,
   "id": "4d2a48b9-8c97-4159-9baa-f8854f4d8183",
   "metadata": {},
   "outputs": [
    {
     "data": {
      "text/plain": [
       "'파이썬'"
      ]
     },
     "execution_count": 10,
     "metadata": {},
     "output_type": "execute_result"
    }
   ],
   "source": [
    "# 디코딩 (euc-kr)\n",
    "dec_kr_text = enc_kr_text.decode('euc-kr')\n",
    "dec_kr_text"
   ]
  },
  {
   "cell_type": "code",
   "execution_count": 11,
   "id": "886e4c25-36d2-4dfb-bb1c-af421f43d3ce",
   "metadata": {},
   "outputs": [
    {
     "data": {
      "text/plain": [
       "b'\\xc6\\xc4\\xc0\\xcc\\xbd\\xe3'"
      ]
     },
     "execution_count": 11,
     "metadata": {},
     "output_type": "execute_result"
    }
   ],
   "source": [
    "# 인코딩 (cp949)\n",
    "enc_cp_text = text.encode('cp949')\n",
    "enc_cp_text"
   ]
  },
  {
   "cell_type": "code",
   "execution_count": 13,
   "id": "db107b46-13d8-43fb-a0b3-be7b2fc113db",
   "metadata": {},
   "outputs": [
    {
     "data": {
      "text/plain": [
       "'파이썬'"
      ]
     },
     "execution_count": 13,
     "metadata": {},
     "output_type": "execute_result"
    }
   ],
   "source": [
    "# 디코딩 (cp949)\n",
    "dec_cp_text = enc_cp_text.decode('cp949')\n",
    "dec_cp_text"
   ]
  },
  {
   "cell_type": "code",
   "execution_count": 2,
   "id": "6b6af8b3-e45a-4400-9174-975a296d0b5f",
   "metadata": {},
   "outputs": [
    {
     "data": {
      "text/plain": [
       "'hellopython'"
      ]
     },
     "execution_count": 2,
     "metadata": {},
     "output_type": "execute_result"
    }
   ],
   "source": [
    "a = 'hello'\n",
    "b = 'python'\n",
    "a + b"
   ]
  },
  {
   "cell_type": "code",
   "execution_count": 120,
   "id": "1c63eed9-bd77-431e-8034-cc6686c19c2b",
   "metadata": {},
   "outputs": [
    {
     "data": {
      "text/plain": [
       "'**********'"
      ]
     },
     "execution_count": 120,
     "metadata": {},
     "output_type": "execute_result"
    }
   ],
   "source": [
    "c = '*'\n",
    "c*10"
   ]
  },
  {
   "cell_type": "code",
   "execution_count": 123,
   "id": "ceb47072-1eaf-477c-b03b-60d9ff42e681",
   "metadata": {},
   "outputs": [
    {
     "data": {
      "text/plain": [
       "\"Kim's family\""
      ]
     },
     "execution_count": 123,
     "metadata": {},
     "output_type": "execute_result"
    }
   ],
   "source": [
    "d = \"Kim's family\"\n",
    "d"
   ]
  },
  {
   "cell_type": "code",
   "execution_count": 14,
   "id": "8ca951c4-5d47-4ac7-975e-026624aebd8d",
   "metadata": {},
   "outputs": [
    {
     "data": {
      "text/plain": [
       "True"
      ]
     },
     "execution_count": 14,
     "metadata": {},
     "output_type": "execute_result"
    }
   ],
   "source": [
    "e = '1'\n",
    "e == '1'"
   ]
  },
  {
   "cell_type": "markdown",
   "id": "d50151a1-195d-4d9a-8cec-35f3f56d3d51",
   "metadata": {},
   "source": [
    "파이썬의 인덱스는 0부터 시작\n",
    "음수인덱스 : 뒤에서부터 -1"
   ]
  },
  {
   "cell_type": "code",
   "execution_count": 126,
   "id": "99cf1fcf-0990-4ef1-9ebd-bac9c1ec7982",
   "metadata": {},
   "outputs": [
    {
     "data": {
      "text/plain": [
       "'2'"
      ]
     },
     "execution_count": 126,
     "metadata": {},
     "output_type": "execute_result"
    }
   ],
   "source": [
    "# 문자열은 리스트, 열거형\n",
    "a = '20010331Rabcd'  #13개의 글자의 목록\n",
    "a[0]"
   ]
  },
  {
   "cell_type": "code",
   "execution_count": 128,
   "id": "c7bb2d35-7bef-40f4-9651-836ac8ddba6a",
   "metadata": {},
   "outputs": [
    {
     "data": {
      "text/plain": [
       "'1'"
      ]
     },
     "execution_count": 128,
     "metadata": {},
     "output_type": "execute_result"
    }
   ],
   "source": [
    "a[3]  #인덱싱"
   ]
  },
  {
   "cell_type": "code",
   "execution_count": 136,
   "id": "ca15344f-a0c6-4ce3-88f1-b7d7fbbcfde9",
   "metadata": {},
   "outputs": [
    {
     "data": {
      "text/plain": [
       "'2001'"
      ]
     },
     "execution_count": 136,
     "metadata": {},
     "output_type": "execute_result"
    }
   ],
   "source": [
    "a[0:4]  #영역을 지정할 때 : (클론), 슬라이싱 slice\n",
    "a[:4]"
   ]
  },
  {
   "cell_type": "code",
   "execution_count": 137,
   "id": "d7736627-1743-4192-91a7-af9ad05617d0",
   "metadata": {},
   "outputs": [
    {
     "data": {
      "text/plain": [
       "'Rab'"
      ]
     },
     "execution_count": 137,
     "metadata": {},
     "output_type": "execute_result"
    }
   ],
   "source": [
    "a[8:11]"
   ]
  },
  {
   "cell_type": "code",
   "execution_count": 139,
   "id": "836d35c1-7471-4957-bfbd-7042d6e36850",
   "metadata": {},
   "outputs": [
    {
     "data": {
      "text/plain": [
       "'abcd'"
      ]
     },
     "execution_count": 139,
     "metadata": {},
     "output_type": "execute_result"
    }
   ],
   "source": [
    "a[9:]  #index =0에서 시작한다."
   ]
  },
  {
   "cell_type": "code",
   "execution_count": 140,
   "id": "2dd23c8d-f2dc-4434-9962-a6341b08b2f7",
   "metadata": {},
   "outputs": [
    {
     "data": {
      "text/plain": [
       "True"
      ]
     },
     "execution_count": 140,
     "metadata": {},
     "output_type": "execute_result"
    }
   ],
   "source": [
    "s = 'abc'\n",
    "a = s\n",
    "a is s"
   ]
  },
  {
   "cell_type": "code",
   "execution_count": 142,
   "id": "d9c03c42-faa2-4e38-907e-7acdcfc4605d",
   "metadata": {},
   "outputs": [
    {
     "data": {
      "text/plain": [
       "True"
      ]
     },
     "execution_count": 142,
     "metadata": {},
     "output_type": "execute_result"
    }
   ],
   "source": [
    "b = s[:]\n",
    "a is b"
   ]
  },
  {
   "cell_type": "code",
   "execution_count": 144,
   "id": "806fd05a-c016-4fdd-a267-0416c85970ce",
   "metadata": {},
   "outputs": [
    {
     "data": {
      "text/plain": [
       "True"
      ]
     },
     "execution_count": 144,
     "metadata": {},
     "output_type": "execute_result"
    }
   ],
   "source": [
    "s1 = '1'*1000\n",
    "b = s1[:]\n",
    "s1 == b"
   ]
  },
  {
   "cell_type": "markdown",
   "id": "71c5cc75-67b7-4670-9ac2-127edac30687",
   "metadata": {},
   "source": [
    "`''' docstring \\n\n",
    "start \\n\n",
    "end '''`\n",
    "\n",
    "\"\"\" \"\"\"\n",
    "\n",
    "shift+tab 키를 누르면 함수의 문서가 열린다."
   ]
  },
  {
   "cell_type": "code",
   "execution_count": 19,
   "id": "60b7f39f-c6bf-4d69-80ff-ddc82541e9ef",
   "metadata": {},
   "outputs": [
    {
     "name": "stdout",
     "output_type": "stream",
     "text": [
      "docstring\n",
      "start\n",
      "end\n",
      "\n"
     ]
    },
    {
     "data": {
      "text/plain": [
       "'docstring\\nstart\\nend\\n'"
      ]
     },
     "execution_count": 19,
     "metadata": {},
     "output_type": "execute_result"
    }
   ],
   "source": [
    "doc_string = '''docstring\n",
    "start\n",
    "end\n",
    "'''\n",
    "\n",
    "print (doc_string)\n",
    "doc_string"
   ]
  },
  {
   "cell_type": "code",
   "execution_count": 20,
   "id": "09312e67-1e85-4086-a45d-09c5d227cd47",
   "metadata": {},
   "outputs": [
    {
     "data": {
      "text/plain": [
       "str"
      ]
     },
     "execution_count": 20,
     "metadata": {},
     "output_type": "execute_result"
    }
   ],
   "source": [
    "type(text)"
   ]
  },
  {
   "cell_type": "markdown",
   "id": "725e17d2-bfb6-42d8-8ef5-c9dcd3f48884",
   "metadata": {},
   "source": [
    "# str의 함수\n",
    "\n",
    "dir()"
   ]
  },
  {
   "cell_type": "code",
   "execution_count": 21,
   "id": "6089f88d-9c59-4be4-92df-32b42c0d0fa8",
   "metadata": {
    "collapsed": true,
    "jupyter": {
     "outputs_hidden": true
    },
    "scrolled": true
   },
   "outputs": [
    {
     "data": {
      "text/plain": [
       "['__add__',\n",
       " '__class__',\n",
       " '__contains__',\n",
       " '__delattr__',\n",
       " '__dir__',\n",
       " '__doc__',\n",
       " '__eq__',\n",
       " '__format__',\n",
       " '__ge__',\n",
       " '__getattribute__',\n",
       " '__getitem__',\n",
       " '__getnewargs__',\n",
       " '__getstate__',\n",
       " '__gt__',\n",
       " '__hash__',\n",
       " '__init__',\n",
       " '__init_subclass__',\n",
       " '__iter__',\n",
       " '__le__',\n",
       " '__len__',\n",
       " '__lt__',\n",
       " '__mod__',\n",
       " '__mul__',\n",
       " '__ne__',\n",
       " '__new__',\n",
       " '__reduce__',\n",
       " '__reduce_ex__',\n",
       " '__repr__',\n",
       " '__rmod__',\n",
       " '__rmul__',\n",
       " '__setattr__',\n",
       " '__sizeof__',\n",
       " '__str__',\n",
       " '__subclasshook__',\n",
       " 'capitalize',\n",
       " 'casefold',\n",
       " 'center',\n",
       " 'count',\n",
       " 'encode',\n",
       " 'endswith',\n",
       " 'expandtabs',\n",
       " 'find',\n",
       " 'format',\n",
       " 'format_map',\n",
       " 'index',\n",
       " 'isalnum',\n",
       " 'isalpha',\n",
       " 'isascii',\n",
       " 'isdecimal',\n",
       " 'isdigit',\n",
       " 'isidentifier',\n",
       " 'islower',\n",
       " 'isnumeric',\n",
       " 'isprintable',\n",
       " 'isspace',\n",
       " 'istitle',\n",
       " 'isupper',\n",
       " 'join',\n",
       " 'ljust',\n",
       " 'lower',\n",
       " 'lstrip',\n",
       " 'maketrans',\n",
       " 'partition',\n",
       " 'removeprefix',\n",
       " 'removesuffix',\n",
       " 'replace',\n",
       " 'rfind',\n",
       " 'rindex',\n",
       " 'rjust',\n",
       " 'rpartition',\n",
       " 'rsplit',\n",
       " 'rstrip',\n",
       " 'split',\n",
       " 'splitlines',\n",
       " 'startswith',\n",
       " 'strip',\n",
       " 'swapcase',\n",
       " 'title',\n",
       " 'translate',\n",
       " 'upper',\n",
       " 'zfill']"
      ]
     },
     "execution_count": 21,
     "metadata": {},
     "output_type": "execute_result"
    }
   ],
   "source": [
    "dir(text)"
   ]
  },
  {
   "cell_type": "code",
   "execution_count": 25,
   "id": "a5c6f968-2662-4cfd-b3b4-fe9376ad70f6",
   "metadata": {},
   "outputs": [
    {
     "data": {
      "text/plain": [
       "'파이썬4'"
      ]
     },
     "execution_count": 25,
     "metadata": {},
     "output_type": "execute_result"
    }
   ],
   "source": [
    "text.__add__('4')"
   ]
  },
  {
   "cell_type": "code",
   "execution_count": 29,
   "id": "130cac6f-f4aa-474e-9607-a220ec81bc7f",
   "metadata": {},
   "outputs": [
    {
     "data": {
      "text/plain": [
       "0"
      ]
     },
     "execution_count": 29,
     "metadata": {},
     "output_type": "execute_result"
    }
   ],
   "source": [
    "text.count('t')"
   ]
  },
  {
   "cell_type": "code",
   "execution_count": 32,
   "id": "5e294bdc-e41d-4482-942f-a158d4941009",
   "metadata": {},
   "outputs": [
    {
     "data": {
      "text/plain": [
       "1"
      ]
     },
     "execution_count": 32,
     "metadata": {},
     "output_type": "execute_result"
    }
   ],
   "source": [
    "text.find('이')"
   ]
  },
  {
   "cell_type": "code",
   "execution_count": 33,
   "id": "cc1b58dd-ec12-48e3-9ceb-f818a0c1f4a3",
   "metadata": {},
   "outputs": [
    {
     "data": {
      "text/plain": [
       "3"
      ]
     },
     "execution_count": 33,
     "metadata": {},
     "output_type": "execute_result"
    }
   ],
   "source": [
    "text.__len__()"
   ]
  },
  {
   "cell_type": "code",
   "execution_count": 44,
   "id": "ea4b1905-4794-43e5-be9e-1a3721287484",
   "metadata": {},
   "outputs": [
    {
     "data": {
      "text/plain": [
       "'파이썬파이썬파이썬파이썬'"
      ]
     },
     "execution_count": 44,
     "metadata": {},
     "output_type": "execute_result"
    }
   ],
   "source": [
    "text.__mul__(4)"
   ]
  },
  {
   "cell_type": "code",
   "execution_count": 45,
   "id": "874c62a2-b9e0-4be9-9683-f692321178d6",
   "metadata": {},
   "outputs": [
    {
     "data": {
      "text/plain": [
       "'================================================================================'"
      ]
     },
     "execution_count": 45,
     "metadata": {},
     "output_type": "execute_result"
    }
   ],
   "source": [
    "'='*80"
   ]
  },
  {
   "cell_type": "markdown",
   "id": "1ed4c20d-f30e-4500-982d-759d56ccbbc5",
   "metadata": {},
   "source": [
    "excape 문자\n",
    "\n",
    "\\  '역슬래시'\n",
    "\n"
   ]
  },
  {
   "cell_type": "code",
   "execution_count": 43,
   "id": "bed110be-c530-482d-a373-79159722a935",
   "metadata": {},
   "outputs": [
    {
     "name": "stdout",
     "output_type": "stream",
     "text": [
      "hello\n",
      "world's\n"
     ]
    }
   ],
   "source": [
    "print('hello\\nworld\\'s')  # excape 문자는 특수문자를 그냥 텍스트로 인식하게 한다."
   ]
  },
  {
   "cell_type": "markdown",
   "id": "423db035-89d3-4008-a5d0-5a8c36435a6c",
   "metadata": {},
   "source": [
    "raw-string : 모두 다 문자열이다  r'srt?\\' 따옴표 안에 excape가 있더라도 그냥 문자열이다\n",
    "\n",
    "f-string : 형식코드가 내포된 문자열  f'str{text}' 코드로(변수로) 해석해"
   ]
  },
  {
   "cell_type": "code",
   "execution_count": 51,
   "id": "8663007a-7e96-4fcf-9bb5-2e6bc49ad664",
   "metadata": {},
   "outputs": [
    {
     "data": {
      "text/plain": [
       "'12\\x04'"
      ]
     },
     "execution_count": 51,
     "metadata": {},
     "output_type": "execute_result"
    }
   ],
   "source": [
    "str_1 = '12\\4'   #'12\\x04' \\는 escape 문자 > 무시하는 방법은 r-string\n",
    "str_1"
   ]
  },
  {
   "cell_type": "code",
   "execution_count": 52,
   "id": "e471b8f5-7d56-43ee-a25d-fdd9722e055e",
   "metadata": {},
   "outputs": [
    {
     "data": {
      "text/plain": [
       "'12\\\\4'"
      ]
     },
     "execution_count": 52,
     "metadata": {},
     "output_type": "execute_result"
    }
   ],
   "source": [
    "raw_str = r'12\\4'\n",
    "raw_str"
   ]
  },
  {
   "cell_type": "code",
   "execution_count": 55,
   "id": "b9297a65-a451-496e-aac8-7a4518b95bd5",
   "metadata": {},
   "outputs": [
    {
     "name": "stdout",
     "output_type": "stream",
     "text": [
      "Hello\\nWorld\n"
     ]
    }
   ],
   "source": [
    "raw_str_1 = r'Hello\\nWorld'\n",
    "raw_str_1\n",
    "print(raw_str_1)"
   ]
  },
  {
   "cell_type": "markdown",
   "id": "dc42276c-dc7f-4d54-9501-3fd78c18c39a",
   "metadata": {},
   "source": [
    "f'{수식}  문자열이에요  {변수}'"
   ]
  },
  {
   "cell_type": "code",
   "execution_count": 64,
   "id": "3f646a22-ec32-4c37-a313-a51cf076a470",
   "metadata": {},
   "outputs": [
    {
     "name": "stdout",
     "output_type": "stream",
     "text": [
      "제 이름은  jiyoung 내 나이는  25\n"
     ]
    }
   ],
   "source": [
    "name = 'jiyoung'\n",
    "age = 25\n",
    "\n",
    "print('제 이름은 ', name, '내 나이는 ', age)"
   ]
  },
  {
   "cell_type": "code",
   "execution_count": 67,
   "id": "efaeab04-416d-4c55-b474-ee59f7ffb5b9",
   "metadata": {},
   "outputs": [
    {
     "data": {
      "text/plain": [
       "'제 이름은 jiyoung 내 나이는 25입니다.'"
      ]
     },
     "execution_count": 67,
     "metadata": {},
     "output_type": "execute_result"
    }
   ],
   "source": [
    "f_str_1 = f'제 이름은 {name} 내 나이는 {age}입니다.'\n",
    "f_str_1"
   ]
  },
  {
   "cell_type": "code",
   "execution_count": 69,
   "id": "d75ac303-0479-49b5-8c34-771167c407d6",
   "metadata": {},
   "outputs": [
    {
     "name": "stdin",
     "output_type": "stream",
     "text": [
      "이름 : 김지영\n",
      "나이 : 25\n"
     ]
    },
    {
     "data": {
      "text/plain": [
       "'제 이름은 김지영이고 나이는 25입니다.'"
      ]
     },
     "execution_count": 69,
     "metadata": {},
     "output_type": "execute_result"
    }
   ],
   "source": [
    "name = input('이름 :')\n",
    "age = input('나이 :')\n",
    "f_str_2 = f'제 이름은 {name}이고 나이는 {age}입니다.'\n",
    "f_str_2"
   ]
  },
  {
   "cell_type": "markdown",
   "id": "9963d366-2399-4fa2-8575-b967dcea5e50",
   "metadata": {},
   "source": [
    "문자열.format()\n",
    "\n",
    "문자열에 위치 인덱스를 사용해 포맷한 값을 지정할 수 있다."
   ]
  },
  {
   "cell_type": "code",
   "execution_count": 74,
   "id": "d8ed4955-7cda-4241-bfc7-2cfb7f6d0f85",
   "metadata": {},
   "outputs": [
    {
     "data": {
      "text/plain": [
       "' 99.9900 dollars are worth US$ 100 '"
      ]
     },
     "execution_count": 74,
     "metadata": {},
     "output_type": "execute_result"
    }
   ],
   "source": [
    "#dir(f_str_1)\n",
    "format_str = ' {0:.4f} {1:s} are worth US$ {2:d} '   #template\n",
    "format_str.format(99.99, 'dollars', 100)"
   ]
  },
  {
   "cell_type": "code",
   "execution_count": 81,
   "id": "7057df4a-0a95-45a8-8cd3-066cdc75e4fd",
   "metadata": {},
   "outputs": [
    {
     "name": "stdin",
     "output_type": "stream",
     "text": [
      "주문할 메뉴를 입력하세요!  쫄면\n",
      "한 개 가격이 얼마인가요?  7000\n",
      "몇 개나 주문하세요?  2\n"
     ]
    },
    {
     "name": "stdout",
     "output_type": "stream",
     "text": [
      "쫄면메뉴의 2개 가격은 총 14,000입니다. \n"
     ]
    }
   ],
   "source": [
    "menu = input('주문할 메뉴를 입력하세요! ')\n",
    "price = int(input('한 개 가격이 얼마인가요? '))\n",
    "count = int(input('몇 개나 주문하세요? '))\n",
    "\n",
    "total = price * count\n",
    "msg = '{}메뉴의 {}개 가격은 총 {:,}입니다. '\n",
    "print(msg.format(menu, count, total))"
   ]
  },
  {
   "cell_type": "code",
   "execution_count": 155,
   "id": "80ca7c22-c076-4e75-abae-6a645a626af2",
   "metadata": {},
   "outputs": [
    {
     "name": "stdout",
     "output_type": "stream",
     "text": [
      "상품명       가격        수량        총액        \n",
      "------------------------------------------\n",
      "아메리카노        3,000원        2개    6,000원\n",
      "카페라떼         4,000원        1개    4,000원\n",
      "샌드위치         5,500원        3개   16,500원\n"
     ]
    }
   ],
   "source": [
    "items = [\n",
    "    {\"name\": \"아메리카노\", \"price\": 3000, \"qty\": 2},\n",
    "    {\"name\": \"카페라떼\", \"price\": 4000, \"qty\": 1},\n",
    "    {\"name\": \"샌드위치\", \"price\": 5500, \"qty\": 3}\n",
    "]\n",
    "\n",
    "header_str = '{0:10}{1:10}{2:10}{3:10}'   #인덱스:데이터길이  template\n",
    "print(header_str.format('상품명', '가격', '수량', '총액'))\n",
    "print('-'*42)\n",
    "\n",
    "data_str = '{0:9}{1:9,}원{2:9}개{3:9,}원'   #template\n",
    "\n",
    "for item in items :\n",
    "    item_name = item['name']\n",
    "    item_price = item['price']\n",
    "    item_qty = item['qty']\n",
    "    total_price = item_price * item_qty\n",
    "    print(data_str.format(item_name, item_price, item_qty, total_price))\n"
   ]
  },
  {
   "cell_type": "markdown",
   "id": "1a91021b-0b07-41c0-a3ec-e7e0f98834b2",
   "metadata": {},
   "source": [
    "강사님이 디스코드로 문자열함수 연습해보라고 주심\n",
    "| 함수                  | 설명                  | 예시                                        |\n",
    "| ------------------- | ------------------- | ----------------------------------------- |\n",
    "| lower()           | 모두 소문자로 변환          | \"Python\".lower() → \"python\"           |\n",
    "| upper()           | 모두 대문자로 변환          | \"python\".upper() → \"PYTHON\"           |\n",
    "| capitalize()      | 첫 글자만 대문자           | \"hello\".capitalize() → \"Hello\"        |\n",
    "| title()           | 각 단어의 첫 글자 대문자      | \"hello world\".title() → \"Hello World\" |\n",
    "| strip()           | 앞뒤 공백 제거            | \" hello \".strip() → \"hello\"           |\n",
    "| lstrip()          | 왼쪽 공백 제거            | \" hello\".lstrip()                       |\n",
    "| rstrip()          | 오른쪽 공백 제거           | \"hello \".rstrip()                       |\n",
    "| replace(old, new) | 문자열 바꾸기             | \"hello\".replace(\"l\", \"x\") → \"hexxo\"   |\n",
    "| split()           | 문자열 나누기 (기본: 공백)    | \"a b c\".split() → ['a', 'b', 'c']     |\n",
    "| join(list)        | 리스트를 문자열로 결합        | \" \".join(['a', 'b']) → \"a b\"          |\n",
    "| find(sub)         | 처음 등장하는 위치 (없으면 -1) | \"apple\".find(\"p\") → 1                 |\n",
    "| index(sub)        | 처음 등장하는 위치 (없으면 오류) | \"apple\".index(\"p\") → 1                |\n",
    "| count(sub)        | 부분 문자열 개수           | \"banana\".count(\"a\") → 3               |\n",
    "| startswith(sub)   | 해당 문자열로 시작?         | \"python\".startswith(\"py\") → True      |\n",
    "| endswith(sub)     | 해당 문자열로 끝남?         | \"python\".endswith(\"on\") → True        |\n",
    "| isalnum()         | 영문자+숫자인가?           | \"abc123\".isalnum() → True             |\n",
    "| isalpha()         | 영문자만인가?             | \"abc\".isalpha() → True                |\n",
    "| isdigit()         | 숫자만인가?              | \"123\".isdigit() → True                |\n",
    "| isspace()         | 공백문자만 있는가?          | \" \\t\\n\".isspace() → True              |\n"
   ]
  },
  {
   "cell_type": "code",
   "execution_count": 108,
   "id": "cc1a713f-5ee1-4710-ad40-42498f648b9f",
   "metadata": {},
   "outputs": [
    {
     "data": {
      "text/plain": [
       "'python'"
      ]
     },
     "execution_count": 108,
     "metadata": {},
     "output_type": "execute_result"
    }
   ],
   "source": [
    "\"PYTHON\".lower()"
   ]
  },
  {
   "cell_type": "code",
   "execution_count": 109,
   "id": "48b83346-6b29-4f80-934f-f9a672444d5b",
   "metadata": {},
   "outputs": [
    {
     "data": {
      "text/plain": [
       "'PYTHON'"
      ]
     },
     "execution_count": 109,
     "metadata": {},
     "output_type": "execute_result"
    }
   ],
   "source": [
    "'python'.upper()"
   ]
  },
  {
   "cell_type": "code",
   "execution_count": 110,
   "id": "a51c3897-f046-43d9-97dd-428bfd9f7642",
   "metadata": {},
   "outputs": [
    {
     "data": {
      "text/plain": [
       "'Hello'"
      ]
     },
     "execution_count": 110,
     "metadata": {},
     "output_type": "execute_result"
    }
   ],
   "source": [
    "\"hello\".capitalize()"
   ]
  },
  {
   "cell_type": "code",
   "execution_count": 114,
   "id": "97b43621-ec25-4cb9-9719-3e82b2d94c15",
   "metadata": {},
   "outputs": [
    {
     "data": {
      "text/plain": [
       "'Hello World Good Bye'"
      ]
     },
     "execution_count": 114,
     "metadata": {},
     "output_type": "execute_result"
    }
   ],
   "source": [
    "'hello world good bye'.title()"
   ]
  },
  {
   "cell_type": "code",
   "execution_count": 115,
   "id": "7a415c07-e19f-481c-912b-7e62259ab33f",
   "metadata": {},
   "outputs": [
    {
     "data": {
      "text/plain": [
       "'hello world good bye'"
      ]
     },
     "execution_count": 115,
     "metadata": {},
     "output_type": "execute_result"
    }
   ],
   "source": [
    "'hello world good bye'.strip()"
   ]
  },
  {
   "cell_type": "code",
   "execution_count": 117,
   "id": "340eebc1-b15c-457e-a751-95e3dd39c300",
   "metadata": {},
   "outputs": [
    {
     "data": {
      "text/plain": [
       "'hello world good bye'"
      ]
     },
     "execution_count": 117,
     "metadata": {},
     "output_type": "execute_result"
    }
   ],
   "source": [
    "'  hello world good bye'.lstrip()"
   ]
  },
  {
   "cell_type": "code",
   "execution_count": 118,
   "id": "c63bf45e-59a2-4d69-89ca-789eeefb7f28",
   "metadata": {},
   "outputs": [
    {
     "data": {
      "text/plain": [
       "'hello world good bye'"
      ]
     },
     "execution_count": 118,
     "metadata": {},
     "output_type": "execute_result"
    }
   ],
   "source": [
    "'hello world good bye  '.rstrip()"
   ]
  },
  {
   "cell_type": "code",
   "execution_count": 119,
   "id": "533cfd7e-7e80-4c61-a007-20bd40079983",
   "metadata": {},
   "outputs": [
    {
     "data": {
      "text/plain": [
       "'hellx wxrld gxxd bye'"
      ]
     },
     "execution_count": 119,
     "metadata": {},
     "output_type": "execute_result"
    }
   ],
   "source": [
    "'hello world good bye'.replace('o', 'x')"
   ]
  },
  {
   "cell_type": "code",
   "execution_count": 120,
   "id": "346e0cf4-57db-4a92-a261-b27c312a0f0c",
   "metadata": {},
   "outputs": [
    {
     "data": {
      "text/plain": [
       "['hello', 'world', 'good', 'bye']"
      ]
     },
     "execution_count": 120,
     "metadata": {},
     "output_type": "execute_result"
    }
   ],
   "source": [
    "'hello world good bye'.split()"
   ]
  },
  {
   "cell_type": "code",
   "execution_count": 122,
   "id": "9e4eea6f-bfe4-415e-b6ef-587fe5bba4b7",
   "metadata": {},
   "outputs": [
    {
     "data": {
      "text/plain": [
       "'helloworldgoodbye'"
      ]
     },
     "execution_count": 122,
     "metadata": {},
     "output_type": "execute_result"
    }
   ],
   "source": [
    "\"\".join(['hello', 'world', 'good', 'bye'])"
   ]
  },
  {
   "cell_type": "code",
   "execution_count": 142,
   "id": "44335218-2497-402a-b970-cdafc5c10b3b",
   "metadata": {},
   "outputs": [
    {
     "data": {
      "text/plain": [
       "4"
      ]
     },
     "execution_count": 142,
     "metadata": {},
     "output_type": "execute_result"
    }
   ],
   "source": [
    "'hello world good bye'.find('o')"
   ]
  },
  {
   "cell_type": "code",
   "execution_count": 143,
   "id": "01684dd2-7471-45f5-b810-7357b12c18a0",
   "metadata": {},
   "outputs": [
    {
     "data": {
      "text/plain": [
       "6"
      ]
     },
     "execution_count": 143,
     "metadata": {},
     "output_type": "execute_result"
    }
   ],
   "source": [
    "'hello world good bye'.index('w')"
   ]
  },
  {
   "cell_type": "code",
   "execution_count": 144,
   "id": "124e79f1-069e-4a37-8991-f1a82ede85ea",
   "metadata": {},
   "outputs": [
    {
     "data": {
      "text/plain": [
       "4"
      ]
     },
     "execution_count": 144,
     "metadata": {},
     "output_type": "execute_result"
    }
   ],
   "source": [
    "'hello world good bye'.count('o')"
   ]
  },
  {
   "cell_type": "code",
   "execution_count": 146,
   "id": "447ddff5-b95f-436e-9f4e-c080d020d490",
   "metadata": {},
   "outputs": [
    {
     "data": {
      "text/plain": [
       "False"
      ]
     },
     "execution_count": 146,
     "metadata": {},
     "output_type": "execute_result"
    }
   ],
   "source": [
    "'hello world good bye'.startswith('hl')"
   ]
  },
  {
   "cell_type": "code",
   "execution_count": 147,
   "id": "59bbac55-d136-46b2-92b4-759fcf5f733e",
   "metadata": {},
   "outputs": [
    {
     "data": {
      "text/plain": [
       "True"
      ]
     },
     "execution_count": 147,
     "metadata": {},
     "output_type": "execute_result"
    }
   ],
   "source": [
    "'hello world good bye'.endswith('ye')"
   ]
  },
  {
   "cell_type": "code",
   "execution_count": 148,
   "id": "fcf5fbac-2ddd-43c1-a2ad-21a21628bc07",
   "metadata": {},
   "outputs": [
    {
     "data": {
      "text/plain": [
       "False"
      ]
     },
     "execution_count": 148,
     "metadata": {},
     "output_type": "execute_result"
    }
   ],
   "source": [
    "'hello world good bye'.isalnum()"
   ]
  },
  {
   "cell_type": "code",
   "execution_count": 151,
   "id": "e49b1951-aa63-4ee0-972c-a088866ad28b",
   "metadata": {},
   "outputs": [
    {
     "data": {
      "text/plain": [
       "True"
      ]
     },
     "execution_count": 151,
     "metadata": {},
     "output_type": "execute_result"
    }
   ],
   "source": [
    "'helloworldgoodbye'.isalpha()"
   ]
  },
  {
   "cell_type": "code",
   "execution_count": 153,
   "id": "ce4ad210-1ac6-4bf4-82bd-ba2314eb6e45",
   "metadata": {},
   "outputs": [
    {
     "data": {
      "text/plain": [
       "False"
      ]
     },
     "execution_count": 153,
     "metadata": {},
     "output_type": "execute_result"
    }
   ],
   "source": [
    "'hello world good bye'.isdigit()"
   ]
  },
  {
   "cell_type": "code",
   "execution_count": 154,
   "id": "c27059d5-20da-48ff-be51-33b3c4db489d",
   "metadata": {},
   "outputs": [
    {
     "data": {
      "text/plain": [
       "False"
      ]
     },
     "execution_count": 154,
     "metadata": {},
     "output_type": "execute_result"
    }
   ],
   "source": [
    "'hello world good bye'.isspace()"
   ]
  },
  {
   "cell_type": "code",
   "execution_count": null,
   "id": "577cc0ca-cb92-4a3e-8913-d2cc00144ea4",
   "metadata": {},
   "outputs": [],
   "source": []
  },
  {
   "cell_type": "markdown",
   "id": "a8e12187-75c2-43bf-a171-ba65d8cf302e",
   "metadata": {},
   "source": [
    "TypeError, ValueError"
   ]
  },
  {
   "cell_type": "code",
   "execution_count": 60,
   "id": "1dcd6cd7-407d-44d4-9dbd-8ac5853ddb5f",
   "metadata": {},
   "outputs": [
    {
     "data": {
      "text/plain": [
       "5"
      ]
     },
     "execution_count": 60,
     "metadata": {},
     "output_type": "execute_result"
    }
   ],
   "source": [
    "b = 2\n",
    "c = '3'\n",
    "#b + c   #TypeError\n",
    "b + int(c)"
   ]
  },
  {
   "cell_type": "code",
   "execution_count": 62,
   "id": "e4271384-b73f-441d-bb59-e958817cc8aa",
   "metadata": {},
   "outputs": [
    {
     "data": {
      "text/plain": [
       "5"
      ]
     },
     "execution_count": 62,
     "metadata": {},
     "output_type": "execute_result"
    }
   ],
   "source": [
    "c = '3a'\n",
    "#b + int(c)   #ValueError\n",
    "b + int(c[0])"
   ]
  },
  {
   "cell_type": "markdown",
   "id": "382f2b57-9204-44ec-b16e-f6dbabfbfaa1",
   "metadata": {},
   "source": [
    "# 문자열 함수 연습\n",
    "Q1. 홍길동 씨의 주민등록번호는 881120-1068234이다. 홍길동씨의 주민등록번호를 연월일 [YYYYMMDD] 부분과 그 뒤의 숫자 부분으로 나누어 출력해 보자.\n",
    "\n",
    "Q2. 주민등록번호 뒷자리의 맨 첫 번째 숫자는 성별을 나타낸다. 주민등록번호에서 성별을 나타내는 숫자를 출력해 보자\n",
    "\n",
    "Q3. 숫자와 문자를 나누어 a1,a2 변수에 넣으세요.\n",
    "\n",
    "a = '20010331Rainy'\n",
    "\n",
    "Q4. 모두 대문자로, 모두 소문자로 바꾸세요.\n",
    "\n",
    "a = 'Hi'\n",
    "\n",
    "Q5. 아래 변수의 화이트 스페이스를 제거하고 출력하세요.\n",
    "\n",
    "a = ' hi '\n",
    "\n",
    "Q6. 아기상어 동요 속에는 '뚜루' 가 몇개나 들어 있을까요?"
   ]
  },
  {
   "cell_type": "code",
   "execution_count": 156,
   "id": "6a69befc-ecd4-42c8-8345-443f09e28edd",
   "metadata": {},
   "outputs": [
    {
     "data": {
      "text/plain": [
       "['881120', '1068234']"
      ]
     },
     "execution_count": 156,
     "metadata": {},
     "output_type": "execute_result"
    }
   ],
   "source": [
    "hong = '881120-1068234'\n",
    "hong.split('-')"
   ]
  },
  {
   "cell_type": "code",
   "execution_count": 157,
   "id": "0fdf227d-9324-4433-8069-924c856c66c7",
   "metadata": {},
   "outputs": [
    {
     "name": "stdout",
     "output_type": "stream",
     "text": [
      "1\n"
     ]
    }
   ],
   "source": [
    "print(hong.split('-')[1][0])"
   ]
  },
  {
   "cell_type": "code",
   "execution_count": 159,
   "id": "ffd3b4ed-9401-4ffc-9b49-2e366ac114a9",
   "metadata": {},
   "outputs": [
    {
     "data": {
      "text/plain": [
       "('20010331', 'Rainy')"
      ]
     },
     "execution_count": 159,
     "metadata": {},
     "output_type": "execute_result"
    }
   ],
   "source": [
    "a = '20010331Rainy'\n",
    "a1 = a[:8]\n",
    "a2 = a[8:]\n",
    "a1, a2"
   ]
  },
  {
   "cell_type": "code",
   "execution_count": 160,
   "id": "efddca85-5053-4219-9e61-df3d9efb72ae",
   "metadata": {},
   "outputs": [
    {
     "data": {
      "text/plain": [
       "('HI', 'hi')"
      ]
     },
     "execution_count": 160,
     "metadata": {},
     "output_type": "execute_result"
    }
   ],
   "source": [
    "a = 'Hi'\n",
    "a.upper(), a.lower()"
   ]
  },
  {
   "cell_type": "code",
   "execution_count": 161,
   "id": "16271c6b-a46f-4abd-bdea-47ce0939a9ea",
   "metadata": {},
   "outputs": [
    {
     "data": {
      "text/plain": [
       "'hi'"
      ]
     },
     "execution_count": 161,
     "metadata": {},
     "output_type": "execute_result"
    }
   ],
   "source": [
    "a = 'hi '\n",
    "a.strip()"
   ]
  },
  {
   "cell_type": "code",
   "execution_count": 162,
   "id": "47794bb6-833a-4276-be51-b5df777cfc6a",
   "metadata": {},
   "outputs": [],
   "source": [
    "lylics = '''\n",
    "아기상어\n",
    "뚜루루뚜루\n",
    "귀여운\n",
    "뚜루루뚜루\n",
    "바닷속\n",
    "뚜루루뚜루\n",
    "아기상어!\n",
    "엄마상어\n",
    "뚜루루뚜루\n",
    "어여쁜\n",
    "뚜루루뚜루\n",
    "바닷속\n",
    "뚜루루뚜루\n",
    "엄마상어!\n",
    "아빠상어\n",
    "뚜루루뚜루\n",
    "힘이 센\n",
    "뚜루루뚜루\n",
    "바닷속\n",
    "뚜루루뚜루\n",
    "아빠상어!\n",
    "할머니상어\n",
    "뚜루루뚜루\n",
    "자상한\n",
    "뚜루루뚜루\n",
    "바닷속\n",
    "뚜루루뚜루\n",
    "할머니상어!\n",
    "할아버지상어\n",
    "뚜루루뚜루\n",
    "멋있는\n",
    "뚜루루뚜루\n",
    "바닷속\n",
    "뚜루루뚜루\n",
    "할아버지상어!\n",
    "우리는\n",
    "뚜루루뚜루\n",
    "바다의\n",
    "뚜루루뚜루\n",
    "사냥꾼\n",
    "뚜루루뚜루\n",
    "상어가족!\n",
    "상어다\n",
    "뚜루루뚜루\n",
    "도망쳐\n",
    "뚜루루뚜루\n",
    "도망쳐\n",
    "뚜루루뚜루\n",
    "숨자! 으악!\n",
    "한번 더!\n",
    "상어다\n",
    "뚜루루뚜루\n",
    "도망쳐\n",
    "뚜루루뚜루\n",
    "도망쳐\n",
    "뚜루루뚜루\n",
    "숨자! 으악!\n",
    "아기상어\n",
    "뚜루루뚜루\n",
    "귀여운\n",
    "뚜루루뚜루\n",
    "바닷속\n",
    "뚜루루뚜루\n",
    "아기상어!\n",
    "엄마상어\n",
    "뚜루루뚜루\n",
    "어여쁜\n",
    "뚜루루뚜루\n",
    "바닷속\n",
    "뚜루루뚜루\n",
    "엄마상어!\n",
    "아빠상어\n",
    "뚜루루뚜루\n",
    "힘이 센\n",
    "뚜루루뚜루\n",
    "바닷속\n",
    "뚜루루뚜루\n",
    "아빠상어!\n",
    "할머니상어\n",
    "뚜루루뚜루\n",
    "자상한\n",
    "뚜루루뚜루\n",
    "바닷속\n",
    "뚜루루뚜루\n",
    "할머니상어!\n",
    "할아버지상어\n",
    "뚜루루뚜루\n",
    "멋있는\n",
    "뚜루루뚜루\n",
    "바닷속\n",
    "뚜루루뚜루\n",
    "할아버지상어!\n",
    "우리는\n",
    "뚜루루뚜루\n",
    "바다의\n",
    "뚜루루뚜루\n",
    "사냥꾼\n",
    "뚜루루뚜루\n",
    "상어가족!\n",
    "상어다\n",
    "뚜루루뚜루\n",
    "도망쳐\n",
    "뚜루루뚜루\n",
    "도망쳐\n",
    "뚜루루뚜루\n",
    "숨자! 으악!\n",
    "살았다\n",
    "뚜루루뚜루\n",
    "살았다\n",
    "뚜루루뚜루\n",
    "오늘도\n",
    "뚜루루뚜루\n",
    "살았다!\n",
    "신난다\n",
    "뚜루루뚜루\n",
    "신난다\n",
    "뚜루루뚜루\n",
    "춤을 춰\n",
    "뚜루루뚜루\n",
    "노래 끝!\n",
    "'''"
   ]
  },
  {
   "cell_type": "code",
   "execution_count": 164,
   "id": "f7a5baa7-f413-447d-9540-6b825a3dcd51",
   "metadata": {},
   "outputs": [
    {
     "data": {
      "text/plain": [
       "51"
      ]
     },
     "execution_count": 164,
     "metadata": {},
     "output_type": "execute_result"
    }
   ],
   "source": [
    "lylics.count('뚜루루뚜루')"
   ]
  },
  {
   "cell_type": "code",
   "execution_count": null,
   "id": "510292b9-2612-4042-9262-9ece4b6600df",
   "metadata": {},
   "outputs": [],
   "source": []
  }
 ],
 "metadata": {
  "kernelspec": {
   "display_name": "Python 3 (ipykernel)",
   "language": "python",
   "name": "python3"
  },
  "language_info": {
   "codemirror_mode": {
    "name": "ipython",
    "version": 3
   },
   "file_extension": ".py",
   "mimetype": "text/x-python",
   "name": "python",
   "nbconvert_exporter": "python",
   "pygments_lexer": "ipython3",
   "version": "3.12.9"
  }
 },
 "nbformat": 4,
 "nbformat_minor": 5
}
