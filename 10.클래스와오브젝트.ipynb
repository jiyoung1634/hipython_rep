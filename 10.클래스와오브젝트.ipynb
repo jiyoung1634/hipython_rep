{
 "cells": [
  {
   "cell_type": "markdown",
   "id": "82d803d3-a7da-40ee-bd96-5361c55f9b77",
   "metadata": {},
   "source": [
    "# 파이썬으로 객체지향프로그래밍 OOP\n",
    "\n",
    "Object Oriented Programming\n",
    "\n",
    "파이썬으로 만드는 응용프로그램\n",
    "- 변수 : 전역변수, 지역변수\n",
    "- 함수 : 기능을 구현하는 도구\n",
    "- 모듈 : 함수의 모음, 변수의 모음 > .py파일\n",
    "- CRUD의 구현 : Create, Read, Update, Delete\n",
    "\n",
    "클래스 : 변수+함수를 하나로 묶어 주는 구조적인 개념<br>\n",
    "객체 : 클래스를 이용해서 다수의 객체를 생성<br>\n",
    "객체를 이용하는 프로그래밍 : 객체 지향 프로그래밍"
   ]
  },
  {
   "cell_type": "markdown",
   "id": "e074301f-8565-47ea-830e-f6c83ff21c7c",
   "metadata": {},
   "source": [
    "## 객체 지향 프로그램를 만드는 법\n",
    "\n",
    "1. 클래스를 만들기\n",
    "2. 클래스 이용해 객체를 생성\n",
    "3. 객체의 함수 : 메소드를 호출"
   ]
  },
  {
   "cell_type": "code",
   "execution_count": 25,
   "id": "d0be62da-3883-492f-9a39-d51dc5a11155",
   "metadata": {},
   "outputs": [],
   "source": [
    "class Bicycle():\n",
    "    # 속성추가 : 생성자\n",
    "    def __init__(self, color, wheelsize):\n",
    "        self.color = color\n",
    "        self.wheelsize = wheelsize\n",
    "#    def __init__(self, color):   # 똑같은 init을 여러 개 만드는 것을 오버로딩이라고 한다. \n",
    "#        self.color = color\n",
    "    def move(self):\n",
    "        print(f'{self.color} {self.wheelsize}자전거가 움직입니다.')"
   ]
  },
  {
   "cell_type": "code",
   "execution_count": 26,
   "id": "1bd77f99-0a7d-4ed9-8f19-ef56dd22bec6",
   "metadata": {},
   "outputs": [
    {
     "name": "stdout",
     "output_type": "stream",
     "text": [
      "white 20자전거가 움직입니다.\n",
      "red 10자전거가 움직입니다.\n",
      "blue 30자전거가 움직입니다.\n"
     ]
    }
   ],
   "source": [
    "bi = Bicycle('white', 20)   # 객체 생성\n",
    "bi1 = Bicycle('red', 10)\n",
    "bi2 = Bicycle('blue', 30)\n",
    "bi.move()   # 객체 메소드를 호출\n",
    "bi1.move()\n",
    "bi2.move()"
   ]
  },
  {
   "cell_type": "code",
   "execution_count": 27,
   "id": "4d9625d0-e28b-4f51-a173-e885d9165459",
   "metadata": {},
   "outputs": [
    {
     "data": {
      "text/plain": [
       "__main__.Bicycle"
      ]
     },
     "execution_count": 27,
     "metadata": {},
     "output_type": "execute_result"
    }
   ],
   "source": [
    "type(bi)"
   ]
  },
  {
   "cell_type": "code",
   "execution_count": 22,
   "id": "56a43c58-e83d-4f0f-9c74-8a922338c212",
   "metadata": {
    "collapsed": true,
    "jupyter": {
     "outputs_hidden": true
    }
   },
   "outputs": [
    {
     "data": {
      "text/plain": [
       "['__class__',\n",
       " '__delattr__',\n",
       " '__dict__',\n",
       " '__dir__',\n",
       " '__doc__',\n",
       " '__eq__',\n",
       " '__format__',\n",
       " '__ge__',\n",
       " '__getattribute__',\n",
       " '__getstate__',\n",
       " '__gt__',\n",
       " '__hash__',\n",
       " '__init__',\n",
       " '__init_subclass__',\n",
       " '__le__',\n",
       " '__lt__',\n",
       " '__module__',\n",
       " '__ne__',\n",
       " '__new__',\n",
       " '__reduce__',\n",
       " '__reduce_ex__',\n",
       " '__repr__',\n",
       " '__setattr__',\n",
       " '__sizeof__',\n",
       " '__str__',\n",
       " '__subclasshook__',\n",
       " '__weakref__',\n",
       " 'color',\n",
       " 'move',\n",
       " 'wheelsize']"
      ]
     },
     "execution_count": 22,
     "metadata": {},
     "output_type": "execute_result"
    }
   ],
   "source": [
    "dir(bi)"
   ]
  },
  {
   "cell_type": "code",
   "execution_count": 28,
   "id": "2f1d0b86-9d14-41a8-85e4-63a5f9986a42",
   "metadata": {},
   "outputs": [],
   "source": [
    "class Student:\n",
    "    def __init__(self, name, age):\n",
    "        self.name = name\n",
    "        self.age = age\n",
    "    def introduce(self):\n",
    "        print(f'안녕하세요. 제 이름은 {self.name}이고, 나이는 {self.age}살입니다.')"
   ]
  },
  {
   "cell_type": "code",
   "execution_count": 29,
   "id": "8a083894-31f2-4791-9fa1-30e0c224ffd5",
   "metadata": {},
   "outputs": [
    {
     "name": "stdout",
     "output_type": "stream",
     "text": [
      "안녕하세요. 제 이름은 지민이고, 나이는 20살입니다.\n",
      "안녕하세요. 제 이름은 유진이고, 나이는 22살입니다.\n"
     ]
    }
   ],
   "source": [
    "s1 = Student('지민', 20)\n",
    "s2 = Student('유진', 22)\n",
    "s1.introduce()\n",
    "s2.introduce()"
   ]
  },
  {
   "cell_type": "markdown",
   "id": "e89584e6-8e8c-4799-be6b-29ff2ffd2490",
   "metadata": {},
   "source": [
    "# 클래스의 속성\n",
    "\n",
    "1. 인스턴스 변수\n",
    "2. 클래스변수"
   ]
  },
  {
   "cell_type": "code",
   "execution_count": 32,
   "id": "39e66b09-0b44-4318-9ee3-48c720db5051",
   "metadata": {},
   "outputs": [],
   "source": [
    "class Car():\n",
    "    instance_cnt = 0   # 클래스변수\n",
    "\n",
    "    def __init__(self, size):\n",
    "        self.size = size\n",
    "        Car.instance_cnt += 1\n",
    "        print(f'자동차가 {Car.instance_cnt}대 생성되었습니다.')\n",
    "    def move(self):\n",
    "        print(f'{self.size}의 자동차가 움직입니다.')"
   ]
  },
  {
   "cell_type": "code",
   "execution_count": 33,
   "id": "2d598278-62ec-4069-bf06-57c6798270e3",
   "metadata": {},
   "outputs": [
    {
     "name": "stdout",
     "output_type": "stream",
     "text": [
      "자동차가 1대 생성되었습니다.\n",
      "자동차가 2대 생성되었습니다.\n",
      "자동차가 3대 생성되었습니다.\n",
      "10의 자동차가 움직입니다.\n",
      "7의 자동차가 움직입니다.\n",
      "8의 자동차가 움직입니다.\n"
     ]
    }
   ],
   "source": [
    "car1 = Car(10)\n",
    "car2 = Car(7)\n",
    "car3 = Car(8)\n",
    "car1.move()\n",
    "car2.move()\n",
    "car3.move()"
   ]
  },
  {
   "cell_type": "code",
   "execution_count": 34,
   "id": "f6e4bc38-e91f-41c6-8452-1a8270695edc",
   "metadata": {},
   "outputs": [],
   "source": [
    "class Student:\n",
    "    school = \"파이썬 스쿨\"\n",
    "    def __init__(self, name):\n",
    "        self.name = name"
   ]
  },
  {
   "cell_type": "code",
   "execution_count": 35,
   "id": "4a5687df-a4cf-4b29-8f87-247df575a4a5",
   "metadata": {},
   "outputs": [
    {
     "name": "stdout",
     "output_type": "stream",
     "text": [
      "영희\n",
      "철수\n",
      "파이썬 스쿨\n"
     ]
    }
   ],
   "source": [
    "s1 = Student('영희')\n",
    "s2 = Student('철수')\n",
    "print(s1.name)\n",
    "print(s2.name)\n",
    "print(Student.school)"
   ]
  },
  {
   "cell_type": "markdown",
   "id": "1e877dbb-939c-41ec-ad3b-44dde6ed7c1f",
   "metadata": {},
   "source": [
    "# Method\n",
    "1. 인스턴스 메소드 : self\n",
    "2. 스태틱(정적) 메소드 : @staticmethod\n",
    "3. 클래스 메소드 : @classmethod"
   ]
  },
  {
   "cell_type": "code",
   "execution_count": 36,
   "id": "598504a8-fe7d-4fa3-9fac-eefbe794c23b",
   "metadata": {},
   "outputs": [],
   "source": [
    "class Calculator:\n",
    "    def __init__(self, x, y):   #instance method\n",
    "        self.x = x\n",
    "        self.y = y\n",
    "\n",
    "    def add(self):   #instance method\n",
    "        return self.x + self.y\n",
    "\n",
    "    def multiply(self):   #instance method\n",
    "        return self.x * self.y\n",
    "#self가 있는 것들은 다 인스턴스 메소드이다"
   ]
  },
  {
   "cell_type": "code",
   "execution_count": 41,
   "id": "91cdeeb3-5a96-4e5c-a3aa-7c08ece95e86",
   "metadata": {},
   "outputs": [
    {
     "data": {
      "text/plain": [
       "12"
      ]
     },
     "execution_count": 41,
     "metadata": {},
     "output_type": "execute_result"
    }
   ],
   "source": [
    "calc = Calculator(3,4)   #__init__() 생성자 함수를 자동으로 호출\\\n",
    "calc.add()   #instance method의 호출 > 객체의참조.메소드()\n",
    "calc.multiply()"
   ]
  },
  {
   "cell_type": "code",
   "execution_count": 63,
   "id": "3cdd0848-67fa-4b4d-9ce8-1c70ef456b31",
   "metadata": {},
   "outputs": [],
   "source": [
    "class Car():\n",
    "    instance_cnt = 0   #클래스 속성\n",
    "    def __init__(self, size):\n",
    "        self.size = size\n",
    "        Car.instance_cnt += 1\n",
    "        print(f'자동차가 {Car.instance_cnt}대 생성되었습니다.')\n",
    "        \n",
    "    def auto_cruise(self) :   #instance\n",
    "        print('자율주행중')\n",
    "        \n",
    "    @staticmethod\n",
    "    def check_type(code):   #static method\n",
    "        if code > 20:\n",
    "            print('전기자동차')\n",
    "        elif 10 < code < 20:\n",
    "            print('가솔린자동차')\n",
    "        else:\n",
    "            print('디젤차')\n",
    "\n",
    "    @classmethod\n",
    "    def count_instance(cls):   #class method\n",
    "        print(f'자동차 대수 : {cls.instance_cnt}')"
   ]
  },
  {
   "cell_type": "code",
   "execution_count": 64,
   "id": "a42c1682-466d-4f1d-82d8-e390932a4335",
   "metadata": {},
   "outputs": [
    {
     "name": "stdout",
     "output_type": "stream",
     "text": [
      "자동차가 1대 생성되었습니다.\n",
      "전기자동차\n"
     ]
    }
   ],
   "source": [
    "c1 = Car(2000)\n",
    "Car.check_type(25)"
   ]
  },
  {
   "cell_type": "code",
   "execution_count": 74,
   "id": "c18ace2e-b7d9-4d5d-9434-ad1856257114",
   "metadata": {},
   "outputs": [
    {
     "name": "stdout",
     "output_type": "stream",
     "text": [
      "자동차 대수 : 1\n"
     ]
    }
   ],
   "source": [
    "Car.count_instance()"
   ]
  },
  {
   "cell_type": "code",
   "execution_count": null,
   "id": "11cf1eb4-0533-4fed-a32a-0ccb039ad169",
   "metadata": {},
   "outputs": [],
   "source": []
  },
  {
   "cell_type": "code",
   "execution_count": null,
   "id": "ca71a8b8-3e4a-4897-969a-f27538fc0533",
   "metadata": {},
   "outputs": [],
   "source": []
  },
  {
   "cell_type": "markdown",
   "id": "10f22f86-887f-493c-8899-5f4a508a7017",
   "metadata": {},
   "source": [
    "# 성적처리시스템 클래스"
   ]
  },
  {
   "cell_type": "code",
   "execution_count": 75,
   "id": "86b2a375-0ad2-47a8-84e1-be3bc5bb189b",
   "metadata": {},
   "outputs": [],
   "source": [
    "import random"
   ]
  },
  {
   "cell_type": "code",
   "execution_count": 162,
   "id": "0f22ea5d-283b-4fb8-9dd5-55aa32ceede1",
   "metadata": {},
   "outputs": [],
   "source": [
    "class Student():\n",
    "    def __init__(self, num, name, kor, eng, math):\n",
    "        self.num = num\n",
    "        self.name = name\n",
    "        self.kor = kor\n",
    "        self.eng = eng\n",
    "        self.math = math\n",
    "        self.total = 0\n",
    "        self.avg = 0\n",
    "        self.order = 0\n",
    "\n",
    "    # 학생 객체의 정보 출력, instance method\n",
    "    def s_info(self):\n",
    "        print(f'{self.num}, {self.name}, {self.kor}, {self.eng}, {self.math}, {self.total}, {self.order}')\n",
    "\n",
    "    # 학생 객체의 총점과 평균, instance method\n",
    "    def calc_total(self):\n",
    "        self.total = self.kor + self.eng + self.math\n",
    "        self.avg = self.total/3\n",
    "\n",
    "    # 학생 객체의 등수 계산\n",
    "    def set_order(self, order):\n",
    "        self.order = order\n",
    "\n",
    "    # Object 상속 받은 메소드 재정의 overriding\n",
    "    def __str__(self):\n",
    "        return f'{self.num}-{self.name} : {self.order}등'\n",
    "\n",
    "    # 학생 성적표\n",
    "    def print_score(self):\n",
    "        return f'{self.name} : {self.avg}등'"
   ]
  },
  {
   "cell_type": "code",
   "execution_count": 171,
   "id": "cd08cee8-7d82-41a4-85c5-e91e8777987a",
   "metadata": {},
   "outputs": [],
   "source": [
    "class Classroom():\n",
    "    # 학급의 클래스 이름\n",
    "    def __init__(self, student_list):\n",
    "        self.students = self.gen_student_data(student_list)\n",
    "        self.name = ''\n",
    "\n",
    "    def set_name(self, class_name):\n",
    "        self.name = class_name\n",
    "\n",
    "    # 클래스의 학생 목록의 생성하는 인스턴스 메소드\n",
    "    def gen_student_data(self, stu_list):\n",
    "        students = []\n",
    "        for i, s_name in enumerate(stu_list, start=1):\n",
    "            #print(i,s_name)\n",
    "            s = Student(i, s_name, random.randint(50,100), random.randint(50,100), random.randint(50,100))\n",
    "            s.calc_total()\n",
    "            #s.s_info()\n",
    "            students.append(s)\n",
    "        return students\n",
    "\n",
    "    # 학급의 학생 순위를 계산해서 학생 객체에 설정\n",
    "    def calc_order(self):\n",
    "        for s in self.students:\n",
    "            rank = 1\n",
    "            for other in self.students:\n",
    "                if other.total > s.total:\n",
    "                    rank += 1\n",
    "            s.set_order(rank)\n",
    "            #s.s_info()\n",
    "\n",
    "    def print_student_score(self):\n",
    "        for student in self.students:\n",
    "            print(student)\n",
    "\n",
    "    # 학급정보 리턴 함수\n",
    "    def __str__(self):\n",
    "        return f'학급명 : {self.name}'\n",
    "\n",
    "    # 학급 성적표\n",
    "    # 국어 평균, 영어 평균, 수학 평균, 전체 평균, 학생 수\n",
    "    def print_class_score(self):\n",
    "        print(f'우리 학급은 {self.name}입니다.')\n",
    "        print(f'이번 우리 클래스의 전체 평균은{sum(s.total for s in self.students)/len(self.students)}입니다')\n",
    "        print(f'우리 학급은 총 {len(self.students)}명입니다.\\n')\n",
    "\n",
    "    def print_ordered_class_member(self):\n",
    "        s_students = sorted(self.students, key=lambda s:s.order)\n",
    "\n",
    "        for s in s_students:\n",
    "            s.print_score()"
   ]
  },
  {
   "cell_type": "code",
   "execution_count": 172,
   "id": "9c320440-420c-49f6-b821-fb6a09ed2d8f",
   "metadata": {},
   "outputs": [
    {
     "name": "stdout",
     "output_type": "stream",
     "text": [
      "1-홍길동 : 4등\n",
      "2-박제동 : 1등\n",
      "3-김영희 : 2등\n",
      "4-한사랑 : 2등\n",
      "1-김철수 : 1등\n",
      "2-박길동 : 5등\n",
      "3-이영희 : 3등\n",
      "4-최사랑 : 4등\n",
      "5-아이유 : 2등\n",
      "****************************************\n",
      "우리 학급은 WN7입니다.\n",
      "이번 우리 클래스의 전체 평균은249.5입니다\n",
      "우리 학급은 총 4명입니다.\n",
      "\n"
     ]
    }
   ],
   "source": [
    "# main process\n",
    "a_class_stu = ['홍길동', '박제동', '김영희', '한사랑']\n",
    "b_class_stu = ['김철수', '박길동', '이영희', '최사랑', '아이유']\n",
    "\n",
    "a_class = Classroom(a_class_stu)\n",
    "b_class = Classroom(b_class_stu)\n",
    "\n",
    "a_class.calc_order()\n",
    "a_class.print_student_score()\n",
    "a_class.set_name('WN7')\n",
    "\n",
    "#print(a_class)\n",
    "\n",
    "b_class.calc_order()\n",
    "b_class.print_student_score()\n",
    "b_class.set_name('software camp')\n",
    "\n",
    "print('*'*40)\n",
    "a_class.print_class_score()\n"
   ]
  },
  {
   "cell_type": "code",
   "execution_count": null,
   "id": "e0a4ccf2-0f07-4df5-859a-30f36846fd0c",
   "metadata": {},
   "outputs": [],
   "source": []
  },
  {
   "cell_type": "markdown",
   "id": "dafd98a4-d631-453f-b37d-2e5393f2a31b",
   "metadata": {},
   "source": [
    "# 객체와 클래스를 사용하는 이유\n",
    "\n",
    "1. 코드 작성과 관리가 편하다\n",
    "2. 규모가 큰 프로그램(라이브러리)에서 사용한다\n",
    "3. 유사한 객체가 많은 프로그램에서 사용한다 (예, 게임)"
   ]
  },
  {
   "cell_type": "markdown",
   "id": "c292bf0d-81ff-4f73-8e74-17313248d99a",
   "metadata": {},
   "source": [
    "# 객체 지향의 특징\n",
    "\n",
    "+ 캡슐화 encapsulation\n",
    "+ 상속 \n",
    "+ 다양성 "
   ]
  },
  {
   "cell_type": "code",
   "execution_count": 173,
   "id": "aaca4349-57d1-45d6-a214-2311977adc42",
   "metadata": {},
   "outputs": [],
   "source": [
    "class MyClass():\n",
    "    def __init__(self):\n",
    "        self.var1 = 10   #public\n",
    "        self._var2 = 20   #protected\n",
    "        self.__var3 = 30   #private"
   ]
  },
  {
   "cell_type": "code",
   "execution_count": 174,
   "id": "df0b7d5d-b243-4a69-813e-38dfb7069f13",
   "metadata": {},
   "outputs": [
    {
     "data": {
      "text/plain": [
       "10"
      ]
     },
     "execution_count": 174,
     "metadata": {},
     "output_type": "execute_result"
    }
   ],
   "source": [
    "c1 = MyClass()\n",
    "c1.var1"
   ]
  },
  {
   "cell_type": "code",
   "execution_count": 178,
   "id": "f7e580fc-0a3a-47c0-98f7-584141a20b36",
   "metadata": {},
   "outputs": [
    {
     "data": {
      "text/plain": [
       "40"
      ]
     },
     "execution_count": 178,
     "metadata": {},
     "output_type": "execute_result"
    }
   ],
   "source": [
    "c1._var2 = 40\n",
    "c1._var2"
   ]
  },
  {
   "cell_type": "code",
   "execution_count": 179,
   "id": "d3132431-b1bf-4a0e-823e-3847512c5e35",
   "metadata": {
    "collapsed": true,
    "jupyter": {
     "outputs_hidden": true
    }
   },
   "outputs": [
    {
     "data": {
      "text/plain": [
       "['_MyClass__var3',\n",
       " '__class__',\n",
       " '__delattr__',\n",
       " '__dict__',\n",
       " '__dir__',\n",
       " '__doc__',\n",
       " '__eq__',\n",
       " '__format__',\n",
       " '__ge__',\n",
       " '__getattribute__',\n",
       " '__getstate__',\n",
       " '__gt__',\n",
       " '__hash__',\n",
       " '__init__',\n",
       " '__init_subclass__',\n",
       " '__le__',\n",
       " '__lt__',\n",
       " '__module__',\n",
       " '__ne__',\n",
       " '__new__',\n",
       " '__reduce__',\n",
       " '__reduce_ex__',\n",
       " '__repr__',\n",
       " '__setattr__',\n",
       " '__sizeof__',\n",
       " '__str__',\n",
       " '__subclasshook__',\n",
       " '__weakref__',\n",
       " '_var2',\n",
       " 'var1']"
      ]
     },
     "execution_count": 179,
     "metadata": {},
     "output_type": "execute_result"
    }
   ],
   "source": [
    "dir(c1)"
   ]
  },
  {
   "cell_type": "code",
   "execution_count": 182,
   "id": "1a6e2b09-127d-43ad-a87f-8e5069a361a6",
   "metadata": {},
   "outputs": [
    {
     "data": {
      "text/plain": [
       "30"
      ]
     },
     "execution_count": 182,
     "metadata": {},
     "output_type": "execute_result"
    }
   ],
   "source": [
    "#cl.__var3   #Error\n",
    "c1._MyClass__var3"
   ]
  },
  {
   "cell_type": "code",
   "execution_count": 183,
   "id": "7a5a52e5-ac31-4dd5-b669-118653e61604",
   "metadata": {
    "collapsed": true,
    "jupyter": {
     "outputs_hidden": true
    }
   },
   "outputs": [
    {
     "data": {
      "text/plain": [
       "['__class__',\n",
       " '__delattr__',\n",
       " '__dict__',\n",
       " '__dir__',\n",
       " '__doc__',\n",
       " '__eq__',\n",
       " '__format__',\n",
       " '__ge__',\n",
       " '__getattribute__',\n",
       " '__getstate__',\n",
       " '__gt__',\n",
       " '__hash__',\n",
       " '__init__',\n",
       " '__init_subclass__',\n",
       " '__le__',\n",
       " '__lt__',\n",
       " '__module__',\n",
       " '__ne__',\n",
       " '__new__',\n",
       " '__reduce__',\n",
       " '__reduce_ex__',\n",
       " '__repr__',\n",
       " '__setattr__',\n",
       " '__sizeof__',\n",
       " '__str__',\n",
       " '__subclasshook__',\n",
       " '__weakref__']"
      ]
     },
     "execution_count": 183,
     "metadata": {},
     "output_type": "execute_result"
    }
   ],
   "source": [
    "dir(MyClass)"
   ]
  },
  {
   "cell_type": "markdown",
   "id": "32f9cbe5-b3f5-4580-84ff-34f80ecf7771",
   "metadata": {},
   "source": [
    "## 상속"
   ]
  },
  {
   "cell_type": "code",
   "execution_count": 184,
   "id": "b932c9a3-2ba4-46f3-92a1-c8a504e21b1c",
   "metadata": {},
   "outputs": [],
   "source": [
    "class Calculator():   #부모클래스\n",
    "    def __init__(self, x, y):\n",
    "        self.x = x\n",
    "        self.y = y\n",
    "        \n",
    "    def add(self):\n",
    "        return self.x + self.y\n",
    "\n",
    "    def multip(self):\n",
    "        return self.x * self.y"
   ]
  },
  {
   "cell_type": "code",
   "execution_count": 199,
   "id": "b782cf7b-dc03-4ff1-8abe-2ce04bf37b25",
   "metadata": {},
   "outputs": [],
   "source": [
    "#자식클래스\n",
    "class AdvancedCalculator(Calculator):   #괄호안에 부모클래스 적으면 상속받음\n",
    "    #def __init__(self, x, y):   #똑같은 걸 상속받았으므로 생략 가능 = 상속받은 기능 재사용\n",
    "    #자식이 추가한 기능\n",
    "    def divide(self):\n",
    "        if self.y == 0:\n",
    "            return '0으로 나누기 금지'\n",
    "        return self.x / self.y\n",
    "    #상속받은 기능의 재정의 가능\n",
    "    def add(self):   #overriding\n",
    "        print('advanced calculator입니다.')\n",
    "        return super().add()   #super가 부모다. 내 부모에 있는 add 리턴한다.\n",
    "\n",
    "    def multip(self):\n",
    "        print('자식의 multip')\n",
    "        return self.x - self.y\n",
    "\n",
    "    def subb(self):\n",
    "        return self.x - self.y"
   ]
  },
  {
   "cell_type": "code",
   "execution_count": 202,
   "id": "3e852ad7-4e7f-4b79-b938-eae0fea75a6e",
   "metadata": {},
   "outputs": [
    {
     "data": {
      "text/plain": [
       "10.0"
      ]
     },
     "execution_count": 202,
     "metadata": {},
     "output_type": "execute_result"
    }
   ],
   "source": [
    "acalc = AdvancedCalculator(30,3)\n",
    "acalc.divide()"
   ]
  },
  {
   "cell_type": "code",
   "execution_count": 190,
   "id": "a99a9041-a8a9-4b7f-8582-7bd1dac32249",
   "metadata": {
    "collapsed": true,
    "jupyter": {
     "outputs_hidden": true
    }
   },
   "outputs": [
    {
     "data": {
      "text/plain": [
       "['__class__',\n",
       " '__delattr__',\n",
       " '__dict__',\n",
       " '__dir__',\n",
       " '__doc__',\n",
       " '__eq__',\n",
       " '__format__',\n",
       " '__ge__',\n",
       " '__getattribute__',\n",
       " '__getstate__',\n",
       " '__gt__',\n",
       " '__hash__',\n",
       " '__init__',\n",
       " '__init_subclass__',\n",
       " '__le__',\n",
       " '__lt__',\n",
       " '__module__',\n",
       " '__ne__',\n",
       " '__new__',\n",
       " '__reduce__',\n",
       " '__reduce_ex__',\n",
       " '__repr__',\n",
       " '__setattr__',\n",
       " '__sizeof__',\n",
       " '__str__',\n",
       " '__subclasshook__',\n",
       " '__weakref__',\n",
       " 'add',\n",
       " 'divide',\n",
       " 'x',\n",
       " 'y']"
      ]
     },
     "execution_count": 190,
     "metadata": {},
     "output_type": "execute_result"
    }
   ],
   "source": [
    "dir(acalc)"
   ]
  },
  {
   "cell_type": "code",
   "execution_count": 203,
   "id": "b2fbfaa9-c454-43ce-9776-00a52822a8a0",
   "metadata": {},
   "outputs": [
    {
     "name": "stdout",
     "output_type": "stream",
     "text": [
      "advanced calculator입니다.\n"
     ]
    },
    {
     "data": {
      "text/plain": [
       "33"
      ]
     },
     "execution_count": 203,
     "metadata": {},
     "output_type": "execute_result"
    }
   ],
   "source": [
    "acalc.add()"
   ]
  },
  {
   "cell_type": "code",
   "execution_count": 204,
   "id": "a7361199-796d-438e-a920-b57239122dbc",
   "metadata": {},
   "outputs": [
    {
     "name": "stdout",
     "output_type": "stream",
     "text": [
      "자식의 multip\n"
     ]
    },
    {
     "data": {
      "text/plain": [
       "27"
      ]
     },
     "execution_count": 204,
     "metadata": {},
     "output_type": "execute_result"
    }
   ],
   "source": [
    "acalc.multip()"
   ]
  },
  {
   "cell_type": "code",
   "execution_count": 205,
   "id": "c1991cce-24e2-4077-afc6-22ffa8549f8a",
   "metadata": {},
   "outputs": [
    {
     "data": {
      "text/plain": [
       "27"
      ]
     },
     "execution_count": 205,
     "metadata": {},
     "output_type": "execute_result"
    }
   ],
   "source": [
    "acalc.subb()"
   ]
  },
  {
   "cell_type": "markdown",
   "id": "f9ff6ad1-3442-4738-8e98-e8a681253d52",
   "metadata": {},
   "source": [
    "# 다형성"
   ]
  },
  {
   "cell_type": "code",
   "execution_count": 55,
   "id": "ea12126d-2b3b-45b0-99e7-170cc9b64f03",
   "metadata": {},
   "outputs": [],
   "source": [
    "class Animal:\n",
    "    def make_sound(self):\n",
    "        pass"
   ]
  },
  {
   "cell_type": "code",
   "execution_count": 56,
   "id": "4508f5a5-5e68-4084-9554-d192cf43d3ad",
   "metadata": {},
   "outputs": [],
   "source": [
    "class Dog(Animal):\n",
    "    def make_sound(self):\n",
    "        return '멍멍'"
   ]
  },
  {
   "cell_type": "code",
   "execution_count": 57,
   "id": "c0d8e161-aa42-43a7-905e-aeb61523c08f",
   "metadata": {},
   "outputs": [],
   "source": [
    "class Cat(Animal):\n",
    "    def make_sound(self):\n",
    "        return '야옹'"
   ]
  },
  {
   "cell_type": "code",
   "execution_count": 58,
   "id": "a0ce82d1-8123-4485-ab29-941b385d214f",
   "metadata": {},
   "outputs": [
    {
     "name": "stdout",
     "output_type": "stream",
     "text": [
      "멍멍\n",
      "야옹\n"
     ]
    }
   ],
   "source": [
    "animals = [Dog(), Cat()]\n",
    "for animal in animals:\n",
    "    print(animal.make_sound())"
   ]
  },
  {
   "cell_type": "code",
   "execution_count": null,
   "id": "d9e4ccdc-c37f-434f-8117-6e1ef68cdabb",
   "metadata": {},
   "outputs": [],
   "source": []
  },
  {
   "cell_type": "markdown",
   "id": "00d40798-a625-4bc4-9588-ab1c7f05494d",
   "metadata": {},
   "source": [
    "혼자 \"초보자를 위한 파이썬 300제\" 연습"
   ]
  },
  {
   "cell_type": "code",
   "execution_count": 29,
   "id": "465f7a6a-7ec6-4663-b58a-6998f1f850e5",
   "metadata": {},
   "outputs": [],
   "source": [
    "class Human:\n",
    "    def __init__(self, name, age, sex):\n",
    "        self.name = name\n",
    "        self.age = age\n",
    "        self.sex = sex\n",
    "    def who(self):\n",
    "        print(f'이름:{self.name}, 나이:{self.age}, 성별:{self.sex}')\n",
    "    def setinfo(self, name, age, sex):\n",
    "        self.name = name\n",
    "        self.age = age\n",
    "        self.sex = sex\n",
    "    def __del__(self):\n",
    "        print('나의 죽음을 알리지마라')"
   ]
  },
  {
   "cell_type": "code",
   "execution_count": 30,
   "id": "8709e64d-8de5-4fc6-b464-d3675045ea20",
   "metadata": {},
   "outputs": [
    {
     "name": "stdout",
     "output_type": "stream",
     "text": [
      "이름:불명, 나이:미상, 성별:모름\n"
     ]
    }
   ],
   "source": [
    "areum = Human('불명', '미상', '모름')\n",
    "areum.who()"
   ]
  },
  {
   "cell_type": "code",
   "execution_count": 31,
   "id": "dd3634a6-cd53-43de-82cc-c5b454edcc32",
   "metadata": {},
   "outputs": [
    {
     "name": "stdout",
     "output_type": "stream",
     "text": [
      "이름:아름, 나이:25, 성별:여자\n"
     ]
    }
   ],
   "source": [
    "areum.setinfo('아름', 25, '여자')\n",
    "areum.who()"
   ]
  },
  {
   "cell_type": "code",
   "execution_count": 32,
   "id": "aa19b4fc-bfd6-45d9-81ba-9a10cfb2f7eb",
   "metadata": {},
   "outputs": [
    {
     "name": "stdout",
     "output_type": "stream",
     "text": [
      "나의 죽음을 알리지마라\n"
     ]
    }
   ],
   "source": [
    "del(areum)"
   ]
  },
  {
   "cell_type": "code",
   "execution_count": 51,
   "id": "62336b0e-5b2c-4e1f-8874-762d46051167",
   "metadata": {},
   "outputs": [],
   "source": [
    "class Stock:\n",
    "    def __init__(self, name, code, PER, PBR, plus):\n",
    "        self.name = name\n",
    "        self.code = code\n",
    "        self.PER = PER\n",
    "        self.PBR = PBR\n",
    "        self.plus = plus\n",
    "    def set_name(self, name):\n",
    "        self.name = name\n",
    "    def set_code(self, code):\n",
    "        self.code = code\n",
    "    def get_name(self):\n",
    "        return self.name\n",
    "    def get_code(self):\n",
    "        return self.code"
   ]
  },
  {
   "cell_type": "code",
   "execution_count": 40,
   "id": "a6a69b4f-951f-4364-9f19-4027c8f23f5b",
   "metadata": {},
   "outputs": [
    {
     "name": "stdout",
     "output_type": "stream",
     "text": [
      "삼성전자\n",
      "005930\n"
     ]
    }
   ],
   "source": [
    "삼성 = Stock('삼성전자', '005930')\n",
    "print(삼성.name)\n",
    "print(삼성.code)"
   ]
  },
  {
   "cell_type": "code",
   "execution_count": 49,
   "id": "eec816df-5d2e-4193-baed-00a7b627b6ab",
   "metadata": {},
   "outputs": [
    {
     "name": "stdout",
     "output_type": "stream",
     "text": [
      "삼성전자\n"
     ]
    }
   ],
   "source": [
    "a = Stock(None, None)\n",
    "a.set_name('삼성전자')\n",
    "print(a.name)"
   ]
  },
  {
   "cell_type": "code",
   "execution_count": 50,
   "id": "4ad9ffe4-b691-4c5f-aa5f-d9882e41da49",
   "metadata": {},
   "outputs": [
    {
     "name": "stdout",
     "output_type": "stream",
     "text": [
      "005930\n"
     ]
    }
   ],
   "source": [
    "a.set_code('005930')\n",
    "print(a.code)"
   ]
  },
  {
   "cell_type": "code",
   "execution_count": 52,
   "id": "bf2ec5b9-07a1-414c-9dd0-3f91208ba118",
   "metadata": {},
   "outputs": [],
   "source": [
    "삼성 = Stock('삼성전자', '005930')"
   ]
  },
  {
   "cell_type": "code",
   "execution_count": 53,
   "id": "5517a2ce-2295-4d6e-92eb-ad60122ecc65",
   "metadata": {},
   "outputs": [
    {
     "data": {
      "text/plain": [
       "'삼성전자'"
      ]
     },
     "execution_count": 53,
     "metadata": {},
     "output_type": "execute_result"
    }
   ],
   "source": [
    "삼성.get_name()"
   ]
  },
  {
   "cell_type": "code",
   "execution_count": 54,
   "id": "ccaad26c-38a8-4e5f-8b95-e7e0abf88508",
   "metadata": {},
   "outputs": [
    {
     "data": {
      "text/plain": [
       "'005930'"
      ]
     },
     "execution_count": 54,
     "metadata": {},
     "output_type": "execute_result"
    }
   ],
   "source": [
    "삼성.get_code()"
   ]
  },
  {
   "cell_type": "code",
   "execution_count": null,
   "id": "4db81ac3-81c9-42ef-bc99-081f39dfcbac",
   "metadata": {},
   "outputs": [],
   "source": []
  }
 ],
 "metadata": {
  "kernelspec": {
   "display_name": "Python 3 (ipykernel)",
   "language": "python",
   "name": "python3"
  },
  "language_info": {
   "codemirror_mode": {
    "name": "ipython",
    "version": 3
   },
   "file_extension": ".py",
   "mimetype": "text/x-python",
   "name": "python",
   "nbconvert_exporter": "python",
   "pygments_lexer": "ipython3",
   "version": "3.12.9"
  }
 },
 "nbformat": 4,
 "nbformat_minor": 5
}
