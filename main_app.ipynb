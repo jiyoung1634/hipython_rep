{
 "cells": [
  {
   "cell_type": "code",
   "execution_count": 1,
   "id": "c5b9808f-7c2b-4f38-a889-2f62858c8869",
   "metadata": {},
   "outputs": [
    {
     "name": "stdout",
     "output_type": "stream",
     "text": [
      "magic calc loaded\n",
      "15\n"
     ]
    }
   ],
   "source": [
    "#방법1\n",
    "import magic_calc\n",
    "\n",
    "result_add = magic_calc.basic_ops.add(10,5)\n",
    "print(result_add)"
   ]
  },
  {
   "cell_type": "code",
   "execution_count": 2,
   "id": "466a897b-1f91-413d-9ad5-593d2f95426f",
   "metadata": {},
   "outputs": [
    {
     "data": {
      "text/plain": [
       "56"
      ]
     },
     "execution_count": 2,
     "metadata": {},
     "output_type": "execute_result"
    }
   ],
   "source": [
    "import magic_calc.advanced_ops as adops\n",
    "adops.magic_multiply(7,8)"
   ]
  },
  {
   "cell_type": "code",
   "execution_count": 3,
   "id": "d8ce6b81-279a-4410-99a2-1f55311a12eb",
   "metadata": {},
   "outputs": [
    {
     "name": "stdout",
     "output_type": "stream",
     "text": [
      "70\n"
     ]
    }
   ],
   "source": [
    "#방법2\n",
    "from magic_calc import basic_ops, advanced_ops\n",
    "result_sub = basic_ops.subtract(100, 30)\n",
    "print(result_sub)"
   ]
  },
  {
   "cell_type": "code",
   "execution_count": 4,
   "id": "43ae1a97-3e54-4769-b43f-0c5e69a203f5",
   "metadata": {},
   "outputs": [
    {
     "name": "stdout",
     "output_type": "stream",
     "text": [
      "\n",
      "--- 방법3: multiply, divide, power 직접 사용---\n",
      "7*8=56\n"
     ]
    }
   ],
   "source": [
    "#방법3\n",
    "#패키지 내 모듈에서 특정 함수 직접 임포트\n",
    "from magic_calc.basic_ops import multiply, divide\n",
    "from magic_calc.advanced_ops import power\n",
    "\n",
    "print('\\n--- 방법3: multiply, divide, power 직접 사용---')\n",
    "result_mul = multiply(7, 8)\n",
    "print(f'7*8={result_mul}')"
   ]
  },
  {
   "cell_type": "code",
   "execution_count": null,
   "id": "44c94391-aa28-4c31-baad-b57a3f109e00",
   "metadata": {},
   "outputs": [],
   "source": []
  }
 ],
 "metadata": {
  "kernelspec": {
   "display_name": "Python 3 (ipykernel)",
   "language": "python",
   "name": "python3"
  },
  "language_info": {
   "codemirror_mode": {
    "name": "ipython",
    "version": 3
   },
   "file_extension": ".py",
   "mimetype": "text/x-python",
   "name": "python",
   "nbconvert_exporter": "python",
   "pygments_lexer": "ipython3",
   "version": "3.12.9"
  }
 },
 "nbformat": 4,
 "nbformat_minor": 5
}
