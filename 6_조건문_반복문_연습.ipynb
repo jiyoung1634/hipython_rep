{
 "cells": [
  {
   "cell_type": "markdown",
   "metadata": {
    "id": "aY8qecTDvJp-"
   },
   "source": [
    "1. 변수 number가 주어졌을 때, 숫자가 양수인지 음수인지 또는 0인지 판별하고, 해당 결과를 출력하는 코드를 작성하세요."
   ]
  },
  {
   "cell_type": "code",
   "execution_count": 8,
   "metadata": {
    "id": "b6Yc9GKku74M"
   },
   "outputs": [],
   "source": [
    "number = -10"
   ]
  },
  {
   "cell_type": "code",
   "execution_count": 9,
   "metadata": {
    "id": "mloBcOpQvPZx"
   },
   "outputs": [
    {
     "name": "stdout",
     "output_type": "stream",
     "text": [
      "음수\n"
     ]
    }
   ],
   "source": [
    "#답을 작성하세요.\n",
    "print('양수' if number > 0 else '음수' if number < 0 else '0')"
   ]
  },
  {
   "cell_type": "markdown",
   "metadata": {
    "id": "QnHW5rjAvcmH"
   },
   "source": [
    "2. 변수 number가 주어졌을 때, 숫자가 짝수인지 홀수인지 판별하고, 해당 결과를 출력하는 코드를 작성하세요."
   ]
  },
  {
   "cell_type": "code",
   "execution_count": 10,
   "metadata": {
    "id": "vdEd3HmYvmzZ"
   },
   "outputs": [],
   "source": [
    "number = 52"
   ]
  },
  {
   "cell_type": "code",
   "execution_count": 11,
   "metadata": {
    "id": "k0zrvO9DvcLy"
   },
   "outputs": [
    {
     "name": "stdout",
     "output_type": "stream",
     "text": [
      "짝수\n"
     ]
    }
   ],
   "source": [
    "#답을 작성하세요.\n",
    "print('짝수' if number % 2 == 0 else '홀수')"
   ]
  },
  {
   "cell_type": "markdown",
   "metadata": {
    "id": "3dbaqEFlv8JV"
   },
   "source": [
    "3. 변수 score가 주어졌을 때, 다음 기준에 따라 학점을 출력하는 코드를 작성하세요.\n",
    "- 90점 이상: A\n",
    "- 80점 이상 90점 미만: B\n",
    "- 70점 이상 80점 미만: C\n",
    "- 70점 미만: F"
   ]
  },
  {
   "cell_type": "code",
   "execution_count": 13,
   "metadata": {
    "id": "w30L_264wHG3"
   },
   "outputs": [
    {
     "name": "stdin",
     "output_type": "stream",
     "text": [
      "점수를 입력하세요: 86\n"
     ]
    },
    {
     "name": "stdout",
     "output_type": "stream",
     "text": [
      "B\n"
     ]
    }
   ],
   "source": [
    "#답을 작성하세요.\n",
    "score = int(input('점수를 입력하세요:'))\n",
    "print('A' if score >= 90 else 'B' if score >= 80 else 'C' if score >= 70 else 'F')"
   ]
  },
  {
   "cell_type": "markdown",
   "metadata": {
    "id": "s1PQZZ-xwSp-"
   },
   "source": [
    "4. 변수 price와 is_discount가 주어졌을 때, is_discount가 True이면 가격에 10% 할인을 적용하고, 그렇지 않으면 원래 가격을 출력하는 코드를 작성하세요."
   ]
  },
  {
   "cell_type": "code",
   "execution_count": 20,
   "metadata": {
    "id": "_RCIZwfDwSSz"
   },
   "outputs": [],
   "source": [
    "price = 100\n",
    "is_discount = True"
   ]
  },
  {
   "cell_type": "code",
   "execution_count": 21,
   "metadata": {
    "id": "HaR5tBTywtvm"
   },
   "outputs": [
    {
     "name": "stdout",
     "output_type": "stream",
     "text": [
      "90.0\n"
     ]
    }
   ],
   "source": [
    "#답을 작성하세요.\n",
    "price = price*0.9 if is_discount == True else price\n",
    "print(price)"
   ]
  },
  {
   "cell_type": "markdown",
   "metadata": {
    "id": "_YUcYRgvx_LF"
   },
   "source": [
    "5. 반복문을 사용하여 1부터 10까지의 숫자를 출력하는 코드를 작성하세요."
   ]
  },
  {
   "cell_type": "code",
   "execution_count": 22,
   "metadata": {
    "id": "wai32pPIyGz8"
   },
   "outputs": [
    {
     "name": "stdout",
     "output_type": "stream",
     "text": [
      "1\n",
      "2\n",
      "3\n",
      "4\n",
      "5\n",
      "6\n",
      "7\n",
      "8\n",
      "9\n",
      "10\n"
     ]
    }
   ],
   "source": [
    "#답을 작성하세요.\n",
    "for a in range(1, 11) :\n",
    "    print(a)"
   ]
  },
  {
   "cell_type": "markdown",
   "metadata": {
    "id": "WWeLXpUEyXzR"
   },
   "source": [
    "6. 위 반복문(1~10) 숫자 중, 짝수의 값만 출력하는 코드를 작성하세요."
   ]
  },
  {
   "cell_type": "code",
   "execution_count": 29,
   "metadata": {
    "id": "9OeskZ2YyWqH"
   },
   "outputs": [
    {
     "name": "stdout",
     "output_type": "stream",
     "text": [
      "2\n",
      "4\n",
      "6\n",
      "8\n",
      "10\n"
     ]
    }
   ],
   "source": [
    "#답을 작성하세요.\n",
    "for a in range(1,11) :\n",
    "    if a % 2 == 0:\n",
    "        print(a)\n"
   ]
  },
  {
   "cell_type": "code",
   "execution_count": 30,
   "metadata": {},
   "outputs": [
    {
     "data": {
      "text/plain": [
       "[2, 4, 6, 8, 10]"
      ]
     },
     "execution_count": 30,
     "metadata": {},
     "output_type": "execute_result"
    }
   ],
   "source": [
    "[a for a in range(1,11) if a%2 == 0 ]"
   ]
  },
  {
   "cell_type": "markdown",
   "metadata": {
    "id": "KvfAOYVOy6ns"
   },
   "source": [
    "7. 리스트 items와 변수 target이 주어졌을 때, for 반복문을 사용하여 target이 리스트에 있는지 확인하고, 결과를 출력하는 코드를 작성하세요."
   ]
  },
  {
   "cell_type": "code",
   "execution_count": 31,
   "metadata": {
    "id": "Tew31WYozN_m"
   },
   "outputs": [],
   "source": [
    "items = [\"apple\", \"banana\", \"cherry\"]\n",
    "target = \"banana\""
   ]
  },
  {
   "cell_type": "code",
   "execution_count": 32,
   "metadata": {
    "id": "BBH00bf_zGxF"
   },
   "outputs": [
    {
     "name": "stdout",
     "output_type": "stream",
     "text": [
      "banana\n"
     ]
    }
   ],
   "source": [
    "#답을 작성하세요.\n",
    "for i in items :\n",
    "    if i == target :\n",
    "        print(i)"
   ]
  },
  {
   "cell_type": "code",
   "execution_count": 33,
   "metadata": {},
   "outputs": [
    {
     "data": {
      "text/plain": [
       "['banana']"
      ]
     },
     "execution_count": 33,
     "metadata": {},
     "output_type": "execute_result"
    }
   ],
   "source": [
    "[i for i in items if i==target]"
   ]
  },
  {
   "cell_type": "code",
   "execution_count": 34,
   "metadata": {},
   "outputs": [],
   "source": [
    "# 강사님 답\n",
    "#for item in items:\n",
    "#    if item == target:\n",
    "#        found = True\n",
    "#        break\n",
    "\n",
    "#if found:\n",
    "#    print('founded!')\n",
    "#else:\n",
    "#    print('not found')\n",
    "\n",
    "\n",
    "#found = True if [item for item in items if item == target] else False\n",
    "#found"
   ]
  },
  {
   "cell_type": "code",
   "execution_count": 35,
   "metadata": {},
   "outputs": [
    {
     "data": {
      "text/plain": [
       "(False, True)"
      ]
     },
     "execution_count": 35,
     "metadata": {},
     "output_type": "execute_result"
    }
   ],
   "source": [
    "list_1 = []\n",
    "list_2 = [1,2,3]\n",
    "bool(list_1), bool(list_2)"
   ]
  },
  {
   "cell_type": "markdown",
   "metadata": {
    "id": "0bKxdqaJz6GY"
   },
   "source": [
    "8. for 반복문을 사용하여 구구단 2단의 결과물을 출력하는 코드를 작성하세요."
   ]
  },
  {
   "cell_type": "code",
   "execution_count": 37,
   "metadata": {
    "id": "9xKeBAxPz1pI"
   },
   "outputs": [
    {
     "name": "stdout",
     "output_type": "stream",
     "text": [
      "2 x 0 = 0\n",
      "2 x 1 = 2\n",
      "2 x 2 = 4\n",
      "2 x 3 = 6\n",
      "2 x 4 = 8\n",
      "2 x 5 = 10\n",
      "2 x 6 = 12\n",
      "2 x 7 = 14\n",
      "2 x 8 = 16\n",
      "2 x 9 = 18\n"
     ]
    }
   ],
   "source": [
    "#답을 작성하세요.\n",
    "for b in range(10):\n",
    "    print(f'2 x {b} =', 2*b)"
   ]
  },
  {
   "cell_type": "markdown",
   "metadata": {
    "id": "s6d1hJv8xcdp"
   },
   "source": [
    "9. 나이에 따라 다음과 같은 입장료를 받고 있다고 할 때, 반복문을 이용하여 1세부터 13세까지의 전체 가격표를 만드는 코드를 작성하세요.\n",
    "\n",
    "- 3세 이하: 무료\n",
    "- 3세에서 5세: 5달러\n",
    "- 5세에서 9세: 10달러\n",
    "- 9세에서 12세: 12달러\n",
    "- 12세 이상: 사용할 수 없음 (프로그램 종료)"
   ]
  },
  {
   "cell_type": "code",
   "execution_count": 42,
   "metadata": {
    "id": "H9eQDDNhxR7P"
   },
   "outputs": [],
   "source": [
    "#답을 작성하세요.\n",
    "#[print(f\"{age}세: \" + ('무료' if age <= 3 else '5달러' if age <= 5 else '10달러' if age <= 9 else '12달러' if age <= 12 else '사용할 수 없음')) for age in range(1, 14)]\n"
   ]
  },
  {
   "cell_type": "markdown",
   "metadata": {},
   "source": [
    "9. 다음 코드의 결과값은 무엇일까?\n",
    "```\n",
    "a = \"Life is too short, you need python\"\n",
    "\n",
    "if \"wife\" in a:\n",
    "    print(\"wife\")\n",
    "\n",
    "elif \"python\" in a and \"you\" not in a:\n",
    "    print(\"python\")\n",
    "\n",
    "elif \"shirt\" not in a:\n",
    "    print(\"shirt\")\n",
    "\n",
    "elif \"need\" in a:\n",
    "    print(\"need\")\n",
    "\n",
    "else: print(\"none\")"
   ]
  },
  {
   "cell_type": "markdown",
   "metadata": {},
   "source": [
    "10. 휴대폰 번호 앞자리에 따라 통신사는 아래와 같이 구분된다.   \n",
    "사용자로부터 휴대전화 번호를 입력 받고, 통신사를 출력하는 프로그램을 작성하라.\n",
    "\n",
    "번호\t통신사  \n",
    "011\tSKT  \n",
    "016\tKT  \n",
    "019\tLGU  \n",
    "010\t알수없음\n",
    "\n",
    "```\n",
    ">> 휴대전화 번호 입력: 011-345-1922\n",
    "당신은 SKT 사용자입니다.\n",
    "```\n"
   ]
  },
  {
   "cell_type": "code",
   "execution_count": 50,
   "metadata": {},
   "outputs": [
    {
     "name": "stdin",
     "output_type": "stream",
     "text": [
      "휴대전호 번호 입력: 019-2345-1111\n"
     ]
    },
    {
     "name": "stdout",
     "output_type": "stream",
     "text": [
      "당신은 LGU 사용자입니다.\n"
     ]
    }
   ],
   "source": [
    "phone_number = input('휴대전호 번호 입력:')\n",
    "#number = phone_number[:3]\n",
    "\n",
    "#if '-' in phone_number :\n",
    "#    number = phone_number.split('-')[0]\n",
    "#else :\n",
    "#    number = phone_number[:3]\n",
    "\n",
    "number = phone_number.split('-')[0] if '-' in phone_number else phone_number[:3]\n",
    "\n",
    "tel_com = {\n",
    "    '011' : 'SKT',\n",
    "    '016' : 'KT',\n",
    "    '019' : 'LGU',\n",
    "    '010' : '알수없음'\n",
    "}\n",
    "com = tel_com.get(number, '못찾았음')\n",
    "print(f'당신은 {com} 사용자입니다.')"
   ]
  },
  {
   "cell_type": "markdown",
   "metadata": {},
   "source": [
    "11. 주민등록번호는 13자리로 구성되는데 마지막 자리수는 주민등록번호의 유효성을 체크하는데 사용된다.  \n",
    "먼저 앞에서부터 12자리의 숫자에 2, 3, 4, 5, 6, 7, 8, 9, 2, 3, 4, 5를 차례로 곱한 뒤 그 값을 전부 더한다.    \n",
    "연산 결과 값을 11로 나누면 나머지가 나오는데 11에서 나머지를 뺀 값이 주민등록번호의 마지막 번호가 된다.  \n",
    "\n",
    "```\n",
    "  8 2 1 0 1 0 - 1 6 3 5 2 1 0\n",
    "x 2 3 4 5 6 7   8 9 2 3 4 5 \n",
    "-----------------------------\n",
    "1차 계산: (8*2 + 2*3 + 1*4 + 0*5 + 1*6 + 0*7 + 1*8 + 6*9 + 3*2 + 5*3 + 2*4 + 1*5) = (128 % 11) = 7\n",
    "2차 계산: 11 -7 = 4\n",
    "\n",
    ">> 주민등록번호: 821010-1635210\n",
    "유효하지 않은 주민등록번호입니다. \n",
    "\n",
    "\n",
    "```\n",
    "\n"
   ]
  },
  {
   "cell_type": "code",
   "execution_count": 70,
   "metadata": {},
   "outputs": [
    {
     "name": "stdin",
     "output_type": "stream",
     "text": [
      "주민등록번호:  010311-1234567\n"
     ]
    },
    {
     "data": {
      "text/plain": [
       "5"
      ]
     },
     "execution_count": 70,
     "metadata": {},
     "output_type": "execute_result"
    }
   ],
   "source": [
    "number = input('주민등록번호: ')\n",
    "num1 = number[:6]\n",
    "num2 = number[7:]\n",
    "\n",
    "list_1 = [2,3,4,5,6,7]\n",
    "list_2 = [8,9,2,3,4,5]\n",
    "sum1 = 0\n",
    "sum2 = 0\n",
    "\n",
    "for a in range(6) : \n",
    "    sum1 += (int(num1[a] * list_1[a]))\n",
    "    sum2 += (int(num2[a] * list_2[a]))\n",
    "test = (sum1 + sum2) % 11\n",
    "test_f = 11 - test\n",
    "test_f"
   ]
  },
  {
   "cell_type": "code",
   "execution_count": 72,
   "metadata": {},
   "outputs": [
    {
     "name": "stdin",
     "output_type": "stream",
     "text": [
      "주문번호 입력(숫자만):  0103111234567\n"
     ]
    },
    {
     "name": "stdout",
     "output_type": "stream",
     "text": [
      "reject\n"
     ]
    }
   ],
   "source": [
    "# 강사님 답\n",
    "#사용자 입력\n",
    "#jumin_no = input('주문번호 입력: ')\n",
    "jumin_no = ''\n",
    "while True :\n",
    "    #사용자 입력\n",
    "    jumin_no = input('주문번호 입력(숫자만): ')\n",
    "    #자릿수 체크 > 13자리 여부 확인\n",
    "    if len(jumin_no) != 13 or not jumin_no.isdigit() :\n",
    "        print('잘못된 입력입니다. 숫자 13자리를 입력하세요')\n",
    "    else :\n",
    "        break\n",
    "\n",
    "weights = list(range(2,10)) + list(range(2,6))\n",
    "#weights = [2,3,4,5,6,7,8,9,2,3,4,5]\n",
    "\n",
    "#유효성 체크\n",
    "total = 0\n",
    "for i in range(12) :\n",
    "    total += int(jumin_no[i]) * weights[i]\n",
    "\n",
    "remain = (11 - (total % 11)) % 10   #0~9 숫자만 가능\n",
    "\n",
    "if jumin_no[-1] == remain :\n",
    "    print('ok')\n",
    "else :\n",
    "    print('reject')"
   ]
  },
  {
   "cell_type": "markdown",
   "metadata": {},
   "source": [
    "12. 아래 코드는 비트코인의 가격 정보를 딕셔너리로 가져오는 코드이다.\n",
    "```\n",
    "import requests\n",
    "btc = requests.get(\"https://api.bithumb.com/public/ticker/\").json()['data']\n",
    "```\n",
    "btc 딕셔너리 안에는 시가, 종가, 최고가, 최저가 등이 저장되어 있다.   \n",
    "최고가와 최저가의 차이를 변동폭으로 정의할 때 (시가 + 변동폭)이 최고가 보다 높을 경우 \"상승장\",  \n",
    "그렇지 않은 경우 \"하락장\" 문자열을 출력하라.\n",
    "```\n",
    "Key Name\tDescription\n",
    "opening_price\t최근 24시간 내 시작 거래금액\n",
    "closing_price\t최근 24시간 내 마지막 거래금액\n",
    "min_price\t최근 24시간 내 최저 거래금액\n",
    "max_price\t최근 24시간 내 최고 거래금액\n",
    "```"
   ]
  },
  {
   "cell_type": "code",
   "execution_count": 78,
   "metadata": {},
   "outputs": [
    {
     "data": {
      "text/plain": [
       "{'opening_price': '148687000',\n",
       " 'closing_price': '147181000',\n",
       " 'min_price': '146911000',\n",
       " 'max_price': '148900000',\n",
       " 'units_traded': '152.71739749',\n",
       " 'acc_trade_value': '22557180857.00879',\n",
       " 'prev_closing_price': '148698000',\n",
       " 'units_traded_24H': '310.64621006',\n",
       " 'acc_trade_value_24H': '45847501536.30866',\n",
       " 'fluctate_24H': '-478000',\n",
       " 'fluctate_rate_24H': '-0.32',\n",
       " 'date': '1749007390268'}"
      ]
     },
     "execution_count": 78,
     "metadata": {},
     "output_type": "execute_result"
    }
   ],
   "source": [
    "import requests\n",
    "btc = requests.get(\"https://api.bithumb.com/public/ticker/\").json()['data']\n",
    "btc"
   ]
  },
  {
   "cell_type": "code",
   "execution_count": 87,
   "metadata": {},
   "outputs": [
    {
     "name": "stdout",
     "output_type": "stream",
     "text": [
      "상승장\n"
     ]
    }
   ],
   "source": [
    "op_price = float(btc['opening_price'])\n",
    "ma_price = float(btc['max_price'])\n",
    "mi_price = float(btc['min_price'])\n",
    "width = ma_price - mi_price\n",
    "print('상승장' if float(btc['opening_price']) + width > ma_price else '하락장')"
   ]
  },
  {
   "cell_type": "markdown",
   "metadata": {},
   "source": [
    "14. 리스트에는 3일 간의 ohlc 데이터가 저장돼 있다. 시가에 매수해서 종가에 매도 했을 경우 총 수익금을 계산하라.\n",
    "\n",
    "ohlc = [[\"open\", \"high\", \"low\", \"close\"],\n",
    "        [100, 110, 70, 100],\n",
    "        [200, 210, 180, 190],\n",
    "        [300, 310, 300, 310]]\n",
    "   \n",
    "\n",
    "1일차 수익 0원 (100 - 100), 2일차 수익 -10원 (190 - 200), 3일차 수익 10원 (310 - 300) 이다.\n",
    "\n",
    "0"
   ]
  },
  {
   "cell_type": "code",
   "execution_count": 95,
   "metadata": {},
   "outputs": [
    {
     "data": {
      "text/plain": [
       "0"
      ]
     },
     "execution_count": 95,
     "metadata": {},
     "output_type": "execute_result"
    }
   ],
   "source": [
    "ohlc = [\n",
    "    ['open', 'high', 'low', 'close'],\n",
    "    [100, 110, 70, 100],\n",
    "    [200, 210, 180, 190],\n",
    "    [300, 310, 300, 310]\n",
    "]\n",
    "\n",
    "total = 0\n",
    "for a in ohlc[1:] :\n",
    "    total += a[3] - a[0]\n",
    "total"
   ]
  },
  {
   "cell_type": "code",
   "execution_count": null,
   "metadata": {},
   "outputs": [],
   "source": []
  }
 ],
 "metadata": {
  "colab": {
   "include_colab_link": true,
   "provenance": []
  },
  "kernelspec": {
   "display_name": "Python 3 (ipykernel)",
   "language": "python",
   "name": "python3"
  },
  "language_info": {
   "codemirror_mode": {
    "name": "ipython",
    "version": 3
   },
   "file_extension": ".py",
   "mimetype": "text/x-python",
   "name": "python",
   "nbconvert_exporter": "python",
   "pygments_lexer": "ipython3",
   "version": "3.12.9"
  }
 },
 "nbformat": 4,
 "nbformat_minor": 4
}
