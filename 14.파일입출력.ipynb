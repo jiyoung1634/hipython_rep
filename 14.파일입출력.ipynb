{
 "cells": [
  {
   "cell_type": "markdown",
   "id": "ccdf1aa6",
   "metadata": {},
   "source": [
    "# 파일 읽기"
   ]
  },
  {
   "cell_type": "code",
   "execution_count": null,
   "id": "d600df6b",
   "metadata": {},
   "outputs": [],
   "source": [
    "with open('abc/text.txt', 'w') as f:   #f라는 변수 만들어서 할당\n",
    "    f.write('hello')"
   ]
  },
  {
   "cell_type": "code",
   "execution_count": 5,
   "id": "ebb8bd98",
   "metadata": {},
   "outputs": [],
   "source": [
    "f = open('abc/text.txt', 'r')\n",
    "f.read()\n",
    "f.close()"
   ]
  },
  {
   "cell_type": "code",
   "execution_count": 6,
   "id": "ae7241a7",
   "metadata": {},
   "outputs": [],
   "source": [
    "with open('abc./text1.txt', 'w', encoding='utf-8') as f:\n",
    "    f.write('안녕하세요')\n",
    "    f.write('졸리네요')"
   ]
  },
  {
   "cell_type": "code",
   "execution_count": 20,
   "id": "038952f3",
   "metadata": {},
   "outputs": [
    {
     "name": "stdout",
     "output_type": "stream",
     "text": [
      "반복문을 사용하여 파일에 데이터를 저장합니다. \n",
      "\n"
     ]
    }
   ],
   "source": [
    "with open('abc./text1.txt', 'r', encoding='utf-8') as f:   #encoding=부분을 저장할때와 읽을때 같아야한다. UnicodeDecodeError\n",
    "    txtfile = f.read()   \n",
    "    print(txtfile)"
   ]
  },
  {
   "cell_type": "code",
   "execution_count": null,
   "id": "ac231acd",
   "metadata": {},
   "outputs": [],
   "source": [
    "with open('abc./text1.txt', 'a', encoding='utf-8') as f:\n",
    "    f.write('추가합니다.\\n')\n",
    "    f.write('야호\\n')"
   ]
  },
  {
   "cell_type": "code",
   "execution_count": 15,
   "id": "8b131fe8",
   "metadata": {},
   "outputs": [],
   "source": [
    "with open('abc./text1.txt', 'r+', encoding='utf-8') as f:\n",
    "    txtfile1 = f.read()\n",
    "    f.write('새로운 내용')"
   ]
  },
  {
   "cell_type": "code",
   "execution_count": 17,
   "id": "be866232",
   "metadata": {},
   "outputs": [],
   "source": [
    "with open('abc./text1.txt', 'a', encoding='utf-8') as file:\n",
    "    file.write('추가된 내용입니다. \\n')"
   ]
  },
  {
   "cell_type": "code",
   "execution_count": 19,
   "id": "89cf9692",
   "metadata": {},
   "outputs": [],
   "source": [
    "with open('abc./text1.txt', 'w', encoding='utf-8') as file:\n",
    "    file.write('반복문을 사용하여 파일에 데이터를 저장합니다. \\n')"
   ]
  },
  {
   "cell_type": "code",
   "execution_count": 24,
   "id": "67679981",
   "metadata": {},
   "outputs": [],
   "source": [
    "lines = [\n",
    "    'Python 파일 입출력 \\n',\n",
    "    '반복문을 사용하여 데이터를 저장합니다. \\n',\n",
    "    '데이터 처리가 편리합니다. \\n'\n",
    "]\n",
    "with open('abc./text.txt', 'w', encoding='utf-8') as file:\n",
    "    for line in lines:\n",
    "        file.write(line)"
   ]
  },
  {
   "cell_type": "code",
   "execution_count": 25,
   "id": "8012d07a",
   "metadata": {},
   "outputs": [],
   "source": [
    "lines = [\"첫 번째 줄입니다.\\n\", \"두 번째 줄입니다.\\n\", \"세 번째 줄입니다.\\n\"]\n",
    "\n",
    "with open('abc./text1.txt', 'w') as f:\n",
    "    f.writelines(lines)\n"
   ]
  },
  {
   "cell_type": "code",
   "execution_count": null,
   "id": "5b533fd0",
   "metadata": {},
   "outputs": [
    {
     "name": "stdout",
     "output_type": "stream",
     "text": [
      "Python 파일 입출력 \n",
      "반복문을 사용하여 데이터를 저장합니다. \n",
      "데이터 처리가 편리합니다. \n",
      "\n"
     ]
    }
   ],
   "source": [
    "with open(\"abc./text.txt\", \"r\", encoding=\"utf-8\") as file:\n",
    "    content = file.read()   #전체 내용을 문자열 형태로 한 번에 읽는다.\n",
    "    print(content)"
   ]
  },
  {
   "cell_type": "code",
   "execution_count": 27,
   "id": "ca72004e",
   "metadata": {},
   "outputs": [
    {
     "name": "stdout",
     "output_type": "stream",
     "text": [
      "첫 번째 줄입니다.\n",
      "\n"
     ]
    }
   ],
   "source": [
    "with open(\"abc./text1.txt\", \"r\", encoding=\"utf-8\") as file:\n",
    "    line = file.readline()   #한 줄씩 순차적으로 읽는다\n",
    "    print(line)"
   ]
  },
  {
   "cell_type": "code",
   "execution_count": 28,
   "id": "e8e45353",
   "metadata": {},
   "outputs": [
    {
     "name": "stdout",
     "output_type": "stream",
     "text": [
      "첫 번째 줄입니다.\n",
      "두 번째 줄입니다.\n",
      "세 번째 줄입니다.\n"
     ]
    }
   ],
   "source": [
    "with open(\"abc./text1.txt\", \"r\", encoding=\"utf-8\") as file:\n",
    "    lines = file.readlines()   #파일 전체 내용을 줄 단위로 나누어 리스트 형태로 읽는다.\n",
    "\n",
    "for line in lines:\n",
    "    print(line.strip())"
   ]
  },
  {
   "cell_type": "markdown",
   "id": "cad0b242",
   "metadata": {},
   "source": [
    "# pickle, 직렬화/역직렬화"
   ]
  },
  {
   "cell_type": "code",
   "execution_count": 29,
   "id": "14609150",
   "metadata": {},
   "outputs": [],
   "source": [
    "import pickle\n",
    "\n",
    "# 직렬화할 데이터(딕셔너리)\n",
    "data = {\n",
    "    'name': '홍길동',\n",
    "    'age': 30,\n",
    "    'scores': [90, 85, 88]\n",
    "}\n",
    "\n",
    "# 직렬화하여 파일에 저장\n",
    "with open('abc./data.pickle', 'wb') as f:\n",
    "    pickle.dump(data, f)"
   ]
  },
  {
   "cell_type": "code",
   "execution_count": 30,
   "id": "39133ff1",
   "metadata": {},
   "outputs": [
    {
     "name": "stdout",
     "output_type": "stream",
     "text": [
      "{'name': '홍길동', 'age': 30, 'scores': [90, 85, 88]}\n"
     ]
    }
   ],
   "source": [
    "# 파일에서 역직렬화하여 읽기\n",
    "with open('abc./data.pickle', 'rb') as f:\n",
    "    loaded_data = pickle.load(f)\n",
    "\n",
    "print(loaded_data)  # 원본 데이터가 그대로 복원됨"
   ]
  },
  {
   "cell_type": "code",
   "execution_count": 32,
   "id": "f9d86ff8",
   "metadata": {},
   "outputs": [],
   "source": [
    "import json"
   ]
  },
  {
   "cell_type": "code",
   "execution_count": 35,
   "id": "ac870477",
   "metadata": {},
   "outputs": [],
   "source": [
    "with open('abc./data.json', 'w') as f:   #확장자가 json. 텍스트다\n",
    "    json.dump(data, f, ensure_ascii=False)"
   ]
  },
  {
   "cell_type": "code",
   "execution_count": 36,
   "id": "6ba00198",
   "metadata": {},
   "outputs": [
    {
     "name": "stdout",
     "output_type": "stream",
     "text": [
      "{'name': '홍길동', 'age': 30, 'scores': [90, 85, 88]}\n"
     ]
    }
   ],
   "source": [
    "with open('abc./data.json', 'r') as f:\n",
    "    loaded_txt = json.load(f)\n",
    "print(loaded_txt)"
   ]
  },
  {
   "cell_type": "code",
   "execution_count": 37,
   "id": "9071f109",
   "metadata": {},
   "outputs": [],
   "source": [
    "import csv"
   ]
  },
  {
   "cell_type": "code",
   "execution_count": 39,
   "id": "98d61d78",
   "metadata": {},
   "outputs": [
    {
     "data": {
      "text/plain": [
       "[['name', 'age'], ['bob', 20], ['alice', 15]]"
      ]
     },
     "execution_count": 39,
     "metadata": {},
     "output_type": "execute_result"
    }
   ],
   "source": [
    "data = [['name', 'age'], ['bob', 20], ['alice', 15]]\n",
    "data"
   ]
  },
  {
   "cell_type": "code",
   "execution_count": 40,
   "id": "65b7a727",
   "metadata": {},
   "outputs": [],
   "source": [
    "with open('abc./data.csv', 'w') as f:\n",
    "    wrt = csv.writer(f)\n",
    "    wrt.writerows(data)"
   ]
  },
  {
   "cell_type": "code",
   "execution_count": 46,
   "id": "e2f1cd5c",
   "metadata": {},
   "outputs": [],
   "source": [
    "import pandas as pd\n",
    "\n",
    "df = pd.DataFrame(data)\n",
    "df.columns = data[0]\n",
    "df.to_csv('abc./data_df.csv')"
   ]
  },
  {
   "cell_type": "code",
   "execution_count": 47,
   "id": "f843577b",
   "metadata": {},
   "outputs": [
    {
     "data": {
      "text/html": [
       "<div>\n",
       "<style scoped>\n",
       "    .dataframe tbody tr th:only-of-type {\n",
       "        vertical-align: middle;\n",
       "    }\n",
       "\n",
       "    .dataframe tbody tr th {\n",
       "        vertical-align: top;\n",
       "    }\n",
       "\n",
       "    .dataframe thead th {\n",
       "        text-align: right;\n",
       "    }\n",
       "</style>\n",
       "<table border=\"1\" class=\"dataframe\">\n",
       "  <thead>\n",
       "    <tr style=\"text-align: right;\">\n",
       "      <th></th>\n",
       "      <th>Unnamed: 0</th>\n",
       "      <th>name</th>\n",
       "      <th>age</th>\n",
       "    </tr>\n",
       "  </thead>\n",
       "  <tbody>\n",
       "    <tr>\n",
       "      <th>0</th>\n",
       "      <td>0</td>\n",
       "      <td>name</td>\n",
       "      <td>age</td>\n",
       "    </tr>\n",
       "    <tr>\n",
       "      <th>1</th>\n",
       "      <td>1</td>\n",
       "      <td>bob</td>\n",
       "      <td>20</td>\n",
       "    </tr>\n",
       "    <tr>\n",
       "      <th>2</th>\n",
       "      <td>2</td>\n",
       "      <td>alice</td>\n",
       "      <td>15</td>\n",
       "    </tr>\n",
       "  </tbody>\n",
       "</table>\n",
       "</div>"
      ],
      "text/plain": [
       "   Unnamed: 0   name  age\n",
       "0           0   name  age\n",
       "1           1    bob   20\n",
       "2           2  alice   15"
      ]
     },
     "execution_count": 47,
     "metadata": {},
     "output_type": "execute_result"
    }
   ],
   "source": [
    "pd.read_csv('abc/data_df.csv')"
   ]
  },
  {
   "cell_type": "code",
   "execution_count": null,
   "id": "6530eb38",
   "metadata": {},
   "outputs": [],
   "source": []
  }
 ],
 "metadata": {
  "kernelspec": {
   "display_name": "hipython",
   "language": "python",
   "name": "python3"
  },
  "language_info": {
   "codemirror_mode": {
    "name": "ipython",
    "version": 3
   },
   "file_extension": ".py",
   "mimetype": "text/x-python",
   "name": "python",
   "nbconvert_exporter": "python",
   "pygments_lexer": "ipython3",
   "version": "3.12.9"
  }
 },
 "nbformat": 4,
 "nbformat_minor": 5
}
